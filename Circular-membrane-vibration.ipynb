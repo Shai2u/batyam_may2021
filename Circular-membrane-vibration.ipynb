{
 "cells": [
  {
   "cell_type": "markdown",
   "metadata": {},
   "source": [
    "## Circular membrane vibrations. Plotly animation "
   ]
  },
  {
   "cell_type": "markdown",
   "metadata": {},
   "source": [
    "The study of circular membrane vibration is of interest in acoustical applications. Circular membranes are  components  of drums, microphones and other devices.\n",
    "\n",
    "The free vibrations of a circular membrane of radius $a$, are modeled by the two dimensional wave equation\n",
    "\n",
    "$$ u_{tt}=c^2\\Delta u$$\n",
    "\n",
    "expressed in polar coordinates $(r, \\theta)$:\n",
    "    $$\n",
    "    u_{tt}=c^2(u_{rr}+\\displaystyle\\frac{1}{r}u_r+\\displaystyle\\frac{1}{r^2}u_{\\theta\\theta}),\n",
    "    $$ \n",
    "    with the boundary condition\n",
    "        $$u(r=a, \\theta, t)=0, $$\n",
    " that imposes zero membrane deflection on the circular boundary.  \n",
    "\n",
    "Usually to get the analytical solution $u(r, \\theta, t)$, we should\n",
    " set the initial displacement, $u(r, \\theta,0)=d(r,\\theta)$, and the initial velocity, $u_t(r,\\theta,0)=v(r, \\theta)$ of the membrane. \n",
    "But our goal here is  to derive  and animate  the vibrational modes (eigenfunctions) of\n",
    "the circular membrane, and in this case these initial conditions are not involved."
   ]
  },
  {
   "cell_type": "markdown",
   "metadata": {},
   "source": [
    "Using the method of separation of variables, i.e. looking for a solution of the form $u(r,\\theta, t)=R(r)f(\\theta)T(t)$, we get  the vibrational modes (eigenfunctions):\n",
    "    $$ u_{nm}(r, \\theta, t)=J_n(r\\cdot z_{nm}/a)\\cos(n\\theta)\\cos(c\\cdot z_{mn}t/a),$$\n",
    "where    $J_n$ is the Bessel function of the first kind and integer order, $n\\geq 0$, and $z_{nm}$ is the $m^{th}$ positive zero\n",
    "of the function $J_n$."
   ]
  },
  {
   "cell_type": "markdown",
   "metadata": {},
   "source": [
    "Below are illustrated the graphs of the Bessel functions $J_0, J_1, J_2$, colored respectively with red, blue and green,  as well as the first three positive zeros, $z_{11}, z_{12}, z_{13}$, of the function $J_1(x)$.\n"
   ]
  },
  {
   "cell_type": "code",
   "execution_count": null,
   "metadata": {},
   "outputs": [],
   "source": [
    "from IPython.display import SVG\n",
    "SVG(filename=\"bessel.svg\")#Bessel.svg "
   ]
  },
  {
   "cell_type": "markdown",
   "metadata": {},
   "source": [
    "In a vibrating membrane  the points  $(r, \\theta)$,  that don't move, i.e. $u(r,\\theta, t)=u(r, \\theta, 0)$,\n",
    "for any $t>0$, are called nodes. A vibrating circular membrane can exhibit diametrical nodes, respectively circular nodes. "
   ]
  },
  {
   "cell_type": "markdown",
   "metadata": {},
   "source": [
    "The integers $n=0,1,2, \\ldots, m=1,2,\\ldots$ in the eigenfunction notation, $u_{nm}$, defined above, give \n",
    "the number of diametrical nodes, respectively circular nodes, i.e. the number of diameters, respectively circles in the disk of radius $a$ that do not move during the vibration. By the boundary condition, the membrane boundary is a node line. \n",
    "\n",
    "\n",
    "For example $u_{12}(r, \\theta, t)$ has one diameter and two circles consisting entirely in nodes. "
   ]
  },
  {
   "cell_type": "markdown",
   "metadata": {},
   "source": [
    "Across the WEB there are a lot of animations of vibrational modes of the circular membrane, including the \n",
    "[Wikipedia page](https://en.wikipedia.org/wiki/Vibrations_of_a_circular_membrane), \n",
    "but usually they do not point out the node lines for each illustrated mode.\n",
    "\n",
    "Here we define a function to animate the modes $u_{nm}(r,\\theta, t)$, via Python Plotly animation, and plot each surface\n",
    "$z=u_{nm}(r, \\theta, t)$ (where   t is running through the   points in a grid over the animation time interval)  with a  diverging colorscale.\n",
    " So  we  illlustrate  both the membrane vibration  and its node lines, as lines colored with the central color of the diverging colormap."
   ]
  },
  {
   "cell_type": "code",
   "execution_count": null,
   "metadata": {},
   "outputs": [],
   "source": [
    "from plotly.offline import download_plotlyjs, init_notebook_mode,  iplot, plot\n",
    "init_notebook_mode(connected=True)"
   ]
  },
  {
   "cell_type": "code",
   "execution_count": null,
   "metadata": {
    "collapsed": true
   },
   "outputs": [],
   "source": [
    "import numpy as np\n",
    "import copy\n",
    "from scipy.special import jn, jn_zeros  #Bessel functions of the first kind,  and their zeros"
   ]
  },
  {
   "cell_type": "markdown",
   "metadata": {},
   "source": [
    "`jn(n, x)` evaluates  $J_n(x)$."
   ]
  },
  {
   "cell_type": "markdown",
   "metadata": {},
   "source": [
    "The first `nz` positive zeros of the Bessel function $J_n$ are returned by the function `scipy.special.jn_zeros(n,nz)`:"
   ]
  },
  {
   "cell_type": "code",
   "execution_count": null,
   "metadata": {},
   "outputs": [],
   "source": [
    "n=1\n",
    "nz=3\n",
    "\n",
    "jn_zeros(n,nz)"
   ]
  },
  {
   "cell_type": "code",
   "execution_count": null,
   "metadata": {
    "collapsed": true
   },
   "outputs": [],
   "source": [
    "def vibrate(membrane_radius=1.0, n=0, m=1, N=50, pl_colorscale='RdBu', reverse=False):\n",
    "    \n",
    "    #n is the index of the Bessel function, J_n, n=0,1,2, ...; it gives the number of diametric nodes\n",
    "    #m points out the m^th positive zero of the the Bessel function J_n, m=1, 2, 3, ...\n",
    "    #N is the number of points in a grid along the radial and circular direction\n",
    "    r=np.linspace(0, membrane_radius, N)\n",
    "    theta=np.linspace(0, 2*np.pi, N)\n",
    "    r, theta = np.meshgrid(r, theta)\n",
    "\n",
    "    x= r*np.cos(theta)\n",
    "    y= r*np.sin(theta)\n",
    "\n",
    "    time=np.linspace(0, np.pi, N)\n",
    "    frames=[]\n",
    "    zmin=100\n",
    "    zmax=0\n",
    "   \n",
    "    bz_nm=jn_zeros(n,m)[-1] #the m^th positive zero of J_n\n",
    "\n",
    "    for t in time:\n",
    "        z = jn(n, bz_nm*r/membrane_radius)*np.cos(n*theta)*np.cos(t* bz_nm/membrane_radius) # z=u_nm(r, theta, t)\n",
    "        zmin=min([zmin, z.min()])\n",
    "        zmax=max([zmax, z.max()])\n",
    "        frames.append(dict(data= [dict(z= copy.deepcopy(z))],  \n",
    "                           traces= [0]\n",
    "                           )  \n",
    "                     )\n",
    "    data=[dict(type='surface', \n",
    "               x=x, y=y, \n",
    "               z=np.zeros(x.shape),# the initial position of the mebrane is 0 at each point\n",
    "               colorscale=pl_colorscale,\n",
    "               reversescale=reverse,\n",
    "               cmin=zmin, \n",
    "               cmax=zmax,\n",
    "               colorbar=dict(thickness=20, \n",
    "                             ticklen=4, \n",
    "                             len=0.5))]\n",
    "    title='Vibrational mode'+' ('+'{:d}'.format(n)+', '+'{:d}'.format(m)+')'+\\\n",
    "          '<br>with '+'{:d}'.format(n)+' diametric and  '+'{:d}'.format(m)+' circular node lines'\n",
    "\n",
    "    return data, frames, title, zmin, zmax       "
   ]
  },
  {
   "cell_type": "markdown",
   "metadata": {},
   "source": [
    "Define my favorite diverging colorscale for the function `vibrate`:"
   ]
  },
  {
   "cell_type": "code",
   "execution_count": null,
   "metadata": {
    "collapsed": true
   },
   "outputs": [],
   "source": [
    "pl_balance=[[0.0, 'rgb(23, 28, 66)'],#derived from cmocean diverging colormap, cmocean.cm.balance\n",
    "            [0.1, 'rgb(41, 61, 150)'],\n",
    "            [0.2, 'rgb(21, 112, 187)'],\n",
    "            [0.3, 'rgb(89, 155, 186)'],\n",
    "            [0.4, 'rgb(169, 194, 202)'],\n",
    "            [0.5, 'rgb(236, 236, 236)'], \n",
    "            [0.6, 'rgb(219, 177, 163)'],\n",
    "            [0.7, 'rgb(201, 118, 90)'],\n",
    "            [0.8, 'rgb(179, 56, 38)'],\n",
    "            [0.9, 'rgb(125, 13, 41)'],\n",
    "            [1.0, 'rgb(60, 9, 17)']\n",
    "           ]"
   ]
  },
  {
   "cell_type": "markdown",
   "metadata": {},
   "source": [
    "Let us animate the mode (1,2). To test any other mode just change the values for n and m in the call of the vibrate function, below:"
   ]
  },
  {
   "cell_type": "code",
   "execution_count": null,
   "metadata": {
    "collapsed": true
   },
   "outputs": [],
   "source": [
    "data, frames, title, zmin, zmax=vibrate(n=1, m=2, pl_colorscale=pl_balance)"
   ]
  },
  {
   "cell_type": "markdown",
   "metadata": {},
   "source": [
    "Set the plot layout:"
   ]
  },
  {
   "cell_type": "code",
   "execution_count": null,
   "metadata": {
    "collapsed": true
   },
   "outputs": [],
   "source": [
    "noaxis=dict( showbackground=False,\n",
    "            showgrid=False,\n",
    "            showline=False,\n",
    "            showticklabels=False,\n",
    "            ticks='',\n",
    "            title='',\n",
    "            zeroline=False)\n",
    "\n",
    "\n",
    "layout = dict(title=title,\n",
    "              autosize=False,\n",
    "              width=700,\n",
    "              height=700,\n",
    "              showlegend=False,\n",
    "              scene=dict(camera = dict(eye=dict(x=0.8, y=1., z=0.5)),\n",
    "                         aspectratio=dict(x=1, y=1, z=0.35),\n",
    "                         xaxis=dict(noaxis),\n",
    "                         yaxis=dict(noaxis), \n",
    "                         zaxis=dict(noaxis,  **dict(range=[zmin, zmax]))),\n",
    "                        \n",
    "              updatemenus=[dict(type='buttons', showactive=False,\n",
    "                                y=0.9,\n",
    "                                x=1.275,\n",
    "                                xanchor='right',\n",
    "                                yanchor='top',\n",
    "                                pad=dict(t=0, r=10),\n",
    "                                buttons=[dict(label='Play',\n",
    "                                              method='animate',\n",
    "                                              args=[None, \n",
    "                                                    dict(frame=dict(duration=100, \n",
    "                                                                    redraw=False),\n",
    "                                                         transition=dict(duration=0),\n",
    "                                                         fromcurrent=True,\n",
    "                                                         mode='immediate'\n",
    "                                                        )\n",
    "                                                   ]\n",
    "                                             )\n",
    "                                        ]\n",
    "                               )\n",
    "                          ]     \n",
    "    \n",
    ")\n"
   ]
  },
  {
   "cell_type": "code",
   "execution_count": null,
   "metadata": {},
   "outputs": [],
   "source": [
    "fig=dict(data=data, layout=layout, frames=frames)\n",
    "iplot(fig, validate=False)"
   ]
  },
  {
   "cell_type": "markdown",
   "metadata": {
    "collapsed": true
   },
   "source": [
    "At the end of animation we can rotate the last surface to place its circular range in the vertical plane, and look at  its heatmap, that points out in a more relevant way the node lines."
   ]
  },
  {
   "cell_type": "code",
   "execution_count": null,
   "metadata": {},
   "outputs": [],
   "source": [
    "from IPython.core.display import HTML\n",
    "def  css_styling():\n",
    "    styles = open(\"./custom.css\", \"r\").read()\n",
    "    return HTML(styles)\n",
    "css_styling()"
   ]
  }
 ],
 "metadata": {
  "kernelspec": {
   "display_name": "Python 3",
   "language": "python",
   "name": "python3"
  },
  "language_info": {
   "codemirror_mode": {
    "name": "ipython",
    "version": 3
   },
   "file_extension": ".py",
   "mimetype": "text/x-python",
   "name": "python",
   "nbconvert_exporter": "python",
   "pygments_lexer": "ipython3",
   "version": "3.6.1"
  }
 },
 "nbformat": 4,
 "nbformat_minor": 2
}
