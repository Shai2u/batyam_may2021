{
 "cells": [
  {
   "cell_type": "code",
   "execution_count": 1,
   "metadata": {},
   "outputs": [],
   "source": [
    "# !pip install geopandas\n",
    "# !pip install arcgis\n",
    "# !pip install plotly\n",
    "# !pip install openpyxl\n",
    "# !pip install xlrd"
   ]
  },
  {
   "cell_type": "code",
   "execution_count": 34,
   "metadata": {},
   "outputs": [],
   "source": [
    "import geopandas as gpd\n",
    "import pandas as pd\n",
    "import numpy as np\n",
    "pd.options.display.max_columns=100\n",
    "import plotly.graph_objects as go\n",
    "import plotly.express as px\n",
    "import ipywidgets as widgets\n",
    "from ipywidgets import Layout,interact,interact_manual,HTML\n",
    "import pyproj\n",
    "pyproj.datadir.set_data_dir('/Users/shai/anaconda3/envs/geo_env/share/proj')\n",
    "from arcgis.gis import GIS\n",
    "from arcgis.mapping import WebScene\n",
    "from arcgis.mapping import WebMap\n",
    "from arcgis.features import FeatureLayer\n",
    "import plotly.io as pio\n",
    "pio.renderers.default = 'colab' # or 'notebook' or 'colab'"
   ]
  },
  {
   "cell_type": "code",
   "execution_count": 35,
   "metadata": {},
   "outputs": [],
   "source": [
    "incomeDict = {'Low':9000,'Medium':19500,'High':1000000}\n",
    "Age = {'Under 65':65,\n",
    "      'Above 65':65}\n",
    "gridBG = '#f2f2f2'\n",
    "heightD=375\n",
    "projectDict = {1:'Addition',\n",
    "              2:'Reconstruction',\n",
    "              3:'Raze and Rebuild'}"
   ]
  },
  {
   "cell_type": "code",
   "execution_count": 37,
   "metadata": {},
   "outputs": [
    {
     "name": "stdin",
     "output_type": "stream",
     "text": [
      "Enter password:  ·········\n"
     ]
    }
   ],
   "source": [
    "gis = GIS(\"https://technion-gis.maps.arcgis.com\", \"shai@technion\")"
   ]
  },
  {
   "cell_type": "code",
   "execution_count": 38,
   "metadata": {},
   "outputs": [],
   "source": [
    "bldgsInwgs84 = gpd.read_file('SimBldgsWGS84.geojson',driver='GeoJSON')\n",
    "bldDictAddress = dict(zip(bldgsInwgs84['bld_addres'],bldgsInwgs84['hebrew_adr']))\n",
    "aggResByTic = pd.read_excel('aggregated_results_by_project_april17.xlsx')\n",
    "agentsFile = 'AgentsTimeSeries_Results_april12_1435.xlsx'\n",
    "res_df = pd.read_excel(agentsFile)\n",
    "colorFile ='colors_dict_April_13_2021.xlsx'\n",
    "colorAgeIncomeExcel='age_income_by_color_april_14.xlsx'\n",
    "colorExcel = pd.read_excel(colorFile)\n",
    "movementsByProject = pd.read_excel('AggByProjectBeforeAfter_april_18.xlsx', header=[0,1])\n",
    "projNumberTicDict = dict(zip(aggResByTic['tic'],aggResByTic['ProjNumber']))\n",
    "projBldNumberDict = dict(zip(bldgsInwgs84[['project_nu','bld_addres']].groupby('project_nu').agg({'bld_addres':lambda x: x.value_counts().index[0]}).reset_index()['project_nu'],\n",
    "         bldgsInwgs84[['project_nu','bld_addres']].groupby('project_nu').agg({'bld_addres':lambda x: x.value_counts().index[0]}).reset_index()['bld_addres']))\n",
    "#TICS\n",
    "ticsIndex = aggResByTic['tic']"
   ]
  },
  {
   "cell_type": "code",
   "execution_count": 39,
   "metadata": {},
   "outputs": [],
   "source": [
    "res_df['stay'] = 0\n",
    "res_df['stay'] = res_df['status'].apply(lambda x: 1 if x=='stay' else 0)\n",
    "res_df['leave'] = 0\n",
    "res_df['leave'] = res_df['status'].apply(lambda x: 1 if x=='leave' else 0)\n",
    "res_df['New Comers'] = 0\n",
    "res_df['New Comers'] = res_df['status'].apply(lambda x: 1 if x=='New Comers' else 0)\n",
    "res_df.fillna(0,inplace=True)\n",
    "res_df['Under 65'] = 0\n",
    "res_df['Above 65'] = 0\n",
    "res_df['Low Income'] = 0\n",
    "res_df['Medium Income'] = 0\n",
    "res_df['High Income'] = 0\n",
    "\n",
    "res_df['Under 65'] = res_df['age'].apply(lambda x: 1 if x<65 else 0)\n",
    "res_df['Above 65'] = res_df['age'].apply(lambda x: 1 if x>=65 else 0)\n",
    "res_df['Low Income'] = res_df['income'].apply(lambda x: 1 if (x<incomeDict['Low'])   else 0)\n",
    "res_df['Medium Income'] = res_df['income'].apply(lambda x: 1 if (x>=incomeDict['Low']) & (x<incomeDict['Medium'])  else 0)\n",
    "res_df['High Income'] =  res_df['income'].apply(lambda x: 1 if (x>=incomeDict['Medium'])  else 0)\n",
    "subset_before_after = res_df.copy()\n",
    "subset_before_after = subset_before_after[subset_before_after['status']!='leave']\n",
    "subset_before_after['simulationState'] =subset_before_after['tic'].apply(lambda x: 'Before Renewal' if x==0 else 'After Renewal')"
   ]
  },
  {
   "cell_type": "code",
   "execution_count": 40,
   "metadata": {},
   "outputs": [],
   "source": [
    "ageIncome = subset_before_after[['simulationState','income','age','agentID','tic','ProjNumber']].copy()\n",
    "ageIncome['ageGroup'] = ageIncome['age'].apply(lambda x: 'Under 65' if x<65 else 'Above 65')\n",
    "ageIncome['incomeGroup'] = ageIncome['income'].apply(lambda x: 'High Income' if x>=19500  \n",
    "                                                   else  ('Medium Income' if ((x>=9000)&(x<19500)) else 'Low Income'))\n",
    "\n",
    "ageIncome = ageIncome[['simulationState','incomeGroup','agentID','ageGroup','tic','ProjNumber']].copy()"
   ]
  },
  {
   "cell_type": "code",
   "execution_count": 41,
   "metadata": {},
   "outputs": [],
   "source": [
    "res2 = aggResByTic.loc[1:].copy()\n",
    "res2 = res2[res2.columns[res2.notnull().loc[1].values]].copy()\n",
    "res2['ProjectTypeDesc'] = res2['prjectType'].apply(lambda x:projectDict[x])"
   ]
  },
  {
   "cell_type": "code",
   "execution_count": 42,
   "metadata": {},
   "outputs": [],
   "source": [
    "class simWidgets:\n",
    "    styled = {'description_width': 'initial'}\n",
    "    def __init__(self):\n",
    "        self.tics =widgets.IntRangeSlider(\n",
    "            value=[1, 9],\n",
    "            min=0,\n",
    "            max=30,\n",
    "            step=1,\n",
    "            description='Simulation Tics:',\n",
    "            disabled=False,\n",
    "            continuous_update=False,\n",
    "            orientation='horizontal',\n",
    "            readout=True,\n",
    "            readout_format='d',\n",
    "            layout=Layout(width='100%'),\n",
    "            style=simWidgets.styled\n",
    "        )\n"
   ]
  },
  {
   "cell_type": "code",
   "execution_count": 43,
   "metadata": {},
   "outputs": [],
   "source": [
    "simWidg = simWidgets()\n",
    "simWidg.tics.min = ticsIndex.values.min()\n",
    "simWidg.tics.max = ticsIndex.values.max()"
   ]
  },
  {
   "cell_type": "code",
   "execution_count": 44,
   "metadata": {},
   "outputs": [],
   "source": [
    "def g(x):\n",
    "    startTic = x[0]\n",
    "    lastTic = x[1]\n",
    "    if lastTic>0:\n",
    "        if startTic==11:\n",
    "            startTic=12\n",
    "        if lastTic==11:\n",
    "            lastTic=12\n",
    "        projectNum = projNumberTicDict[lastTic]\n",
    "        bldNumber = projBldNumberDict[projectNum]\n",
    "        hebAddres = bldDictAddress[bldNumber]\n",
    "        projectTypeDesc = res2.query(f'tic=={lastTic}')['ProjectTypeDesc'].values[0]\n",
    "        h = HTML(value=f\"<h2>Execution: {x[1]} &nbsp; Project Number: {projectNum}<br/> Hebrew Address: {hebAddres}<br/>Project Type: {projectTypeDesc}</h2>\")\n",
    "        display(h)\n",
    "        figure_1(startTic,lastTic)\n",
    "        figure_2(startTic,lastTic)\n",
    "        figure_3(startTic,lastTic)\n",
    "        figure_4(startTic,lastTic)\n",
    "        figure_5(startTic,lastTic)\n",
    "        figure_6(lastTic)\n",
    "        figure_7(lastTic)\n",
    "        figure_9(projectNum)\n",
    "        \n",
    "    else:\n",
    "        h = HTML(value=f\"<h2>Tick: {x[1]}</h2>\")\n",
    "        display(h)\n",
    "    #return (x[0]*2)"
   ]
  },
  {
   "cell_type": "code",
   "execution_count": 45,
   "metadata": {},
   "outputs": [
    {
     "data": {
      "application/vnd.jupyter.widget-view+json": {
       "model_id": "657a744b1a2f403583bd5d30a27a7cf0",
       "version_major": 2,
       "version_minor": 0
      },
      "text/plain": [
       "interactive(children=(IntRangeSlider(value=(1, 9), continuous_update=False, description='Simulation Tics:', la…"
      ]
     },
     "metadata": {},
     "output_type": "display_data"
    }
   ],
   "source": [
    "i = interact_manual(g, x=simWidg.tics)\n",
    "i.widget.children[1].description = 'Submit'\n"
   ]
  },
  {
   "cell_type": "code",
   "execution_count": 46,
   "metadata": {},
   "outputs": [],
   "source": [
    "    stayingC = colorExcel.query('label==\"Staying\"')['colors_'].values[0]\n",
    "    leavingC = colorExcel.query('label==\"Leaving\"')['colors_'].values[0]\n",
    "    newComerC = colorExcel.query('label==\"New Comers\"')['colors_'].values[0]\n",
    "    aC = colorExcel.query('label==\"Addition\"')['colors_'].values[0]\n",
    "    rC = colorExcel.query('label==\"Reconstruction\"')['colors_'].values[0]\n",
    "    rrC = colorExcel.query('label==\"Raze and Rebuild\"')['colors_'].values[0]\n",
    "    totalPopC = colorExcel.query('label==\"Total Pop\"')['colors_'].values[0]\n",
    "\n",
    "    lowIncomeC = colorExcel.loc[colorExcel['label']=='Moderate','colors_'].values[0]\n",
    "    medIncomeC = colorExcel.loc[colorExcel['label']=='Middle','colors_'].values[0]\n",
    "    upIncomeC = colorExcel.loc[colorExcel['label']=='Upper','colors_'].values[0]\n"
   ]
  },
  {
   "cell_type": "code",
   "execution_count": 47,
   "metadata": {},
   "outputs": [
    {
     "data": {
      "application/vnd.jupyter.widget-view+json": {
       "model_id": "",
       "version_major": 2,
       "version_minor": 0
      },
      "text/plain": [
       "Output()"
      ]
     },
     "metadata": {},
     "output_type": "display_data"
    }
   ],
   "source": [
    "out1 = widgets.Output()\n",
    "out1"
   ]
  },
  {
   "cell_type": "code",
   "execution_count": 48,
   "metadata": {},
   "outputs": [],
   "source": [
    "def figure_1(start=1,end=1):\n",
    "    widthD=800\n",
    "    genericGraph = res2.query(f\"tic>={start} & tic<={end}\").copy()\n",
    "    genericGraph.loc[genericGraph['prjectType']==1,'Project Type '] = 'Addition'\n",
    "    genericGraph.loc[genericGraph['prjectType']==2,'Project Type '] = 'Reconstruction'\n",
    "    genericGraph.loc[genericGraph['prjectType']==3,'Project Type '] = 'Raze and Rebuild'\n",
    "    genericGraph['y_shift'] =-20\n",
    "    # Change the bar mode\n",
    "    aTics = genericGraph.loc[genericGraph['prjectType'] == 1, 'tic']\n",
    "    aYshift =genericGraph.loc[genericGraph['prjectType'] == 1, 'y_shift']\n",
    "\n",
    "    rTics = genericGraph.loc[genericGraph['prjectType'] == 2, 'tic']\n",
    "    rYshift = genericGraph.loc[genericGraph['prjectType'] == 2, 'y_shift']\n",
    "\n",
    "    rrTics = genericGraph.loc[genericGraph['prjectType'] == 3, 'tic']\n",
    "    rrYshift = genericGraph.loc[genericGraph['prjectType'] == 3, 'y_shift']\n",
    "    titlesList = ['Staying','New Comers','Total (Staying+New Comers)']\n",
    "    colList = ['stay','new comers','TotalAgentsCount']\n",
    "    colorList = [stayingC,newComerC,totalPopC]\n",
    "    styleList = [dict(color=stayingC, width=4), dict(color=newComerC, width=4), dict(color=totalPopC, dash='dash')] \n",
    "\n",
    "\n",
    "    fig = go.Figure()\n",
    "    for i in range(3):\n",
    "        fig.add_trace(go.Scatter(\n",
    "            x=genericGraph['tic'],\n",
    "            y=genericGraph[colList[i]],\n",
    "            line=styleList[i],\n",
    "            name=titlesList[i]\n",
    "        ))\n",
    "\n",
    "\n",
    "    maxY=3300\n",
    "    for xtic in aTics:\n",
    "        fig.add_shape(type=\"line\", x0=xtic, y0=0, x1=xtic, y1=maxY, line=dict(\n",
    "            color=aC, width=1.5, dash=\"dot\"), layer=\"below\")\n",
    "\n",
    "    for xtic in rTics:\n",
    "        fig.add_shape(type=\"line\", x0=xtic, y0=0, x1=xtic, y1=maxY, line=dict(\n",
    "            color=rC, width=1.5, dash=\"dot\"), layer=\"below\")\n",
    "\n",
    "    for xtic in rrTics:\n",
    "        fig.add_shape(type=\"line\", x0=xtic, y0=0, x1=xtic, y1=maxY,\n",
    "                      line=dict(color=rrC, width=1.5, dash=\"dot\"), layer=\"below\")\n",
    "\n",
    "\n",
    "    fig.add_trace(go.Scatter(name='Addition', x=aTics, y=aYshift,\n",
    "                             mode='markers', marker=dict(color=aC)))\n",
    "    fig.add_trace(go.Scatter(name='Reconstruction', x=rTics, y=rYshift,\n",
    "                             mode='markers', marker=dict(color=rC)))\n",
    "    fig.add_trace(go.Scatter(name='Raze and Rebuild', x=rrTics,\n",
    "                             y=rrYshift, mode='markers', marker=dict(color=rrC)))\n",
    "\n",
    "    fig.update_layout(width=widthD,height=heightD, title='Household Absolute change within simulation tics')\n",
    "    fig.update_yaxes(title='Household Count',range=[-100, maxY],gridwidth=1, gridcolor=gridBG,zerolinewidth=1,zerolinecolor='lightgrey')\n",
    "    fig.update_xaxes(title='Simulation tic',gridwidth=1, gridcolor=gridBG,zerolinewidth=1,zerolinecolor='lightgrey')\n",
    "    fig.update_layout(showlegend=True,plot_bgcolor='rgba(0,0,0,0)',legend=dict(yanchor=\"top\", y=0.99, xanchor=\"left\", x=0.01,bgcolor='rgba(255,255,255,0.75)'))\n",
    "    #return fig\n",
    "    with out1:\n",
    "        out1.clear_output()\n",
    "        fig.show()"
   ]
  },
  {
   "cell_type": "code",
   "execution_count": 49,
   "metadata": {},
   "outputs": [
    {
     "data": {
      "application/vnd.jupyter.widget-view+json": {
       "model_id": "",
       "version_major": 2,
       "version_minor": 0
      },
      "text/plain": [
       "Output()"
      ]
     },
     "metadata": {},
     "output_type": "display_data"
    }
   ],
   "source": [
    "out2 = widgets.Output()\n",
    "out2"
   ]
  },
  {
   "cell_type": "code",
   "execution_count": 50,
   "metadata": {},
   "outputs": [],
   "source": [
    "def figure_2(start,end):\n",
    "    widthD=800\n",
    "    genericGraph = res2.query(f\"tic>={start} & tic<={end}\").copy()\n",
    "    title_ ='Percent Income by Group Staying Vs New Comers'\n",
    "    y_title = 'Household Percent'\n",
    "    columnsList = ['IncomeHighStay','IncomeMedStay','IncomeLowStay','IncomeHighNew','IncomeMedNew','IncomeLowNew','IncomeHighStayNew','IncomeMedStayNew','IncomeLowStayNew']\n",
    "    titlesList = ['High Stay','Med Stay','Low Stay','High New Comer','Med New Comer','Low New Comer','High (average)','Medium (average)','Low (average)']\n",
    "    legendGroup =['Staying','Staying','Staying','New Comers','New Comers','New Comers','Average','Average','Average']\n",
    "    styleList = [dict(color=upIncomeC,width=2),\n",
    "                 dict(color=medIncomeC,width=2),\n",
    "                 dict(color=lowIncomeC,width=2),\n",
    "                 dict(color=upIncomeC,width=4),\n",
    "                 dict(color=medIncomeC,width=4),\n",
    "                 dict(color=lowIncomeC,width=4),\n",
    "                 dict(color='hsv(30,50%,100%)',dash='dash'),\n",
    "                 dict(color='hsv(30,75%,100%)', dash='dash'),\n",
    "                 dict(color='hsv(30,100%,50%)', dash='dash')]\n",
    "    percentList=[]\n",
    "    for i in range(9):\n",
    "        percentList.append(f'{columnsList[i]}Percent')\n",
    "        genericGraph[percentList[i]] = genericGraph[columnsList[i]]/genericGraph['TotalAgentsCount']\n",
    "    genericGraph['y_shift'] =-0.02\n",
    "    # Change the bar mode\n",
    "    aTics = genericGraph.loc[genericGraph['prjectType'] == 1, 'tic']\n",
    "    rTics = genericGraph.loc[genericGraph['prjectType'] == 2, 'tic']\n",
    "    rrTics = genericGraph.loc[genericGraph['prjectType'] == 3, 'tic']\n",
    "    \n",
    "    aYshift =genericGraph.loc[genericGraph['prjectType'] == 1, 'y_shift']\n",
    "    rYshift = genericGraph.loc[genericGraph['prjectType'] == 2, 'y_shift']\n",
    "    rrYshift = genericGraph.loc[genericGraph['prjectType'] == 3, 'y_shift']\n",
    "    maxY=1\n",
    "    fig = go.Figure()\n",
    "    for i in range(9):\n",
    "        fig.add_trace(go.Scatter(\n",
    "            x=genericGraph['tic'],\n",
    "            y=genericGraph[percentList[i]],\n",
    "            legendgroup = legendGroup[i],\n",
    "            line=styleList[i],\n",
    "            name=titlesList[i]\n",
    "        ))\n",
    "    for xtic in aTics:\n",
    "        fig.add_shape(type=\"line\", x0=xtic, y0=0, x1=xtic, y1=maxY, line=dict(\n",
    "            color=aC, width=1.5, dash=\"dot\"), layer=\"below\")\n",
    "\n",
    "    for xtic in rTics:\n",
    "        fig.add_shape(type=\"line\", x0=xtic, y0=0, x1=xtic, y1=maxY, line=dict(\n",
    "            color=rC, width=1.5, dash=\"dot\"), layer=\"below\")\n",
    "\n",
    "    for xtic in rrTics:\n",
    "        fig.add_shape(type=\"line\", x0=xtic, y0=0, x1=xtic, y1=maxY,\n",
    "                      line=dict(color=rrC, width=1.5, dash=\"dot\"), layer=\"below\")\n",
    "\n",
    "    fig.add_trace(go.Scatter(name='Addition', x=aTics, y=aYshift,\n",
    "                             mode='markers', legendgroup='Building Type', marker=dict(color=aC)))\n",
    "    fig.add_trace(go.Scatter(name='Reconstruction',legendgroup='Building Type',  x=rTics, y=rYshift,\n",
    "                             mode='markers', marker=dict(color=rC)))\n",
    "    fig.add_trace(go.Scatter(name='Raze and Rebuild',legendgroup='Building Type',  x=rrTics,\n",
    "                             y=rrYshift, mode='markers', marker=dict(color=rrC)))\n",
    "\n",
    "\n",
    "    fig.update_layout(width=widthD,height=heightD, title=title_)\n",
    "    fig.update_yaxes(title=y_title,range=[-0.05, maxY],gridwidth=1, gridcolor=gridBG,zerolinewidth=1,zerolinecolor='lightgrey')\n",
    "\n",
    "    fig.update_xaxes(title='Simulation tic',gridwidth=1, gridcolor=gridBG,zerolinewidth=1,zerolinecolor='lightgrey')\n",
    "    fig.update_layout(showlegend=True,plot_bgcolor='rgba(0,0,0,0)',legend=dict(orientation='h',yanchor=\"top\", y=1.0, xanchor=\"left\", x=0.03,bgcolor='rgba(255,255,255,0.5)'))\n",
    "\n",
    "    with out2:\n",
    "        out2.clear_output()\n",
    "        fig.show()"
   ]
  },
  {
   "cell_type": "code",
   "execution_count": 51,
   "metadata": {},
   "outputs": [
    {
     "data": {
      "application/vnd.jupyter.widget-view+json": {
       "model_id": "33d41f366b724bbfbc8d9b6db37f4858",
       "version_major": 2,
       "version_minor": 0
      },
      "text/plain": [
       "Output()"
      ]
     },
     "metadata": {},
     "output_type": "display_data"
    }
   ],
   "source": [
    "out3 = widgets.Output()\n",
    "out3"
   ]
  },
  {
   "cell_type": "code",
   "execution_count": 52,
   "metadata": {},
   "outputs": [],
   "source": [
    "def figure_3(start,end):\n",
    "    widthD=800\n",
    "\n",
    "    genericGraph = res2.query(f\"tic>={start} & tic<={end}\").copy()\n",
    "    above65C = colorExcel.loc[colorExcel['label']=='65-84','colors_'].values[0]\n",
    "    below65C = colorExcel.loc[colorExcel['label']=='18-44','colors_'].values[0]\n",
    "    averageBelowAgeC = colorExcel.loc[colorExcel['label']=='45-64','colors_'].values[0]\n",
    "    averageAboveAgeC = colorExcel.loc[colorExcel['label']=='85+','colors_'].values[0]\n",
    "    \n",
    "    title_ ='Above and Below 65 troughout the simulation'\n",
    "    y_title = 'Household Percent'\n",
    "    #totalPopC\n",
    "    columnsList = ['AgeYoungStay','AgeOldStay','AgeYoungNew','AgeOldNew','AgeYoungStayNew','AgeOldStayNew']\n",
    "    titlesList = ['Under 65 Stay','Above 65 Stay','Under 65 New Comers','Above 65 New Comers','Under 65 (Average)','Above 65 (Average)']\n",
    "    legendGroup =['Staying','Staying','New Comers','New Comers','Average','Average']\n",
    "    styleList = [dict(color=below65C,width=2),\n",
    "                 dict(color=above65C,width=2),\n",
    "                 dict(color=below65C,width=4),\n",
    "                 dict(color=above65C,width=4),\n",
    "                 dict(color=averageBelowAgeC,dash='dash'),\n",
    "                 dict(color=averageAboveAgeC, dash='dash')]\n",
    "    percentList=[]\n",
    "    for i in range(6):\n",
    "        percentList.append(f'{columnsList[i]}Percent')\n",
    "        genericGraph[percentList[i]] = genericGraph[columnsList[i]]/genericGraph['TotalAgentsCount']\n",
    "    genericGraph['y_shift'] =-0.02\n",
    "    # Change the bar mode\n",
    "    aTics = genericGraph.loc[genericGraph['prjectType'] == 1, 'tic']\n",
    "    rTics = genericGraph.loc[genericGraph['prjectType'] == 2, 'tic']\n",
    "    rrTics = genericGraph.loc[genericGraph['prjectType'] == 3, 'tic']\n",
    "    \n",
    "    aYshift =genericGraph.loc[genericGraph['prjectType'] == 1, 'y_shift']\n",
    "    rYshift = genericGraph.loc[genericGraph['prjectType'] == 2, 'y_shift']\n",
    "    rrYshift = genericGraph.loc[genericGraph['prjectType'] == 3, 'y_shift']\n",
    "    maxY=1\n",
    "    fig = go.Figure()\n",
    "    for i in range(6):\n",
    "        fig.add_trace(go.Scatter(\n",
    "            x=genericGraph['tic'],\n",
    "            y=genericGraph[percentList[i]],\n",
    "            legendgroup = legendGroup[i],\n",
    "            line=styleList[i],\n",
    "            name=titlesList[i]\n",
    "        ))\n",
    "    for xtic in aTics:\n",
    "        fig.add_shape(type=\"line\", x0=xtic, y0=0, x1=xtic, y1=maxY, line=dict(\n",
    "            color=aC, width=1.5, dash=\"dot\"), layer=\"below\")\n",
    "\n",
    "    for xtic in rTics:\n",
    "        fig.add_shape(type=\"line\", x0=xtic, y0=0, x1=xtic, y1=maxY, line=dict(\n",
    "            color=rC, width=1.5, dash=\"dot\"), layer=\"below\")\n",
    "\n",
    "    for xtic in rrTics:\n",
    "        fig.add_shape(type=\"line\", x0=xtic, y0=0, x1=xtic, y1=maxY,\n",
    "                      line=dict(color=rrC, width=1.5, dash=\"dot\"), layer=\"below\")\n",
    "\n",
    "    fig.add_trace(go.Scatter(name='Addition', x=aTics, y=aYshift,\n",
    "                             mode='markers', legendgroup='Building Type', marker=dict(color=aC)))\n",
    "    fig.add_trace(go.Scatter(name='Reconstruction',legendgroup='Building Type',  x=rTics, y=rYshift,\n",
    "                             mode='markers', marker=dict(color=rC)))\n",
    "    fig.add_trace(go.Scatter(name='Raze and Rebuild',legendgroup='Building Type',  x=rrTics,\n",
    "                             y=rrYshift, mode='markers', marker=dict(color=rrC)))\n",
    "\n",
    "\n",
    "    fig.update_layout(width=widthD,height=heightD, title=title_)\n",
    "    fig.update_yaxes(title=y_title,range=[-0.05, maxY],gridwidth=1, gridcolor=gridBG,zerolinewidth=1,zerolinecolor='lightgrey')\n",
    "\n",
    "    fig.update_xaxes(title='Simulation tic',gridwidth=1, gridcolor=gridBG,zerolinewidth=1,zerolinecolor='lightgrey')\n",
    "    fig.update_layout(showlegend=True,plot_bgcolor='rgba(0,0,0,0)',legend=dict(orientation='h',yanchor=\"top\", y=1.0, xanchor=\"left\", x=0.03,bgcolor='rgba(255,255,255,0.5)'))\n",
    "\n",
    "    with out3:\n",
    "        out3.clear_output()\n",
    "        fig.show()"
   ]
  },
  {
   "cell_type": "code",
   "execution_count": 53,
   "metadata": {},
   "outputs": [
    {
     "data": {
      "application/vnd.jupyter.widget-view+json": {
       "model_id": "9c327e935dcf4879917434d45ed044b8",
       "version_major": 2,
       "version_minor": 0
      },
      "text/plain": [
       "Output()"
      ]
     },
     "metadata": {},
     "output_type": "display_data"
    }
   ],
   "source": [
    "out4 = widgets.Output()\n",
    "out4"
   ]
  },
  {
   "cell_type": "code",
   "execution_count": 54,
   "metadata": {},
   "outputs": [],
   "source": [
    "def figure_4(start,end):\n",
    "    genericGraph = res2.query(f\"tic>={start} & tic<={end}\").copy()\n",
    "    uniProList = genericGraph['ProjNumber'].unique()\n",
    "    ageIncomeCopy = ageIncome[ageIncome['ProjNumber'].isin(uniProList)].copy()\n",
    "    ageIncomeAgg = ageIncomeCopy.groupby(['simulationState','ageGroup','incomeGroup']).agg({'agentID':'count'}).reset_index()\n",
    "    ageIncomeAgg['Age_income'] = ageIncomeAgg['ageGroup'] + \" \" + ageIncomeAgg['incomeGroup']\n",
    "    ageIncomeAgg.rename(columns={'ageGroup':'Age Group','incomeGroup':'Income Group','agentID':'Count'},inplace=True)\n",
    "\n",
    "    ageIncomeColr = pd.read_excel(colorAgeIncomeExcel,usecols=['Age_income','color'])\n",
    "    ageIncomeColorDict = dict(zip(ageIncomeColr['Age_income'],ageIncomeColr['color']))\n",
    "    title_ = 'Age Group Vs Income Before and After Renewal'\n",
    "    fig = px.scatter(ageIncomeAgg, x=\"Age Group\", y=\"Income Group\",\n",
    "                size=\"Count\",facet_col='simulationState', title=title_,size_max=30,\n",
    "                category_orders={\"Age Group\": [\"Under 65\",\"Above 65\"],\"Income Group\": ['High Income', 'Medium Income', 'Low Income'],\"simulationState\":['Before Renewal','After Renewal']},color='Age_income',color_discrete_map=ageIncomeColorDict,width=700,height=heightD)\n",
    "    fig.update_yaxes(gridwidth=1, gridcolor='#d9d9d9',zerolinewidth=1,zerolinecolor='lightgrey',title='')\n",
    "    fig.update_xaxes(gridwidth=1, gridcolor='#d9d9d9',zerolinewidth=1,zerolinecolor='lightgrey',title='')\n",
    "    fig.update_layout(plot_bgcolor='#f2f7ff')\n",
    "    fig.layout['annotations'][0]['text'] = 'Before Renewal'\n",
    "    fig.layout['annotations'][1]['text'] = 'After Renewal'\n",
    "    fig.update_traces(showlegend=False)\n",
    "    with out4:\n",
    "        out4.clear_output()\n",
    "        fig.show()"
   ]
  },
  {
   "cell_type": "code",
   "execution_count": 55,
   "metadata": {},
   "outputs": [
    {
     "data": {
      "application/vnd.jupyter.widget-view+json": {
       "model_id": "7c3f369ff3cf498eb82325b678e89910",
       "version_major": 2,
       "version_minor": 0
      },
      "text/plain": [
       "Output()"
      ]
     },
     "metadata": {},
     "output_type": "display_data"
    }
   ],
   "source": [
    "out5 = widgets.Output()\n",
    "out5"
   ]
  },
  {
   "cell_type": "code",
   "execution_count": 56,
   "metadata": {},
   "outputs": [],
   "source": [
    "def figure_5(start,end):\n",
    "    startLine = aggResByTic.query(f'tic=={start}')\n",
    "    endLine = aggResByTic.query(f'tic=={end}')\n",
    "    statsDict = {'aprtmentSizeMean:':{'before':round(startLine['aprtmentSizeMean'].values[0],1),\n",
    "                       'after':round(endLine['aprtmentSizeMean'].values[0],1),\n",
    "                        'title':'Apartment Size',\n",
    "                         'units':'sq meters'},\n",
    "     'yearsInBldgMean:':{'before':round(startLine['yearsInBldgMean'].values[0],1),\n",
    "                       'after':round(endLine['yearsInBldgMean'].values[0],1),\n",
    "                        'title':'Years in Neighborhood',\n",
    "                         'units':'years'},\n",
    "     'CostForStaying:':{'before':round(startLine['CostForStaying'].values[0],1),\n",
    "                       'after':round(endLine['CostForStaying'].values[0],1),\n",
    "                        'title':'Cost For Staying',\n",
    "                         'units':'₪'},\n",
    "     'meanIncomeStay_N_new:':{'before':round(startLine['meanIncomeStay_N_new'].values[0],1),\n",
    "                       'after':round(endLine['meanIncomeStay_N_new'].values[0],1),\n",
    "                        'title':'Mean Income',\n",
    "                         'units':'₪'}\n",
    "    }\n",
    "    htmlText = \"\"\n",
    "    for key in statsDict.keys():\n",
    "        htmlText+=(\"<span><b>\"+f\"{statsDict[key]['title']}</b></span> Start Marker: <b>{statsDict[key]['before']}  {statsDict[key]['units']} </b> End Marker <b> {statsDict[key]['after']} {statsDict[key]['units']}</b><br/>\")\n",
    "    htmlText = \"<div style='font-size:15px'>\"+htmlText+\"</div>\"\n",
    "    Htats = HTML(value=htmlText)\n",
    "    with out5:\n",
    "        out5.clear_output()\n",
    "        display(Htats)"
   ]
  },
  {
   "cell_type": "code",
   "execution_count": 57,
   "metadata": {},
   "outputs": [
    {
     "data": {
      "application/vnd.jupyter.widget-view+json": {
       "model_id": "548de7a3c3c0434ea321883013a832b5",
       "version_major": 2,
       "version_minor": 0
      },
      "text/plain": [
       "Output()"
      ]
     },
     "metadata": {},
     "output_type": "display_data"
    }
   ],
   "source": [
    "out6 = widgets.Output()\n",
    "out6"
   ]
  },
  {
   "cell_type": "code",
   "execution_count": 58,
   "metadata": {},
   "outputs": [],
   "source": [
    "def figure_6(end):\n",
    "    projectMovement = movementsByProject[movementsByProject['Tic']['after']==end]\n",
    "    projType = projectMovement['Type of Project']['after'].values[0]\n",
    "    Leaving_Owners = projectMovement['Leaving Owners']['after'].values[0]\n",
    "    Leaving_Renters = projectMovement['Leaving Renters']['after'].values[0]\n",
    "    New_Owners = projectMovement['New Owners']['after'].values[0]\n",
    "    New_Renters = projectMovement['New Renters']['after'].values[0]\n",
    "    Staying = projectMovement['Staying']['after'].values[0]\n",
    "    Total_Households =New_Owners+New_Renters+Staying\n",
    "    Total_Households_before = projectMovement['Total Households']['before'].values[0]\n",
    "\n",
    "\n",
    "    if projType>1:\n",
    "        bldX =5\n",
    "        bldY = 1.5\n",
    "        oldBldX = 2.5\n",
    "        oldBldY =1.5\n",
    "        outOwnX = 1\n",
    "        outOwnY = 1.25\n",
    "        outRentX = 1\n",
    "        outRentY = 1.85\n",
    "        inOwnX = 4\n",
    "        inOwnY = 2.25\n",
    "        inRentX = 2\n",
    "        inRentY = 2.25\n",
    "        df = pd.DataFrame({'x':[outOwnX,outRentX,oldBldX,oldBldX,inRentX,inOwnX,bldX],\n",
    "                           'y':[outOwnY,outRentY,oldBldY,oldBldY,inRentY,inOwnY,bldY],\n",
    "                           'Agents':[Leaving_Owners,Leaving_Renters,Total_Households_before,Staying,New_Renters,New_Owners,Total_Households],\n",
    "                           'who':['Leaving Owners','Leaving Renters','Total Before','Surviving Owners','New Renters','New Owners','Total After'],\n",
    "                           'color':['cornflowerblue','lightgreen','lemonchiffon','lightskyblue','green','deepskyblue','white']})\n",
    "        colorDict = dict(zip(df['who'],df['color']))\n",
    "        fig = px.scatter(df, x='x', y='y', color=\"who\",color_discrete_map=colorDict,size='Agents',size_max=50)\n",
    "        #building to Leaving Owners\n",
    "        fig.add_annotation(x=outOwnX,y=outOwnY,ax=oldBldX,ay=oldBldY,xref='x',yref='y',axref='x',ayref='y',arrowcolor='lightgray',text='',showarrow=True,arrowhead=3,arrowsize=1,arrowwidth=3)\n",
    "        #Building Leaving Renters\n",
    "        fig.add_annotation(x=outRentX,y=outRentY,ax=oldBldX,ay=oldBldY,xref='x',yref='y',axref='x',ayref='y',arrowcolor='lightgray',text='',showarrow=True,arrowhead=3,arrowsize=1,arrowwidth=3)\n",
    "        #Entering Owners\n",
    "        fig.add_annotation(x=bldX,y=bldY,ax=inOwnX,ay=inOwnY,xref='x',yref='y',axref='x',ayref='y',arrowcolor='lightgray',text='',showarrow=True,arrowhead=3,arrowsize=1,arrowwidth=3)\n",
    "        #Entering Renters\n",
    "        fig.add_annotation(x=bldX,y=bldY,ax=inRentX,ay=inRentY,xref='x',yref='y',axref='x',ayref='y',arrowcolor='lightgray',text='',showarrow=True,arrowhead=3,arrowsize=1,arrowwidth=3)\n",
    "        # From Old Building to New Building\n",
    "        fig.add_annotation(x=bldX,y=bldY,ax=oldBldX,ay=oldBldY,xref='x',yref='y',axref='x',ayref='y',arrowcolor='lightgray',text='',showarrow=True,arrowhead=3,arrowsize=1,arrowwidth=3)\n",
    "\n",
    "\n",
    "    else:\n",
    "        bldX =1.3\n",
    "        bldY = 1.3\n",
    "        outOwnX = 1\n",
    "        outOwnY = 1.25\n",
    "        outRentX = 1.1\n",
    "        outRentY = 1.85\n",
    "        inOwnX = 1.25\n",
    "        inOwnY = 2.25\n",
    "        inRentX = 1.1\n",
    "        inRentY = 2.25\n",
    "        df = pd.DataFrame({'x':[outOwnX,outRentX,bldX,bldX,inRentX,inOwnX,bldX],\n",
    "                           'y':[outOwnY,outRentY,bldY,bldY,inRentY,inRentY,bldY],\n",
    "                           'Agents':[Leaving_Owners,Leaving_Renters,Total_Households_before,Staying,New_Renters,New_Owners,Total_Households],\n",
    "                           'who':['Leaving Owners','Leaving Renters','Total Before','Surviving Owners','New Renters','New Owners','Total After'],\n",
    "                           'color':['cornflowerblue','lightgreen','lemonchiffon','lightskyblue','green','deepskyblue','white']})\n",
    "        colorDict = dict(zip(df['who'],df['color']))\n",
    "        fig = px.scatter(df, x='x', y='y', color=\"who\",color_discrete_map=colorDict,size='Agents',size_max=50)\n",
    "        #building to Leaving Owners\n",
    "        fig.add_annotation(x=outOwnX,y=outOwnY,ax=bldX,ay=bldY,xref='x',yref='y',axref='x',ayref='y',arrowcolor='lightgray',text='',showarrow=True,arrowhead=3,arrowsize=1,arrowwidth=3)\n",
    "        #Building Leaving Renters\n",
    "        fig.add_annotation(x=outRentX,y=outRentY,ax=bldX,ay=bldY,xref='x',yref='y',axref='x',ayref='y',arrowcolor='lightgray',text='',showarrow=True,arrowhead=3,arrowsize=1,arrowwidth=3)\n",
    "        #Entering Owners\n",
    "        fig.add_annotation(x=bldX,y=bldY,ax=inOwnX,ay=inOwnY,xref='x',yref='y',axref='x',ayref='y',arrowcolor='lightgray',text='',showarrow=True,arrowhead=3,arrowsize=1,arrowwidth=3)\n",
    "        #Entering Renters\n",
    "        fig.add_annotation(x=bldX,y=bldY,ax=inRentX,ay=inRentY,xref='x',yref='y',axref='x',ayref='y',arrowcolor='lightgray',text='',showarrow=True,arrowhead=3,arrowsize=1,arrowwidth=3)\n",
    "\n",
    "\n",
    "    #old house to displaced owner\n",
    "\n",
    "\n",
    "    fig.add_trace(go.Scatter(x=df['x'],y=df['y'],text=df['Agents'],mode=\"text\"))\n",
    "\n",
    "    fig.update_layout(\n",
    "        margin=dict(l=0, r=0, b=0),\n",
    "        height=400, width=600,\n",
    "        plot_bgcolor=\"white\",\n",
    "        legend=dict(yanchor=\"top\", y=0.95, xanchor=\"left\", x=0.95)\n",
    "    )\n",
    "    fig.update_traces(marker=dict(line=dict(width=2,color='DarkSlateGrey')))\n",
    "    fig.update_yaxes(visible=False, showticklabels=False)\n",
    "    fig.update_xaxes(visible=False, showticklabels=False)\n",
    "    with out6:\n",
    "        out6.clear_output()\n",
    "        fig.show()"
   ]
  },
  {
   "cell_type": "code",
   "execution_count": 59,
   "metadata": {},
   "outputs": [
    {
     "data": {
      "application/vnd.jupyter.widget-view+json": {
       "model_id": "0e230d9a21da4201b1bd8acadf2b268c",
       "version_major": 2,
       "version_minor": 0
      },
      "text/plain": [
       "Output()"
      ]
     },
     "metadata": {},
     "output_type": "display_data"
    }
   ],
   "source": [
    "out7 = widgets.Output()\n",
    "out7"
   ]
  },
  {
   "cell_type": "code",
   "execution_count": 60,
   "metadata": {},
   "outputs": [],
   "source": [
    "def figure_7(end):\n",
    "    projectMovement = movementsByProject[movementsByProject['Tic']['after']==end].copy()\n",
    "    projType = projectMovement['Type of Project']['after'].values[0]\n",
    "    bldBefore = projectMovement['bldCode']['before'].values[0]\n",
    "    bldAfter = projectMovement['bldCode']['after'].values[0]\n",
    "    floorsBefore = projectMovement['Avg Floors']['before'].values[0]\n",
    "    floorsAfter = projectMovement['Avg Floors']['after'].values[0]\n",
    "\n",
    "    bldNumList = [i for i in range(1,int(bldBefore)+1)] + [i for i in range(1,int(bldAfter)+1)]\n",
    "    if projType>1:\n",
    "        floorList = [4 for i in range(1,int(bldBefore)+1)] + [floorsAfter for i in range(1,int(bldAfter)+1)]\n",
    "    else:\n",
    "        floorList = [4 for i in range(1,int(bldBefore)+1)] + [floorsAfter-4 for i in range(1,int(bldAfter)+1)]\n",
    "    beforeAfterList = ['Before' for i in range(1,int(bldBefore)+1)]+ ['after' for i in range(1,int(bldAfter)+1)]\n",
    "    df = pd.DataFrame({'bldCount':bldNumList,'beforeAfter':beforeAfterList,'floors':floorList})\n",
    "    if projType>1:\n",
    "        fig = px.bar(df, x='bldCount', y='floors',color='beforeAfter',facet_col='beforeAfter')\n",
    "    else:\n",
    "        fig = px.bar(df, x='bldCount', y='floors',color='beforeAfter')\n",
    "    fig.update_layout(\n",
    "        margin=dict(l=0, r=0, b=0),\n",
    "        height=300, width=600,\n",
    "        plot_bgcolor=\"oldlace\",\n",
    "        legend=dict(yanchor=\"top\", y=0.95, xanchor=\"left\", x=0.05)\n",
    "    )\n",
    "    fig.update_traces(marker=dict(line=dict(width=2,color='DarkSlateGrey')))\n",
    "\n",
    "    with out7:\n",
    "        out7.clear_output()\n",
    "        fig.show()"
   ]
  },
  {
   "cell_type": "code",
   "execution_count": 61,
   "metadata": {},
   "outputs": [
    {
     "data": {
      "application/vnd.jupyter.widget-view+json": {
       "model_id": "fd5d7fc045364ae7a34319beba095bfc",
       "version_major": 2,
       "version_minor": 0
      },
      "text/plain": [
       "Output()"
      ]
     },
     "metadata": {},
     "output_type": "display_data"
    }
   ],
   "source": [
    "out8 = widgets.Output()\n",
    "out8"
   ]
  },
  {
   "cell_type": "code",
   "execution_count": 62,
   "metadata": {},
   "outputs": [],
   "source": [
    "    htmlText = '<iframe src=\"https://technion-gis.maps.arcgis.com/apps/instant/3dviewer/index.html?appid=73d48240324e45eea139ea9e0c2fe6e1\" width=\"800\" height=\"450\" frameborder=\"0\" style=\"border:0\" allowfullscreen>iFrames are not supported on this page.</iframe>'\n",
    "    webAppHTML = HTML(value=htmlText)\n",
    "    with out8:\n",
    "        out8.clear_output()\n",
    "        display(webAppHTML)"
   ]
  },
  {
   "cell_type": "code",
   "execution_count": 63,
   "metadata": {},
   "outputs": [],
   "source": [
    "def webmapSetup():\n",
    "    webmap = gis.content.get('8a44060b70d243179d6dbd38513cfd70')\n",
    "    wm = WebMap(webmap)\n",
    "    map1 = gis.map()\n",
    "    map1.zoom=16\n",
    "    map1.center = [32.028, 34.743]\n",
    "    map1.basemap='dark-gray-vector'\n",
    "    for item in wm.layers[2:]:\n",
    "        add_item = gis.content.get(item['itemId'])\n",
    "        map1.add_layer(add_item)\n",
    "    add_item = gis.content.get('49d0351f66e341d388eb086c8e575720')\n",
    "    map1.add_layer(add_item)\n",
    "    return map1"
   ]
  },
  {
   "cell_type": "code",
   "execution_count": 64,
   "metadata": {},
   "outputs": [],
   "source": [
    "map1 = webmapSetup()"
   ]
  },
  {
   "cell_type": "code",
   "execution_count": 65,
   "metadata": {},
   "outputs": [
    {
     "data": {
      "application/vnd.jupyter.widget-view+json": {
       "model_id": "49e9f7111f7442829ca343a28c52821e",
       "version_major": 2,
       "version_minor": 0
      },
      "text/plain": [
       "Output()"
      ]
     },
     "metadata": {},
     "output_type": "display_data"
    }
   ],
   "source": [
    "out9 = widgets.Output()\n",
    "out9\n"
   ]
  },
  {
   "cell_type": "code",
   "execution_count": 66,
   "metadata": {},
   "outputs": [],
   "source": [
    "def figure_9(projRef):\n",
    "    geom = bldgsInwgs84.query(f'project_nu==\"{projRef}\"').copy()\n",
    "    geom['x'] = geom['geometry'].apply(lambda x: x.centroid.x)\n",
    "    geom['y'] = geom['geometry'].apply(lambda x: x.centroid.y)\n",
    "    x = geom['x'].mean()\n",
    "    y = geom['y'].mean()\n",
    "    map1.center = [y,x]\n",
    "    map1.zoom = 17\n",
    "    with out9:\n",
    "        out9.clear_output()\n",
    "        display(map1)\n"
   ]
  },
  {
   "cell_type": "code",
   "execution_count": null,
   "metadata": {},
   "outputs": [],
   "source": []
  },
  {
   "cell_type": "code",
   "execution_count": null,
   "metadata": {},
   "outputs": [],
   "source": []
  },
  {
   "cell_type": "code",
   "execution_count": null,
   "metadata": {},
   "outputs": [],
   "source": []
  },
  {
   "cell_type": "code",
   "execution_count": null,
   "metadata": {},
   "outputs": [],
   "source": []
  }
 ],
 "metadata": {
  "kernelspec": {
   "display_name": "geo_env",
   "language": "python",
   "name": "geo_env"
  },
  "language_info": {
   "codemirror_mode": {
    "name": "ipython",
    "version": 3
   },
   "file_extension": ".py",
   "mimetype": "text/x-python",
   "name": "python",
   "nbconvert_exporter": "python",
   "pygments_lexer": "ipython3",
   "version": "3.7.9"
  },
  "widgets": {
   "application/vnd.jupyter.widget-state+json": {
    "state": {
     "007d96baede642bfb9fda769cbc9fed8": {
      "model_module": "@jupyter-widgets/base",
      "model_module_version": "1.2.0",
      "model_name": "LayoutModel",
      "state": {
       "height": "400px",
       "width": "100%"
      }
     },
     "01350fae4b46473c9d04588646ccfbe8": {
      "model_module": "@jupyter-widgets/controls",
      "model_module_version": "1.5.0",
      "model_name": "ButtonModel",
      "state": {
       "description": "Submit",
       "layout": "IPY_MODEL_d4831c308bd94d29bbc3d3ce0971ac47",
       "style": "IPY_MODEL_715612cdbd694201b99a553f21301bc3"
      }
     },
     "038ce81797b6452f879bc29dd4816cba": {
      "model_module": "@jupyter-widgets/base",
      "model_module_version": "1.2.0",
      "model_name": "LayoutModel",
      "state": {}
     },
     "0e230d9a21da4201b1bd8acadf2b268c": {
      "model_module": "@jupyter-widgets/output",
      "model_module_version": "1.0.0",
      "model_name": "OutputModel",
      "state": {
       "layout": "IPY_MODEL_9bac1a9416034c54b71f58e72115af70",
       "outputs": [
        {
         "data": {
          "text/html": "<html>\n<head><meta charset=\"utf-8\" /></head>\n<body>\n    <div>            <script src=\"https://cdnjs.cloudflare.com/ajax/libs/mathjax/2.7.5/MathJax.js?config=TeX-AMS-MML_SVG\"></script><script type=\"text/javascript\">if (window.MathJax) {MathJax.Hub.Config({SVG: {font: \"STIX-Web\"}});}</script>                <script type=\"text/javascript\">window.PlotlyConfig = {MathJaxConfig: 'local'};</script>\n        <script src=\"https://cdn.plot.ly/plotly-latest.min.js\"></script>                <div id=\"7aef3c05-3f38-479a-b69e-9e9419e8beea\" class=\"plotly-graph-div\" style=\"height:300px; width:600px;\"></div>            <script type=\"text/javascript\">                                    window.PLOTLYENV=window.PLOTLYENV || {};                                    if (document.getElementById(\"7aef3c05-3f38-479a-b69e-9e9419e8beea\")) {                    Plotly.newPlot(                        \"7aef3c05-3f38-479a-b69e-9e9419e8beea\",                        [{\"alignmentgroup\": \"True\", \"hovertemplate\": \"beforeAfter=Before<br>bldCount=%{x}<br>floors=%{y}<extra></extra>\", \"legendgroup\": \"Before\", \"marker\": {\"color\": \"#636efa\", \"line\": {\"color\": \"DarkSlateGrey\", \"width\": 2}}, \"name\": \"Before\", \"offsetgroup\": \"Before\", \"orientation\": \"v\", \"showlegend\": true, \"textposition\": \"auto\", \"type\": \"bar\", \"x\": [1, 2, 3, 4, 5, 6, 7, 8, 9, 10], \"xaxis\": \"x\", \"y\": [4.0, 4.0, 4.0, 4.0, 4.0, 4.0, 4.0, 4.0, 4.0, 4.0], \"yaxis\": \"y\"}, {\"alignmentgroup\": \"True\", \"hovertemplate\": \"beforeAfter=after<br>bldCount=%{x}<br>floors=%{y}<extra></extra>\", \"legendgroup\": \"after\", \"marker\": {\"color\": \"#EF553B\", \"line\": {\"color\": \"DarkSlateGrey\", \"width\": 2}}, \"name\": \"after\", \"offsetgroup\": \"after\", \"orientation\": \"v\", \"showlegend\": true, \"textposition\": \"auto\", \"type\": \"bar\", \"x\": [1, 2, 3, 4], \"xaxis\": \"x2\", \"y\": [30.0, 30.0, 30.0, 30.0], \"yaxis\": \"y2\"}],                        {\"annotations\": [{\"font\": {}, \"showarrow\": false, \"text\": \"beforeAfter=Before\", \"x\": 0.245, \"xanchor\": \"center\", \"xref\": \"paper\", \"y\": 1.0, \"yanchor\": \"bottom\", \"yref\": \"paper\"}, {\"font\": {}, \"showarrow\": false, \"text\": \"beforeAfter=after\", \"x\": 0.755, \"xanchor\": \"center\", \"xref\": \"paper\", \"y\": 1.0, \"yanchor\": \"bottom\", \"yref\": \"paper\"}], \"barmode\": \"relative\", \"height\": 300, \"legend\": {\"title\": {\"text\": \"beforeAfter\"}, \"tracegroupgap\": 0, \"x\": 0.05, \"xanchor\": \"left\", \"y\": 0.95, \"yanchor\": \"top\"}, \"margin\": {\"b\": 0, \"l\": 0, \"r\": 0, \"t\": 60}, \"plot_bgcolor\": \"oldlace\", \"template\": {\"data\": {\"bar\": [{\"error_x\": {\"color\": \"#2a3f5f\"}, \"error_y\": {\"color\": \"#2a3f5f\"}, \"marker\": {\"line\": {\"color\": \"#E5ECF6\", \"width\": 0.5}}, \"type\": \"bar\"}], \"barpolar\": [{\"marker\": {\"line\": {\"color\": \"#E5ECF6\", \"width\": 0.5}}, \"type\": \"barpolar\"}], \"carpet\": [{\"aaxis\": {\"endlinecolor\": \"#2a3f5f\", \"gridcolor\": \"white\", \"linecolor\": \"white\", \"minorgridcolor\": \"white\", \"startlinecolor\": \"#2a3f5f\"}, \"baxis\": {\"endlinecolor\": \"#2a3f5f\", \"gridcolor\": \"white\", \"linecolor\": \"white\", \"minorgridcolor\": \"white\", \"startlinecolor\": \"#2a3f5f\"}, \"type\": \"carpet\"}], \"choropleth\": [{\"colorbar\": {\"outlinewidth\": 0, \"ticks\": \"\"}, \"type\": \"choropleth\"}], \"contour\": [{\"colorbar\": {\"outlinewidth\": 0, \"ticks\": \"\"}, \"colorscale\": [[0.0, \"#0d0887\"], [0.1111111111111111, \"#46039f\"], [0.2222222222222222, \"#7201a8\"], [0.3333333333333333, \"#9c179e\"], [0.4444444444444444, \"#bd3786\"], [0.5555555555555556, \"#d8576b\"], [0.6666666666666666, \"#ed7953\"], [0.7777777777777778, \"#fb9f3a\"], [0.8888888888888888, \"#fdca26\"], [1.0, \"#f0f921\"]], \"type\": \"contour\"}], \"contourcarpet\": [{\"colorbar\": {\"outlinewidth\": 0, \"ticks\": \"\"}, \"type\": \"contourcarpet\"}], \"heatmap\": [{\"colorbar\": {\"outlinewidth\": 0, \"ticks\": \"\"}, \"colorscale\": [[0.0, \"#0d0887\"], [0.1111111111111111, \"#46039f\"], [0.2222222222222222, \"#7201a8\"], [0.3333333333333333, \"#9c179e\"], [0.4444444444444444, \"#bd3786\"], [0.5555555555555556, \"#d8576b\"], [0.6666666666666666, \"#ed7953\"], [0.7777777777777778, \"#fb9f3a\"], [0.8888888888888888, \"#fdca26\"], [1.0, \"#f0f921\"]], \"type\": \"heatmap\"}], \"heatmapgl\": [{\"colorbar\": {\"outlinewidth\": 0, \"ticks\": \"\"}, \"colorscale\": [[0.0, \"#0d0887\"], [0.1111111111111111, \"#46039f\"], [0.2222222222222222, \"#7201a8\"], [0.3333333333333333, \"#9c179e\"], [0.4444444444444444, \"#bd3786\"], [0.5555555555555556, \"#d8576b\"], [0.6666666666666666, \"#ed7953\"], [0.7777777777777778, \"#fb9f3a\"], [0.8888888888888888, \"#fdca26\"], [1.0, \"#f0f921\"]], \"type\": \"heatmapgl\"}], \"histogram\": [{\"marker\": {\"colorbar\": {\"outlinewidth\": 0, \"ticks\": \"\"}}, \"type\": \"histogram\"}], \"histogram2d\": [{\"colorbar\": {\"outlinewidth\": 0, \"ticks\": \"\"}, \"colorscale\": [[0.0, \"#0d0887\"], [0.1111111111111111, \"#46039f\"], [0.2222222222222222, \"#7201a8\"], [0.3333333333333333, \"#9c179e\"], [0.4444444444444444, \"#bd3786\"], [0.5555555555555556, \"#d8576b\"], [0.6666666666666666, \"#ed7953\"], [0.7777777777777778, \"#fb9f3a\"], [0.8888888888888888, \"#fdca26\"], [1.0, \"#f0f921\"]], \"type\": \"histogram2d\"}], \"histogram2dcontour\": [{\"colorbar\": {\"outlinewidth\": 0, \"ticks\": \"\"}, \"colorscale\": [[0.0, \"#0d0887\"], [0.1111111111111111, \"#46039f\"], [0.2222222222222222, \"#7201a8\"], [0.3333333333333333, \"#9c179e\"], [0.4444444444444444, \"#bd3786\"], [0.5555555555555556, \"#d8576b\"], [0.6666666666666666, \"#ed7953\"], [0.7777777777777778, \"#fb9f3a\"], [0.8888888888888888, \"#fdca26\"], [1.0, \"#f0f921\"]], \"type\": \"histogram2dcontour\"}], \"mesh3d\": [{\"colorbar\": {\"outlinewidth\": 0, \"ticks\": \"\"}, \"type\": \"mesh3d\"}], \"parcoords\": [{\"line\": {\"colorbar\": {\"outlinewidth\": 0, \"ticks\": \"\"}}, \"type\": \"parcoords\"}], \"pie\": [{\"automargin\": true, \"type\": \"pie\"}], \"scatter\": [{\"marker\": {\"colorbar\": {\"outlinewidth\": 0, \"ticks\": \"\"}}, \"type\": \"scatter\"}], \"scatter3d\": [{\"line\": {\"colorbar\": {\"outlinewidth\": 0, \"ticks\": \"\"}}, \"marker\": {\"colorbar\": {\"outlinewidth\": 0, \"ticks\": \"\"}}, \"type\": \"scatter3d\"}], \"scattercarpet\": [{\"marker\": {\"colorbar\": {\"outlinewidth\": 0, \"ticks\": \"\"}}, \"type\": \"scattercarpet\"}], \"scattergeo\": [{\"marker\": {\"colorbar\": {\"outlinewidth\": 0, \"ticks\": \"\"}}, \"type\": \"scattergeo\"}], \"scattergl\": [{\"marker\": {\"colorbar\": {\"outlinewidth\": 0, \"ticks\": \"\"}}, \"type\": \"scattergl\"}], \"scattermapbox\": [{\"marker\": {\"colorbar\": {\"outlinewidth\": 0, \"ticks\": \"\"}}, \"type\": \"scattermapbox\"}], \"scatterpolar\": [{\"marker\": {\"colorbar\": {\"outlinewidth\": 0, \"ticks\": \"\"}}, \"type\": \"scatterpolar\"}], \"scatterpolargl\": [{\"marker\": {\"colorbar\": {\"outlinewidth\": 0, \"ticks\": \"\"}}, \"type\": \"scatterpolargl\"}], \"scatterternary\": [{\"marker\": {\"colorbar\": {\"outlinewidth\": 0, \"ticks\": \"\"}}, \"type\": \"scatterternary\"}], \"surface\": [{\"colorbar\": {\"outlinewidth\": 0, \"ticks\": \"\"}, \"colorscale\": [[0.0, \"#0d0887\"], [0.1111111111111111, \"#46039f\"], [0.2222222222222222, \"#7201a8\"], [0.3333333333333333, \"#9c179e\"], [0.4444444444444444, \"#bd3786\"], [0.5555555555555556, \"#d8576b\"], [0.6666666666666666, \"#ed7953\"], [0.7777777777777778, \"#fb9f3a\"], [0.8888888888888888, \"#fdca26\"], [1.0, \"#f0f921\"]], \"type\": \"surface\"}], \"table\": [{\"cells\": {\"fill\": {\"color\": \"#EBF0F8\"}, \"line\": {\"color\": \"white\"}}, \"header\": {\"fill\": {\"color\": \"#C8D4E3\"}, \"line\": {\"color\": \"white\"}}, \"type\": \"table\"}]}, \"layout\": {\"annotationdefaults\": {\"arrowcolor\": \"#2a3f5f\", \"arrowhead\": 0, \"arrowwidth\": 1}, \"autotypenumbers\": \"strict\", \"coloraxis\": {\"colorbar\": {\"outlinewidth\": 0, \"ticks\": \"\"}}, \"colorscale\": {\"diverging\": [[0, \"#8e0152\"], [0.1, \"#c51b7d\"], [0.2, \"#de77ae\"], [0.3, \"#f1b6da\"], [0.4, \"#fde0ef\"], [0.5, \"#f7f7f7\"], [0.6, \"#e6f5d0\"], [0.7, \"#b8e186\"], [0.8, \"#7fbc41\"], [0.9, \"#4d9221\"], [1, \"#276419\"]], \"sequential\": [[0.0, \"#0d0887\"], [0.1111111111111111, \"#46039f\"], [0.2222222222222222, \"#7201a8\"], [0.3333333333333333, \"#9c179e\"], [0.4444444444444444, \"#bd3786\"], [0.5555555555555556, \"#d8576b\"], [0.6666666666666666, \"#ed7953\"], [0.7777777777777778, \"#fb9f3a\"], [0.8888888888888888, \"#fdca26\"], [1.0, \"#f0f921\"]], \"sequentialminus\": [[0.0, \"#0d0887\"], [0.1111111111111111, \"#46039f\"], [0.2222222222222222, \"#7201a8\"], [0.3333333333333333, \"#9c179e\"], [0.4444444444444444, \"#bd3786\"], [0.5555555555555556, \"#d8576b\"], [0.6666666666666666, \"#ed7953\"], [0.7777777777777778, \"#fb9f3a\"], [0.8888888888888888, \"#fdca26\"], [1.0, \"#f0f921\"]]}, \"colorway\": [\"#636efa\", \"#EF553B\", \"#00cc96\", \"#ab63fa\", \"#FFA15A\", \"#19d3f3\", \"#FF6692\", \"#B6E880\", \"#FF97FF\", \"#FECB52\"], \"font\": {\"color\": \"#2a3f5f\"}, \"geo\": {\"bgcolor\": \"white\", \"lakecolor\": \"white\", \"landcolor\": \"#E5ECF6\", \"showlakes\": true, \"showland\": true, \"subunitcolor\": \"white\"}, \"hoverlabel\": {\"align\": \"left\"}, \"hovermode\": \"closest\", \"mapbox\": {\"style\": \"light\"}, \"paper_bgcolor\": \"white\", \"plot_bgcolor\": \"#E5ECF6\", \"polar\": {\"angularaxis\": {\"gridcolor\": \"white\", \"linecolor\": \"white\", \"ticks\": \"\"}, \"bgcolor\": \"#E5ECF6\", \"radialaxis\": {\"gridcolor\": \"white\", \"linecolor\": \"white\", \"ticks\": \"\"}}, \"scene\": {\"xaxis\": {\"backgroundcolor\": \"#E5ECF6\", \"gridcolor\": \"white\", \"gridwidth\": 2, \"linecolor\": \"white\", \"showbackground\": true, \"ticks\": \"\", \"zerolinecolor\": \"white\"}, \"yaxis\": {\"backgroundcolor\": \"#E5ECF6\", \"gridcolor\": \"white\", \"gridwidth\": 2, \"linecolor\": \"white\", \"showbackground\": true, \"ticks\": \"\", \"zerolinecolor\": \"white\"}, \"zaxis\": {\"backgroundcolor\": \"#E5ECF6\", \"gridcolor\": \"white\", \"gridwidth\": 2, \"linecolor\": \"white\", \"showbackground\": true, \"ticks\": \"\", \"zerolinecolor\": \"white\"}}, \"shapedefaults\": {\"line\": {\"color\": \"#2a3f5f\"}}, \"ternary\": {\"aaxis\": {\"gridcolor\": \"white\", \"linecolor\": \"white\", \"ticks\": \"\"}, \"baxis\": {\"gridcolor\": \"white\", \"linecolor\": \"white\", \"ticks\": \"\"}, \"bgcolor\": \"#E5ECF6\", \"caxis\": {\"gridcolor\": \"white\", \"linecolor\": \"white\", \"ticks\": \"\"}}, \"title\": {\"x\": 0.05}, \"xaxis\": {\"automargin\": true, \"gridcolor\": \"white\", \"linecolor\": \"white\", \"ticks\": \"\", \"title\": {\"standoff\": 15}, \"zerolinecolor\": \"white\", \"zerolinewidth\": 2}, \"yaxis\": {\"automargin\": true, \"gridcolor\": \"white\", \"linecolor\": \"white\", \"ticks\": \"\", \"title\": {\"standoff\": 15}, \"zerolinecolor\": \"white\", \"zerolinewidth\": 2}}}, \"width\": 600, \"xaxis\": {\"anchor\": \"y\", \"domain\": [0.0, 0.49], \"title\": {\"text\": \"bldCount\"}}, \"xaxis2\": {\"anchor\": \"y2\", \"domain\": [0.51, 1.0], \"matches\": \"x\", \"title\": {\"text\": \"bldCount\"}}, \"yaxis\": {\"anchor\": \"x\", \"domain\": [0.0, 1.0], \"title\": {\"text\": \"floors\"}}, \"yaxis2\": {\"anchor\": \"x2\", \"domain\": [0.0, 1.0], \"matches\": \"y\", \"showticklabels\": false}},                        {\"responsive\": true}                    ).then(function(){\n                            \nvar gd = document.getElementById('7aef3c05-3f38-479a-b69e-9e9419e8beea');\nvar x = new MutationObserver(function (mutations, observer) {{\n        var display = window.getComputedStyle(gd).display;\n        if (!display || display === 'none') {{\n            console.log([gd, 'removed!']);\n            Plotly.purge(gd);\n            observer.disconnect();\n        }}\n}});\n\n// Listen for the removal of the full notebook cells\nvar notebookContainer = gd.closest('#notebook-container');\nif (notebookContainer) {{\n    x.observe(notebookContainer, {childList: true});\n}}\n\n// Listen for the clearing of the current output cell\nvar outputEl = gd.closest('.output');\nif (outputEl) {{\n    x.observe(outputEl, {childList: true});\n}}\n\n                        })                };                            </script>        </div>\n</body>\n</html>"
         },
         "metadata": {},
         "output_type": "display_data"
        }
       ]
      }
     },
     "0f85a51254704c94afbb0a8da8c5fa90": {
      "model_module": "@jupyter-widgets/base",
      "model_module_version": "1.2.0",
      "model_name": "LayoutModel",
      "state": {}
     },
     "10058c2405cb4d7b9692b495405bd391": {
      "model_module": "@jupyter-widgets/base",
      "model_module_version": "1.2.0",
      "model_name": "LayoutModel",
      "state": {}
     },
     "11d218c7c0f14e3b86450bc32d47b181": {
      "model_module": "@jupyter-widgets/base",
      "model_module_version": "1.2.0",
      "model_name": "LayoutModel",
      "state": {}
     },
     "1379363234d045758b4c7ed50957b7dd": {
      "model_module": "@jupyter-widgets/base",
      "model_module_version": "1.2.0",
      "model_name": "LayoutModel",
      "state": {}
     },
     "168618d3fd7a45b784bf48b9195cc262": {
      "model_module": "@jupyter-widgets/base",
      "model_module_version": "1.2.0",
      "model_name": "LayoutModel",
      "state": {}
     },
     "19132eb062624198a59e0106d5531a15": {
      "model_module": "@jupyter-widgets/base",
      "model_module_version": "1.2.0",
      "model_name": "LayoutModel",
      "state": {}
     },
     "1927136fb3eb4c30ba0e8fed3997d31f": {
      "model_module": "@jupyter-widgets/base",
      "model_module_version": "1.2.0",
      "model_name": "LayoutModel",
      "state": {}
     },
     "1dbbbac64c824240aa1eb5458413e081": {
      "model_module": "@jupyter-widgets/base",
      "model_module_version": "1.2.0",
      "model_name": "LayoutModel",
      "state": {
       "height": "400px",
       "width": "100%"
      }
     },
     "21d81c75e5c243bbb1b32f0a2d690ded": {
      "model_module": "@jupyter-widgets/output",
      "model_module_version": "1.0.0",
      "model_name": "OutputModel",
      "state": {
       "layout": "IPY_MODEL_db59b29c585f4dfeac46f66ad4404391",
       "outputs": [
        {
         "data": {
          "text/html": "<html>\n<head><meta charset=\"utf-8\" /></head>\n<body>\n    <div>            <script src=\"https://cdnjs.cloudflare.com/ajax/libs/mathjax/2.7.5/MathJax.js?config=TeX-AMS-MML_SVG\"></script><script type=\"text/javascript\">if (window.MathJax) {MathJax.Hub.Config({SVG: {font: \"STIX-Web\"}});}</script>                <script type=\"text/javascript\">window.PlotlyConfig = {MathJaxConfig: 'local'};</script>\n        <script src=\"https://cdn.plot.ly/plotly-latest.min.js\"></script>                <div id=\"96ee492a-0d56-4dd2-bc92-13860d799e2a\" class=\"plotly-graph-div\" style=\"height:375px; width:800px;\"></div>            <script type=\"text/javascript\">                                    window.PLOTLYENV=window.PLOTLYENV || {};                                    if (document.getElementById(\"96ee492a-0d56-4dd2-bc92-13860d799e2a\")) {                    Plotly.newPlot(                        \"96ee492a-0d56-4dd2-bc92-13860d799e2a\",                        [{\"line\": {\"color\": \"hsv(0,100%,100%)\", \"width\": 4}, \"name\": \"Staying\", \"type\": \"scatter\", \"x\": [1, 2, 3, 4, 5, 6, 7, 8, 9, 10, 12], \"y\": [884, 868, 854, 841, 832, 803, 788, 784, 624, 615, 609]}, {\"line\": {\"color\": \"hsv(0,100%,75%)\", \"width\": 4}, \"name\": \"New Comers\", \"type\": \"scatter\", \"x\": [1, 2, 3, 4, 5, 6, 7, 8, 9, 10, 12], \"y\": [34.0, 60.0, 91.0, 118.0, 157.0, 195.0, 224.0, 332.0, 852.0, 888.0, 916.0]}, {\"line\": {\"color\": \"hsv(30,100%, 100%)\", \"dash\": \"dash\"}, \"name\": \"Total (Staying+New Comers)\", \"type\": \"scatter\", \"x\": [1, 2, 3, 4, 5, 6, 7, 8, 9, 10, 12], \"y\": [918, 928, 945, 959, 989, 998, 1012, 1116, 1476, 1503, 1525]}, {\"marker\": {\"color\": \"hsv(210,100%,75%)\"}, \"mode\": \"markers\", \"name\": \"Addition\", \"type\": \"scatter\", \"x\": [1, 2, 3, 4, 6, 7], \"y\": [-20, -20, -20, -20, -20, -20]}, {\"marker\": {\"color\": \"hsv(210,100%,100%)\"}, \"mode\": \"markers\", \"name\": \"Reconstruction\", \"type\": \"scatter\", \"x\": [5, 8, 10, 12], \"y\": [-20, -20, -20, -20]}, {\"marker\": {\"color\": \"hsv(210,50%,100%)\"}, \"mode\": \"markers\", \"name\": \"Raze and Rebuild\", \"type\": \"scatter\", \"x\": [9], \"y\": [-20]}],                        {\"height\": 375, \"legend\": {\"bgcolor\": \"rgba(255,255,255,0.75)\", \"x\": 0.01, \"xanchor\": \"left\", \"y\": 0.99, \"yanchor\": \"top\"}, \"plot_bgcolor\": \"rgba(0,0,0,0)\", \"shapes\": [{\"layer\": \"below\", \"line\": {\"color\": \"hsv(210,100%,75%)\", \"dash\": \"dot\", \"width\": 1.5}, \"type\": \"line\", \"x0\": 1, \"x1\": 1, \"y0\": 0, \"y1\": 3300}, {\"layer\": \"below\", \"line\": {\"color\": \"hsv(210,100%,75%)\", \"dash\": \"dot\", \"width\": 1.5}, \"type\": \"line\", \"x0\": 2, \"x1\": 2, \"y0\": 0, \"y1\": 3300}, {\"layer\": \"below\", \"line\": {\"color\": \"hsv(210,100%,75%)\", \"dash\": \"dot\", \"width\": 1.5}, \"type\": \"line\", \"x0\": 3, \"x1\": 3, \"y0\": 0, \"y1\": 3300}, {\"layer\": \"below\", \"line\": {\"color\": \"hsv(210,100%,75%)\", \"dash\": \"dot\", \"width\": 1.5}, \"type\": \"line\", \"x0\": 4, \"x1\": 4, \"y0\": 0, \"y1\": 3300}, {\"layer\": \"below\", \"line\": {\"color\": \"hsv(210,100%,75%)\", \"dash\": \"dot\", \"width\": 1.5}, \"type\": \"line\", \"x0\": 6, \"x1\": 6, \"y0\": 0, \"y1\": 3300}, {\"layer\": \"below\", \"line\": {\"color\": \"hsv(210,100%,75%)\", \"dash\": \"dot\", \"width\": 1.5}, \"type\": \"line\", \"x0\": 7, \"x1\": 7, \"y0\": 0, \"y1\": 3300}, {\"layer\": \"below\", \"line\": {\"color\": \"hsv(210,100%,100%)\", \"dash\": \"dot\", \"width\": 1.5}, \"type\": \"line\", \"x0\": 5, \"x1\": 5, \"y0\": 0, \"y1\": 3300}, {\"layer\": \"below\", \"line\": {\"color\": \"hsv(210,100%,100%)\", \"dash\": \"dot\", \"width\": 1.5}, \"type\": \"line\", \"x0\": 8, \"x1\": 8, \"y0\": 0, \"y1\": 3300}, {\"layer\": \"below\", \"line\": {\"color\": \"hsv(210,100%,100%)\", \"dash\": \"dot\", \"width\": 1.5}, \"type\": \"line\", \"x0\": 10, \"x1\": 10, \"y0\": 0, \"y1\": 3300}, {\"layer\": \"below\", \"line\": {\"color\": \"hsv(210,100%,100%)\", \"dash\": \"dot\", \"width\": 1.5}, \"type\": \"line\", \"x0\": 12, \"x1\": 12, \"y0\": 0, \"y1\": 3300}, {\"layer\": \"below\", \"line\": {\"color\": \"hsv(210,50%,100%)\", \"dash\": \"dot\", \"width\": 1.5}, \"type\": \"line\", \"x0\": 9, \"x1\": 9, \"y0\": 0, \"y1\": 3300}], \"showlegend\": true, \"template\": {\"data\": {\"bar\": [{\"error_x\": {\"color\": \"#2a3f5f\"}, \"error_y\": {\"color\": \"#2a3f5f\"}, \"marker\": {\"line\": {\"color\": \"#E5ECF6\", \"width\": 0.5}}, \"type\": \"bar\"}], \"barpolar\": [{\"marker\": {\"line\": {\"color\": \"#E5ECF6\", \"width\": 0.5}}, \"type\": \"barpolar\"}], \"carpet\": [{\"aaxis\": {\"endlinecolor\": \"#2a3f5f\", \"gridcolor\": \"white\", \"linecolor\": \"white\", \"minorgridcolor\": \"white\", \"startlinecolor\": \"#2a3f5f\"}, \"baxis\": {\"endlinecolor\": \"#2a3f5f\", \"gridcolor\": \"white\", \"linecolor\": \"white\", \"minorgridcolor\": \"white\", \"startlinecolor\": \"#2a3f5f\"}, \"type\": \"carpet\"}], \"choropleth\": [{\"colorbar\": {\"outlinewidth\": 0, \"ticks\": \"\"}, \"type\": \"choropleth\"}], \"contour\": [{\"colorbar\": {\"outlinewidth\": 0, \"ticks\": \"\"}, \"colorscale\": [[0.0, \"#0d0887\"], [0.1111111111111111, \"#46039f\"], [0.2222222222222222, \"#7201a8\"], [0.3333333333333333, \"#9c179e\"], [0.4444444444444444, \"#bd3786\"], [0.5555555555555556, \"#d8576b\"], [0.6666666666666666, \"#ed7953\"], [0.7777777777777778, \"#fb9f3a\"], [0.8888888888888888, \"#fdca26\"], [1.0, \"#f0f921\"]], \"type\": \"contour\"}], \"contourcarpet\": [{\"colorbar\": {\"outlinewidth\": 0, \"ticks\": \"\"}, \"type\": \"contourcarpet\"}], \"heatmap\": [{\"colorbar\": {\"outlinewidth\": 0, \"ticks\": \"\"}, \"colorscale\": [[0.0, \"#0d0887\"], [0.1111111111111111, \"#46039f\"], [0.2222222222222222, \"#7201a8\"], [0.3333333333333333, \"#9c179e\"], [0.4444444444444444, \"#bd3786\"], [0.5555555555555556, \"#d8576b\"], [0.6666666666666666, \"#ed7953\"], [0.7777777777777778, \"#fb9f3a\"], [0.8888888888888888, \"#fdca26\"], [1.0, \"#f0f921\"]], \"type\": \"heatmap\"}], \"heatmapgl\": [{\"colorbar\": {\"outlinewidth\": 0, \"ticks\": \"\"}, \"colorscale\": [[0.0, \"#0d0887\"], [0.1111111111111111, \"#46039f\"], [0.2222222222222222, \"#7201a8\"], [0.3333333333333333, \"#9c179e\"], [0.4444444444444444, \"#bd3786\"], [0.5555555555555556, \"#d8576b\"], [0.6666666666666666, \"#ed7953\"], [0.7777777777777778, \"#fb9f3a\"], [0.8888888888888888, \"#fdca26\"], [1.0, \"#f0f921\"]], \"type\": \"heatmapgl\"}], \"histogram\": [{\"marker\": {\"colorbar\": {\"outlinewidth\": 0, \"ticks\": \"\"}}, \"type\": \"histogram\"}], \"histogram2d\": [{\"colorbar\": {\"outlinewidth\": 0, \"ticks\": \"\"}, \"colorscale\": [[0.0, \"#0d0887\"], [0.1111111111111111, \"#46039f\"], [0.2222222222222222, \"#7201a8\"], [0.3333333333333333, \"#9c179e\"], [0.4444444444444444, \"#bd3786\"], [0.5555555555555556, \"#d8576b\"], [0.6666666666666666, \"#ed7953\"], [0.7777777777777778, \"#fb9f3a\"], [0.8888888888888888, \"#fdca26\"], [1.0, \"#f0f921\"]], \"type\": \"histogram2d\"}], \"histogram2dcontour\": [{\"colorbar\": {\"outlinewidth\": 0, \"ticks\": \"\"}, \"colorscale\": [[0.0, \"#0d0887\"], [0.1111111111111111, \"#46039f\"], [0.2222222222222222, \"#7201a8\"], [0.3333333333333333, \"#9c179e\"], [0.4444444444444444, \"#bd3786\"], [0.5555555555555556, \"#d8576b\"], [0.6666666666666666, \"#ed7953\"], [0.7777777777777778, \"#fb9f3a\"], [0.8888888888888888, \"#fdca26\"], [1.0, \"#f0f921\"]], \"type\": \"histogram2dcontour\"}], \"mesh3d\": [{\"colorbar\": {\"outlinewidth\": 0, \"ticks\": \"\"}, \"type\": \"mesh3d\"}], \"parcoords\": [{\"line\": {\"colorbar\": {\"outlinewidth\": 0, \"ticks\": \"\"}}, \"type\": \"parcoords\"}], \"pie\": [{\"automargin\": true, \"type\": \"pie\"}], \"scatter\": [{\"marker\": {\"colorbar\": {\"outlinewidth\": 0, \"ticks\": \"\"}}, \"type\": \"scatter\"}], \"scatter3d\": [{\"line\": {\"colorbar\": {\"outlinewidth\": 0, \"ticks\": \"\"}}, \"marker\": {\"colorbar\": {\"outlinewidth\": 0, \"ticks\": \"\"}}, \"type\": \"scatter3d\"}], \"scattercarpet\": [{\"marker\": {\"colorbar\": {\"outlinewidth\": 0, \"ticks\": \"\"}}, \"type\": \"scattercarpet\"}], \"scattergeo\": [{\"marker\": {\"colorbar\": {\"outlinewidth\": 0, \"ticks\": \"\"}}, \"type\": \"scattergeo\"}], \"scattergl\": [{\"marker\": {\"colorbar\": {\"outlinewidth\": 0, \"ticks\": \"\"}}, \"type\": \"scattergl\"}], \"scattermapbox\": [{\"marker\": {\"colorbar\": {\"outlinewidth\": 0, \"ticks\": \"\"}}, \"type\": \"scattermapbox\"}], \"scatterpolar\": [{\"marker\": {\"colorbar\": {\"outlinewidth\": 0, \"ticks\": \"\"}}, \"type\": \"scatterpolar\"}], \"scatterpolargl\": [{\"marker\": {\"colorbar\": {\"outlinewidth\": 0, \"ticks\": \"\"}}, \"type\": \"scatterpolargl\"}], \"scatterternary\": [{\"marker\": {\"colorbar\": {\"outlinewidth\": 0, \"ticks\": \"\"}}, \"type\": \"scatterternary\"}], \"surface\": [{\"colorbar\": {\"outlinewidth\": 0, \"ticks\": \"\"}, \"colorscale\": [[0.0, \"#0d0887\"], [0.1111111111111111, \"#46039f\"], [0.2222222222222222, \"#7201a8\"], [0.3333333333333333, \"#9c179e\"], [0.4444444444444444, \"#bd3786\"], [0.5555555555555556, \"#d8576b\"], [0.6666666666666666, \"#ed7953\"], [0.7777777777777778, \"#fb9f3a\"], [0.8888888888888888, \"#fdca26\"], [1.0, \"#f0f921\"]], \"type\": \"surface\"}], \"table\": [{\"cells\": {\"fill\": {\"color\": \"#EBF0F8\"}, \"line\": {\"color\": \"white\"}}, \"header\": {\"fill\": {\"color\": \"#C8D4E3\"}, \"line\": {\"color\": \"white\"}}, \"type\": \"table\"}]}, \"layout\": {\"annotationdefaults\": {\"arrowcolor\": \"#2a3f5f\", \"arrowhead\": 0, \"arrowwidth\": 1}, \"autotypenumbers\": \"strict\", \"coloraxis\": {\"colorbar\": {\"outlinewidth\": 0, \"ticks\": \"\"}}, \"colorscale\": {\"diverging\": [[0, \"#8e0152\"], [0.1, \"#c51b7d\"], [0.2, \"#de77ae\"], [0.3, \"#f1b6da\"], [0.4, \"#fde0ef\"], [0.5, \"#f7f7f7\"], [0.6, \"#e6f5d0\"], [0.7, \"#b8e186\"], [0.8, \"#7fbc41\"], [0.9, \"#4d9221\"], [1, \"#276419\"]], \"sequential\": [[0.0, \"#0d0887\"], [0.1111111111111111, \"#46039f\"], [0.2222222222222222, \"#7201a8\"], [0.3333333333333333, \"#9c179e\"], [0.4444444444444444, \"#bd3786\"], [0.5555555555555556, \"#d8576b\"], [0.6666666666666666, \"#ed7953\"], [0.7777777777777778, \"#fb9f3a\"], [0.8888888888888888, \"#fdca26\"], [1.0, \"#f0f921\"]], \"sequentialminus\": [[0.0, \"#0d0887\"], [0.1111111111111111, \"#46039f\"], [0.2222222222222222, \"#7201a8\"], [0.3333333333333333, \"#9c179e\"], [0.4444444444444444, \"#bd3786\"], [0.5555555555555556, \"#d8576b\"], [0.6666666666666666, \"#ed7953\"], [0.7777777777777778, \"#fb9f3a\"], [0.8888888888888888, \"#fdca26\"], [1.0, \"#f0f921\"]]}, \"colorway\": [\"#636efa\", \"#EF553B\", \"#00cc96\", \"#ab63fa\", \"#FFA15A\", \"#19d3f3\", \"#FF6692\", \"#B6E880\", \"#FF97FF\", \"#FECB52\"], \"font\": {\"color\": \"#2a3f5f\"}, \"geo\": {\"bgcolor\": \"white\", \"lakecolor\": \"white\", \"landcolor\": \"#E5ECF6\", \"showlakes\": true, \"showland\": true, \"subunitcolor\": \"white\"}, \"hoverlabel\": {\"align\": \"left\"}, \"hovermode\": \"closest\", \"mapbox\": {\"style\": \"light\"}, \"paper_bgcolor\": \"white\", \"plot_bgcolor\": \"#E5ECF6\", \"polar\": {\"angularaxis\": {\"gridcolor\": \"white\", \"linecolor\": \"white\", \"ticks\": \"\"}, \"bgcolor\": \"#E5ECF6\", \"radialaxis\": {\"gridcolor\": \"white\", \"linecolor\": \"white\", \"ticks\": \"\"}}, \"scene\": {\"xaxis\": {\"backgroundcolor\": \"#E5ECF6\", \"gridcolor\": \"white\", \"gridwidth\": 2, \"linecolor\": \"white\", \"showbackground\": true, \"ticks\": \"\", \"zerolinecolor\": \"white\"}, \"yaxis\": {\"backgroundcolor\": \"#E5ECF6\", \"gridcolor\": \"white\", \"gridwidth\": 2, \"linecolor\": \"white\", \"showbackground\": true, \"ticks\": \"\", \"zerolinecolor\": \"white\"}, \"zaxis\": {\"backgroundcolor\": \"#E5ECF6\", \"gridcolor\": \"white\", \"gridwidth\": 2, \"linecolor\": \"white\", \"showbackground\": true, \"ticks\": \"\", \"zerolinecolor\": \"white\"}}, \"shapedefaults\": {\"line\": {\"color\": \"#2a3f5f\"}}, \"ternary\": {\"aaxis\": {\"gridcolor\": \"white\", \"linecolor\": \"white\", \"ticks\": \"\"}, \"baxis\": {\"gridcolor\": \"white\", \"linecolor\": \"white\", \"ticks\": \"\"}, \"bgcolor\": \"#E5ECF6\", \"caxis\": {\"gridcolor\": \"white\", \"linecolor\": \"white\", \"ticks\": \"\"}}, \"title\": {\"x\": 0.05}, \"xaxis\": {\"automargin\": true, \"gridcolor\": \"white\", \"linecolor\": \"white\", \"ticks\": \"\", \"title\": {\"standoff\": 15}, \"zerolinecolor\": \"white\", \"zerolinewidth\": 2}, \"yaxis\": {\"automargin\": true, \"gridcolor\": \"white\", \"linecolor\": \"white\", \"ticks\": \"\", \"title\": {\"standoff\": 15}, \"zerolinecolor\": \"white\", \"zerolinewidth\": 2}}}, \"title\": {\"text\": \"Household Absolute change within simulation tics\"}, \"width\": 800, \"xaxis\": {\"gridcolor\": \"#f2f2f2\", \"gridwidth\": 1, \"title\": {\"text\": \"Simulation tic\"}, \"zerolinecolor\": \"lightgrey\", \"zerolinewidth\": 1}, \"yaxis\": {\"gridcolor\": \"#f2f2f2\", \"gridwidth\": 1, \"range\": [-100, 3300], \"title\": {\"text\": \"Household Count\"}, \"zerolinecolor\": \"lightgrey\", \"zerolinewidth\": 1}},                        {\"responsive\": true}                    ).then(function(){\n                            \nvar gd = document.getElementById('96ee492a-0d56-4dd2-bc92-13860d799e2a');\nvar x = new MutationObserver(function (mutations, observer) {{\n        var display = window.getComputedStyle(gd).display;\n        if (!display || display === 'none') {{\n            console.log([gd, 'removed!']);\n            Plotly.purge(gd);\n            observer.disconnect();\n        }}\n}});\n\n// Listen for the removal of the full notebook cells\nvar notebookContainer = gd.closest('#notebook-container');\nif (notebookContainer) {{\n    x.observe(notebookContainer, {childList: true});\n}}\n\n// Listen for the clearing of the current output cell\nvar outputEl = gd.closest('.output');\nif (outputEl) {{\n    x.observe(outputEl, {childList: true});\n}}\n\n                        })                };                            </script>        </div>\n</body>\n</html>"
         },
         "metadata": {},
         "output_type": "display_data"
        }
       ]
      }
     },
     "2b633600ba13435ea662bc117c10eec9": {
      "model_module": "@jupyter-widgets/base",
      "model_module_version": "1.2.0",
      "model_name": "LayoutModel",
      "state": {}
     },
     "2ec457574e464e7881e88a97a26789ff": {
      "model_module": "@jupyter-widgets/controls",
      "model_module_version": "1.5.0",
      "model_name": "DescriptionStyleModel",
      "state": {
       "description_width": ""
      }
     },
     "3138dd0a3f824a1d8776381ebe17ee7a": {
      "model_module": "@jupyter-widgets/base",
      "model_module_version": "1.2.0",
      "model_name": "LayoutModel",
      "state": {
       "width": "100%"
      }
     },
     "32735857469b4a8e808f6bd67dec6407": {
      "model_module": "@jupyter-widgets/controls",
      "model_module_version": "1.5.0",
      "model_name": "HTMLModel",
      "state": {
       "layout": "IPY_MODEL_f910a6c2c371430db5598cb07d55e82a",
       "style": "IPY_MODEL_6c540cfcee994b01af8045ae4f67ae95",
       "value": "<h2>Execution: 9 &nbsp; Project Number: 502-0196659<br/> Hebrew Address: רוטשילד 7, בת ים<br/>Project Type: Raze and Rebuild</h2>"
      }
     },
     "335b72d186cf414da7c09bfe07f5ec42": {
      "model_module": "@jupyter-widgets/base",
      "model_module_version": "1.2.0",
      "model_name": "LayoutModel",
      "state": {}
     },
     "33d41f366b724bbfbc8d9b6db37f4858": {
      "model_module": "@jupyter-widgets/output",
      "model_module_version": "1.0.0",
      "model_name": "OutputModel",
      "state": {
       "layout": "IPY_MODEL_70c7bbf2ed914846868452472567a977",
       "outputs": [
        {
         "data": {
          "text/html": "<html>\n<head><meta charset=\"utf-8\" /></head>\n<body>\n    <div>            <script src=\"https://cdnjs.cloudflare.com/ajax/libs/mathjax/2.7.5/MathJax.js?config=TeX-AMS-MML_SVG\"></script><script type=\"text/javascript\">if (window.MathJax) {MathJax.Hub.Config({SVG: {font: \"STIX-Web\"}});}</script>                <script type=\"text/javascript\">window.PlotlyConfig = {MathJaxConfig: 'local'};</script>\n        <script src=\"https://cdn.plot.ly/plotly-latest.min.js\"></script>                <div id=\"cb1d12ad-7c51-4e02-b8e8-e6fc72bcdcdf\" class=\"plotly-graph-div\" style=\"height:375px; width:800px;\"></div>            <script type=\"text/javascript\">                                    window.PLOTLYENV=window.PLOTLYENV || {};                                    if (document.getElementById(\"cb1d12ad-7c51-4e02-b8e8-e6fc72bcdcdf\")) {                    Plotly.newPlot(                        \"cb1d12ad-7c51-4e02-b8e8-e6fc72bcdcdf\",                        [{\"legendgroup\": \"Staying\", \"line\": {\"color\": \"hsv(206,81%,71%)\", \"width\": 2}, \"name\": \"Under 65 Stay\", \"type\": \"scatter\", \"x\": [1, 2, 3, 4, 5, 6, 7, 8, 9], \"y\": [0.6928104575163399, 0.6734913793103449, 0.653968253968254, 0.6360792492179353, 0.6107178968655207, 0.5851703406813628, 0.5662055335968379, 0.5116487455197133, 0.3130081300813008]}, {\"legendgroup\": \"Staying\", \"line\": {\"color\": \"hsv(193,29%,90%)\", \"width\": 2}, \"name\": \"Above 65 Stay\", \"type\": \"scatter\", \"x\": [1, 2, 3, 4, 5, 6, 7, 8, 9], \"y\": [0.2701525054466231, 0.26185344827586204, 0.24973544973544973, 0.24087591240875914, 0.23053589484327602, 0.21943887775551102, 0.2124505928853755, 0.19086021505376344, 0.10975609756097561]}, {\"legendgroup\": \"New Comers\", \"line\": {\"color\": \"hsv(206,81%,71%)\", \"width\": 4}, \"name\": \"Under 65 New Comers\", \"type\": \"scatter\", \"x\": [1, 2, 3, 4, 5, 6, 7, 8, 9], \"y\": [0.029411764705882353, 0.05064655172413793, 0.07513227513227513, 0.0948905109489051, 0.12234580384226491, 0.1492985971943888, 0.17292490118577075, 0.23207885304659498, 0.46476964769647694]}, {\"legendgroup\": \"New Comers\", \"line\": {\"color\": \"hsv(193,29%,90%)\", \"width\": 4}, \"name\": \"Above 65 New Comers\", \"type\": \"scatter\", \"x\": [1, 2, 3, 4, 5, 6, 7, 8, 9], \"y\": [0.007625272331154684, 0.014008620689655173, 0.021164021164021163, 0.028154327424400417, 0.03640040444893832, 0.04609218436873747, 0.04841897233201581, 0.06541218637992832, 0.11246612466124661]}, {\"legendgroup\": \"Average\", \"line\": {\"color\": \"hsv(198,63%,81%)\", \"dash\": \"dash\"}, \"name\": \"Under 65 (Average)\", \"type\": \"scatter\", \"x\": [1, 2, 3, 4, 5, 6, 7, 8, 9], \"y\": [0.7222222222222222, 0.7241379310344828, 0.7291005291005291, 0.7309697601668405, 0.7330637007077856, 0.7344689378757515, 0.7391304347826086, 0.7437275985663082, 0.7777777777777778]}, {\"legendgroup\": \"Average\", \"line\": {\"color\": \"hsv(203,9%,96%)\", \"dash\": \"dash\"}, \"name\": \"Above 65 (Average)\", \"type\": \"scatter\", \"x\": [1, 2, 3, 4, 5, 6, 7, 8, 9], \"y\": [0.2777777777777778, 0.27586206896551724, 0.2708994708994709, 0.26903023983315955, 0.26693629929221435, 0.2655310621242485, 0.2608695652173913, 0.25627240143369173, 0.2222222222222222]}, {\"legendgroup\": \"Building Type\", \"marker\": {\"color\": \"hsv(210,100%,75%)\"}, \"mode\": \"markers\", \"name\": \"Addition\", \"type\": \"scatter\", \"x\": [1, 2, 3, 4, 6, 7], \"y\": [-0.02, -0.02, -0.02, -0.02, -0.02, -0.02]}, {\"legendgroup\": \"Building Type\", \"marker\": {\"color\": \"hsv(210,100%,100%)\"}, \"mode\": \"markers\", \"name\": \"Reconstruction\", \"type\": \"scatter\", \"x\": [5, 8], \"y\": [-0.02, -0.02]}, {\"legendgroup\": \"Building Type\", \"marker\": {\"color\": \"hsv(210,50%,100%)\"}, \"mode\": \"markers\", \"name\": \"Raze and Rebuild\", \"type\": \"scatter\", \"x\": [9], \"y\": [-0.02]}],                        {\"height\": 375, \"legend\": {\"bgcolor\": \"rgba(255,255,255,0.5)\", \"orientation\": \"h\", \"x\": 0.03, \"xanchor\": \"left\", \"y\": 1.0, \"yanchor\": \"top\"}, \"plot_bgcolor\": \"rgba(0,0,0,0)\", \"shapes\": [{\"layer\": \"below\", \"line\": {\"color\": \"hsv(210,100%,75%)\", \"dash\": \"dot\", \"width\": 1.5}, \"type\": \"line\", \"x0\": 1, \"x1\": 1, \"y0\": 0, \"y1\": 1}, {\"layer\": \"below\", \"line\": {\"color\": \"hsv(210,100%,75%)\", \"dash\": \"dot\", \"width\": 1.5}, \"type\": \"line\", \"x0\": 2, \"x1\": 2, \"y0\": 0, \"y1\": 1}, {\"layer\": \"below\", \"line\": {\"color\": \"hsv(210,100%,75%)\", \"dash\": \"dot\", \"width\": 1.5}, \"type\": \"line\", \"x0\": 3, \"x1\": 3, \"y0\": 0, \"y1\": 1}, {\"layer\": \"below\", \"line\": {\"color\": \"hsv(210,100%,75%)\", \"dash\": \"dot\", \"width\": 1.5}, \"type\": \"line\", \"x0\": 4, \"x1\": 4, \"y0\": 0, \"y1\": 1}, {\"layer\": \"below\", \"line\": {\"color\": \"hsv(210,100%,75%)\", \"dash\": \"dot\", \"width\": 1.5}, \"type\": \"line\", \"x0\": 6, \"x1\": 6, \"y0\": 0, \"y1\": 1}, {\"layer\": \"below\", \"line\": {\"color\": \"hsv(210,100%,75%)\", \"dash\": \"dot\", \"width\": 1.5}, \"type\": \"line\", \"x0\": 7, \"x1\": 7, \"y0\": 0, \"y1\": 1}, {\"layer\": \"below\", \"line\": {\"color\": \"hsv(210,100%,100%)\", \"dash\": \"dot\", \"width\": 1.5}, \"type\": \"line\", \"x0\": 5, \"x1\": 5, \"y0\": 0, \"y1\": 1}, {\"layer\": \"below\", \"line\": {\"color\": \"hsv(210,100%,100%)\", \"dash\": \"dot\", \"width\": 1.5}, \"type\": \"line\", \"x0\": 8, \"x1\": 8, \"y0\": 0, \"y1\": 1}, {\"layer\": \"below\", \"line\": {\"color\": \"hsv(210,50%,100%)\", \"dash\": \"dot\", \"width\": 1.5}, \"type\": \"line\", \"x0\": 9, \"x1\": 9, \"y0\": 0, \"y1\": 1}], \"showlegend\": true, \"template\": {\"data\": {\"bar\": [{\"error_x\": {\"color\": \"#2a3f5f\"}, \"error_y\": {\"color\": \"#2a3f5f\"}, \"marker\": {\"line\": {\"color\": \"#E5ECF6\", \"width\": 0.5}}, \"type\": \"bar\"}], \"barpolar\": [{\"marker\": {\"line\": {\"color\": \"#E5ECF6\", \"width\": 0.5}}, \"type\": \"barpolar\"}], \"carpet\": [{\"aaxis\": {\"endlinecolor\": \"#2a3f5f\", \"gridcolor\": \"white\", \"linecolor\": \"white\", \"minorgridcolor\": \"white\", \"startlinecolor\": \"#2a3f5f\"}, \"baxis\": {\"endlinecolor\": \"#2a3f5f\", \"gridcolor\": \"white\", \"linecolor\": \"white\", \"minorgridcolor\": \"white\", \"startlinecolor\": \"#2a3f5f\"}, \"type\": \"carpet\"}], \"choropleth\": [{\"colorbar\": {\"outlinewidth\": 0, \"ticks\": \"\"}, \"type\": \"choropleth\"}], \"contour\": [{\"colorbar\": {\"outlinewidth\": 0, \"ticks\": \"\"}, \"colorscale\": [[0.0, \"#0d0887\"], [0.1111111111111111, \"#46039f\"], [0.2222222222222222, \"#7201a8\"], [0.3333333333333333, \"#9c179e\"], [0.4444444444444444, \"#bd3786\"], [0.5555555555555556, \"#d8576b\"], [0.6666666666666666, \"#ed7953\"], [0.7777777777777778, \"#fb9f3a\"], [0.8888888888888888, \"#fdca26\"], [1.0, \"#f0f921\"]], \"type\": \"contour\"}], \"contourcarpet\": [{\"colorbar\": {\"outlinewidth\": 0, \"ticks\": \"\"}, \"type\": \"contourcarpet\"}], \"heatmap\": [{\"colorbar\": {\"outlinewidth\": 0, \"ticks\": \"\"}, \"colorscale\": [[0.0, \"#0d0887\"], [0.1111111111111111, \"#46039f\"], [0.2222222222222222, \"#7201a8\"], [0.3333333333333333, \"#9c179e\"], [0.4444444444444444, \"#bd3786\"], [0.5555555555555556, \"#d8576b\"], [0.6666666666666666, \"#ed7953\"], [0.7777777777777778, \"#fb9f3a\"], [0.8888888888888888, \"#fdca26\"], [1.0, \"#f0f921\"]], \"type\": \"heatmap\"}], \"heatmapgl\": [{\"colorbar\": {\"outlinewidth\": 0, \"ticks\": \"\"}, \"colorscale\": [[0.0, \"#0d0887\"], [0.1111111111111111, \"#46039f\"], [0.2222222222222222, \"#7201a8\"], [0.3333333333333333, \"#9c179e\"], [0.4444444444444444, \"#bd3786\"], [0.5555555555555556, \"#d8576b\"], [0.6666666666666666, \"#ed7953\"], [0.7777777777777778, \"#fb9f3a\"], [0.8888888888888888, \"#fdca26\"], [1.0, \"#f0f921\"]], \"type\": \"heatmapgl\"}], \"histogram\": [{\"marker\": {\"colorbar\": {\"outlinewidth\": 0, \"ticks\": \"\"}}, \"type\": \"histogram\"}], \"histogram2d\": [{\"colorbar\": {\"outlinewidth\": 0, \"ticks\": \"\"}, \"colorscale\": [[0.0, \"#0d0887\"], [0.1111111111111111, \"#46039f\"], [0.2222222222222222, \"#7201a8\"], [0.3333333333333333, \"#9c179e\"], [0.4444444444444444, \"#bd3786\"], [0.5555555555555556, \"#d8576b\"], [0.6666666666666666, \"#ed7953\"], [0.7777777777777778, \"#fb9f3a\"], [0.8888888888888888, \"#fdca26\"], [1.0, \"#f0f921\"]], \"type\": \"histogram2d\"}], \"histogram2dcontour\": [{\"colorbar\": {\"outlinewidth\": 0, \"ticks\": \"\"}, \"colorscale\": [[0.0, \"#0d0887\"], [0.1111111111111111, \"#46039f\"], [0.2222222222222222, \"#7201a8\"], [0.3333333333333333, \"#9c179e\"], [0.4444444444444444, \"#bd3786\"], [0.5555555555555556, \"#d8576b\"], [0.6666666666666666, \"#ed7953\"], [0.7777777777777778, \"#fb9f3a\"], [0.8888888888888888, \"#fdca26\"], [1.0, \"#f0f921\"]], \"type\": \"histogram2dcontour\"}], \"mesh3d\": [{\"colorbar\": {\"outlinewidth\": 0, \"ticks\": \"\"}, \"type\": \"mesh3d\"}], \"parcoords\": [{\"line\": {\"colorbar\": {\"outlinewidth\": 0, \"ticks\": \"\"}}, \"type\": \"parcoords\"}], \"pie\": [{\"automargin\": true, \"type\": \"pie\"}], \"scatter\": [{\"marker\": {\"colorbar\": {\"outlinewidth\": 0, \"ticks\": \"\"}}, \"type\": \"scatter\"}], \"scatter3d\": [{\"line\": {\"colorbar\": {\"outlinewidth\": 0, \"ticks\": \"\"}}, \"marker\": {\"colorbar\": {\"outlinewidth\": 0, \"ticks\": \"\"}}, \"type\": \"scatter3d\"}], \"scattercarpet\": [{\"marker\": {\"colorbar\": {\"outlinewidth\": 0, \"ticks\": \"\"}}, \"type\": \"scattercarpet\"}], \"scattergeo\": [{\"marker\": {\"colorbar\": {\"outlinewidth\": 0, \"ticks\": \"\"}}, \"type\": \"scattergeo\"}], \"scattergl\": [{\"marker\": {\"colorbar\": {\"outlinewidth\": 0, \"ticks\": \"\"}}, \"type\": \"scattergl\"}], \"scattermapbox\": [{\"marker\": {\"colorbar\": {\"outlinewidth\": 0, \"ticks\": \"\"}}, \"type\": \"scattermapbox\"}], \"scatterpolar\": [{\"marker\": {\"colorbar\": {\"outlinewidth\": 0, \"ticks\": \"\"}}, \"type\": \"scatterpolar\"}], \"scatterpolargl\": [{\"marker\": {\"colorbar\": {\"outlinewidth\": 0, \"ticks\": \"\"}}, \"type\": \"scatterpolargl\"}], \"scatterternary\": [{\"marker\": {\"colorbar\": {\"outlinewidth\": 0, \"ticks\": \"\"}}, \"type\": \"scatterternary\"}], \"surface\": [{\"colorbar\": {\"outlinewidth\": 0, \"ticks\": \"\"}, \"colorscale\": [[0.0, \"#0d0887\"], [0.1111111111111111, \"#46039f\"], [0.2222222222222222, \"#7201a8\"], [0.3333333333333333, \"#9c179e\"], [0.4444444444444444, \"#bd3786\"], [0.5555555555555556, \"#d8576b\"], [0.6666666666666666, \"#ed7953\"], [0.7777777777777778, \"#fb9f3a\"], [0.8888888888888888, \"#fdca26\"], [1.0, \"#f0f921\"]], \"type\": \"surface\"}], \"table\": [{\"cells\": {\"fill\": {\"color\": \"#EBF0F8\"}, \"line\": {\"color\": \"white\"}}, \"header\": {\"fill\": {\"color\": \"#C8D4E3\"}, \"line\": {\"color\": \"white\"}}, \"type\": \"table\"}]}, \"layout\": {\"annotationdefaults\": {\"arrowcolor\": \"#2a3f5f\", \"arrowhead\": 0, \"arrowwidth\": 1}, \"autotypenumbers\": \"strict\", \"coloraxis\": {\"colorbar\": {\"outlinewidth\": 0, \"ticks\": \"\"}}, \"colorscale\": {\"diverging\": [[0, \"#8e0152\"], [0.1, \"#c51b7d\"], [0.2, \"#de77ae\"], [0.3, \"#f1b6da\"], [0.4, \"#fde0ef\"], [0.5, \"#f7f7f7\"], [0.6, \"#e6f5d0\"], [0.7, \"#b8e186\"], [0.8, \"#7fbc41\"], [0.9, \"#4d9221\"], [1, \"#276419\"]], \"sequential\": [[0.0, \"#0d0887\"], [0.1111111111111111, \"#46039f\"], [0.2222222222222222, \"#7201a8\"], [0.3333333333333333, \"#9c179e\"], [0.4444444444444444, \"#bd3786\"], [0.5555555555555556, \"#d8576b\"], [0.6666666666666666, \"#ed7953\"], [0.7777777777777778, \"#fb9f3a\"], [0.8888888888888888, \"#fdca26\"], [1.0, \"#f0f921\"]], \"sequentialminus\": [[0.0, \"#0d0887\"], [0.1111111111111111, \"#46039f\"], [0.2222222222222222, \"#7201a8\"], [0.3333333333333333, \"#9c179e\"], [0.4444444444444444, \"#bd3786\"], [0.5555555555555556, \"#d8576b\"], [0.6666666666666666, \"#ed7953\"], [0.7777777777777778, \"#fb9f3a\"], [0.8888888888888888, \"#fdca26\"], [1.0, \"#f0f921\"]]}, \"colorway\": [\"#636efa\", \"#EF553B\", \"#00cc96\", \"#ab63fa\", \"#FFA15A\", \"#19d3f3\", \"#FF6692\", \"#B6E880\", \"#FF97FF\", \"#FECB52\"], \"font\": {\"color\": \"#2a3f5f\"}, \"geo\": {\"bgcolor\": \"white\", \"lakecolor\": \"white\", \"landcolor\": \"#E5ECF6\", \"showlakes\": true, \"showland\": true, \"subunitcolor\": \"white\"}, \"hoverlabel\": {\"align\": \"left\"}, \"hovermode\": \"closest\", \"mapbox\": {\"style\": \"light\"}, \"paper_bgcolor\": \"white\", \"plot_bgcolor\": \"#E5ECF6\", \"polar\": {\"angularaxis\": {\"gridcolor\": \"white\", \"linecolor\": \"white\", \"ticks\": \"\"}, \"bgcolor\": \"#E5ECF6\", \"radialaxis\": {\"gridcolor\": \"white\", \"linecolor\": \"white\", \"ticks\": \"\"}}, \"scene\": {\"xaxis\": {\"backgroundcolor\": \"#E5ECF6\", \"gridcolor\": \"white\", \"gridwidth\": 2, \"linecolor\": \"white\", \"showbackground\": true, \"ticks\": \"\", \"zerolinecolor\": \"white\"}, \"yaxis\": {\"backgroundcolor\": \"#E5ECF6\", \"gridcolor\": \"white\", \"gridwidth\": 2, \"linecolor\": \"white\", \"showbackground\": true, \"ticks\": \"\", \"zerolinecolor\": \"white\"}, \"zaxis\": {\"backgroundcolor\": \"#E5ECF6\", \"gridcolor\": \"white\", \"gridwidth\": 2, \"linecolor\": \"white\", \"showbackground\": true, \"ticks\": \"\", \"zerolinecolor\": \"white\"}}, \"shapedefaults\": {\"line\": {\"color\": \"#2a3f5f\"}}, \"ternary\": {\"aaxis\": {\"gridcolor\": \"white\", \"linecolor\": \"white\", \"ticks\": \"\"}, \"baxis\": {\"gridcolor\": \"white\", \"linecolor\": \"white\", \"ticks\": \"\"}, \"bgcolor\": \"#E5ECF6\", \"caxis\": {\"gridcolor\": \"white\", \"linecolor\": \"white\", \"ticks\": \"\"}}, \"title\": {\"x\": 0.05}, \"xaxis\": {\"automargin\": true, \"gridcolor\": \"white\", \"linecolor\": \"white\", \"ticks\": \"\", \"title\": {\"standoff\": 15}, \"zerolinecolor\": \"white\", \"zerolinewidth\": 2}, \"yaxis\": {\"automargin\": true, \"gridcolor\": \"white\", \"linecolor\": \"white\", \"ticks\": \"\", \"title\": {\"standoff\": 15}, \"zerolinecolor\": \"white\", \"zerolinewidth\": 2}}}, \"title\": {\"text\": \"Above and Below 65 troughout the simulation\"}, \"width\": 800, \"xaxis\": {\"gridcolor\": \"#f2f2f2\", \"gridwidth\": 1, \"title\": {\"text\": \"Simulation tic\"}, \"zerolinecolor\": \"lightgrey\", \"zerolinewidth\": 1}, \"yaxis\": {\"gridcolor\": \"#f2f2f2\", \"gridwidth\": 1, \"range\": [-0.05, 1], \"title\": {\"text\": \"Household Percent\"}, \"zerolinecolor\": \"lightgrey\", \"zerolinewidth\": 1}},                        {\"responsive\": true}                    ).then(function(){\n                            \nvar gd = document.getElementById('cb1d12ad-7c51-4e02-b8e8-e6fc72bcdcdf');\nvar x = new MutationObserver(function (mutations, observer) {{\n        var display = window.getComputedStyle(gd).display;\n        if (!display || display === 'none') {{\n            console.log([gd, 'removed!']);\n            Plotly.purge(gd);\n            observer.disconnect();\n        }}\n}});\n\n// Listen for the removal of the full notebook cells\nvar notebookContainer = gd.closest('#notebook-container');\nif (notebookContainer) {{\n    x.observe(notebookContainer, {childList: true});\n}}\n\n// Listen for the clearing of the current output cell\nvar outputEl = gd.closest('.output');\nif (outputEl) {{\n    x.observe(outputEl, {childList: true});\n}}\n\n                        })                };                            </script>        </div>\n</body>\n</html>"
         },
         "metadata": {},
         "output_type": "display_data"
        }
       ]
      }
     },
     "345471700daa4ea2aff119f4dd3aba1b": {
      "model_module": "@jupyter-widgets/controls",
      "model_module_version": "1.5.0",
      "model_name": "HTMLModel",
      "state": {
       "layout": "IPY_MODEL_6e26dd4bad9a44acad2c39ec485f5885",
       "style": "IPY_MODEL_a28dc70f96d04ae9a9316bf55ee28b5f",
       "value": "<div style='font-size:15px'><span><b>Apartment Size</b></span> Start Marker: <b>75.3  sq meters </b> End Marker <b> 87.0 sq meters</b><br/><span><b>Years in Neighborhood</b></span> Start Marker: <b>22.8  years </b> End Marker <b> 9.2 years</b><br/><span><b>Cost For Staying</b></span> Start Marker: <b>255.6  ₪ </b> End Marker <b> 4641.6 ₪</b><br/><span><b>Mean Income</b></span> Start Marker: <b>8164.0  ₪ </b> End Marker <b> 16973.1 ₪</b><br/></div>"
      }
     },
     "378f62578a6d43f1b04970ef3474735a": {
      "model_module": "@jupyter-widgets/base",
      "model_module_version": "1.2.0",
      "model_name": "LayoutModel",
      "state": {}
     },
     "39531f11253543dbac6549034988c82d": {
      "model_module": "@jupyter-widgets/base",
      "model_module_version": "1.2.0",
      "model_name": "LayoutModel",
      "state": {}
     },
     "426fd58bcd5a424f825968318deb147f": {
      "model_module": "@jupyter-widgets/base",
      "model_module_version": "1.2.0",
      "model_name": "LayoutModel",
      "state": {}
     },
     "4446ffad0d9b4812a7973cca821d91da": {
      "model_module": "@jupyter-widgets/base",
      "model_module_version": "1.2.0",
      "model_name": "LayoutModel",
      "state": {
       "height": "400px",
       "width": "100%"
      }
     },
     "45261a647de540fc98ea9d850e5c26ec": {
      "model_module": "@jupyter-widgets/base",
      "model_module_version": "1.2.0",
      "model_name": "LayoutModel",
      "state": {}
     },
     "49e9f7111f7442829ca343a28c52821e": {
      "model_module": "@jupyter-widgets/output",
      "model_module_version": "1.0.0",
      "model_name": "OutputModel",
      "state": {
       "layout": "IPY_MODEL_56ac1eb0315949b08f3927fcaf1347dc",
       "outputs": [
        {
         "data": {
          "application/vnd.jupyter.widget-view+json": {
           "model_id": "a758393c83164caea8ffefdf990c134d",
           "version_major": 2,
           "version_minor": 0
          },
          "text/plain": "MapView(layout=Layout(height='400px', width='100%'))"
         },
         "metadata": {},
         "output_type": "display_data"
        },
        {
         "data": {
          "text/html": "<div class=\"map-static-img-preview-099f0c2f-846d-47ea-ba56-9e392950b189\"><img src=\"\"></img></div>",
          "text/plain": "<IPython.core.display.HTML object>"
         },
         "metadata": {},
         "output_type": "display_data"
        },
        {
         "data": {
          "text/html": "<div class=\"map-html-embed-preview-099f0c2f-846d-47ea-ba56-9e392950b189\"></div>",
          "text/plain": "<IPython.core.display.HTML object>"
         },
         "metadata": {},
         "output_type": "display_data"
        }
       ]
      }
     },
     "4a72107221ff4787b83d342dda9221d6": {
      "model_module": "arcgis-map-ipywidget",
      "model_module_version": "1.8.4",
      "model_name": "ArcGISMapIPyWidgetModel",
      "state": {
       "_auth_mode": "tokenBased",
       "_basemap": "default",
       "_draw_these_graphics_on_widget_load": [],
       "_draw_these_notype_layers_on_widget_load": [],
       "_gallery_basemaps": {
        "default": {
         "baseMapLayers": [
          {
           "layerType": "ArcGISTiledMapServiceLayer",
           "resourceInfo": {
            "capabilities": "Map,Tilemap,Query,Data",
            "copyrightText": "Sources: Esri, HERE, DeLorme, Intermap, increment P Corp., GEBCO, USGS, FAO, NPS, NRCAN, GeoBase, IGN, Kadaster NL, Ordnance Survey, Esri Japan, METI, Esri China (Hong Kong), swisstopo, MapmyIndia, Â© OpenStreetMap contributors, and the GIS User Community",
            "currentVersion": 10.3,
            "documentInfo": {
             "AntialiasingMode": "None",
             "Author": "Esri",
             "Category": "imageryBaseMapsEarthCover (Imagery, basemaps, and land cover)",
             "Comments": "",
             "Keywords": "World,Global,Europe,North America,South America,Southern Africa,Australia,New Zealand,India",
             "Subject": "topographic, topography, administrative boundaries, cities, water features, physiographic features, parks, landmarks, highways, roads, railways, airports, land cover, shaded relief imagery",
             "TextAntialiasingMode": "Force",
             "Title": "World Topographic Map"
            },
            "exportTilesAllowed": false,
            "fullExtent": {
             "spatialReference": {
              "latestWkid": 3857,
              "wkid": 102100
             },
             "xmax": 20037507.067161843,
             "xmin": -20037507.067161843,
             "ymax": 19971868.88040863,
             "ymin": -19971868.880408604
            },
            "initialExtent": {
             "spatialReference": {
              "latestWkid": 3857,
              "wkid": 102100
             },
             "xmax": 28848255.049479112,
             "xmin": -28848255.049479112,
             "ymax": 16430757.376790084,
             "ymin": -2077452.082122866
            },
            "layers": [
             {
              "defaultVisibility": false,
              "id": 0,
              "maxScale": 0,
              "minScale": 0,
              "name": "Citations",
              "parentLayerId": -1,
              "subLayerIds": null
             }
            ],
            "mapName": "Layers",
            "maxImageHeight": 4096,
            "maxImageWidth": 4096,
            "maxRecordCount": 100,
            "maxScale": 70.5310735,
            "minScale": 591657527.591555,
            "singleFusedMapCache": true,
            "spatialReference": {
             "latestWkid": 3857,
             "wkid": 102100
            },
            "supportedExtensions": "KmlServer",
            "supportedImageFormatTypes": "PNG32,PNG24,PNG,JPG,DIB,TIFF,EMF,PS,PDF,GIF,SVG,SVGZ,BMP",
            "supportedQueryFormats": "JSON, AMF",
            "supportsDynamicLayers": false,
            "tables": [],
            "tileInfo": {
             "cols": 256,
             "compressionQuality": 90,
             "dpi": 96,
             "format": "JPEG",
             "lods": [
              {
               "level": 0,
               "resolution": 156543.03392800014,
               "scale": 591657527.591555
              },
              {
               "level": 1,
               "resolution": 78271.51696399994,
               "scale": 295828763.795777
              },
              {
               "level": 2,
               "resolution": 39135.75848200009,
               "scale": 147914381.897889
              },
              {
               "level": 3,
               "resolution": 19567.87924099992,
               "scale": 73957190.948944
              },
              {
               "level": 4,
               "resolution": 9783.93962049996,
               "scale": 36978595.474472
              },
              {
               "level": 5,
               "resolution": 4891.96981024998,
               "scale": 18489297.737236
              },
              {
               "level": 6,
               "resolution": 2445.98490512499,
               "scale": 9244648.868618
              },
              {
               "level": 7,
               "resolution": 1222.992452562495,
               "scale": 4622324.434309
              },
              {
               "level": 8,
               "resolution": 611.4962262813797,
               "scale": 2311162.217155
              },
              {
               "level": 9,
               "resolution": 305.74811314055756,
               "scale": 1155581.108577
              },
              {
               "level": 10,
               "resolution": 152.87405657041106,
               "scale": 577790.554289
              },
              {
               "level": 11,
               "resolution": 76.43702828507324,
               "scale": 288895.277144
              },
              {
               "level": 12,
               "resolution": 38.21851414253662,
               "scale": 144447.638572
              },
              {
               "level": 13,
               "resolution": 19.10925707126831,
               "scale": 72223.819286
              },
              {
               "level": 14,
               "resolution": 9.554628535634155,
               "scale": 36111.909643
              },
              {
               "level": 15,
               "resolution": 4.77731426794937,
               "scale": 18055.954822
              },
              {
               "level": 16,
               "resolution": 2.388657133974685,
               "scale": 9027.977411
              },
              {
               "level": 17,
               "resolution": 1.1943285668550503,
               "scale": 4513.988705
              },
              {
               "level": 18,
               "resolution": 0.5971642835598172,
               "scale": 2256.994353
              },
              {
               "level": 19,
               "resolution": 0.29858214164761665,
               "scale": 1128.497176
              },
              {
               "level": 20,
               "resolution": 0.14929107082380833,
               "scale": 564.248588
              },
              {
               "level": 21,
               "resolution": 0.07464553541190416,
               "scale": 282.124294
              },
              {
               "level": 22,
               "resolution": 0.03732276770595208,
               "scale": 141.062147
              },
              {
               "level": 23,
               "resolution": 0.01866138385297604,
               "scale": 70.5310735
              }
             ],
             "origin": {
              "x": -20037508.342787,
              "y": 20037508.342787
             },
             "rows": 256,
             "spatialReference": {
              "latestWkid": 3857,
              "wkid": 102100
             }
            },
            "units": "esriMeters"
           },
           "title": "מפת טופוגרפיה עולמית",
           "url": "https://services.arcgisonline.com/ArcGIS/rest/services/World_Topo_Map/MapServer"
          }
         ],
         "title": "מפה טופוגרפית"
        }
       },
       "_overlay_these_images_on_widget_load": [],
       "_portal_sharing_rest_url": "https://Technion-GIS.maps.arcgis.com/sharing/rest/",
       "_portal_token": "761grilnZthTsgcssC4nNSGmZCOntYHdAXnQpd7A2sND8EUYPb1DW64X7vsmPQDaGmN9aAdjwI0s2umxXgdsJbRnsa8V3hhNqzWblyaDGZ3UQnkozZ1ZLItzEG11OlD-WkIv2dPWM-wSUWvqaq76OQQIDD9mQtq2VaCVg4OjO3Q.",
       "_portal_url": "https://Technion-GIS.maps.arcgis.com",
       "_username": "shai@technion",
       "_uuid": "b58059de-b81a-4d50-81fe-cd1a218877c4",
       "_webmap": {
        "authoringApp": "ArcGISPythonAPI",
        "authoringAppVersion": "1.8.4",
        "baseMap": {
         "baseMapLayers": [
          {
           "layerType": "ArcGISTiledMapServiceLayer",
           "resourceInfo": {
            "capabilities": "Map,Tilemap,Query,Data",
            "copyrightText": "Sources: Esri, HERE, DeLorme, Intermap, increment P Corp., GEBCO, USGS, FAO, NPS, NRCAN, GeoBase, IGN, Kadaster NL, Ordnance Survey, Esri Japan, METI, Esri China (Hong Kong), swisstopo, MapmyIndia, Â© OpenStreetMap contributors, and the GIS User Community",
            "currentVersion": 10.3,
            "documentInfo": {
             "AntialiasingMode": "None",
             "Author": "Esri",
             "Category": "imageryBaseMapsEarthCover (Imagery, basemaps, and land cover)",
             "Comments": "",
             "Keywords": "World,Global,Europe,North America,South America,Southern Africa,Australia,New Zealand,India",
             "Subject": "topographic, topography, administrative boundaries, cities, water features, physiographic features, parks, landmarks, highways, roads, railways, airports, land cover, shaded relief imagery",
             "TextAntialiasingMode": "Force",
             "Title": "World Topographic Map"
            },
            "exportTilesAllowed": false,
            "fullExtent": {
             "spatialReference": {
              "latestWkid": 3857,
              "wkid": 102100
             },
             "xmax": 20037507.067161843,
             "xmin": -20037507.067161843,
             "ymax": 19971868.88040863,
             "ymin": -19971868.880408604
            },
            "initialExtent": {
             "spatialReference": {
              "latestWkid": 3857,
              "wkid": 102100
             },
             "xmax": 28848255.049479112,
             "xmin": -28848255.049479112,
             "ymax": 16430757.376790084,
             "ymin": -2077452.082122866
            },
            "layers": [
             {
              "defaultVisibility": false,
              "id": 0,
              "maxScale": 0,
              "minScale": 0,
              "name": "Citations",
              "parentLayerId": -1,
              "subLayerIds": null
             }
            ],
            "mapName": "Layers",
            "maxImageHeight": 4096,
            "maxImageWidth": 4096,
            "maxRecordCount": 100,
            "maxScale": 70.5310735,
            "minScale": 591657527.591555,
            "singleFusedMapCache": true,
            "spatialReference": {
             "latestWkid": 3857,
             "wkid": 102100
            },
            "supportedExtensions": "KmlServer",
            "supportedImageFormatTypes": "PNG32,PNG24,PNG,JPG,DIB,TIFF,EMF,PS,PDF,GIF,SVG,SVGZ,BMP",
            "supportedQueryFormats": "JSON, AMF",
            "supportsDynamicLayers": false,
            "tables": [],
            "tileInfo": {
             "cols": 256,
             "compressionQuality": 90,
             "dpi": 96,
             "format": "JPEG",
             "lods": [
              {
               "level": 0,
               "resolution": 156543.03392800014,
               "scale": 591657527.591555
              },
              {
               "level": 1,
               "resolution": 78271.51696399994,
               "scale": 295828763.795777
              },
              {
               "level": 2,
               "resolution": 39135.75848200009,
               "scale": 147914381.897889
              },
              {
               "level": 3,
               "resolution": 19567.87924099992,
               "scale": 73957190.948944
              },
              {
               "level": 4,
               "resolution": 9783.93962049996,
               "scale": 36978595.474472
              },
              {
               "level": 5,
               "resolution": 4891.96981024998,
               "scale": 18489297.737236
              },
              {
               "level": 6,
               "resolution": 2445.98490512499,
               "scale": 9244648.868618
              },
              {
               "level": 7,
               "resolution": 1222.992452562495,
               "scale": 4622324.434309
              },
              {
               "level": 8,
               "resolution": 611.4962262813797,
               "scale": 2311162.217155
              },
              {
               "level": 9,
               "resolution": 305.74811314055756,
               "scale": 1155581.108577
              },
              {
               "level": 10,
               "resolution": 152.87405657041106,
               "scale": 577790.554289
              },
              {
               "level": 11,
               "resolution": 76.43702828507324,
               "scale": 288895.277144
              },
              {
               "level": 12,
               "resolution": 38.21851414253662,
               "scale": 144447.638572
              },
              {
               "level": 13,
               "resolution": 19.10925707126831,
               "scale": 72223.819286
              },
              {
               "level": 14,
               "resolution": 9.554628535634155,
               "scale": 36111.909643
              },
              {
               "level": 15,
               "resolution": 4.77731426794937,
               "scale": 18055.954822
              },
              {
               "level": 16,
               "resolution": 2.388657133974685,
               "scale": 9027.977411
              },
              {
               "level": 17,
               "resolution": 1.1943285668550503,
               "scale": 4513.988705
              },
              {
               "level": 18,
               "resolution": 0.5971642835598172,
               "scale": 2256.994353
              },
              {
               "level": 19,
               "resolution": 0.29858214164761665,
               "scale": 1128.497176
              },
              {
               "level": 20,
               "resolution": 0.14929107082380833,
               "scale": 564.248588
              },
              {
               "level": 21,
               "resolution": 0.07464553541190416,
               "scale": 282.124294
              },
              {
               "level": 22,
               "resolution": 0.03732276770595208,
               "scale": 141.062147
              },
              {
               "level": 23,
               "resolution": 0.01866138385297604,
               "scale": 70.5310735
              }
             ],
             "origin": {
              "x": -20037508.342787,
              "y": 20037508.342787
             },
             "rows": 256,
             "spatialReference": {
              "latestWkid": 3857,
              "wkid": 102100
             }
            },
            "units": "esriMeters"
           },
           "title": "מפת טופוגרפיה עולמית",
           "url": "https://services.arcgisonline.com/ArcGIS/rest/services/World_Topo_Map/MapServer"
          }
         ],
         "title": "מפה טופוגרפית"
        },
        "operationalLayers": [
         {
          "id": "8777901729485",
          "itemId": "b8eba16abd4647bd9fd7573e6e71c86d",
          "layerDefinition": {
           "definitionExpression": null,
           "drawingInfo": {
            "renderer": {
             "symbol": {
              "color": [
               255,
               255,
               255,
               255
              ],
              "outline": {
               "color": [
                54,
                93,
                141,
                255
               ],
               "style": "esriSLSSolid",
               "type": "esriSLS",
               "width": 1.5
              },
              "style": "esriSFSSolid",
              "type": "esriSFS"
             },
             "type": "simple"
            }
           }
          },
          "layerType": "ArcGISFeatureLayer",
          "opacity": 1,
          "popupInfo": {
           "description": null,
           "fieldInfos": [
            {
             "fieldName": "OBJECTID",
             "isEditable": false,
             "label": "OBJECTID",
             "visible": true
            },
            {
             "fieldName": "fid_1",
             "isEditable": true,
             "label": "fid_1",
             "visible": true
            },
            {
             "fieldName": "Area",
             "isEditable": true,
             "label": "Area",
             "visible": true
            },
            {
             "fieldName": "floors",
             "isEditable": true,
             "label": "floors",
             "visible": true
            },
            {
             "fieldName": "height",
             "isEditable": true,
             "label": "height",
             "visible": true
            },
            {
             "fieldName": "bld_num",
             "isEditable": true,
             "label": "bld_num",
             "visible": true
            },
            {
             "fieldName": "bld_addres",
             "isEditable": true,
             "label": "bld_addres",
             "visible": true
            },
            {
             "fieldName": "hebrew_adr",
             "isEditable": true,
             "label": "hebrew_adr",
             "visible": true
            },
            {
             "fieldName": "project_nu",
             "isEditable": true,
             "label": "project_nu",
             "visible": true
            },
            {
             "fieldName": "units",
             "isEditable": true,
             "label": "units",
             "visible": true
            },
            {
             "fieldName": "project_na",
             "isEditable": true,
             "label": "project_na",
             "visible": true
            },
            {
             "fieldName": "project_ty",
             "isEditable": true,
             "label": "project_ty",
             "visible": true
            },
            {
             "fieldName": "status",
             "isEditable": true,
             "label": "status",
             "visible": true
            },
            {
             "fieldName": "East",
             "isEditable": true,
             "label": "East",
             "visible": true
            },
            {
             "fieldName": "North",
             "isEditable": true,
             "label": "North",
             "visible": true
            },
            {
             "fieldName": "East_wgs84",
             "isEditable": true,
             "label": "East_wgs84",
             "visible": true
            },
            {
             "fieldName": "North_wgs8",
             "isEditable": true,
             "label": "North_wgs8",
             "visible": true
            },
            {
             "fieldName": "active",
             "isEditable": true,
             "label": "active",
             "visible": true
            },
            {
             "fieldName": "start_date",
             "isEditable": true,
             "label": "start_date",
             "visible": true
            },
            {
             "fieldName": "end_date_2",
             "isEditable": true,
             "label": "end_date_2",
             "visible": true
            },
            {
             "fieldName": "Shape__Area",
             "isEditable": true,
             "label": "Shape__Area",
             "visible": true
            },
            {
             "fieldName": "Shape__Length",
             "isEditable": true,
             "label": "Shape__Length",
             "visible": true
            },
            {
             "fieldName": "GlobalID",
             "isEditable": true,
             "label": "GlobalID",
             "visible": true
            },
            {
             "fieldName": "deltaDays",
             "isEditable": true,
             "label": "Days",
             "visible": true
            },
            {
             "fieldName": "time_filter_2",
             "isEditable": true,
             "label": "time_filter_2",
             "visible": true
            }
           ],
           "mediaInfos": [],
           "showAttachments": true,
           "title": "Addition_Before"
          },
          "title": "Addition_Before",
          "url": "https://services1.arcgis.com/yAQXemoDSgzdfV2A/arcgis/rest/services/Addition_Before/FeatureServer/0",
          "visibility": true
         },
         {
          "id": "8777901702805",
          "itemId": "2edebdf6b7bb42ae8a4ac8d0569e0ccd",
          "layerDefinition": {
           "definitionExpression": null,
           "drawingInfo": {
            "renderer": {
             "symbol": {
              "color": [
               255,
               255,
               255,
               255
              ],
              "outline": {
               "color": [
                54,
                93,
                141,
                255
               ],
               "style": "esriSLSSolid",
               "type": "esriSLS",
               "width": 1.5
              },
              "style": "esriSFSSolid",
              "type": "esriSFS"
             },
             "type": "simple"
            }
           }
          },
          "layerType": "ArcGISFeatureLayer",
          "opacity": 1,
          "popupInfo": {
           "description": null,
           "fieldInfos": [
            {
             "fieldName": "OBJECTID",
             "isEditable": false,
             "label": "OBJECTID",
             "visible": true
            },
            {
             "fieldName": "fid_1",
             "isEditable": true,
             "label": "fid_1",
             "visible": true
            },
            {
             "fieldName": "Area",
             "isEditable": true,
             "label": "Area",
             "visible": true
            },
            {
             "fieldName": "floors",
             "isEditable": true,
             "label": "floors",
             "visible": true
            },
            {
             "fieldName": "height",
             "isEditable": true,
             "label": "height",
             "visible": true
            },
            {
             "fieldName": "bld_num",
             "isEditable": true,
             "label": "bld_num",
             "visible": true
            },
            {
             "fieldName": "bld_addres",
             "isEditable": true,
             "label": "bld_addres",
             "visible": true
            },
            {
             "fieldName": "hebrew_adr",
             "isEditable": true,
             "label": "hebrew_adr",
             "visible": true
            },
            {
             "fieldName": "project_nu",
             "isEditable": true,
             "label": "project_nu",
             "visible": true
            },
            {
             "fieldName": "units",
             "isEditable": true,
             "label": "units",
             "visible": true
            },
            {
             "fieldName": "project_na",
             "isEditable": true,
             "label": "project_na",
             "visible": true
            },
            {
             "fieldName": "project_ty",
             "isEditable": true,
             "label": "project_ty",
             "visible": true
            },
            {
             "fieldName": "status",
             "isEditable": true,
             "label": "status",
             "visible": true
            },
            {
             "fieldName": "East",
             "isEditable": true,
             "label": "East",
             "visible": true
            },
            {
             "fieldName": "North",
             "isEditable": true,
             "label": "North",
             "visible": true
            },
            {
             "fieldName": "East_wgs84",
             "isEditable": true,
             "label": "East_wgs84",
             "visible": true
            },
            {
             "fieldName": "North_wgs8",
             "isEditable": true,
             "label": "North_wgs8",
             "visible": true
            },
            {
             "fieldName": "active",
             "isEditable": true,
             "label": "active",
             "visible": true
            },
            {
             "fieldName": "start_date",
             "isEditable": true,
             "label": "start_date",
             "visible": true
            },
            {
             "fieldName": "end_date_2",
             "isEditable": true,
             "label": "end_date_2",
             "visible": true
            },
            {
             "fieldName": "Shape__Area",
             "isEditable": true,
             "label": "Shape__Area",
             "visible": true
            },
            {
             "fieldName": "Shape__Length",
             "isEditable": true,
             "label": "Shape__Length",
             "visible": true
            },
            {
             "fieldName": "GlobalID",
             "isEditable": true,
             "label": "GlobalID",
             "visible": true
            },
            {
             "fieldName": "deltaDays",
             "isEditable": true,
             "label": "Days",
             "visible": true
            },
            {
             "fieldName": "time_filter_2",
             "isEditable": true,
             "label": "time_filter_2",
             "visible": true
            }
           ],
           "mediaInfos": [],
           "showAttachments": true,
           "title": "Addition_After"
          },
          "title": "Addition_After",
          "url": "https://services1.arcgis.com/yAQXemoDSgzdfV2A/arcgis/rest/services/Addition_After/FeatureServer/0",
          "visibility": true
         },
         {
          "id": "8777901726093",
          "itemId": "de8680cffc06404e86cbc8c9d0b91110",
          "layerDefinition": {
           "definitionExpression": null,
           "drawingInfo": {
            "renderer": {
             "symbol": {
              "color": [
               255,
               255,
               255,
               255
              ],
              "outline": {
               "color": [
                54,
                93,
                141,
                255
               ],
               "style": "esriSLSSolid",
               "type": "esriSLS",
               "width": 1.5
              },
              "style": "esriSFSSolid",
              "type": "esriSFS"
             },
             "type": "simple"
            }
           }
          },
          "layerType": "ArcGISFeatureLayer",
          "opacity": 1,
          "popupInfo": {
           "description": null,
           "fieldInfos": [
            {
             "fieldName": "OBJECTID",
             "isEditable": false,
             "label": "OBJECTID",
             "visible": true
            },
            {
             "fieldName": "fid_1",
             "isEditable": true,
             "label": "fid_1",
             "visible": true
            },
            {
             "fieldName": "Area",
             "isEditable": true,
             "label": "Area",
             "visible": true
            },
            {
             "fieldName": "floors",
             "isEditable": true,
             "label": "floors",
             "visible": true
            },
            {
             "fieldName": "height",
             "isEditable": true,
             "label": "height",
             "visible": true
            },
            {
             "fieldName": "bld_num",
             "isEditable": true,
             "label": "bld_num",
             "visible": true
            },
            {
             "fieldName": "bld_addres",
             "isEditable": true,
             "label": "bld_addres",
             "visible": true
            },
            {
             "fieldName": "hebrew_adr",
             "isEditable": true,
             "label": "hebrew_adr",
             "visible": true
            },
            {
             "fieldName": "project_nu",
             "isEditable": true,
             "label": "project_nu",
             "visible": true
            },
            {
             "fieldName": "units",
             "isEditable": true,
             "label": "units",
             "visible": true
            },
            {
             "fieldName": "project_na",
             "isEditable": true,
             "label": "project_na",
             "visible": true
            },
            {
             "fieldName": "project_ty",
             "isEditable": true,
             "label": "project_ty",
             "visible": true
            },
            {
             "fieldName": "status",
             "isEditable": true,
             "label": "status",
             "visible": true
            },
            {
             "fieldName": "East",
             "isEditable": true,
             "label": "East",
             "visible": true
            },
            {
             "fieldName": "North",
             "isEditable": true,
             "label": "North",
             "visible": true
            },
            {
             "fieldName": "East_wgs84",
             "isEditable": true,
             "label": "East_wgs84",
             "visible": true
            },
            {
             "fieldName": "North_wgs8",
             "isEditable": true,
             "label": "North_wgs8",
             "visible": true
            },
            {
             "fieldName": "active",
             "isEditable": true,
             "label": "active",
             "visible": true
            },
            {
             "fieldName": "start_date",
             "isEditable": true,
             "label": "start_date",
             "visible": true
            },
            {
             "fieldName": "end_date_2",
             "isEditable": true,
             "label": "end_date_2",
             "visible": true
            },
            {
             "fieldName": "Shape__Area",
             "isEditable": true,
             "label": "Shape__Area",
             "visible": true
            },
            {
             "fieldName": "Shape__Length",
             "isEditable": true,
             "label": "Shape__Length",
             "visible": true
            },
            {
             "fieldName": "GlobalID",
             "isEditable": true,
             "label": "GlobalID",
             "visible": true
            },
            {
             "fieldName": "deltaDays",
             "isEditable": true,
             "label": "Days",
             "visible": true
            },
            {
             "fieldName": "time_filter_2",
             "isEditable": true,
             "label": "time_filter_2",
             "visible": true
            }
           ],
           "mediaInfos": [],
           "showAttachments": true,
           "title": "Reconstruction_Before"
          },
          "title": "Reconstruction_Before",
          "url": "https://services1.arcgis.com/yAQXemoDSgzdfV2A/arcgis/rest/services/Reconstruction_Before/FeatureServer/0",
          "visibility": true
         },
         {
          "id": "8777901736209",
          "itemId": "a3a62ce0b2ec4db28fda81e124f348ce",
          "layerDefinition": {
           "definitionExpression": null,
           "drawingInfo": {
            "renderer": {
             "symbol": {
              "color": [
               79,
               129,
               189,
               255
              ],
              "outline": {
               "color": [
                54,
                93,
                141,
                255
               ],
               "style": "esriSLSSolid",
               "type": "esriSLS",
               "width": 1.5
              },
              "style": "esriSFSSolid",
              "type": "esriSFS"
             },
             "type": "simple"
            }
           }
          },
          "layerType": "ArcGISFeatureLayer",
          "opacity": 1,
          "popupInfo": {
           "description": null,
           "fieldInfos": [
            {
             "fieldName": "OBJECTID",
             "isEditable": false,
             "label": "OBJECTID",
             "visible": true
            },
            {
             "fieldName": "fid_1",
             "isEditable": true,
             "label": "fid_1",
             "visible": true
            },
            {
             "fieldName": "Area",
             "isEditable": true,
             "label": "Area",
             "visible": true
            },
            {
             "fieldName": "floors",
             "isEditable": true,
             "label": "floors",
             "visible": true
            },
            {
             "fieldName": "height",
             "isEditable": true,
             "label": "height",
             "visible": true
            },
            {
             "fieldName": "bld_num",
             "isEditable": true,
             "label": "bld_num",
             "visible": true
            },
            {
             "fieldName": "bld_addres",
             "isEditable": true,
             "label": "bld_addres",
             "visible": true
            },
            {
             "fieldName": "hebrew_adr",
             "isEditable": true,
             "label": "hebrew_adr",
             "visible": true
            },
            {
             "fieldName": "project_nu",
             "isEditable": true,
             "label": "project_nu",
             "visible": true
            },
            {
             "fieldName": "units",
             "isEditable": true,
             "label": "units",
             "visible": true
            },
            {
             "fieldName": "project_na",
             "isEditable": true,
             "label": "project_na",
             "visible": true
            },
            {
             "fieldName": "project_ty",
             "isEditable": true,
             "label": "project_ty",
             "visible": true
            },
            {
             "fieldName": "status",
             "isEditable": true,
             "label": "status",
             "visible": true
            },
            {
             "fieldName": "East",
             "isEditable": true,
             "label": "East",
             "visible": true
            },
            {
             "fieldName": "North",
             "isEditable": true,
             "label": "North",
             "visible": true
            },
            {
             "fieldName": "East_wgs84",
             "isEditable": true,
             "label": "East_wgs84",
             "visible": true
            },
            {
             "fieldName": "North_wgs8",
             "isEditable": true,
             "label": "North_wgs8",
             "visible": true
            },
            {
             "fieldName": "active",
             "isEditable": true,
             "label": "active",
             "visible": true
            },
            {
             "fieldName": "start_date",
             "isEditable": true,
             "label": "start_date",
             "visible": true
            },
            {
             "fieldName": "end_date_2",
             "isEditable": true,
             "label": "end_date_2",
             "visible": true
            },
            {
             "fieldName": "Shape__Area",
             "isEditable": true,
             "label": "Shape__Area",
             "visible": true
            },
            {
             "fieldName": "Shape__Length",
             "isEditable": true,
             "label": "Shape__Length",
             "visible": true
            },
            {
             "fieldName": "GlobalID",
             "isEditable": true,
             "label": "GlobalID",
             "visible": true
            },
            {
             "fieldName": "deltaDays",
             "isEditable": true,
             "label": "Days",
             "visible": true
            },
            {
             "fieldName": "time_filter_2",
             "isEditable": true,
             "label": "time_filter_2",
             "visible": true
            }
           ],
           "mediaInfos": [],
           "showAttachments": true,
           "title": "Reconstruction_After"
          },
          "title": "Reconstruction_After",
          "url": "https://services1.arcgis.com/yAQXemoDSgzdfV2A/arcgis/rest/services/Reconstruction_After/FeatureServer/0",
          "visibility": true
         },
         {
          "id": "8777901785889",
          "itemId": "f9d9f6e0ac704af5a17a4ef0445fd904",
          "layerDefinition": {
           "definitionExpression": null,
           "drawingInfo": {
            "renderer": {
             "symbol": {
              "color": [
               255,
               255,
               255,
               255
              ],
              "outline": {
               "color": [
                54,
                93,
                141,
                255
               ],
               "style": "esriSLSSolid",
               "type": "esriSLS",
               "width": 1.5
              },
              "style": "esriSFSSolid",
              "type": "esriSFS"
             },
             "type": "simple"
            }
           }
          },
          "layerType": "ArcGISFeatureLayer",
          "opacity": 1,
          "popupInfo": {
           "description": null,
           "fieldInfos": [
            {
             "fieldName": "OBJECTID",
             "isEditable": false,
             "label": "OBJECTID",
             "visible": true
            },
            {
             "fieldName": "fid_1",
             "isEditable": true,
             "label": "fid_1",
             "visible": true
            },
            {
             "fieldName": "Area",
             "isEditable": true,
             "label": "Area",
             "visible": true
            },
            {
             "fieldName": "floors",
             "isEditable": true,
             "label": "floors",
             "visible": true
            },
            {
             "fieldName": "height",
             "isEditable": true,
             "label": "height",
             "visible": true
            },
            {
             "fieldName": "bld_num",
             "isEditable": true,
             "label": "bld_num",
             "visible": true
            },
            {
             "fieldName": "bld_addres",
             "isEditable": true,
             "label": "bld_addres",
             "visible": true
            },
            {
             "fieldName": "hebrew_adr",
             "isEditable": true,
             "label": "hebrew_adr",
             "visible": true
            },
            {
             "fieldName": "project_nu",
             "isEditable": true,
             "label": "project_nu",
             "visible": true
            },
            {
             "fieldName": "units",
             "isEditable": true,
             "label": "units",
             "visible": true
            },
            {
             "fieldName": "project_na",
             "isEditable": true,
             "label": "project_na",
             "visible": true
            },
            {
             "fieldName": "project_ty",
             "isEditable": true,
             "label": "project_ty",
             "visible": true
            },
            {
             "fieldName": "status",
             "isEditable": true,
             "label": "status",
             "visible": true
            },
            {
             "fieldName": "East",
             "isEditable": true,
             "label": "East",
             "visible": true
            },
            {
             "fieldName": "North",
             "isEditable": true,
             "label": "North",
             "visible": true
            },
            {
             "fieldName": "East_wgs84",
             "isEditable": true,
             "label": "East_wgs84",
             "visible": true
            },
            {
             "fieldName": "North_wgs8",
             "isEditable": true,
             "label": "North_wgs8",
             "visible": true
            },
            {
             "fieldName": "active",
             "isEditable": true,
             "label": "active",
             "visible": true
            },
            {
             "fieldName": "start_date",
             "isEditable": true,
             "label": "start_date",
             "visible": true
            },
            {
             "fieldName": "end_date_2",
             "isEditable": true,
             "label": "end_date_2",
             "visible": true
            },
            {
             "fieldName": "Shape__Area",
             "isEditable": true,
             "label": "Shape__Area",
             "visible": true
            },
            {
             "fieldName": "Shape__Length",
             "isEditable": true,
             "label": "Shape__Length",
             "visible": true
            },
            {
             "fieldName": "GlobalID",
             "isEditable": true,
             "label": "GlobalID",
             "visible": true
            },
            {
             "fieldName": "deltaDays",
             "isEditable": true,
             "label": "Days",
             "visible": true
            },
            {
             "fieldName": "time_filter_2",
             "isEditable": true,
             "label": "time_filter_2",
             "visible": true
            }
           ],
           "mediaInfos": [],
           "showAttachments": true,
           "title": "Raze_and_Rebuild_Before"
          },
          "title": "Raze_and_Rebuild_Before",
          "url": "https://services1.arcgis.com/yAQXemoDSgzdfV2A/arcgis/rest/services/Raze_and_Rebuild_Before/FeatureServer/0",
          "visibility": true
         },
         {
          "id": "8777901805889",
          "itemId": "748ca71771464087844115ea62c25309",
          "layerDefinition": {
           "definitionExpression": null,
           "drawingInfo": {
            "renderer": {
             "symbol": {
              "color": [
               79,
               129,
               189,
               255
              ],
              "outline": {
               "color": [
                54,
                93,
                141,
                255
               ],
               "style": "esriSLSSolid",
               "type": "esriSLS",
               "width": 1.5
              },
              "style": "esriSFSSolid",
              "type": "esriSFS"
             },
             "type": "simple"
            }
           }
          },
          "layerType": "ArcGISFeatureLayer",
          "opacity": 1,
          "popupInfo": {
           "description": null,
           "fieldInfos": [
            {
             "fieldName": "OBJECTID",
             "isEditable": false,
             "label": "OBJECTID",
             "visible": true
            },
            {
             "fieldName": "fid_1",
             "isEditable": true,
             "label": "fid_1",
             "visible": true
            },
            {
             "fieldName": "Area",
             "isEditable": true,
             "label": "Area",
             "visible": true
            },
            {
             "fieldName": "floors",
             "isEditable": true,
             "label": "floors",
             "visible": true
            },
            {
             "fieldName": "height",
             "isEditable": true,
             "label": "height",
             "visible": true
            },
            {
             "fieldName": "bld_num",
             "isEditable": true,
             "label": "bld_num",
             "visible": true
            },
            {
             "fieldName": "bld_addres",
             "isEditable": true,
             "label": "bld_addres",
             "visible": true
            },
            {
             "fieldName": "hebrew_adr",
             "isEditable": true,
             "label": "hebrew_adr",
             "visible": true
            },
            {
             "fieldName": "project_nu",
             "isEditable": true,
             "label": "project_nu",
             "visible": true
            },
            {
             "fieldName": "units",
             "isEditable": true,
             "label": "units",
             "visible": true
            },
            {
             "fieldName": "project_na",
             "isEditable": true,
             "label": "project_na",
             "visible": true
            },
            {
             "fieldName": "project_ty",
             "isEditable": true,
             "label": "project_ty",
             "visible": true
            },
            {
             "fieldName": "status",
             "isEditable": true,
             "label": "status",
             "visible": true
            },
            {
             "fieldName": "East",
             "isEditable": true,
             "label": "East",
             "visible": true
            },
            {
             "fieldName": "North",
             "isEditable": true,
             "label": "North",
             "visible": true
            },
            {
             "fieldName": "East_wgs84",
             "isEditable": true,
             "label": "East_wgs84",
             "visible": true
            },
            {
             "fieldName": "North_wgs8",
             "isEditable": true,
             "label": "North_wgs8",
             "visible": true
            },
            {
             "fieldName": "active",
             "isEditable": true,
             "label": "active",
             "visible": true
            },
            {
             "fieldName": "start_date",
             "isEditable": true,
             "label": "start_date",
             "visible": true
            },
            {
             "fieldName": "end_date_2",
             "isEditable": true,
             "label": "end_date_2",
             "visible": true
            },
            {
             "fieldName": "Shape__Area",
             "isEditable": true,
             "label": "Shape__Area",
             "visible": true
            },
            {
             "fieldName": "Shape__Length",
             "isEditable": true,
             "label": "Shape__Length",
             "visible": true
            },
            {
             "fieldName": "GlobalID",
             "isEditable": true,
             "label": "GlobalID",
             "visible": true
            },
            {
             "fieldName": "deltaDays",
             "isEditable": true,
             "label": "Days",
             "visible": true
            },
            {
             "fieldName": "time_filter_2",
             "isEditable": true,
             "label": "time_filter_2",
             "visible": true
            }
           ],
           "mediaInfos": [],
           "showAttachments": true,
           "title": "Raze_and_Rebuild_After"
          },
          "title": "Raze_and_Rebuild_After",
          "url": "https://services1.arcgis.com/yAQXemoDSgzdfV2A/arcgis/rest/services/Raze_and_Rebuild_After/FeatureServer/0",
          "visibility": true
         },
         {
          "id": "8777901679629",
          "itemId": "49d0351f66e341d388eb086c8e575720",
          "layerDefinition": {
           "definitionExpression": null,
           "drawingInfo": {
            "renderer": {
             "symbol": {
              "color": [
               133,
               133,
               133,
               191
              ],
              "outline": {
               "color": [
                0,
                0,
                0,
                255
               ],
               "style": "esriSLSSolid",
               "type": "esriSLS",
               "width": 0.75
              },
              "style": "esriSFSSolid",
              "type": "esriSFS"
             },
             "type": "simple"
            }
           }
          },
          "layerType": "ArcGISFeatureLayer",
          "opacity": 1,
          "popupInfo": {
           "description": null,
           "fieldInfos": [
            {
             "fieldName": "Area",
             "isEditable": true,
             "label": "Area",
             "visible": true
            },
            {
             "fieldName": "floors",
             "isEditable": true,
             "label": "floors",
             "visible": true
            },
            {
             "fieldName": "height",
             "isEditable": true,
             "label": "height",
             "visible": true
            },
            {
             "fieldName": "bld_num",
             "isEditable": true,
             "label": "bld_num",
             "visible": true
            },
            {
             "fieldName": "newUnits",
             "isEditable": true,
             "label": "newUnits",
             "visible": true
            },
            {
             "fieldName": "ObjectId",
             "isEditable": false,
             "label": "",
             "visible": true
            },
            {
             "fieldName": "Shape__Area",
             "isEditable": false,
             "label": "Shape__Area",
             "visible": true
            },
            {
             "fieldName": "Shape__Length",
             "isEditable": false,
             "label": "Shape__Length",
             "visible": true
            }
           ],
           "mediaInfos": [],
           "showAttachments": true,
           "title": "Background_Buildings_in_3_Statistical_Zones_0"
          },
          "title": "Background_Buildings_in_3_Statistical_Zones_0",
          "url": "https://services1.arcgis.com/yAQXemoDSgzdfV2A/arcgis/rest/services/Background_Buildings_in_3_Statistical_Zones/FeatureServer/0",
          "visibility": true
         }
        ],
        "spatialReference": {
         "latestWkid": 3857,
         "wkid": 102100
        },
        "version": "2.10"
       },
       "_writeonly_end_time": "1900-01-01T00:00:00.000000",
       "_writeonly_start_time": "1900-01-01T00:00:00.000000",
       "hide_mode_switch": true,
       "layout": "IPY_MODEL_e437a38fa7a54bff900fbbf7c1265f8d",
       "print_service_url": ""
      }
     },
     "53a8191693704288843d79e82d084715": {
      "model_module": "@jupyter-widgets/controls",
      "model_module_version": "1.5.0",
      "model_name": "HTMLModel",
      "state": {
       "layout": "IPY_MODEL_6fce185b909849dca053ae3be6380883",
       "style": "IPY_MODEL_f2dfa442f8ec466297ee8d8a196383b7",
       "value": "<h2>Execution: 9 &nbsp; Project Number: 502-0196659<br/> Hebrew Address: רוטשילד 7, בת ים<br/>Project Type: Raze and Rebuild</h2>"
      }
     },
     "548de7a3c3c0434ea321883013a832b5": {
      "model_module": "@jupyter-widgets/output",
      "model_module_version": "1.0.0",
      "model_name": "OutputModel",
      "state": {
       "layout": "IPY_MODEL_2b633600ba13435ea662bc117c10eec9",
       "outputs": [
        {
         "data": {
          "text/html": "<html>\n<head><meta charset=\"utf-8\" /></head>\n<body>\n    <div>            <script src=\"https://cdnjs.cloudflare.com/ajax/libs/mathjax/2.7.5/MathJax.js?config=TeX-AMS-MML_SVG\"></script><script type=\"text/javascript\">if (window.MathJax) {MathJax.Hub.Config({SVG: {font: \"STIX-Web\"}});}</script>                <script type=\"text/javascript\">window.PlotlyConfig = {MathJaxConfig: 'local'};</script>\n        <script src=\"https://cdn.plot.ly/plotly-latest.min.js\"></script>                <div id=\"94b0964a-4bef-4b58-865a-6b0d509313a3\" class=\"plotly-graph-div\" style=\"height:400px; width:600px;\"></div>            <script type=\"text/javascript\">                                    window.PLOTLYENV=window.PLOTLYENV || {};                                    if (document.getElementById(\"94b0964a-4bef-4b58-865a-6b0d509313a3\")) {                    Plotly.newPlot(                        \"94b0964a-4bef-4b58-865a-6b0d509313a3\",                        [{\"hovertemplate\": \"who=Leaving Owners<br>x=%{x}<br>y=%{y}<br>Agents=%{marker.size}<extra></extra>\", \"legendgroup\": \"Leaving Owners\", \"marker\": {\"color\": \"cornflowerblue\", \"line\": {\"color\": \"DarkSlateGrey\", \"width\": 2}, \"size\": [62.0], \"sizemode\": \"area\", \"sizeref\": 0.224, \"symbol\": \"circle\"}, \"mode\": \"markers\", \"name\": \"Leaving Owners\", \"orientation\": \"v\", \"showlegend\": true, \"type\": \"scatter\", \"x\": [1.0], \"xaxis\": \"x\", \"y\": [1.25], \"yaxis\": \"y\"}, {\"hovertemplate\": \"who=Leaving Renters<br>x=%{x}<br>y=%{y}<br>Agents=%{marker.size}<extra></extra>\", \"legendgroup\": \"Leaving Renters\", \"marker\": {\"color\": \"lightgreen\", \"line\": {\"color\": \"DarkSlateGrey\", \"width\": 2}, \"size\": [90.0], \"sizemode\": \"area\", \"sizeref\": 0.224, \"symbol\": \"circle\"}, \"mode\": \"markers\", \"name\": \"Leaving Renters\", \"orientation\": \"v\", \"showlegend\": true, \"type\": \"scatter\", \"x\": [1.0], \"xaxis\": \"x\", \"y\": [1.85], \"yaxis\": \"y\"}, {\"hovertemplate\": \"who=Total Before<br>x=%{x}<br>y=%{y}<br>Agents=%{marker.size}<extra></extra>\", \"legendgroup\": \"Total Before\", \"marker\": {\"color\": \"lemonchiffon\", \"line\": {\"color\": \"DarkSlateGrey\", \"width\": 2}, \"size\": [200.0], \"sizemode\": \"area\", \"sizeref\": 0.224, \"symbol\": \"circle\"}, \"mode\": \"markers\", \"name\": \"Total Before\", \"orientation\": \"v\", \"showlegend\": true, \"type\": \"scatter\", \"x\": [2.5], \"xaxis\": \"x\", \"y\": [1.5], \"yaxis\": \"y\"}, {\"hovertemplate\": \"who=Surviving Owners<br>x=%{x}<br>y=%{y}<br>Agents=%{marker.size}<extra></extra>\", \"legendgroup\": \"Surviving Owners\", \"marker\": {\"color\": \"lightskyblue\", \"line\": {\"color\": \"DarkSlateGrey\", \"width\": 2}, \"size\": [48.0], \"sizemode\": \"area\", \"sizeref\": 0.224, \"symbol\": \"circle\"}, \"mode\": \"markers\", \"name\": \"Surviving Owners\", \"orientation\": \"v\", \"showlegend\": true, \"type\": \"scatter\", \"x\": [2.5], \"xaxis\": \"x\", \"y\": [1.5], \"yaxis\": \"y\"}, {\"hovertemplate\": \"who=New Renters<br>x=%{x}<br>y=%{y}<br>Agents=%{marker.size}<extra></extra>\", \"legendgroup\": \"New Renters\", \"marker\": {\"color\": \"green\", \"line\": {\"color\": \"DarkSlateGrey\", \"width\": 2}, \"size\": [179.0], \"sizemode\": \"area\", \"sizeref\": 0.224, \"symbol\": \"circle\"}, \"mode\": \"markers\", \"name\": \"New Renters\", \"orientation\": \"v\", \"showlegend\": true, \"type\": \"scatter\", \"x\": [2.0], \"xaxis\": \"x\", \"y\": [2.25], \"yaxis\": \"y\"}, {\"hovertemplate\": \"who=New Owners<br>x=%{x}<br>y=%{y}<br>Agents=%{marker.size}<extra></extra>\", \"legendgroup\": \"New Owners\", \"marker\": {\"color\": \"deepskyblue\", \"line\": {\"color\": \"DarkSlateGrey\", \"width\": 2}, \"size\": [333.0], \"sizemode\": \"area\", \"sizeref\": 0.224, \"symbol\": \"circle\"}, \"mode\": \"markers\", \"name\": \"New Owners\", \"orientation\": \"v\", \"showlegend\": true, \"type\": \"scatter\", \"x\": [4.0], \"xaxis\": \"x\", \"y\": [2.25], \"yaxis\": \"y\"}, {\"hovertemplate\": \"who=Total After<br>x=%{x}<br>y=%{y}<br>Agents=%{marker.size}<extra></extra>\", \"legendgroup\": \"Total After\", \"marker\": {\"color\": \"white\", \"line\": {\"color\": \"DarkSlateGrey\", \"width\": 2}, \"size\": [560.0], \"sizemode\": \"area\", \"sizeref\": 0.224, \"symbol\": \"circle\"}, \"mode\": \"markers\", \"name\": \"Total After\", \"orientation\": \"v\", \"showlegend\": true, \"type\": \"scatter\", \"x\": [5.0], \"xaxis\": \"x\", \"y\": [1.5], \"yaxis\": \"y\"}, {\"marker\": {\"line\": {\"color\": \"DarkSlateGrey\", \"width\": 2}}, \"mode\": \"text\", \"text\": [62.0, 90.0, 200.0, 48.0, 179.0, 333.0, 560.0], \"type\": \"scatter\", \"x\": [1.0, 1.0, 2.5, 2.5, 2.0, 4.0, 5.0], \"y\": [1.25, 1.85, 1.5, 1.5, 2.25, 2.25, 1.5]}],                        {\"annotations\": [{\"arrowcolor\": \"lightgray\", \"arrowhead\": 3, \"arrowsize\": 1, \"arrowwidth\": 3, \"ax\": 2.5, \"axref\": \"x\", \"ay\": 1.5, \"ayref\": \"y\", \"showarrow\": true, \"text\": \"\", \"x\": 1, \"xref\": \"x\", \"y\": 1.25, \"yref\": \"y\"}, {\"arrowcolor\": \"lightgray\", \"arrowhead\": 3, \"arrowsize\": 1, \"arrowwidth\": 3, \"ax\": 2.5, \"axref\": \"x\", \"ay\": 1.5, \"ayref\": \"y\", \"showarrow\": true, \"text\": \"\", \"x\": 1, \"xref\": \"x\", \"y\": 1.85, \"yref\": \"y\"}, {\"arrowcolor\": \"lightgray\", \"arrowhead\": 3, \"arrowsize\": 1, \"arrowwidth\": 3, \"ax\": 4, \"axref\": \"x\", \"ay\": 2.25, \"ayref\": \"y\", \"showarrow\": true, \"text\": \"\", \"x\": 5, \"xref\": \"x\", \"y\": 1.5, \"yref\": \"y\"}, {\"arrowcolor\": \"lightgray\", \"arrowhead\": 3, \"arrowsize\": 1, \"arrowwidth\": 3, \"ax\": 2, \"axref\": \"x\", \"ay\": 2.25, \"ayref\": \"y\", \"showarrow\": true, \"text\": \"\", \"x\": 5, \"xref\": \"x\", \"y\": 1.5, \"yref\": \"y\"}, {\"arrowcolor\": \"lightgray\", \"arrowhead\": 3, \"arrowsize\": 1, \"arrowwidth\": 3, \"ax\": 2.5, \"axref\": \"x\", \"ay\": 1.5, \"ayref\": \"y\", \"showarrow\": true, \"text\": \"\", \"x\": 5, \"xref\": \"x\", \"y\": 1.5, \"yref\": \"y\"}], \"height\": 400, \"legend\": {\"itemsizing\": \"constant\", \"title\": {\"text\": \"who\"}, \"tracegroupgap\": 0, \"x\": 0.95, \"xanchor\": \"left\", \"y\": 0.95, \"yanchor\": \"top\"}, \"margin\": {\"b\": 0, \"l\": 0, \"r\": 0, \"t\": 60}, \"plot_bgcolor\": \"white\", \"template\": {\"data\": {\"bar\": [{\"error_x\": {\"color\": \"#2a3f5f\"}, \"error_y\": {\"color\": \"#2a3f5f\"}, \"marker\": {\"line\": {\"color\": \"#E5ECF6\", \"width\": 0.5}}, \"type\": \"bar\"}], \"barpolar\": [{\"marker\": {\"line\": {\"color\": \"#E5ECF6\", \"width\": 0.5}}, \"type\": \"barpolar\"}], \"carpet\": [{\"aaxis\": {\"endlinecolor\": \"#2a3f5f\", \"gridcolor\": \"white\", \"linecolor\": \"white\", \"minorgridcolor\": \"white\", \"startlinecolor\": \"#2a3f5f\"}, \"baxis\": {\"endlinecolor\": \"#2a3f5f\", \"gridcolor\": \"white\", \"linecolor\": \"white\", \"minorgridcolor\": \"white\", \"startlinecolor\": \"#2a3f5f\"}, \"type\": \"carpet\"}], \"choropleth\": [{\"colorbar\": {\"outlinewidth\": 0, \"ticks\": \"\"}, \"type\": \"choropleth\"}], \"contour\": [{\"colorbar\": {\"outlinewidth\": 0, \"ticks\": \"\"}, \"colorscale\": [[0.0, \"#0d0887\"], [0.1111111111111111, \"#46039f\"], [0.2222222222222222, \"#7201a8\"], [0.3333333333333333, \"#9c179e\"], [0.4444444444444444, \"#bd3786\"], [0.5555555555555556, \"#d8576b\"], [0.6666666666666666, \"#ed7953\"], [0.7777777777777778, \"#fb9f3a\"], [0.8888888888888888, \"#fdca26\"], [1.0, \"#f0f921\"]], \"type\": \"contour\"}], \"contourcarpet\": [{\"colorbar\": {\"outlinewidth\": 0, \"ticks\": \"\"}, \"type\": \"contourcarpet\"}], \"heatmap\": [{\"colorbar\": {\"outlinewidth\": 0, \"ticks\": \"\"}, \"colorscale\": [[0.0, \"#0d0887\"], [0.1111111111111111, \"#46039f\"], [0.2222222222222222, \"#7201a8\"], [0.3333333333333333, \"#9c179e\"], [0.4444444444444444, \"#bd3786\"], [0.5555555555555556, \"#d8576b\"], [0.6666666666666666, \"#ed7953\"], [0.7777777777777778, \"#fb9f3a\"], [0.8888888888888888, \"#fdca26\"], [1.0, \"#f0f921\"]], \"type\": \"heatmap\"}], \"heatmapgl\": [{\"colorbar\": {\"outlinewidth\": 0, \"ticks\": \"\"}, \"colorscale\": [[0.0, \"#0d0887\"], [0.1111111111111111, \"#46039f\"], [0.2222222222222222, \"#7201a8\"], [0.3333333333333333, \"#9c179e\"], [0.4444444444444444, \"#bd3786\"], [0.5555555555555556, \"#d8576b\"], [0.6666666666666666, \"#ed7953\"], [0.7777777777777778, \"#fb9f3a\"], [0.8888888888888888, \"#fdca26\"], [1.0, \"#f0f921\"]], \"type\": \"heatmapgl\"}], \"histogram\": [{\"marker\": {\"colorbar\": {\"outlinewidth\": 0, \"ticks\": \"\"}}, \"type\": \"histogram\"}], \"histogram2d\": [{\"colorbar\": {\"outlinewidth\": 0, \"ticks\": \"\"}, \"colorscale\": [[0.0, \"#0d0887\"], [0.1111111111111111, \"#46039f\"], [0.2222222222222222, \"#7201a8\"], [0.3333333333333333, \"#9c179e\"], [0.4444444444444444, \"#bd3786\"], [0.5555555555555556, \"#d8576b\"], [0.6666666666666666, \"#ed7953\"], [0.7777777777777778, \"#fb9f3a\"], [0.8888888888888888, \"#fdca26\"], [1.0, \"#f0f921\"]], \"type\": \"histogram2d\"}], \"histogram2dcontour\": [{\"colorbar\": {\"outlinewidth\": 0, \"ticks\": \"\"}, \"colorscale\": [[0.0, \"#0d0887\"], [0.1111111111111111, \"#46039f\"], [0.2222222222222222, \"#7201a8\"], [0.3333333333333333, \"#9c179e\"], [0.4444444444444444, \"#bd3786\"], [0.5555555555555556, \"#d8576b\"], [0.6666666666666666, \"#ed7953\"], [0.7777777777777778, \"#fb9f3a\"], [0.8888888888888888, \"#fdca26\"], [1.0, \"#f0f921\"]], \"type\": \"histogram2dcontour\"}], \"mesh3d\": [{\"colorbar\": {\"outlinewidth\": 0, \"ticks\": \"\"}, \"type\": \"mesh3d\"}], \"parcoords\": [{\"line\": {\"colorbar\": {\"outlinewidth\": 0, \"ticks\": \"\"}}, \"type\": \"parcoords\"}], \"pie\": [{\"automargin\": true, \"type\": \"pie\"}], \"scatter\": [{\"marker\": {\"colorbar\": {\"outlinewidth\": 0, \"ticks\": \"\"}}, \"type\": \"scatter\"}], \"scatter3d\": [{\"line\": {\"colorbar\": {\"outlinewidth\": 0, \"ticks\": \"\"}}, \"marker\": {\"colorbar\": {\"outlinewidth\": 0, \"ticks\": \"\"}}, \"type\": \"scatter3d\"}], \"scattercarpet\": [{\"marker\": {\"colorbar\": {\"outlinewidth\": 0, \"ticks\": \"\"}}, \"type\": \"scattercarpet\"}], \"scattergeo\": [{\"marker\": {\"colorbar\": {\"outlinewidth\": 0, \"ticks\": \"\"}}, \"type\": \"scattergeo\"}], \"scattergl\": [{\"marker\": {\"colorbar\": {\"outlinewidth\": 0, \"ticks\": \"\"}}, \"type\": \"scattergl\"}], \"scattermapbox\": [{\"marker\": {\"colorbar\": {\"outlinewidth\": 0, \"ticks\": \"\"}}, \"type\": \"scattermapbox\"}], \"scatterpolar\": [{\"marker\": {\"colorbar\": {\"outlinewidth\": 0, \"ticks\": \"\"}}, \"type\": \"scatterpolar\"}], \"scatterpolargl\": [{\"marker\": {\"colorbar\": {\"outlinewidth\": 0, \"ticks\": \"\"}}, \"type\": \"scatterpolargl\"}], \"scatterternary\": [{\"marker\": {\"colorbar\": {\"outlinewidth\": 0, \"ticks\": \"\"}}, \"type\": \"scatterternary\"}], \"surface\": [{\"colorbar\": {\"outlinewidth\": 0, \"ticks\": \"\"}, \"colorscale\": [[0.0, \"#0d0887\"], [0.1111111111111111, \"#46039f\"], [0.2222222222222222, \"#7201a8\"], [0.3333333333333333, \"#9c179e\"], [0.4444444444444444, \"#bd3786\"], [0.5555555555555556, \"#d8576b\"], [0.6666666666666666, \"#ed7953\"], [0.7777777777777778, \"#fb9f3a\"], [0.8888888888888888, \"#fdca26\"], [1.0, \"#f0f921\"]], \"type\": \"surface\"}], \"table\": [{\"cells\": {\"fill\": {\"color\": \"#EBF0F8\"}, \"line\": {\"color\": \"white\"}}, \"header\": {\"fill\": {\"color\": \"#C8D4E3\"}, \"line\": {\"color\": \"white\"}}, \"type\": \"table\"}]}, \"layout\": {\"annotationdefaults\": {\"arrowcolor\": \"#2a3f5f\", \"arrowhead\": 0, \"arrowwidth\": 1}, \"autotypenumbers\": \"strict\", \"coloraxis\": {\"colorbar\": {\"outlinewidth\": 0, \"ticks\": \"\"}}, \"colorscale\": {\"diverging\": [[0, \"#8e0152\"], [0.1, \"#c51b7d\"], [0.2, \"#de77ae\"], [0.3, \"#f1b6da\"], [0.4, \"#fde0ef\"], [0.5, \"#f7f7f7\"], [0.6, \"#e6f5d0\"], [0.7, \"#b8e186\"], [0.8, \"#7fbc41\"], [0.9, \"#4d9221\"], [1, \"#276419\"]], \"sequential\": [[0.0, \"#0d0887\"], [0.1111111111111111, \"#46039f\"], [0.2222222222222222, \"#7201a8\"], [0.3333333333333333, \"#9c179e\"], [0.4444444444444444, \"#bd3786\"], [0.5555555555555556, \"#d8576b\"], [0.6666666666666666, \"#ed7953\"], [0.7777777777777778, \"#fb9f3a\"], [0.8888888888888888, \"#fdca26\"], [1.0, \"#f0f921\"]], \"sequentialminus\": [[0.0, \"#0d0887\"], [0.1111111111111111, \"#46039f\"], [0.2222222222222222, \"#7201a8\"], [0.3333333333333333, \"#9c179e\"], [0.4444444444444444, \"#bd3786\"], [0.5555555555555556, \"#d8576b\"], [0.6666666666666666, \"#ed7953\"], [0.7777777777777778, \"#fb9f3a\"], [0.8888888888888888, \"#fdca26\"], [1.0, \"#f0f921\"]]}, \"colorway\": [\"#636efa\", \"#EF553B\", \"#00cc96\", \"#ab63fa\", \"#FFA15A\", \"#19d3f3\", \"#FF6692\", \"#B6E880\", \"#FF97FF\", \"#FECB52\"], \"font\": {\"color\": \"#2a3f5f\"}, \"geo\": {\"bgcolor\": \"white\", \"lakecolor\": \"white\", \"landcolor\": \"#E5ECF6\", \"showlakes\": true, \"showland\": true, \"subunitcolor\": \"white\"}, \"hoverlabel\": {\"align\": \"left\"}, \"hovermode\": \"closest\", \"mapbox\": {\"style\": \"light\"}, \"paper_bgcolor\": \"white\", \"plot_bgcolor\": \"#E5ECF6\", \"polar\": {\"angularaxis\": {\"gridcolor\": \"white\", \"linecolor\": \"white\", \"ticks\": \"\"}, \"bgcolor\": \"#E5ECF6\", \"radialaxis\": {\"gridcolor\": \"white\", \"linecolor\": \"white\", \"ticks\": \"\"}}, \"scene\": {\"xaxis\": {\"backgroundcolor\": \"#E5ECF6\", \"gridcolor\": \"white\", \"gridwidth\": 2, \"linecolor\": \"white\", \"showbackground\": true, \"ticks\": \"\", \"zerolinecolor\": \"white\"}, \"yaxis\": {\"backgroundcolor\": \"#E5ECF6\", \"gridcolor\": \"white\", \"gridwidth\": 2, \"linecolor\": \"white\", \"showbackground\": true, \"ticks\": \"\", \"zerolinecolor\": \"white\"}, \"zaxis\": {\"backgroundcolor\": \"#E5ECF6\", \"gridcolor\": \"white\", \"gridwidth\": 2, \"linecolor\": \"white\", \"showbackground\": true, \"ticks\": \"\", \"zerolinecolor\": \"white\"}}, \"shapedefaults\": {\"line\": {\"color\": \"#2a3f5f\"}}, \"ternary\": {\"aaxis\": {\"gridcolor\": \"white\", \"linecolor\": \"white\", \"ticks\": \"\"}, \"baxis\": {\"gridcolor\": \"white\", \"linecolor\": \"white\", \"ticks\": \"\"}, \"bgcolor\": \"#E5ECF6\", \"caxis\": {\"gridcolor\": \"white\", \"linecolor\": \"white\", \"ticks\": \"\"}}, \"title\": {\"x\": 0.05}, \"xaxis\": {\"automargin\": true, \"gridcolor\": \"white\", \"linecolor\": \"white\", \"ticks\": \"\", \"title\": {\"standoff\": 15}, \"zerolinecolor\": \"white\", \"zerolinewidth\": 2}, \"yaxis\": {\"automargin\": true, \"gridcolor\": \"white\", \"linecolor\": \"white\", \"ticks\": \"\", \"title\": {\"standoff\": 15}, \"zerolinecolor\": \"white\", \"zerolinewidth\": 2}}}, \"width\": 600, \"xaxis\": {\"anchor\": \"y\", \"domain\": [0.0, 1.0], \"showticklabels\": false, \"title\": {\"text\": \"x\"}, \"visible\": false}, \"yaxis\": {\"anchor\": \"x\", \"domain\": [0.0, 1.0], \"showticklabels\": false, \"title\": {\"text\": \"y\"}, \"visible\": false}},                        {\"responsive\": true}                    ).then(function(){\n                            \nvar gd = document.getElementById('94b0964a-4bef-4b58-865a-6b0d509313a3');\nvar x = new MutationObserver(function (mutations, observer) {{\n        var display = window.getComputedStyle(gd).display;\n        if (!display || display === 'none') {{\n            console.log([gd, 'removed!']);\n            Plotly.purge(gd);\n            observer.disconnect();\n        }}\n}});\n\n// Listen for the removal of the full notebook cells\nvar notebookContainer = gd.closest('#notebook-container');\nif (notebookContainer) {{\n    x.observe(notebookContainer, {childList: true});\n}}\n\n// Listen for the clearing of the current output cell\nvar outputEl = gd.closest('.output');\nif (outputEl) {{\n    x.observe(outputEl, {childList: true});\n}}\n\n                        })                };                            </script>        </div>\n</body>\n</html>"
         },
         "metadata": {},
         "output_type": "display_data"
        }
       ]
      }
     },
     "56ac1eb0315949b08f3927fcaf1347dc": {
      "model_module": "@jupyter-widgets/base",
      "model_module_version": "1.2.0",
      "model_name": "LayoutModel",
      "state": {}
     },
     "5c1560f6894847f7bc7ccd9e9b8b0f2d": {
      "model_module": "@jupyter-widgets/base",
      "model_module_version": "1.2.0",
      "model_name": "LayoutModel",
      "state": {}
     },
     "5ead1c1a820f4739a2d6e5eade1c2f60": {
      "model_module": "@jupyter-widgets/controls",
      "model_module_version": "1.5.0",
      "model_name": "VBoxModel",
      "state": {
       "_dom_classes": [
        "widget-interact"
       ],
       "children": [
        "IPY_MODEL_75ee292c74d14c1cab40fe8b9f620547",
        "IPY_MODEL_01350fae4b46473c9d04588646ccfbe8",
        "IPY_MODEL_d476d0a57679457b82183beff97871c3"
       ],
       "layout": "IPY_MODEL_335b72d186cf414da7c09bfe07f5ec42"
      }
     },
     "63eddf82889642d193a9a56ebc4fc842": {
      "model_module": "@jupyter-widgets/controls",
      "model_module_version": "1.5.0",
      "model_name": "HTMLModel",
      "state": {
       "layout": "IPY_MODEL_45261a647de540fc98ea9d850e5c26ec",
       "style": "IPY_MODEL_8eb2169c789a44219dfed0e2d43f847a",
       "value": "<div style='font-size:15px'><span><b>Apartment Size</b></span> Start Marker: <b>75.3  sq meters </b> End Marker <b> 85.8 sq meters</b><br/><span><b>Years in Neighborhood</b></span> Start Marker: <b>22.8  years </b> End Marker <b> 9.7 years</b><br/><span><b>Cost For Staying</b></span> Start Marker: <b>255.6  ₪ </b> End Marker <b> 4387.3 ₪</b><br/><span><b>Mean Income</b></span> Start Marker: <b>8164.0  ₪ </b> End Marker <b> 16433.4 ₪</b><br/></div>"
      }
     },
     "657a744b1a2f403583bd5d30a27a7cf0": {
      "model_module": "@jupyter-widgets/controls",
      "model_module_version": "1.5.0",
      "model_name": "VBoxModel",
      "state": {
       "_dom_classes": [
        "widget-interact"
       ],
       "children": [
        "IPY_MODEL_a9539947aed844d99fe1227bd672fada",
        "IPY_MODEL_b85b2cf403d649e7b9250186ded62981",
        "IPY_MODEL_7c8945bb29c54226addf5b6dc7c80788"
       ],
       "layout": "IPY_MODEL_b04c64398be2418ab76f8554f74268c0"
      }
     },
     "6640c331945342cc857ca6d736a87e39": {
      "model_module": "@jupyter-widgets/controls",
      "model_module_version": "1.5.0",
      "model_name": "DescriptionStyleModel",
      "state": {
       "description_width": ""
      }
     },
     "6c540cfcee994b01af8045ae4f67ae95": {
      "model_module": "@jupyter-widgets/controls",
      "model_module_version": "1.5.0",
      "model_name": "DescriptionStyleModel",
      "state": {
       "description_width": ""
      }
     },
     "6e26dd4bad9a44acad2c39ec485f5885": {
      "model_module": "@jupyter-widgets/base",
      "model_module_version": "1.2.0",
      "model_name": "LayoutModel",
      "state": {}
     },
     "6fce185b909849dca053ae3be6380883": {
      "model_module": "@jupyter-widgets/base",
      "model_module_version": "1.2.0",
      "model_name": "LayoutModel",
      "state": {}
     },
     "70c7bbf2ed914846868452472567a977": {
      "model_module": "@jupyter-widgets/base",
      "model_module_version": "1.2.0",
      "model_name": "LayoutModel",
      "state": {}
     },
     "715612cdbd694201b99a553f21301bc3": {
      "model_module": "@jupyter-widgets/controls",
      "model_module_version": "1.5.0",
      "model_name": "ButtonStyleModel",
      "state": {}
     },
     "728ad73135874462ae768a6e09183ea2": {
      "model_module": "@jupyter-widgets/controls",
      "model_module_version": "1.5.0",
      "model_name": "HTMLModel",
      "state": {
       "layout": "IPY_MODEL_a61e57eb1065422da80974b81bc2fa2c",
       "style": "IPY_MODEL_d8b4feb1f9db4e0bb358e0b7e55f5a38",
       "value": "<iframe src=\"https://technion-gis.maps.arcgis.com/apps/instant/3dviewer/index.html?appid=73d48240324e45eea139ea9e0c2fe6e1\" width=\"800\" height=\"450\" frameborder=\"0\" style=\"border:0\" allowfullscreen>iFrames are not supported on this page.</iframe>"
      }
     },
     "75ee292c74d14c1cab40fe8b9f620547": {
      "model_module": "@jupyter-widgets/controls",
      "model_module_version": "1.5.0",
      "model_name": "IntRangeSliderModel",
      "state": {
       "_model_name": "IntRangeSliderModel",
       "_view_name": "IntRangeSliderView",
       "continuous_update": false,
       "description": "Simulation Tics:",
       "layout": "IPY_MODEL_3138dd0a3f824a1d8776381ebe17ee7a",
       "max": 32,
       "style": "IPY_MODEL_a81f65cd8fb349a59ab722995d8e01c3",
       "value": [
        1,
        12
       ]
      }
     },
     "7c3f369ff3cf498eb82325b678e89910": {
      "model_module": "@jupyter-widgets/output",
      "model_module_version": "1.0.0",
      "model_name": "OutputModel",
      "state": {
       "layout": "IPY_MODEL_11d218c7c0f14e3b86450bc32d47b181",
       "outputs": [
        {
         "data": {
          "application/vnd.jupyter.widget-view+json": {
           "model_id": "63eddf82889642d193a9a56ebc4fc842",
           "version_major": 2,
           "version_minor": 0
          },
          "text/plain": "HTML(value=\"<div style='font-size:15px'><span><b>Apartment Size</b></span> Start Marker: <b>75.3  sq meters </…"
         },
         "metadata": {},
         "output_type": "display_data"
        }
       ]
      }
     },
     "7c8945bb29c54226addf5b6dc7c80788": {
      "model_module": "@jupyter-widgets/output",
      "model_module_version": "1.0.0",
      "model_name": "OutputModel",
      "state": {
       "layout": "IPY_MODEL_a5c273114b3b40b4bed049b6e93fafc7",
       "outputs": [
        {
         "data": {
          "application/vnd.jupyter.widget-view+json": {
           "model_id": "32735857469b4a8e808f6bd67dec6407",
           "version_major": 2,
           "version_minor": 0
          },
          "text/plain": "HTML(value='<h2>Execution: 9 &nbsp; Project Number: 502-0196659<br/> Hebrew Address: רוטשילד 7, בת ים<br/>Proj…"
         },
         "metadata": {},
         "output_type": "display_data"
        }
       ]
      }
     },
     "7d5997712084412bb525a1cd51a9c574": {
      "model_module": "@jupyter-widgets/base",
      "model_module_version": "1.2.0",
      "model_name": "LayoutModel",
      "state": {}
     },
     "7e23c98eb1524eab97a68266ce9d309f": {
      "model_module": "@jupyter-widgets/base",
      "model_module_version": "1.2.0",
      "model_name": "LayoutModel",
      "state": {
       "height": "400px",
       "width": "100%"
      }
     },
     "8815d25512c24d36b497960d34b29bdb": {
      "model_module": "@jupyter-widgets/controls",
      "model_module_version": "1.5.0",
      "model_name": "SliderStyleModel",
      "state": {
       "description_width": "initial"
      }
     },
     "8b4a12b1876241cf9aafe1bcd544f0b6": {
      "model_module": "@jupyter-widgets/controls",
      "model_module_version": "1.5.0",
      "model_name": "HTMLModel",
      "state": {
       "layout": "IPY_MODEL_39531f11253543dbac6549034988c82d",
       "style": "IPY_MODEL_6640c331945342cc857ca6d736a87e39",
       "value": "<h2>Execution: 12 &nbsp; Project Number: 20140231<br/> Hebrew Address: ארלוזורוב 6, בת ים<br/>Project Type: Reconstruction</h2>"
      }
     },
     "8c5b8bdc377c432ba17741d2bd8b29bd": {
      "model_module": "@jupyter-widgets/base",
      "model_module_version": "1.2.0",
      "model_name": "LayoutModel",
      "state": {}
     },
     "8cef9ef563af4f759e115c9c4ce17734": {
      "model_module": "@jupyter-widgets/output",
      "model_module_version": "1.0.0",
      "model_name": "OutputModel",
      "state": {
       "layout": "IPY_MODEL_cf97f417cd1941798a8f1c9d6bfe8dc1",
       "outputs": [
        {
         "data": {
          "text/html": "<html>\n<head><meta charset=\"utf-8\" /></head>\n<body>\n    <div>            <script src=\"https://cdnjs.cloudflare.com/ajax/libs/mathjax/2.7.5/MathJax.js?config=TeX-AMS-MML_SVG\"></script><script type=\"text/javascript\">if (window.MathJax) {MathJax.Hub.Config({SVG: {font: \"STIX-Web\"}});}</script>                <script type=\"text/javascript\">window.PlotlyConfig = {MathJaxConfig: 'local'};</script>\n        <script src=\"https://cdn.plot.ly/plotly-latest.min.js\"></script>                <div id=\"3f637ffe-050f-406b-b68d-05a6fda3267c\" class=\"plotly-graph-div\" style=\"height:300px; width:600px;\"></div>            <script type=\"text/javascript\">                                    window.PLOTLYENV=window.PLOTLYENV || {};                                    if (document.getElementById(\"3f637ffe-050f-406b-b68d-05a6fda3267c\")) {                    Plotly.newPlot(                        \"3f637ffe-050f-406b-b68d-05a6fda3267c\",                        [{\"alignmentgroup\": \"True\", \"hovertemplate\": \"beforeAfter=Before<br>bldCount=%{x}<br>floors=%{y}<extra></extra>\", \"legendgroup\": \"Before\", \"marker\": {\"color\": \"#636efa\", \"line\": {\"color\": \"DarkSlateGrey\", \"width\": 2}}, \"name\": \"Before\", \"offsetgroup\": \"Before\", \"orientation\": \"v\", \"showlegend\": true, \"textposition\": \"auto\", \"type\": \"bar\", \"x\": [1], \"xaxis\": \"x\", \"y\": [4.0], \"yaxis\": \"y\"}, {\"alignmentgroup\": \"True\", \"hovertemplate\": \"beforeAfter=after<br>bldCount=%{x}<br>floors=%{y}<extra></extra>\", \"legendgroup\": \"after\", \"marker\": {\"color\": \"#EF553B\", \"line\": {\"color\": \"DarkSlateGrey\", \"width\": 2}}, \"name\": \"after\", \"offsetgroup\": \"after\", \"orientation\": \"v\", \"showlegend\": true, \"textposition\": \"auto\", \"type\": \"bar\", \"x\": [1], \"xaxis\": \"x2\", \"y\": [9.0], \"yaxis\": \"y2\"}],                        {\"annotations\": [{\"font\": {}, \"showarrow\": false, \"text\": \"beforeAfter=Before\", \"x\": 0.245, \"xanchor\": \"center\", \"xref\": \"paper\", \"y\": 1.0, \"yanchor\": \"bottom\", \"yref\": \"paper\"}, {\"font\": {}, \"showarrow\": false, \"text\": \"beforeAfter=after\", \"x\": 0.755, \"xanchor\": \"center\", \"xref\": \"paper\", \"y\": 1.0, \"yanchor\": \"bottom\", \"yref\": \"paper\"}], \"barmode\": \"relative\", \"height\": 300, \"legend\": {\"title\": {\"text\": \"beforeAfter\"}, \"tracegroupgap\": 0, \"x\": 0.05, \"xanchor\": \"left\", \"y\": 0.95, \"yanchor\": \"top\"}, \"margin\": {\"b\": 0, \"l\": 0, \"r\": 0, \"t\": 60}, \"plot_bgcolor\": \"oldlace\", \"template\": {\"data\": {\"bar\": [{\"error_x\": {\"color\": \"#2a3f5f\"}, \"error_y\": {\"color\": \"#2a3f5f\"}, \"marker\": {\"line\": {\"color\": \"#E5ECF6\", \"width\": 0.5}}, \"type\": \"bar\"}], \"barpolar\": [{\"marker\": {\"line\": {\"color\": \"#E5ECF6\", \"width\": 0.5}}, \"type\": \"barpolar\"}], \"carpet\": [{\"aaxis\": {\"endlinecolor\": \"#2a3f5f\", \"gridcolor\": \"white\", \"linecolor\": \"white\", \"minorgridcolor\": \"white\", \"startlinecolor\": \"#2a3f5f\"}, \"baxis\": {\"endlinecolor\": \"#2a3f5f\", \"gridcolor\": \"white\", \"linecolor\": \"white\", \"minorgridcolor\": \"white\", \"startlinecolor\": \"#2a3f5f\"}, \"type\": \"carpet\"}], \"choropleth\": [{\"colorbar\": {\"outlinewidth\": 0, \"ticks\": \"\"}, \"type\": \"choropleth\"}], \"contour\": [{\"colorbar\": {\"outlinewidth\": 0, \"ticks\": \"\"}, \"colorscale\": [[0.0, \"#0d0887\"], [0.1111111111111111, \"#46039f\"], [0.2222222222222222, \"#7201a8\"], [0.3333333333333333, \"#9c179e\"], [0.4444444444444444, \"#bd3786\"], [0.5555555555555556, \"#d8576b\"], [0.6666666666666666, \"#ed7953\"], [0.7777777777777778, \"#fb9f3a\"], [0.8888888888888888, \"#fdca26\"], [1.0, \"#f0f921\"]], \"type\": \"contour\"}], \"contourcarpet\": [{\"colorbar\": {\"outlinewidth\": 0, \"ticks\": \"\"}, \"type\": \"contourcarpet\"}], \"heatmap\": [{\"colorbar\": {\"outlinewidth\": 0, \"ticks\": \"\"}, \"colorscale\": [[0.0, \"#0d0887\"], [0.1111111111111111, \"#46039f\"], [0.2222222222222222, \"#7201a8\"], [0.3333333333333333, \"#9c179e\"], [0.4444444444444444, \"#bd3786\"], [0.5555555555555556, \"#d8576b\"], [0.6666666666666666, \"#ed7953\"], [0.7777777777777778, \"#fb9f3a\"], [0.8888888888888888, \"#fdca26\"], [1.0, \"#f0f921\"]], \"type\": \"heatmap\"}], \"heatmapgl\": [{\"colorbar\": {\"outlinewidth\": 0, \"ticks\": \"\"}, \"colorscale\": [[0.0, \"#0d0887\"], [0.1111111111111111, \"#46039f\"], [0.2222222222222222, \"#7201a8\"], [0.3333333333333333, \"#9c179e\"], [0.4444444444444444, \"#bd3786\"], [0.5555555555555556, \"#d8576b\"], [0.6666666666666666, \"#ed7953\"], [0.7777777777777778, \"#fb9f3a\"], [0.8888888888888888, \"#fdca26\"], [1.0, \"#f0f921\"]], \"type\": \"heatmapgl\"}], \"histogram\": [{\"marker\": {\"colorbar\": {\"outlinewidth\": 0, \"ticks\": \"\"}}, \"type\": \"histogram\"}], \"histogram2d\": [{\"colorbar\": {\"outlinewidth\": 0, \"ticks\": \"\"}, \"colorscale\": [[0.0, \"#0d0887\"], [0.1111111111111111, \"#46039f\"], [0.2222222222222222, \"#7201a8\"], [0.3333333333333333, \"#9c179e\"], [0.4444444444444444, \"#bd3786\"], [0.5555555555555556, \"#d8576b\"], [0.6666666666666666, \"#ed7953\"], [0.7777777777777778, \"#fb9f3a\"], [0.8888888888888888, \"#fdca26\"], [1.0, \"#f0f921\"]], \"type\": \"histogram2d\"}], \"histogram2dcontour\": [{\"colorbar\": {\"outlinewidth\": 0, \"ticks\": \"\"}, \"colorscale\": [[0.0, \"#0d0887\"], [0.1111111111111111, \"#46039f\"], [0.2222222222222222, \"#7201a8\"], [0.3333333333333333, \"#9c179e\"], [0.4444444444444444, \"#bd3786\"], [0.5555555555555556, \"#d8576b\"], [0.6666666666666666, \"#ed7953\"], [0.7777777777777778, \"#fb9f3a\"], [0.8888888888888888, \"#fdca26\"], [1.0, \"#f0f921\"]], \"type\": \"histogram2dcontour\"}], \"mesh3d\": [{\"colorbar\": {\"outlinewidth\": 0, \"ticks\": \"\"}, \"type\": \"mesh3d\"}], \"parcoords\": [{\"line\": {\"colorbar\": {\"outlinewidth\": 0, \"ticks\": \"\"}}, \"type\": \"parcoords\"}], \"pie\": [{\"automargin\": true, \"type\": \"pie\"}], \"scatter\": [{\"marker\": {\"colorbar\": {\"outlinewidth\": 0, \"ticks\": \"\"}}, \"type\": \"scatter\"}], \"scatter3d\": [{\"line\": {\"colorbar\": {\"outlinewidth\": 0, \"ticks\": \"\"}}, \"marker\": {\"colorbar\": {\"outlinewidth\": 0, \"ticks\": \"\"}}, \"type\": \"scatter3d\"}], \"scattercarpet\": [{\"marker\": {\"colorbar\": {\"outlinewidth\": 0, \"ticks\": \"\"}}, \"type\": \"scattercarpet\"}], \"scattergeo\": [{\"marker\": {\"colorbar\": {\"outlinewidth\": 0, \"ticks\": \"\"}}, \"type\": \"scattergeo\"}], \"scattergl\": [{\"marker\": {\"colorbar\": {\"outlinewidth\": 0, \"ticks\": \"\"}}, \"type\": \"scattergl\"}], \"scattermapbox\": [{\"marker\": {\"colorbar\": {\"outlinewidth\": 0, \"ticks\": \"\"}}, \"type\": \"scattermapbox\"}], \"scatterpolar\": [{\"marker\": {\"colorbar\": {\"outlinewidth\": 0, \"ticks\": \"\"}}, \"type\": \"scatterpolar\"}], \"scatterpolargl\": [{\"marker\": {\"colorbar\": {\"outlinewidth\": 0, \"ticks\": \"\"}}, \"type\": \"scatterpolargl\"}], \"scatterternary\": [{\"marker\": {\"colorbar\": {\"outlinewidth\": 0, \"ticks\": \"\"}}, \"type\": \"scatterternary\"}], \"surface\": [{\"colorbar\": {\"outlinewidth\": 0, \"ticks\": \"\"}, \"colorscale\": [[0.0, \"#0d0887\"], [0.1111111111111111, \"#46039f\"], [0.2222222222222222, \"#7201a8\"], [0.3333333333333333, \"#9c179e\"], [0.4444444444444444, \"#bd3786\"], [0.5555555555555556, \"#d8576b\"], [0.6666666666666666, \"#ed7953\"], [0.7777777777777778, \"#fb9f3a\"], [0.8888888888888888, \"#fdca26\"], [1.0, \"#f0f921\"]], \"type\": \"surface\"}], \"table\": [{\"cells\": {\"fill\": {\"color\": \"#EBF0F8\"}, \"line\": {\"color\": \"white\"}}, \"header\": {\"fill\": {\"color\": \"#C8D4E3\"}, \"line\": {\"color\": \"white\"}}, \"type\": \"table\"}]}, \"layout\": {\"annotationdefaults\": {\"arrowcolor\": \"#2a3f5f\", \"arrowhead\": 0, \"arrowwidth\": 1}, \"autotypenumbers\": \"strict\", \"coloraxis\": {\"colorbar\": {\"outlinewidth\": 0, \"ticks\": \"\"}}, \"colorscale\": {\"diverging\": [[0, \"#8e0152\"], [0.1, \"#c51b7d\"], [0.2, \"#de77ae\"], [0.3, \"#f1b6da\"], [0.4, \"#fde0ef\"], [0.5, \"#f7f7f7\"], [0.6, \"#e6f5d0\"], [0.7, \"#b8e186\"], [0.8, \"#7fbc41\"], [0.9, \"#4d9221\"], [1, \"#276419\"]], \"sequential\": [[0.0, \"#0d0887\"], [0.1111111111111111, \"#46039f\"], [0.2222222222222222, \"#7201a8\"], [0.3333333333333333, \"#9c179e\"], [0.4444444444444444, \"#bd3786\"], [0.5555555555555556, \"#d8576b\"], [0.6666666666666666, \"#ed7953\"], [0.7777777777777778, \"#fb9f3a\"], [0.8888888888888888, \"#fdca26\"], [1.0, \"#f0f921\"]], \"sequentialminus\": [[0.0, \"#0d0887\"], [0.1111111111111111, \"#46039f\"], [0.2222222222222222, \"#7201a8\"], [0.3333333333333333, \"#9c179e\"], [0.4444444444444444, \"#bd3786\"], [0.5555555555555556, \"#d8576b\"], [0.6666666666666666, \"#ed7953\"], [0.7777777777777778, \"#fb9f3a\"], [0.8888888888888888, \"#fdca26\"], [1.0, \"#f0f921\"]]}, \"colorway\": [\"#636efa\", \"#EF553B\", \"#00cc96\", \"#ab63fa\", \"#FFA15A\", \"#19d3f3\", \"#FF6692\", \"#B6E880\", \"#FF97FF\", \"#FECB52\"], \"font\": {\"color\": \"#2a3f5f\"}, \"geo\": {\"bgcolor\": \"white\", \"lakecolor\": \"white\", \"landcolor\": \"#E5ECF6\", \"showlakes\": true, \"showland\": true, \"subunitcolor\": \"white\"}, \"hoverlabel\": {\"align\": \"left\"}, \"hovermode\": \"closest\", \"mapbox\": {\"style\": \"light\"}, \"paper_bgcolor\": \"white\", \"plot_bgcolor\": \"#E5ECF6\", \"polar\": {\"angularaxis\": {\"gridcolor\": \"white\", \"linecolor\": \"white\", \"ticks\": \"\"}, \"bgcolor\": \"#E5ECF6\", \"radialaxis\": {\"gridcolor\": \"white\", \"linecolor\": \"white\", \"ticks\": \"\"}}, \"scene\": {\"xaxis\": {\"backgroundcolor\": \"#E5ECF6\", \"gridcolor\": \"white\", \"gridwidth\": 2, \"linecolor\": \"white\", \"showbackground\": true, \"ticks\": \"\", \"zerolinecolor\": \"white\"}, \"yaxis\": {\"backgroundcolor\": \"#E5ECF6\", \"gridcolor\": \"white\", \"gridwidth\": 2, \"linecolor\": \"white\", \"showbackground\": true, \"ticks\": \"\", \"zerolinecolor\": \"white\"}, \"zaxis\": {\"backgroundcolor\": \"#E5ECF6\", \"gridcolor\": \"white\", \"gridwidth\": 2, \"linecolor\": \"white\", \"showbackground\": true, \"ticks\": \"\", \"zerolinecolor\": \"white\"}}, \"shapedefaults\": {\"line\": {\"color\": \"#2a3f5f\"}}, \"ternary\": {\"aaxis\": {\"gridcolor\": \"white\", \"linecolor\": \"white\", \"ticks\": \"\"}, \"baxis\": {\"gridcolor\": \"white\", \"linecolor\": \"white\", \"ticks\": \"\"}, \"bgcolor\": \"#E5ECF6\", \"caxis\": {\"gridcolor\": \"white\", \"linecolor\": \"white\", \"ticks\": \"\"}}, \"title\": {\"x\": 0.05}, \"xaxis\": {\"automargin\": true, \"gridcolor\": \"white\", \"linecolor\": \"white\", \"ticks\": \"\", \"title\": {\"standoff\": 15}, \"zerolinecolor\": \"white\", \"zerolinewidth\": 2}, \"yaxis\": {\"automargin\": true, \"gridcolor\": \"white\", \"linecolor\": \"white\", \"ticks\": \"\", \"title\": {\"standoff\": 15}, \"zerolinecolor\": \"white\", \"zerolinewidth\": 2}}}, \"width\": 600, \"xaxis\": {\"anchor\": \"y\", \"domain\": [0.0, 0.49], \"title\": {\"text\": \"bldCount\"}}, \"xaxis2\": {\"anchor\": \"y2\", \"domain\": [0.51, 1.0], \"matches\": \"x\", \"title\": {\"text\": \"bldCount\"}}, \"yaxis\": {\"anchor\": \"x\", \"domain\": [0.0, 1.0], \"title\": {\"text\": \"floors\"}}, \"yaxis2\": {\"anchor\": \"x2\", \"domain\": [0.0, 1.0], \"matches\": \"y\", \"showticklabels\": false}},                        {\"responsive\": true}                    ).then(function(){\n                            \nvar gd = document.getElementById('3f637ffe-050f-406b-b68d-05a6fda3267c');\nvar x = new MutationObserver(function (mutations, observer) {{\n        var display = window.getComputedStyle(gd).display;\n        if (!display || display === 'none') {{\n            console.log([gd, 'removed!']);\n            Plotly.purge(gd);\n            observer.disconnect();\n        }}\n}});\n\n// Listen for the removal of the full notebook cells\nvar notebookContainer = gd.closest('#notebook-container');\nif (notebookContainer) {{\n    x.observe(notebookContainer, {childList: true});\n}}\n\n// Listen for the clearing of the current output cell\nvar outputEl = gd.closest('.output');\nif (outputEl) {{\n    x.observe(outputEl, {childList: true});\n}}\n\n                        })                };                            </script>        </div>\n</body>\n</html>"
         },
         "metadata": {},
         "output_type": "display_data"
        }
       ]
      }
     },
     "8d063e5b6bff4c8fb5fe28ba0b30a12e": {
      "model_module": "arcgis-map-ipywidget",
      "model_module_version": "1.8.4",
      "model_name": "ArcGISMapIPyWidgetModel",
      "state": {
       "_auth_mode": "tokenBased",
       "_basemap": "default",
       "_draw_these_graphics_on_widget_load": [],
       "_draw_these_notype_layers_on_widget_load": [],
       "_extent": {
        "xmax": 34.7519,
        "xmin": 34.7389,
        "ymax": 32.0306,
        "ymin": 32.0238
       },
       "_gallery_basemaps": {
        "default": {
         "baseMapLayers": [
          {
           "layerType": "ArcGISTiledMapServiceLayer",
           "resourceInfo": {
            "capabilities": "Map,Tilemap,Query,Data",
            "copyrightText": "Sources: Esri, HERE, DeLorme, Intermap, increment P Corp., GEBCO, USGS, FAO, NPS, NRCAN, GeoBase, IGN, Kadaster NL, Ordnance Survey, Esri Japan, METI, Esri China (Hong Kong), swisstopo, MapmyIndia, Â© OpenStreetMap contributors, and the GIS User Community",
            "currentVersion": 10.3,
            "documentInfo": {
             "AntialiasingMode": "None",
             "Author": "Esri",
             "Category": "imageryBaseMapsEarthCover (Imagery, basemaps, and land cover)",
             "Comments": "",
             "Keywords": "World,Global,Europe,North America,South America,Southern Africa,Australia,New Zealand,India",
             "Subject": "topographic, topography, administrative boundaries, cities, water features, physiographic features, parks, landmarks, highways, roads, railways, airports, land cover, shaded relief imagery",
             "TextAntialiasingMode": "Force",
             "Title": "World Topographic Map"
            },
            "exportTilesAllowed": false,
            "fullExtent": {
             "spatialReference": {
              "latestWkid": 3857,
              "wkid": 102100
             },
             "xmax": 20037507.067161843,
             "xmin": -20037507.067161843,
             "ymax": 19971868.88040863,
             "ymin": -19971868.880408604
            },
            "initialExtent": {
             "spatialReference": {
              "latestWkid": 3857,
              "wkid": 102100
             },
             "xmax": 28848255.049479112,
             "xmin": -28848255.049479112,
             "ymax": 16430757.376790084,
             "ymin": -2077452.082122866
            },
            "layers": [
             {
              "defaultVisibility": false,
              "id": 0,
              "maxScale": 0,
              "minScale": 0,
              "name": "Citations",
              "parentLayerId": -1,
              "subLayerIds": null
             }
            ],
            "mapName": "Layers",
            "maxImageHeight": 4096,
            "maxImageWidth": 4096,
            "maxRecordCount": 100,
            "maxScale": 70.5310735,
            "minScale": 591657527.591555,
            "singleFusedMapCache": true,
            "spatialReference": {
             "latestWkid": 3857,
             "wkid": 102100
            },
            "supportedExtensions": "KmlServer",
            "supportedImageFormatTypes": "PNG32,PNG24,PNG,JPG,DIB,TIFF,EMF,PS,PDF,GIF,SVG,SVGZ,BMP",
            "supportedQueryFormats": "JSON, AMF",
            "supportsDynamicLayers": false,
            "tables": [],
            "tileInfo": {
             "cols": 256,
             "compressionQuality": 90,
             "dpi": 96,
             "format": "JPEG",
             "lods": [
              {
               "level": 0,
               "resolution": 156543.03392800014,
               "scale": 591657527.591555
              },
              {
               "level": 1,
               "resolution": 78271.51696399994,
               "scale": 295828763.795777
              },
              {
               "level": 2,
               "resolution": 39135.75848200009,
               "scale": 147914381.897889
              },
              {
               "level": 3,
               "resolution": 19567.87924099992,
               "scale": 73957190.948944
              },
              {
               "level": 4,
               "resolution": 9783.93962049996,
               "scale": 36978595.474472
              },
              {
               "level": 5,
               "resolution": 4891.96981024998,
               "scale": 18489297.737236
              },
              {
               "level": 6,
               "resolution": 2445.98490512499,
               "scale": 9244648.868618
              },
              {
               "level": 7,
               "resolution": 1222.992452562495,
               "scale": 4622324.434309
              },
              {
               "level": 8,
               "resolution": 611.4962262813797,
               "scale": 2311162.217155
              },
              {
               "level": 9,
               "resolution": 305.74811314055756,
               "scale": 1155581.108577
              },
              {
               "level": 10,
               "resolution": 152.87405657041106,
               "scale": 577790.554289
              },
              {
               "level": 11,
               "resolution": 76.43702828507324,
               "scale": 288895.277144
              },
              {
               "level": 12,
               "resolution": 38.21851414253662,
               "scale": 144447.638572
              },
              {
               "level": 13,
               "resolution": 19.10925707126831,
               "scale": 72223.819286
              },
              {
               "level": 14,
               "resolution": 9.554628535634155,
               "scale": 36111.909643
              },
              {
               "level": 15,
               "resolution": 4.77731426794937,
               "scale": 18055.954822
              },
              {
               "level": 16,
               "resolution": 2.388657133974685,
               "scale": 9027.977411
              },
              {
               "level": 17,
               "resolution": 1.1943285668550503,
               "scale": 4513.988705
              },
              {
               "level": 18,
               "resolution": 0.5971642835598172,
               "scale": 2256.994353
              },
              {
               "level": 19,
               "resolution": 0.29858214164761665,
               "scale": 1128.497176
              },
              {
               "level": 20,
               "resolution": 0.14929107082380833,
               "scale": 564.248588
              },
              {
               "level": 21,
               "resolution": 0.07464553541190416,
               "scale": 282.124294
              },
              {
               "level": 22,
               "resolution": 0.03732276770595208,
               "scale": 141.062147
              },
              {
               "level": 23,
               "resolution": 0.01866138385297604,
               "scale": 70.5310735
              }
             ],
             "origin": {
              "x": -20037508.342787,
              "y": 20037508.342787
             },
             "rows": 256,
             "spatialReference": {
              "latestWkid": 3857,
              "wkid": 102100
             }
            },
            "units": "esriMeters"
           },
           "title": "מפת טופוגרפיה עולמית",
           "url": "https://services.arcgisonline.com/ArcGIS/rest/services/World_Topo_Map/MapServer"
          }
         ],
         "title": "מפה טופוגרפית"
        }
       },
       "_overlay_these_images_on_widget_load": [],
       "_portal_sharing_rest_url": "https://Technion-GIS.maps.arcgis.com/sharing/rest/",
       "_portal_token": "761grilnZthTsgcssC4nNSGmZCOntYHdAXnQpd7A2sND8EUYPb1DW64X7vsmPQDaGmN9aAdjwI0s2umxXgdsJbRnsa8V3hhNqzWblyaDGZ3UQnkozZ1ZLItzEG11OlD-WkIv2dPWM-wSUWvqaq76OQQIDD9mQtq2VaCVg4OjO3Q.",
       "_portal_url": "https://Technion-GIS.maps.arcgis.com",
       "_username": "shai@technion",
       "_uuid": "89301b04-2078-40e4-bb4a-ba3fe1575093",
       "_webmap": {
        "authoringApp": "WebMapViewer",
        "authoringAppVersion": "8.4",
        "baseMap": {
         "baseMapLayers": [
          {
           "id": "layer0",
           "layerType": "ArcGISTiledMapServiceLayer",
           "opacity": 1,
           "title": "בסיס קנבס אפור כהה עולמי",
           "url": "https://services.arcgisonline.com/arcgis/rest/services/Canvas/World_Dark_Gray_Base/MapServer",
           "visibility": true
          },
          {
           "id": "World_Dark_Gray_Reference_8618",
           "isReference": true,
           "layerType": "ArcGISTiledMapServiceLayer",
           "opacity": 1,
           "title": "ייחוס אפור כהה עולמי",
           "url": "https://services.arcgisonline.com/arcgis/rest/services/Canvas/World_Dark_Gray_Reference/MapServer",
           "visibility": true
          }
         ],
         "title": "קנבס אפור כהה"
        },
        "operationalLayers": [
         {
          "id": "Raze_and_Rebuild_After_542",
          "itemId": "748ca71771464087844115ea62c25309",
          "layerType": "ArcGISFeatureLayer",
          "opacity": 0.75,
          "popupInfo": {
           "description": null,
           "fieldInfos": [
            {
             "fieldName": "OBJECTID",
             "isEditable": false,
             "label": "OBJECTID",
             "stringFieldOption": "textbox",
             "tooltip": "",
             "visible": false
            },
            {
             "fieldName": "fid_1",
             "format": {
              "digitSeparator": true,
              "places": 2
             },
             "isEditable": true,
             "label": "fid_1",
             "stringFieldOption": "textbox",
             "tooltip": "",
             "visible": true
            },
            {
             "fieldName": "Area",
             "format": {
              "digitSeparator": true,
              "places": 2
             },
             "isEditable": true,
             "label": "Area",
             "stringFieldOption": "textbox",
             "tooltip": "",
             "visible": true
            },
            {
             "fieldName": "floors",
             "format": {
              "digitSeparator": true,
              "places": 2
             },
             "isEditable": true,
             "label": "floors",
             "stringFieldOption": "textbox",
             "tooltip": "",
             "visible": true
            },
            {
             "fieldName": "height",
             "format": {
              "digitSeparator": true,
              "places": 2
             },
             "isEditable": true,
             "label": "height",
             "stringFieldOption": "textbox",
             "tooltip": "",
             "visible": true
            },
            {
             "fieldName": "bld_num",
             "format": {
              "digitSeparator": true,
              "places": 2
             },
             "isEditable": true,
             "label": "bld_num",
             "stringFieldOption": "textbox",
             "tooltip": "",
             "visible": true
            },
            {
             "fieldName": "bld_addres",
             "isEditable": true,
             "label": "bld_addres",
             "stringFieldOption": "textbox",
             "tooltip": "",
             "visible": true
            },
            {
             "fieldName": "hebrew_adr",
             "isEditable": true,
             "label": "hebrew_adr",
             "stringFieldOption": "textbox",
             "tooltip": "",
             "visible": true
            },
            {
             "fieldName": "project_nu",
             "isEditable": true,
             "label": "project_nu",
             "stringFieldOption": "textbox",
             "tooltip": "",
             "visible": true
            },
            {
             "fieldName": "units",
             "format": {
              "digitSeparator": true,
              "places": 2
             },
             "isEditable": true,
             "label": "units",
             "stringFieldOption": "textbox",
             "tooltip": "",
             "visible": true
            },
            {
             "fieldName": "project_na",
             "isEditable": true,
             "label": "project_na",
             "stringFieldOption": "textbox",
             "tooltip": "",
             "visible": true
            },
            {
             "fieldName": "project_ty",
             "format": {
              "digitSeparator": true,
              "places": 2
             },
             "isEditable": true,
             "label": "project_ty",
             "stringFieldOption": "textbox",
             "tooltip": "",
             "visible": true
            },
            {
             "fieldName": "status",
             "isEditable": true,
             "label": "status",
             "stringFieldOption": "textbox",
             "tooltip": "",
             "visible": true
            },
            {
             "fieldName": "East",
             "format": {
              "digitSeparator": true,
              "places": 2
             },
             "isEditable": true,
             "label": "East",
             "stringFieldOption": "textbox",
             "tooltip": "",
             "visible": true
            },
            {
             "fieldName": "North",
             "format": {
              "digitSeparator": true,
              "places": 2
             },
             "isEditable": true,
             "label": "North",
             "stringFieldOption": "textbox",
             "tooltip": "",
             "visible": true
            },
            {
             "fieldName": "East_wgs84",
             "format": {
              "digitSeparator": true,
              "places": 2
             },
             "isEditable": true,
             "label": "East_wgs84",
             "stringFieldOption": "textbox",
             "tooltip": "",
             "visible": true
            },
            {
             "fieldName": "North_wgs8",
             "format": {
              "digitSeparator": true,
              "places": 2
             },
             "isEditable": true,
             "label": "North_wgs8",
             "stringFieldOption": "textbox",
             "tooltip": "",
             "visible": true
            },
            {
             "fieldName": "active",
             "format": {
              "digitSeparator": true,
              "places": 0
             },
             "isEditable": true,
             "label": "active",
             "stringFieldOption": "textbox",
             "tooltip": "",
             "visible": true
            },
            {
             "fieldName": "start_date",
             "format": {
              "dateFormat": "shortDateShortTime"
             },
             "isEditable": true,
             "label": "start_date",
             "stringFieldOption": "textbox",
             "tooltip": "",
             "visible": true
            },
            {
             "fieldName": "end_date_2",
             "format": {
              "dateFormat": "shortDateShortTime"
             },
             "isEditable": true,
             "label": "end_date_2",
             "stringFieldOption": "textbox",
             "tooltip": "",
             "visible": true
            },
            {
             "fieldName": "Shape__Area",
             "format": {
              "digitSeparator": true,
              "places": 2
             },
             "isEditable": true,
             "label": "Shape__Area",
             "stringFieldOption": "textbox",
             "tooltip": "",
             "visible": false
            },
            {
             "fieldName": "Shape__Length",
             "format": {
              "digitSeparator": true,
              "places": 2
             },
             "isEditable": true,
             "label": "Shape__Length",
             "stringFieldOption": "textbox",
             "tooltip": "",
             "visible": false
            },
            {
             "fieldName": "GlobalID",
             "isEditable": false,
             "label": "GlobalID",
             "stringFieldOption": "textbox",
             "tooltip": "",
             "visible": false
            },
            {
             "fieldName": "deltaDays",
             "format": {
              "digitSeparator": true,
              "places": 0
             },
             "isEditable": true,
             "label": "Days",
             "stringFieldOption": "textbox",
             "tooltip": "",
             "visible": true
            },
            {
             "fieldName": "time_filter_2",
             "isEditable": true,
             "label": "time_filter_2",
             "stringFieldOption": "textbox",
             "tooltip": "",
             "visible": true
            }
           ],
           "mediaInfos": [],
           "showAttachments": true,
           "title": "Raze_and_Rebuild_After"
          },
          "title": "Raze_and_Rebuild_After",
          "url": "https://services1.arcgis.com/yAQXemoDSgzdfV2A/arcgis/rest/services/Raze_and_Rebuild_After/FeatureServer/0",
          "visibility": true
         },
         {
          "id": "Raze_and_Rebuild_Before_2492",
          "itemId": "f9d9f6e0ac704af5a17a4ef0445fd904",
          "layerDefinition": {
           "drawingInfo": {
            "renderer": {
             "symbol": {
              "color": [
               255,
               255,
               255,
               255
              ],
              "outline": {
               "color": [
                54,
                93,
                141,
                255
               ],
               "style": "esriSLSSolid",
               "type": "esriSLS",
               "width": 1.5
              },
              "style": "esriSFSSolid",
              "type": "esriSFS"
             },
             "type": "simple"
            }
           }
          },
          "layerType": "ArcGISFeatureLayer",
          "opacity": 0.75,
          "popupInfo": {
           "description": null,
           "fieldInfos": [
            {
             "fieldName": "OBJECTID",
             "isEditable": false,
             "label": "OBJECTID",
             "stringFieldOption": "textbox",
             "tooltip": "",
             "visible": false
            },
            {
             "fieldName": "fid_1",
             "format": {
              "digitSeparator": true,
              "places": 2
             },
             "isEditable": true,
             "label": "fid_1",
             "stringFieldOption": "textbox",
             "tooltip": "",
             "visible": true
            },
            {
             "fieldName": "Area",
             "format": {
              "digitSeparator": true,
              "places": 2
             },
             "isEditable": true,
             "label": "Area",
             "stringFieldOption": "textbox",
             "tooltip": "",
             "visible": true
            },
            {
             "fieldName": "floors",
             "format": {
              "digitSeparator": true,
              "places": 2
             },
             "isEditable": true,
             "label": "floors",
             "stringFieldOption": "textbox",
             "tooltip": "",
             "visible": true
            },
            {
             "fieldName": "height",
             "format": {
              "digitSeparator": true,
              "places": 2
             },
             "isEditable": true,
             "label": "height",
             "stringFieldOption": "textbox",
             "tooltip": "",
             "visible": true
            },
            {
             "fieldName": "bld_num",
             "format": {
              "digitSeparator": true,
              "places": 2
             },
             "isEditable": true,
             "label": "bld_num",
             "stringFieldOption": "textbox",
             "tooltip": "",
             "visible": true
            },
            {
             "fieldName": "bld_addres",
             "isEditable": true,
             "label": "bld_addres",
             "stringFieldOption": "textbox",
             "tooltip": "",
             "visible": true
            },
            {
             "fieldName": "hebrew_adr",
             "isEditable": true,
             "label": "hebrew_adr",
             "stringFieldOption": "textbox",
             "tooltip": "",
             "visible": true
            },
            {
             "fieldName": "project_nu",
             "isEditable": true,
             "label": "project_nu",
             "stringFieldOption": "textbox",
             "tooltip": "",
             "visible": true
            },
            {
             "fieldName": "units",
             "format": {
              "digitSeparator": true,
              "places": 2
             },
             "isEditable": true,
             "label": "units",
             "stringFieldOption": "textbox",
             "tooltip": "",
             "visible": true
            },
            {
             "fieldName": "project_na",
             "isEditable": true,
             "label": "project_na",
             "stringFieldOption": "textbox",
             "tooltip": "",
             "visible": true
            },
            {
             "fieldName": "project_ty",
             "format": {
              "digitSeparator": true,
              "places": 2
             },
             "isEditable": true,
             "label": "project_ty",
             "stringFieldOption": "textbox",
             "tooltip": "",
             "visible": true
            },
            {
             "fieldName": "status",
             "isEditable": true,
             "label": "status",
             "stringFieldOption": "textbox",
             "tooltip": "",
             "visible": true
            },
            {
             "fieldName": "East",
             "format": {
              "digitSeparator": true,
              "places": 2
             },
             "isEditable": true,
             "label": "East",
             "stringFieldOption": "textbox",
             "tooltip": "",
             "visible": true
            },
            {
             "fieldName": "North",
             "format": {
              "digitSeparator": true,
              "places": 2
             },
             "isEditable": true,
             "label": "North",
             "stringFieldOption": "textbox",
             "tooltip": "",
             "visible": true
            },
            {
             "fieldName": "East_wgs84",
             "format": {
              "digitSeparator": true,
              "places": 2
             },
             "isEditable": true,
             "label": "East_wgs84",
             "stringFieldOption": "textbox",
             "tooltip": "",
             "visible": true
            },
            {
             "fieldName": "North_wgs8",
             "format": {
              "digitSeparator": true,
              "places": 2
             },
             "isEditable": true,
             "label": "North_wgs8",
             "stringFieldOption": "textbox",
             "tooltip": "",
             "visible": true
            },
            {
             "fieldName": "active",
             "format": {
              "digitSeparator": true,
              "places": 0
             },
             "isEditable": true,
             "label": "active",
             "stringFieldOption": "textbox",
             "tooltip": "",
             "visible": true
            },
            {
             "fieldName": "start_date",
             "format": {
              "dateFormat": "shortDateShortTime"
             },
             "isEditable": true,
             "label": "start_date",
             "stringFieldOption": "textbox",
             "tooltip": "",
             "visible": true
            },
            {
             "fieldName": "end_date_2",
             "format": {
              "dateFormat": "shortDateShortTime"
             },
             "isEditable": true,
             "label": "end_date_2",
             "stringFieldOption": "textbox",
             "tooltip": "",
             "visible": true
            },
            {
             "fieldName": "Shape__Area",
             "format": {
              "digitSeparator": true,
              "places": 2
             },
             "isEditable": true,
             "label": "Shape__Area",
             "stringFieldOption": "textbox",
             "tooltip": "",
             "visible": false
            },
            {
             "fieldName": "Shape__Length",
             "format": {
              "digitSeparator": true,
              "places": 2
             },
             "isEditable": true,
             "label": "Shape__Length",
             "stringFieldOption": "textbox",
             "tooltip": "",
             "visible": false
            },
            {
             "fieldName": "GlobalID",
             "isEditable": false,
             "label": "GlobalID",
             "stringFieldOption": "textbox",
             "tooltip": "",
             "visible": false
            },
            {
             "fieldName": "deltaDays",
             "format": {
              "digitSeparator": true,
              "places": 0
             },
             "isEditable": true,
             "label": "Days",
             "stringFieldOption": "textbox",
             "tooltip": "",
             "visible": true
            },
            {
             "fieldName": "time_filter_2",
             "isEditable": true,
             "label": "time_filter_2",
             "stringFieldOption": "textbox",
             "tooltip": "",
             "visible": true
            }
           ],
           "mediaInfos": [],
           "showAttachments": true,
           "title": "Raze_and_Rebuild_Before"
          },
          "title": "Raze_and_Rebuild_Before",
          "url": "https://services1.arcgis.com/yAQXemoDSgzdfV2A/arcgis/rest/services/Raze_and_Rebuild_Before/FeatureServer/0",
          "visibility": true
         },
         {
          "id": "Reconstruction_After_7208",
          "itemId": "a3a62ce0b2ec4db28fda81e124f348ce",
          "layerType": "ArcGISFeatureLayer",
          "opacity": 0.75,
          "popupInfo": {
           "description": null,
           "fieldInfos": [
            {
             "fieldName": "OBJECTID",
             "isEditable": false,
             "label": "OBJECTID",
             "stringFieldOption": "textbox",
             "tooltip": "",
             "visible": false
            },
            {
             "fieldName": "fid_1",
             "format": {
              "digitSeparator": true,
              "places": 2
             },
             "isEditable": true,
             "label": "fid_1",
             "stringFieldOption": "textbox",
             "tooltip": "",
             "visible": true
            },
            {
             "fieldName": "Area",
             "format": {
              "digitSeparator": true,
              "places": 2
             },
             "isEditable": true,
             "label": "Area",
             "stringFieldOption": "textbox",
             "tooltip": "",
             "visible": true
            },
            {
             "fieldName": "floors",
             "format": {
              "digitSeparator": true,
              "places": 2
             },
             "isEditable": true,
             "label": "floors",
             "stringFieldOption": "textbox",
             "tooltip": "",
             "visible": true
            },
            {
             "fieldName": "height",
             "format": {
              "digitSeparator": true,
              "places": 2
             },
             "isEditable": true,
             "label": "height",
             "stringFieldOption": "textbox",
             "tooltip": "",
             "visible": true
            },
            {
             "fieldName": "bld_num",
             "format": {
              "digitSeparator": true,
              "places": 2
             },
             "isEditable": true,
             "label": "bld_num",
             "stringFieldOption": "textbox",
             "tooltip": "",
             "visible": true
            },
            {
             "fieldName": "bld_addres",
             "isEditable": true,
             "label": "bld_addres",
             "stringFieldOption": "textbox",
             "tooltip": "",
             "visible": true
            },
            {
             "fieldName": "hebrew_adr",
             "isEditable": true,
             "label": "hebrew_adr",
             "stringFieldOption": "textbox",
             "tooltip": "",
             "visible": true
            },
            {
             "fieldName": "project_nu",
             "isEditable": true,
             "label": "project_nu",
             "stringFieldOption": "textbox",
             "tooltip": "",
             "visible": true
            },
            {
             "fieldName": "units",
             "format": {
              "digitSeparator": true,
              "places": 2
             },
             "isEditable": true,
             "label": "units",
             "stringFieldOption": "textbox",
             "tooltip": "",
             "visible": true
            },
            {
             "fieldName": "project_na",
             "isEditable": true,
             "label": "project_na",
             "stringFieldOption": "textbox",
             "tooltip": "",
             "visible": true
            },
            {
             "fieldName": "project_ty",
             "format": {
              "digitSeparator": true,
              "places": 2
             },
             "isEditable": true,
             "label": "project_ty",
             "stringFieldOption": "textbox",
             "tooltip": "",
             "visible": true
            },
            {
             "fieldName": "status",
             "isEditable": true,
             "label": "status",
             "stringFieldOption": "textbox",
             "tooltip": "",
             "visible": true
            },
            {
             "fieldName": "East",
             "format": {
              "digitSeparator": true,
              "places": 2
             },
             "isEditable": true,
             "label": "East",
             "stringFieldOption": "textbox",
             "tooltip": "",
             "visible": true
            },
            {
             "fieldName": "North",
             "format": {
              "digitSeparator": true,
              "places": 2
             },
             "isEditable": true,
             "label": "North",
             "stringFieldOption": "textbox",
             "tooltip": "",
             "visible": true
            },
            {
             "fieldName": "East_wgs84",
             "format": {
              "digitSeparator": true,
              "places": 2
             },
             "isEditable": true,
             "label": "East_wgs84",
             "stringFieldOption": "textbox",
             "tooltip": "",
             "visible": true
            },
            {
             "fieldName": "North_wgs8",
             "format": {
              "digitSeparator": true,
              "places": 2
             },
             "isEditable": true,
             "label": "North_wgs8",
             "stringFieldOption": "textbox",
             "tooltip": "",
             "visible": true
            },
            {
             "fieldName": "active",
             "format": {
              "digitSeparator": true,
              "places": 0
             },
             "isEditable": true,
             "label": "active",
             "stringFieldOption": "textbox",
             "tooltip": "",
             "visible": true
            },
            {
             "fieldName": "start_date",
             "format": {
              "dateFormat": "shortDateShortTime"
             },
             "isEditable": true,
             "label": "start_date",
             "stringFieldOption": "textbox",
             "tooltip": "",
             "visible": true
            },
            {
             "fieldName": "end_date_2",
             "format": {
              "dateFormat": "shortDateShortTime"
             },
             "isEditable": true,
             "label": "end_date_2",
             "stringFieldOption": "textbox",
             "tooltip": "",
             "visible": true
            },
            {
             "fieldName": "Shape__Area",
             "format": {
              "digitSeparator": true,
              "places": 2
             },
             "isEditable": true,
             "label": "Shape__Area",
             "stringFieldOption": "textbox",
             "tooltip": "",
             "visible": false
            },
            {
             "fieldName": "Shape__Length",
             "format": {
              "digitSeparator": true,
              "places": 2
             },
             "isEditable": true,
             "label": "Shape__Length",
             "stringFieldOption": "textbox",
             "tooltip": "",
             "visible": false
            },
            {
             "fieldName": "GlobalID",
             "isEditable": false,
             "label": "GlobalID",
             "stringFieldOption": "textbox",
             "tooltip": "",
             "visible": false
            },
            {
             "fieldName": "deltaDays",
             "format": {
              "digitSeparator": true,
              "places": 0
             },
             "isEditable": true,
             "label": "Days",
             "stringFieldOption": "textbox",
             "tooltip": "",
             "visible": true
            },
            {
             "fieldName": "time_filter_2",
             "isEditable": true,
             "label": "time_filter_2",
             "stringFieldOption": "textbox",
             "tooltip": "",
             "visible": true
            }
           ],
           "mediaInfos": [],
           "showAttachments": true,
           "title": "Reconstruction_After"
          },
          "title": "Reconstruction_After",
          "url": "https://services1.arcgis.com/yAQXemoDSgzdfV2A/arcgis/rest/services/Reconstruction_After/FeatureServer/0",
          "visibility": true
         },
         {
          "id": "Reconstruction_Before_5758",
          "itemId": "de8680cffc06404e86cbc8c9d0b91110",
          "layerDefinition": {
           "drawingInfo": {
            "renderer": {
             "symbol": {
              "color": [
               255,
               255,
               255,
               255
              ],
              "outline": {
               "color": [
                54,
                93,
                141,
                255
               ],
               "style": "esriSLSSolid",
               "type": "esriSLS",
               "width": 1.5
              },
              "style": "esriSFSSolid",
              "type": "esriSFS"
             },
             "type": "simple"
            }
           }
          },
          "layerType": "ArcGISFeatureLayer",
          "opacity": 0.75,
          "popupInfo": {
           "description": null,
           "fieldInfos": [
            {
             "fieldName": "OBJECTID",
             "isEditable": false,
             "label": "OBJECTID",
             "stringFieldOption": "textbox",
             "tooltip": "",
             "visible": false
            },
            {
             "fieldName": "fid_1",
             "format": {
              "digitSeparator": true,
              "places": 2
             },
             "isEditable": true,
             "label": "fid_1",
             "stringFieldOption": "textbox",
             "tooltip": "",
             "visible": true
            },
            {
             "fieldName": "Area",
             "format": {
              "digitSeparator": true,
              "places": 2
             },
             "isEditable": true,
             "label": "Area",
             "stringFieldOption": "textbox",
             "tooltip": "",
             "visible": true
            },
            {
             "fieldName": "floors",
             "format": {
              "digitSeparator": true,
              "places": 2
             },
             "isEditable": true,
             "label": "floors",
             "stringFieldOption": "textbox",
             "tooltip": "",
             "visible": true
            },
            {
             "fieldName": "height",
             "format": {
              "digitSeparator": true,
              "places": 2
             },
             "isEditable": true,
             "label": "height",
             "stringFieldOption": "textbox",
             "tooltip": "",
             "visible": true
            },
            {
             "fieldName": "bld_num",
             "format": {
              "digitSeparator": true,
              "places": 2
             },
             "isEditable": true,
             "label": "bld_num",
             "stringFieldOption": "textbox",
             "tooltip": "",
             "visible": true
            },
            {
             "fieldName": "bld_addres",
             "isEditable": true,
             "label": "bld_addres",
             "stringFieldOption": "textbox",
             "tooltip": "",
             "visible": true
            },
            {
             "fieldName": "hebrew_adr",
             "isEditable": true,
             "label": "hebrew_adr",
             "stringFieldOption": "textbox",
             "tooltip": "",
             "visible": true
            },
            {
             "fieldName": "project_nu",
             "isEditable": true,
             "label": "project_nu",
             "stringFieldOption": "textbox",
             "tooltip": "",
             "visible": true
            },
            {
             "fieldName": "units",
             "format": {
              "digitSeparator": true,
              "places": 2
             },
             "isEditable": true,
             "label": "units",
             "stringFieldOption": "textbox",
             "tooltip": "",
             "visible": true
            },
            {
             "fieldName": "project_na",
             "isEditable": true,
             "label": "project_na",
             "stringFieldOption": "textbox",
             "tooltip": "",
             "visible": true
            },
            {
             "fieldName": "project_ty",
             "format": {
              "digitSeparator": true,
              "places": 2
             },
             "isEditable": true,
             "label": "project_ty",
             "stringFieldOption": "textbox",
             "tooltip": "",
             "visible": true
            },
            {
             "fieldName": "status",
             "isEditable": true,
             "label": "status",
             "stringFieldOption": "textbox",
             "tooltip": "",
             "visible": true
            },
            {
             "fieldName": "East",
             "format": {
              "digitSeparator": true,
              "places": 2
             },
             "isEditable": true,
             "label": "East",
             "stringFieldOption": "textbox",
             "tooltip": "",
             "visible": true
            },
            {
             "fieldName": "North",
             "format": {
              "digitSeparator": true,
              "places": 2
             },
             "isEditable": true,
             "label": "North",
             "stringFieldOption": "textbox",
             "tooltip": "",
             "visible": true
            },
            {
             "fieldName": "East_wgs84",
             "format": {
              "digitSeparator": true,
              "places": 2
             },
             "isEditable": true,
             "label": "East_wgs84",
             "stringFieldOption": "textbox",
             "tooltip": "",
             "visible": true
            },
            {
             "fieldName": "North_wgs8",
             "format": {
              "digitSeparator": true,
              "places": 2
             },
             "isEditable": true,
             "label": "North_wgs8",
             "stringFieldOption": "textbox",
             "tooltip": "",
             "visible": true
            },
            {
             "fieldName": "active",
             "format": {
              "digitSeparator": true,
              "places": 0
             },
             "isEditable": true,
             "label": "active",
             "stringFieldOption": "textbox",
             "tooltip": "",
             "visible": true
            },
            {
             "fieldName": "start_date",
             "format": {
              "dateFormat": "shortDateShortTime"
             },
             "isEditable": true,
             "label": "start_date",
             "stringFieldOption": "textbox",
             "tooltip": "",
             "visible": true
            },
            {
             "fieldName": "end_date_2",
             "format": {
              "dateFormat": "shortDateShortTime"
             },
             "isEditable": true,
             "label": "end_date_2",
             "stringFieldOption": "textbox",
             "tooltip": "",
             "visible": true
            },
            {
             "fieldName": "Shape__Area",
             "format": {
              "digitSeparator": true,
              "places": 2
             },
             "isEditable": true,
             "label": "Shape__Area",
             "stringFieldOption": "textbox",
             "tooltip": "",
             "visible": false
            },
            {
             "fieldName": "Shape__Length",
             "format": {
              "digitSeparator": true,
              "places": 2
             },
             "isEditable": true,
             "label": "Shape__Length",
             "stringFieldOption": "textbox",
             "tooltip": "",
             "visible": false
            },
            {
             "fieldName": "GlobalID",
             "isEditable": false,
             "label": "GlobalID",
             "stringFieldOption": "textbox",
             "tooltip": "",
             "visible": false
            },
            {
             "fieldName": "deltaDays",
             "format": {
              "digitSeparator": true,
              "places": 0
             },
             "isEditable": true,
             "label": "Days",
             "stringFieldOption": "textbox",
             "tooltip": "",
             "visible": true
            },
            {
             "fieldName": "time_filter_2",
             "isEditable": true,
             "label": "time_filter_2",
             "stringFieldOption": "textbox",
             "tooltip": "",
             "visible": true
            }
           ],
           "mediaInfos": [],
           "showAttachments": true,
           "title": "Reconstruction_Before"
          },
          "title": "Reconstruction_Before",
          "url": "https://services1.arcgis.com/yAQXemoDSgzdfV2A/arcgis/rest/services/Reconstruction_Before/FeatureServer/0",
          "visibility": true
         },
         {
          "id": "Addition_After_5425",
          "itemId": "2edebdf6b7bb42ae8a4ac8d0569e0ccd",
          "layerDefinition": {
           "drawingInfo": {
            "renderer": {
             "symbol": {
              "color": [
               255,
               255,
               255,
               255
              ],
              "outline": {
               "color": [
                54,
                93,
                141,
                255
               ],
               "style": "esriSLSSolid",
               "type": "esriSLS",
               "width": 1.5
              },
              "style": "esriSFSSolid",
              "type": "esriSFS"
             },
             "type": "simple"
            }
           }
          },
          "layerType": "ArcGISFeatureLayer",
          "opacity": 0.75,
          "popupInfo": {
           "description": null,
           "fieldInfos": [
            {
             "fieldName": "OBJECTID",
             "isEditable": false,
             "label": "OBJECTID",
             "stringFieldOption": "textbox",
             "tooltip": "",
             "visible": false
            },
            {
             "fieldName": "fid_1",
             "format": {
              "digitSeparator": true,
              "places": 2
             },
             "isEditable": true,
             "label": "fid_1",
             "stringFieldOption": "textbox",
             "tooltip": "",
             "visible": true
            },
            {
             "fieldName": "Area",
             "format": {
              "digitSeparator": true,
              "places": 2
             },
             "isEditable": true,
             "label": "Area",
             "stringFieldOption": "textbox",
             "tooltip": "",
             "visible": true
            },
            {
             "fieldName": "floors",
             "format": {
              "digitSeparator": true,
              "places": 2
             },
             "isEditable": true,
             "label": "floors",
             "stringFieldOption": "textbox",
             "tooltip": "",
             "visible": true
            },
            {
             "fieldName": "height",
             "format": {
              "digitSeparator": true,
              "places": 2
             },
             "isEditable": true,
             "label": "height",
             "stringFieldOption": "textbox",
             "tooltip": "",
             "visible": true
            },
            {
             "fieldName": "bld_num",
             "format": {
              "digitSeparator": true,
              "places": 2
             },
             "isEditable": true,
             "label": "bld_num",
             "stringFieldOption": "textbox",
             "tooltip": "",
             "visible": true
            },
            {
             "fieldName": "bld_addres",
             "isEditable": true,
             "label": "bld_addres",
             "stringFieldOption": "textbox",
             "tooltip": "",
             "visible": true
            },
            {
             "fieldName": "hebrew_adr",
             "isEditable": true,
             "label": "hebrew_adr",
             "stringFieldOption": "textbox",
             "tooltip": "",
             "visible": true
            },
            {
             "fieldName": "project_nu",
             "isEditable": true,
             "label": "project_nu",
             "stringFieldOption": "textbox",
             "tooltip": "",
             "visible": true
            },
            {
             "fieldName": "units",
             "format": {
              "digitSeparator": true,
              "places": 2
             },
             "isEditable": true,
             "label": "units",
             "stringFieldOption": "textbox",
             "tooltip": "",
             "visible": true
            },
            {
             "fieldName": "project_na",
             "isEditable": true,
             "label": "project_na",
             "stringFieldOption": "textbox",
             "tooltip": "",
             "visible": true
            },
            {
             "fieldName": "project_ty",
             "format": {
              "digitSeparator": true,
              "places": 2
             },
             "isEditable": true,
             "label": "project_ty",
             "stringFieldOption": "textbox",
             "tooltip": "",
             "visible": true
            },
            {
             "fieldName": "status",
             "isEditable": true,
             "label": "status",
             "stringFieldOption": "textbox",
             "tooltip": "",
             "visible": true
            },
            {
             "fieldName": "East",
             "format": {
              "digitSeparator": true,
              "places": 2
             },
             "isEditable": true,
             "label": "East",
             "stringFieldOption": "textbox",
             "tooltip": "",
             "visible": true
            },
            {
             "fieldName": "North",
             "format": {
              "digitSeparator": true,
              "places": 2
             },
             "isEditable": true,
             "label": "North",
             "stringFieldOption": "textbox",
             "tooltip": "",
             "visible": true
            },
            {
             "fieldName": "East_wgs84",
             "format": {
              "digitSeparator": true,
              "places": 2
             },
             "isEditable": true,
             "label": "East_wgs84",
             "stringFieldOption": "textbox",
             "tooltip": "",
             "visible": true
            },
            {
             "fieldName": "North_wgs8",
             "format": {
              "digitSeparator": true,
              "places": 2
             },
             "isEditable": true,
             "label": "North_wgs8",
             "stringFieldOption": "textbox",
             "tooltip": "",
             "visible": true
            },
            {
             "fieldName": "active",
             "format": {
              "digitSeparator": true,
              "places": 0
             },
             "isEditable": true,
             "label": "active",
             "stringFieldOption": "textbox",
             "tooltip": "",
             "visible": true
            },
            {
             "fieldName": "start_date",
             "format": {
              "dateFormat": "shortDateShortTime"
             },
             "isEditable": true,
             "label": "start_date",
             "stringFieldOption": "textbox",
             "tooltip": "",
             "visible": true
            },
            {
             "fieldName": "end_date_2",
             "format": {
              "dateFormat": "shortDateShortTime"
             },
             "isEditable": true,
             "label": "end_date_2",
             "stringFieldOption": "textbox",
             "tooltip": "",
             "visible": true
            },
            {
             "fieldName": "Shape__Area",
             "format": {
              "digitSeparator": true,
              "places": 2
             },
             "isEditable": true,
             "label": "Shape__Area",
             "stringFieldOption": "textbox",
             "tooltip": "",
             "visible": false
            },
            {
             "fieldName": "Shape__Length",
             "format": {
              "digitSeparator": true,
              "places": 2
             },
             "isEditable": true,
             "label": "Shape__Length",
             "stringFieldOption": "textbox",
             "tooltip": "",
             "visible": false
            },
            {
             "fieldName": "GlobalID",
             "isEditable": false,
             "label": "GlobalID",
             "stringFieldOption": "textbox",
             "tooltip": "",
             "visible": false
            },
            {
             "fieldName": "deltaDays",
             "format": {
              "digitSeparator": true,
              "places": 0
             },
             "isEditable": true,
             "label": "Days",
             "stringFieldOption": "textbox",
             "tooltip": "",
             "visible": true
            },
            {
             "fieldName": "time_filter_2",
             "isEditable": true,
             "label": "time_filter_2",
             "stringFieldOption": "textbox",
             "tooltip": "",
             "visible": true
            }
           ],
           "mediaInfos": [],
           "showAttachments": true,
           "title": "Addition_After"
          },
          "title": "Addition_After",
          "url": "https://services1.arcgis.com/yAQXemoDSgzdfV2A/arcgis/rest/services/Addition_After/FeatureServer/0",
          "visibility": true
         },
         {
          "id": "Addition_Before_8282",
          "itemId": "b8eba16abd4647bd9fd7573e6e71c86d",
          "layerDefinition": {
           "drawingInfo": {
            "renderer": {
             "symbol": {
              "color": [
               255,
               255,
               255,
               255
              ],
              "outline": {
               "color": [
                54,
                93,
                141,
                255
               ],
               "style": "esriSLSSolid",
               "type": "esriSLS",
               "width": 1.5
              },
              "style": "esriSFSSolid",
              "type": "esriSFS"
             },
             "type": "simple"
            }
           }
          },
          "layerType": "ArcGISFeatureLayer",
          "opacity": 0.75,
          "popupInfo": {
           "description": null,
           "fieldInfos": [
            {
             "fieldName": "OBJECTID",
             "isEditable": false,
             "label": "OBJECTID",
             "stringFieldOption": "textbox",
             "tooltip": "",
             "visible": false
            },
            {
             "fieldName": "fid_1",
             "format": {
              "digitSeparator": true,
              "places": 2
             },
             "isEditable": true,
             "label": "fid_1",
             "stringFieldOption": "textbox",
             "tooltip": "",
             "visible": true
            },
            {
             "fieldName": "Area",
             "format": {
              "digitSeparator": true,
              "places": 2
             },
             "isEditable": true,
             "label": "Area",
             "stringFieldOption": "textbox",
             "tooltip": "",
             "visible": true
            },
            {
             "fieldName": "floors",
             "format": {
              "digitSeparator": true,
              "places": 2
             },
             "isEditable": true,
             "label": "floors",
             "stringFieldOption": "textbox",
             "tooltip": "",
             "visible": true
            },
            {
             "fieldName": "height",
             "format": {
              "digitSeparator": true,
              "places": 2
             },
             "isEditable": true,
             "label": "height",
             "stringFieldOption": "textbox",
             "tooltip": "",
             "visible": true
            },
            {
             "fieldName": "bld_num",
             "format": {
              "digitSeparator": true,
              "places": 2
             },
             "isEditable": true,
             "label": "bld_num",
             "stringFieldOption": "textbox",
             "tooltip": "",
             "visible": true
            },
            {
             "fieldName": "bld_addres",
             "isEditable": true,
             "label": "bld_addres",
             "stringFieldOption": "textbox",
             "tooltip": "",
             "visible": true
            },
            {
             "fieldName": "hebrew_adr",
             "isEditable": true,
             "label": "hebrew_adr",
             "stringFieldOption": "textbox",
             "tooltip": "",
             "visible": true
            },
            {
             "fieldName": "project_nu",
             "isEditable": true,
             "label": "project_nu",
             "stringFieldOption": "textbox",
             "tooltip": "",
             "visible": true
            },
            {
             "fieldName": "units",
             "format": {
              "digitSeparator": true,
              "places": 2
             },
             "isEditable": true,
             "label": "units",
             "stringFieldOption": "textbox",
             "tooltip": "",
             "visible": true
            },
            {
             "fieldName": "project_na",
             "isEditable": true,
             "label": "project_na",
             "stringFieldOption": "textbox",
             "tooltip": "",
             "visible": true
            },
            {
             "fieldName": "project_ty",
             "format": {
              "digitSeparator": true,
              "places": 2
             },
             "isEditable": true,
             "label": "project_ty",
             "stringFieldOption": "textbox",
             "tooltip": "",
             "visible": true
            },
            {
             "fieldName": "status",
             "isEditable": true,
             "label": "status",
             "stringFieldOption": "textbox",
             "tooltip": "",
             "visible": true
            },
            {
             "fieldName": "East",
             "format": {
              "digitSeparator": true,
              "places": 2
             },
             "isEditable": true,
             "label": "East",
             "stringFieldOption": "textbox",
             "tooltip": "",
             "visible": true
            },
            {
             "fieldName": "North",
             "format": {
              "digitSeparator": true,
              "places": 2
             },
             "isEditable": true,
             "label": "North",
             "stringFieldOption": "textbox",
             "tooltip": "",
             "visible": true
            },
            {
             "fieldName": "East_wgs84",
             "format": {
              "digitSeparator": true,
              "places": 2
             },
             "isEditable": true,
             "label": "East_wgs84",
             "stringFieldOption": "textbox",
             "tooltip": "",
             "visible": true
            },
            {
             "fieldName": "North_wgs8",
             "format": {
              "digitSeparator": true,
              "places": 2
             },
             "isEditable": true,
             "label": "North_wgs8",
             "stringFieldOption": "textbox",
             "tooltip": "",
             "visible": true
            },
            {
             "fieldName": "active",
             "format": {
              "digitSeparator": true,
              "places": 0
             },
             "isEditable": true,
             "label": "active",
             "stringFieldOption": "textbox",
             "tooltip": "",
             "visible": true
            },
            {
             "fieldName": "start_date",
             "format": {
              "dateFormat": "shortDateShortTime"
             },
             "isEditable": true,
             "label": "start_date",
             "stringFieldOption": "textbox",
             "tooltip": "",
             "visible": true
            },
            {
             "fieldName": "end_date_2",
             "format": {
              "dateFormat": "shortDateShortTime"
             },
             "isEditable": true,
             "label": "end_date_2",
             "stringFieldOption": "textbox",
             "tooltip": "",
             "visible": true
            },
            {
             "fieldName": "Shape__Area",
             "format": {
              "digitSeparator": true,
              "places": 2
             },
             "isEditable": true,
             "label": "Shape__Area",
             "stringFieldOption": "textbox",
             "tooltip": "",
             "visible": false
            },
            {
             "fieldName": "Shape__Length",
             "format": {
              "digitSeparator": true,
              "places": 2
             },
             "isEditable": true,
             "label": "Shape__Length",
             "stringFieldOption": "textbox",
             "tooltip": "",
             "visible": false
            },
            {
             "fieldName": "GlobalID",
             "isEditable": false,
             "label": "GlobalID",
             "stringFieldOption": "textbox",
             "tooltip": "",
             "visible": false
            },
            {
             "fieldName": "deltaDays",
             "format": {
              "digitSeparator": true,
              "places": 0
             },
             "isEditable": true,
             "label": "Days",
             "stringFieldOption": "textbox",
             "tooltip": "",
             "visible": true
            },
            {
             "fieldName": "time_filter_2",
             "isEditable": true,
             "label": "time_filter_2",
             "stringFieldOption": "textbox",
             "tooltip": "",
             "visible": true
            }
           ],
           "mediaInfos": [],
           "showAttachments": true,
           "title": "Addition_Before"
          },
          "title": "Addition_Before",
          "url": "https://services1.arcgis.com/yAQXemoDSgzdfV2A/arcgis/rest/services/Addition_Before/FeatureServer/0",
          "visibility": true
         },
         {
          "id": "Parcels_After_3136",
          "itemId": "850cdfd402b14075b5653f6550defec6",
          "layerDefinition": {
           "drawingInfo": {
            "renderer": {
             "symbol": {
              "color": null,
              "outline": {
               "color": [
                0,
                0,
                0,
                255
               ],
               "style": "esriSLSSolid",
               "type": "esriSLS",
               "width": 0.75
              },
              "style": "esriSFSSolid",
              "type": "esriSFS"
             },
             "type": "simple"
            }
           }
          },
          "layerType": "ArcGISFeatureLayer",
          "opacity": 1,
          "popupInfo": {
           "description": null,
           "fieldInfos": [
            {
             "fieldName": "fid",
             "format": {
              "digitSeparator": true,
              "places": 0
             },
             "isEditable": true,
             "label": "fid",
             "stringFieldOption": "textbox",
             "tooltip": "",
             "visible": true
            },
            {
             "fieldName": "GUSH_NUM",
             "format": {
              "digitSeparator": true,
              "places": 0
             },
             "isEditable": true,
             "label": "GUSH_NUM",
             "stringFieldOption": "textbox",
             "tooltip": "",
             "visible": true
            },
            {
             "fieldName": "PARCEL",
             "format": {
              "digitSeparator": true,
              "places": 0
             },
             "isEditable": true,
             "label": "PARCEL",
             "stringFieldOption": "textbox",
             "tooltip": "",
             "visible": true
            },
            {
             "fieldName": "LEGAL_AREA",
             "format": {
              "digitSeparator": true,
              "places": 2
             },
             "isEditable": true,
             "label": "LEGAL_AREA",
             "stringFieldOption": "textbox",
             "tooltip": "",
             "visible": true
            },
            {
             "fieldName": "LOCALITY_I",
             "format": {
              "digitSeparator": true,
              "places": 0
             },
             "isEditable": true,
             "label": "LOCALITY_I",
             "stringFieldOption": "textbox",
             "tooltip": "",
             "visible": false
            },
            {
             "fieldName": "SHAPE_AREA",
             "format": {
              "digitSeparator": true,
              "places": 2
             },
             "isEditable": true,
             "label": "SHAPE_AREA",
             "stringFieldOption": "textbox",
             "tooltip": "",
             "visible": false
            },
            {
             "fieldName": "ObjectId",
             "isEditable": false,
             "label": "",
             "stringFieldOption": "textbox",
             "tooltip": "",
             "visible": false
            },
            {
             "fieldName": "Shape__Area",
             "format": {
              "digitSeparator": true,
              "places": 2
             },
             "isEditable": false,
             "label": "Shape__Area",
             "stringFieldOption": "textbox",
             "tooltip": "",
             "visible": false
            },
            {
             "fieldName": "Shape__Length",
             "format": {
              "digitSeparator": true,
              "places": 2
             },
             "isEditable": false,
             "label": "Shape__Length",
             "stringFieldOption": "textbox",
             "tooltip": "",
             "visible": false
            }
           ],
           "mediaInfos": [],
           "showAttachments": true,
           "title": "Parcels_After_0"
          },
          "title": "Parcels_After",
          "url": "https://services1.arcgis.com/yAQXemoDSgzdfV2A/arcgis/rest/services/Parcels_After/FeatureServer/0",
          "visibility": true
         },
         {
          "id": "parcels_before2_2105",
          "itemId": "afbf31beaa16455eab114be772d98cef",
          "layerDefinition": {
           "drawingInfo": {
            "renderer": {
             "symbol": {
              "color": null,
              "outline": {
               "color": [
                0,
                0,
                0,
                255
               ],
               "style": "esriSLSSolid",
               "type": "esriSLS",
               "width": 0.75
              },
              "style": "esriSFSSolid",
              "type": "esriSFS"
             },
             "type": "simple"
            }
           }
          },
          "layerType": "ArcGISFeatureLayer",
          "opacity": 1,
          "popupInfo": {
           "description": null,
           "fieldInfos": [
            {
             "fieldName": "fid",
             "format": {
              "digitSeparator": true,
              "places": 0
             },
             "isEditable": true,
             "label": "fid",
             "stringFieldOption": "textbox",
             "tooltip": "",
             "visible": true
            },
            {
             "fieldName": "GUSH_NUM",
             "format": {
              "digitSeparator": true,
              "places": 0
             },
             "isEditable": true,
             "label": "GUSH_NUM",
             "stringFieldOption": "textbox",
             "tooltip": "",
             "visible": true
            },
            {
             "fieldName": "PARCEL",
             "format": {
              "digitSeparator": true,
              "places": 0
             },
             "isEditable": true,
             "label": "PARCEL",
             "stringFieldOption": "textbox",
             "tooltip": "",
             "visible": true
            },
            {
             "fieldName": "LEGAL_AREA",
             "format": {
              "digitSeparator": true,
              "places": 2
             },
             "isEditable": true,
             "label": "LEGAL_AREA",
             "stringFieldOption": "textbox",
             "tooltip": "",
             "visible": true
            },
            {
             "fieldName": "LOCALITY_I",
             "format": {
              "digitSeparator": true,
              "places": 0
             },
             "isEditable": true,
             "label": "LOCALITY_I",
             "stringFieldOption": "textbox",
             "tooltip": "",
             "visible": false
            },
            {
             "fieldName": "SHAPE_AREA",
             "format": {
              "digitSeparator": true,
              "places": 2
             },
             "isEditable": true,
             "label": "SHAPE_AREA",
             "stringFieldOption": "textbox",
             "tooltip": "",
             "visible": false
            },
            {
             "fieldName": "ObjectId",
             "isEditable": false,
             "label": "",
             "stringFieldOption": "textbox",
             "tooltip": "",
             "visible": false
            },
            {
             "fieldName": "Shape__Area",
             "format": {
              "digitSeparator": true,
              "places": 2
             },
             "isEditable": false,
             "label": "Shape__Area",
             "stringFieldOption": "textbox",
             "tooltip": "",
             "visible": false
            },
            {
             "fieldName": "Shape__Length",
             "format": {
              "digitSeparator": true,
              "places": 2
             },
             "isEditable": false,
             "label": "Shape__Length",
             "stringFieldOption": "textbox",
             "tooltip": "",
             "visible": false
            }
           ],
           "mediaInfos": [],
           "showAttachments": true,
           "title": "parcels_before2_0"
          },
          "title": "Parcels Before",
          "url": "https://services1.arcgis.com/yAQXemoDSgzdfV2A/arcgis/rest/services/parcels_before2/FeatureServer/0",
          "visibility": true
         }
        ],
        "spatialReference": {
         "latestWkid": 3857,
         "wkid": 102100
        },
        "version": "2.18"
       },
       "_writeonly_end_time": "1900-01-01T00:00:00.000000",
       "_writeonly_start_time": "1900-01-01T00:00:00.000000",
       "hide_mode_switch": true,
       "layout": "IPY_MODEL_7e23c98eb1524eab97a68266ce9d309f",
       "print_service_url": ""
      }
     },
     "8df6a1b3d84044c6808b0bfdf9c1292c": {
      "model_module": "@jupyter-widgets/base",
      "model_module_version": "1.2.0",
      "model_name": "LayoutModel",
      "state": {}
     },
     "8eb2169c789a44219dfed0e2d43f847a": {
      "model_module": "@jupyter-widgets/controls",
      "model_module_version": "1.5.0",
      "model_name": "DescriptionStyleModel",
      "state": {
       "description_width": ""
      }
     },
     "8f11bd86cc7d4856acea5a244e8d6cae": {
      "model_module": "@jupyter-widgets/output",
      "model_module_version": "1.0.0",
      "model_name": "OutputModel",
      "state": {
       "layout": "IPY_MODEL_0f85a51254704c94afbb0a8da8c5fa90",
       "outputs": [
        {
         "data": {
          "text/html": "<html>\n<head><meta charset=\"utf-8\" /></head>\n<body>\n    <div>            <script src=\"https://cdnjs.cloudflare.com/ajax/libs/mathjax/2.7.5/MathJax.js?config=TeX-AMS-MML_SVG\"></script><script type=\"text/javascript\">if (window.MathJax) {MathJax.Hub.Config({SVG: {font: \"STIX-Web\"}});}</script>                <script type=\"text/javascript\">window.PlotlyConfig = {MathJaxConfig: 'local'};</script>\n        <script src=\"https://cdn.plot.ly/plotly-latest.min.js\"></script>                <div id=\"8b66b7cd-be3e-4afa-b5f3-8d2372a793e6\" class=\"plotly-graph-div\" style=\"height:375px; width:800px;\"></div>            <script type=\"text/javascript\">                                    window.PLOTLYENV=window.PLOTLYENV || {};                                    if (document.getElementById(\"8b66b7cd-be3e-4afa-b5f3-8d2372a793e6\")) {                    Plotly.newPlot(                        \"8b66b7cd-be3e-4afa-b5f3-8d2372a793e6\",                        [{\"line\": {\"color\": \"hsv(0,100%,100%)\", \"width\": 4}, \"name\": \"Staying\", \"type\": \"scatter\", \"x\": [1, 2, 3, 4, 5, 6, 7, 8, 9], \"y\": [884, 868, 854, 841, 832, 803, 788, 784, 624]}, {\"line\": {\"color\": \"hsv(0,100%,75%)\", \"width\": 4}, \"name\": \"New Comers\", \"type\": \"scatter\", \"x\": [1, 2, 3, 4, 5, 6, 7, 8, 9], \"y\": [34.0, 60.0, 91.0, 118.0, 157.0, 195.0, 224.0, 332.0, 852.0]}, {\"line\": {\"color\": \"hsv(30,100%, 100%)\", \"dash\": \"dash\"}, \"name\": \"Total (Staying+New Comers)\", \"type\": \"scatter\", \"x\": [1, 2, 3, 4, 5, 6, 7, 8, 9], \"y\": [918, 928, 945, 959, 989, 998, 1012, 1116, 1476]}, {\"marker\": {\"color\": \"hsv(210,100%,75%)\"}, \"mode\": \"markers\", \"name\": \"Addition\", \"type\": \"scatter\", \"x\": [1, 2, 3, 4, 6, 7], \"y\": [-20, -20, -20, -20, -20, -20]}, {\"marker\": {\"color\": \"hsv(210,100%,100%)\"}, \"mode\": \"markers\", \"name\": \"Reconstruction\", \"type\": \"scatter\", \"x\": [5, 8], \"y\": [-20, -20]}, {\"marker\": {\"color\": \"hsv(210,50%,100%)\"}, \"mode\": \"markers\", \"name\": \"Raze and Rebuild\", \"type\": \"scatter\", \"x\": [9], \"y\": [-20]}],                        {\"height\": 375, \"legend\": {\"bgcolor\": \"rgba(255,255,255,0.75)\", \"x\": 0.01, \"xanchor\": \"left\", \"y\": 0.99, \"yanchor\": \"top\"}, \"plot_bgcolor\": \"rgba(0,0,0,0)\", \"shapes\": [{\"layer\": \"below\", \"line\": {\"color\": \"hsv(210,100%,75%)\", \"dash\": \"dot\", \"width\": 1.5}, \"type\": \"line\", \"x0\": 1, \"x1\": 1, \"y0\": 0, \"y1\": 3300}, {\"layer\": \"below\", \"line\": {\"color\": \"hsv(210,100%,75%)\", \"dash\": \"dot\", \"width\": 1.5}, \"type\": \"line\", \"x0\": 2, \"x1\": 2, \"y0\": 0, \"y1\": 3300}, {\"layer\": \"below\", \"line\": {\"color\": \"hsv(210,100%,75%)\", \"dash\": \"dot\", \"width\": 1.5}, \"type\": \"line\", \"x0\": 3, \"x1\": 3, \"y0\": 0, \"y1\": 3300}, {\"layer\": \"below\", \"line\": {\"color\": \"hsv(210,100%,75%)\", \"dash\": \"dot\", \"width\": 1.5}, \"type\": \"line\", \"x0\": 4, \"x1\": 4, \"y0\": 0, \"y1\": 3300}, {\"layer\": \"below\", \"line\": {\"color\": \"hsv(210,100%,75%)\", \"dash\": \"dot\", \"width\": 1.5}, \"type\": \"line\", \"x0\": 6, \"x1\": 6, \"y0\": 0, \"y1\": 3300}, {\"layer\": \"below\", \"line\": {\"color\": \"hsv(210,100%,75%)\", \"dash\": \"dot\", \"width\": 1.5}, \"type\": \"line\", \"x0\": 7, \"x1\": 7, \"y0\": 0, \"y1\": 3300}, {\"layer\": \"below\", \"line\": {\"color\": \"hsv(210,100%,100%)\", \"dash\": \"dot\", \"width\": 1.5}, \"type\": \"line\", \"x0\": 5, \"x1\": 5, \"y0\": 0, \"y1\": 3300}, {\"layer\": \"below\", \"line\": {\"color\": \"hsv(210,100%,100%)\", \"dash\": \"dot\", \"width\": 1.5}, \"type\": \"line\", \"x0\": 8, \"x1\": 8, \"y0\": 0, \"y1\": 3300}, {\"layer\": \"below\", \"line\": {\"color\": \"hsv(210,50%,100%)\", \"dash\": \"dot\", \"width\": 1.5}, \"type\": \"line\", \"x0\": 9, \"x1\": 9, \"y0\": 0, \"y1\": 3300}], \"showlegend\": true, \"template\": {\"data\": {\"bar\": [{\"error_x\": {\"color\": \"#2a3f5f\"}, \"error_y\": {\"color\": \"#2a3f5f\"}, \"marker\": {\"line\": {\"color\": \"#E5ECF6\", \"width\": 0.5}}, \"type\": \"bar\"}], \"barpolar\": [{\"marker\": {\"line\": {\"color\": \"#E5ECF6\", \"width\": 0.5}}, \"type\": \"barpolar\"}], \"carpet\": [{\"aaxis\": {\"endlinecolor\": \"#2a3f5f\", \"gridcolor\": \"white\", \"linecolor\": \"white\", \"minorgridcolor\": \"white\", \"startlinecolor\": \"#2a3f5f\"}, \"baxis\": {\"endlinecolor\": \"#2a3f5f\", \"gridcolor\": \"white\", \"linecolor\": \"white\", \"minorgridcolor\": \"white\", \"startlinecolor\": \"#2a3f5f\"}, \"type\": \"carpet\"}], \"choropleth\": [{\"colorbar\": {\"outlinewidth\": 0, \"ticks\": \"\"}, \"type\": \"choropleth\"}], \"contour\": [{\"colorbar\": {\"outlinewidth\": 0, \"ticks\": \"\"}, \"colorscale\": [[0.0, \"#0d0887\"], [0.1111111111111111, \"#46039f\"], [0.2222222222222222, \"#7201a8\"], [0.3333333333333333, \"#9c179e\"], [0.4444444444444444, \"#bd3786\"], [0.5555555555555556, \"#d8576b\"], [0.6666666666666666, \"#ed7953\"], [0.7777777777777778, \"#fb9f3a\"], [0.8888888888888888, \"#fdca26\"], [1.0, \"#f0f921\"]], \"type\": \"contour\"}], \"contourcarpet\": [{\"colorbar\": {\"outlinewidth\": 0, \"ticks\": \"\"}, \"type\": \"contourcarpet\"}], \"heatmap\": [{\"colorbar\": {\"outlinewidth\": 0, \"ticks\": \"\"}, \"colorscale\": [[0.0, \"#0d0887\"], [0.1111111111111111, \"#46039f\"], [0.2222222222222222, \"#7201a8\"], [0.3333333333333333, \"#9c179e\"], [0.4444444444444444, \"#bd3786\"], [0.5555555555555556, \"#d8576b\"], [0.6666666666666666, \"#ed7953\"], [0.7777777777777778, \"#fb9f3a\"], [0.8888888888888888, \"#fdca26\"], [1.0, \"#f0f921\"]], \"type\": \"heatmap\"}], \"heatmapgl\": [{\"colorbar\": {\"outlinewidth\": 0, \"ticks\": \"\"}, \"colorscale\": [[0.0, \"#0d0887\"], [0.1111111111111111, \"#46039f\"], [0.2222222222222222, \"#7201a8\"], [0.3333333333333333, \"#9c179e\"], [0.4444444444444444, \"#bd3786\"], [0.5555555555555556, \"#d8576b\"], [0.6666666666666666, \"#ed7953\"], [0.7777777777777778, \"#fb9f3a\"], [0.8888888888888888, \"#fdca26\"], [1.0, \"#f0f921\"]], \"type\": \"heatmapgl\"}], \"histogram\": [{\"marker\": {\"colorbar\": {\"outlinewidth\": 0, \"ticks\": \"\"}}, \"type\": \"histogram\"}], \"histogram2d\": [{\"colorbar\": {\"outlinewidth\": 0, \"ticks\": \"\"}, \"colorscale\": [[0.0, \"#0d0887\"], [0.1111111111111111, \"#46039f\"], [0.2222222222222222, \"#7201a8\"], [0.3333333333333333, \"#9c179e\"], [0.4444444444444444, \"#bd3786\"], [0.5555555555555556, \"#d8576b\"], [0.6666666666666666, \"#ed7953\"], [0.7777777777777778, \"#fb9f3a\"], [0.8888888888888888, \"#fdca26\"], [1.0, \"#f0f921\"]], \"type\": \"histogram2d\"}], \"histogram2dcontour\": [{\"colorbar\": {\"outlinewidth\": 0, \"ticks\": \"\"}, \"colorscale\": [[0.0, \"#0d0887\"], [0.1111111111111111, \"#46039f\"], [0.2222222222222222, \"#7201a8\"], [0.3333333333333333, \"#9c179e\"], [0.4444444444444444, \"#bd3786\"], [0.5555555555555556, \"#d8576b\"], [0.6666666666666666, \"#ed7953\"], [0.7777777777777778, \"#fb9f3a\"], [0.8888888888888888, \"#fdca26\"], [1.0, \"#f0f921\"]], \"type\": \"histogram2dcontour\"}], \"mesh3d\": [{\"colorbar\": {\"outlinewidth\": 0, \"ticks\": \"\"}, \"type\": \"mesh3d\"}], \"parcoords\": [{\"line\": {\"colorbar\": {\"outlinewidth\": 0, \"ticks\": \"\"}}, \"type\": \"parcoords\"}], \"pie\": [{\"automargin\": true, \"type\": \"pie\"}], \"scatter\": [{\"marker\": {\"colorbar\": {\"outlinewidth\": 0, \"ticks\": \"\"}}, \"type\": \"scatter\"}], \"scatter3d\": [{\"line\": {\"colorbar\": {\"outlinewidth\": 0, \"ticks\": \"\"}}, \"marker\": {\"colorbar\": {\"outlinewidth\": 0, \"ticks\": \"\"}}, \"type\": \"scatter3d\"}], \"scattercarpet\": [{\"marker\": {\"colorbar\": {\"outlinewidth\": 0, \"ticks\": \"\"}}, \"type\": \"scattercarpet\"}], \"scattergeo\": [{\"marker\": {\"colorbar\": {\"outlinewidth\": 0, \"ticks\": \"\"}}, \"type\": \"scattergeo\"}], \"scattergl\": [{\"marker\": {\"colorbar\": {\"outlinewidth\": 0, \"ticks\": \"\"}}, \"type\": \"scattergl\"}], \"scattermapbox\": [{\"marker\": {\"colorbar\": {\"outlinewidth\": 0, \"ticks\": \"\"}}, \"type\": \"scattermapbox\"}], \"scatterpolar\": [{\"marker\": {\"colorbar\": {\"outlinewidth\": 0, \"ticks\": \"\"}}, \"type\": \"scatterpolar\"}], \"scatterpolargl\": [{\"marker\": {\"colorbar\": {\"outlinewidth\": 0, \"ticks\": \"\"}}, \"type\": \"scatterpolargl\"}], \"scatterternary\": [{\"marker\": {\"colorbar\": {\"outlinewidth\": 0, \"ticks\": \"\"}}, \"type\": \"scatterternary\"}], \"surface\": [{\"colorbar\": {\"outlinewidth\": 0, \"ticks\": \"\"}, \"colorscale\": [[0.0, \"#0d0887\"], [0.1111111111111111, \"#46039f\"], [0.2222222222222222, \"#7201a8\"], [0.3333333333333333, \"#9c179e\"], [0.4444444444444444, \"#bd3786\"], [0.5555555555555556, \"#d8576b\"], [0.6666666666666666, \"#ed7953\"], [0.7777777777777778, \"#fb9f3a\"], [0.8888888888888888, \"#fdca26\"], [1.0, \"#f0f921\"]], \"type\": \"surface\"}], \"table\": [{\"cells\": {\"fill\": {\"color\": \"#EBF0F8\"}, \"line\": {\"color\": \"white\"}}, \"header\": {\"fill\": {\"color\": \"#C8D4E3\"}, \"line\": {\"color\": \"white\"}}, \"type\": \"table\"}]}, \"layout\": {\"annotationdefaults\": {\"arrowcolor\": \"#2a3f5f\", \"arrowhead\": 0, \"arrowwidth\": 1}, \"autotypenumbers\": \"strict\", \"coloraxis\": {\"colorbar\": {\"outlinewidth\": 0, \"ticks\": \"\"}}, \"colorscale\": {\"diverging\": [[0, \"#8e0152\"], [0.1, \"#c51b7d\"], [0.2, \"#de77ae\"], [0.3, \"#f1b6da\"], [0.4, \"#fde0ef\"], [0.5, \"#f7f7f7\"], [0.6, \"#e6f5d0\"], [0.7, \"#b8e186\"], [0.8, \"#7fbc41\"], [0.9, \"#4d9221\"], [1, \"#276419\"]], \"sequential\": [[0.0, \"#0d0887\"], [0.1111111111111111, \"#46039f\"], [0.2222222222222222, \"#7201a8\"], [0.3333333333333333, \"#9c179e\"], [0.4444444444444444, \"#bd3786\"], [0.5555555555555556, \"#d8576b\"], [0.6666666666666666, \"#ed7953\"], [0.7777777777777778, \"#fb9f3a\"], [0.8888888888888888, \"#fdca26\"], [1.0, \"#f0f921\"]], \"sequentialminus\": [[0.0, \"#0d0887\"], [0.1111111111111111, \"#46039f\"], [0.2222222222222222, \"#7201a8\"], [0.3333333333333333, \"#9c179e\"], [0.4444444444444444, \"#bd3786\"], [0.5555555555555556, \"#d8576b\"], [0.6666666666666666, \"#ed7953\"], [0.7777777777777778, \"#fb9f3a\"], [0.8888888888888888, \"#fdca26\"], [1.0, \"#f0f921\"]]}, \"colorway\": [\"#636efa\", \"#EF553B\", \"#00cc96\", \"#ab63fa\", \"#FFA15A\", \"#19d3f3\", \"#FF6692\", \"#B6E880\", \"#FF97FF\", \"#FECB52\"], \"font\": {\"color\": \"#2a3f5f\"}, \"geo\": {\"bgcolor\": \"white\", \"lakecolor\": \"white\", \"landcolor\": \"#E5ECF6\", \"showlakes\": true, \"showland\": true, \"subunitcolor\": \"white\"}, \"hoverlabel\": {\"align\": \"left\"}, \"hovermode\": \"closest\", \"mapbox\": {\"style\": \"light\"}, \"paper_bgcolor\": \"white\", \"plot_bgcolor\": \"#E5ECF6\", \"polar\": {\"angularaxis\": {\"gridcolor\": \"white\", \"linecolor\": \"white\", \"ticks\": \"\"}, \"bgcolor\": \"#E5ECF6\", \"radialaxis\": {\"gridcolor\": \"white\", \"linecolor\": \"white\", \"ticks\": \"\"}}, \"scene\": {\"xaxis\": {\"backgroundcolor\": \"#E5ECF6\", \"gridcolor\": \"white\", \"gridwidth\": 2, \"linecolor\": \"white\", \"showbackground\": true, \"ticks\": \"\", \"zerolinecolor\": \"white\"}, \"yaxis\": {\"backgroundcolor\": \"#E5ECF6\", \"gridcolor\": \"white\", \"gridwidth\": 2, \"linecolor\": \"white\", \"showbackground\": true, \"ticks\": \"\", \"zerolinecolor\": \"white\"}, \"zaxis\": {\"backgroundcolor\": \"#E5ECF6\", \"gridcolor\": \"white\", \"gridwidth\": 2, \"linecolor\": \"white\", \"showbackground\": true, \"ticks\": \"\", \"zerolinecolor\": \"white\"}}, \"shapedefaults\": {\"line\": {\"color\": \"#2a3f5f\"}}, \"ternary\": {\"aaxis\": {\"gridcolor\": \"white\", \"linecolor\": \"white\", \"ticks\": \"\"}, \"baxis\": {\"gridcolor\": \"white\", \"linecolor\": \"white\", \"ticks\": \"\"}, \"bgcolor\": \"#E5ECF6\", \"caxis\": {\"gridcolor\": \"white\", \"linecolor\": \"white\", \"ticks\": \"\"}}, \"title\": {\"x\": 0.05}, \"xaxis\": {\"automargin\": true, \"gridcolor\": \"white\", \"linecolor\": \"white\", \"ticks\": \"\", \"title\": {\"standoff\": 15}, \"zerolinecolor\": \"white\", \"zerolinewidth\": 2}, \"yaxis\": {\"automargin\": true, \"gridcolor\": \"white\", \"linecolor\": \"white\", \"ticks\": \"\", \"title\": {\"standoff\": 15}, \"zerolinecolor\": \"white\", \"zerolinewidth\": 2}}}, \"title\": {\"text\": \"Household Absolute change within simulation tics\"}, \"width\": 800, \"xaxis\": {\"gridcolor\": \"#f2f2f2\", \"gridwidth\": 1, \"title\": {\"text\": \"Simulation tic\"}, \"zerolinecolor\": \"lightgrey\", \"zerolinewidth\": 1}, \"yaxis\": {\"gridcolor\": \"#f2f2f2\", \"gridwidth\": 1, \"range\": [-100, 3300], \"title\": {\"text\": \"Household Count\"}, \"zerolinecolor\": \"lightgrey\", \"zerolinewidth\": 1}},                        {\"responsive\": true}                    ).then(function(){\n                            \nvar gd = document.getElementById('8b66b7cd-be3e-4afa-b5f3-8d2372a793e6');\nvar x = new MutationObserver(function (mutations, observer) {{\n        var display = window.getComputedStyle(gd).display;\n        if (!display || display === 'none') {{\n            console.log([gd, 'removed!']);\n            Plotly.purge(gd);\n            observer.disconnect();\n        }}\n}});\n\n// Listen for the removal of the full notebook cells\nvar notebookContainer = gd.closest('#notebook-container');\nif (notebookContainer) {{\n    x.observe(notebookContainer, {childList: true});\n}}\n\n// Listen for the clearing of the current output cell\nvar outputEl = gd.closest('.output');\nif (outputEl) {{\n    x.observe(outputEl, {childList: true});\n}}\n\n                        })                };                            </script>        </div>\n</body>\n</html>"
         },
         "metadata": {},
         "output_type": "display_data"
        }
       ]
      }
     },
     "9bac1a9416034c54b71f58e72115af70": {
      "model_module": "@jupyter-widgets/base",
      "model_module_version": "1.2.0",
      "model_name": "LayoutModel",
      "state": {}
     },
     "9c327e935dcf4879917434d45ed044b8": {
      "model_module": "@jupyter-widgets/output",
      "model_module_version": "1.0.0",
      "model_name": "OutputModel",
      "state": {
       "layout": "IPY_MODEL_5c1560f6894847f7bc7ccd9e9b8b0f2d",
       "outputs": [
        {
         "data": {
          "text/html": "<html>\n<head><meta charset=\"utf-8\" /></head>\n<body>\n    <div>            <script src=\"https://cdnjs.cloudflare.com/ajax/libs/mathjax/2.7.5/MathJax.js?config=TeX-AMS-MML_SVG\"></script><script type=\"text/javascript\">if (window.MathJax) {MathJax.Hub.Config({SVG: {font: \"STIX-Web\"}});}</script>                <script type=\"text/javascript\">window.PlotlyConfig = {MathJaxConfig: 'local'};</script>\n        <script src=\"https://cdn.plot.ly/plotly-latest.min.js\"></script>                <div id=\"5144c0e4-b3b5-4787-8bb0-c41db7488ae0\" class=\"plotly-graph-div\" style=\"height:375px; width:700px;\"></div>            <script type=\"text/javascript\">                                    window.PLOTLYENV=window.PLOTLYENV || {};                                    if (document.getElementById(\"5144c0e4-b3b5-4787-8bb0-c41db7488ae0\")) {                    Plotly.newPlot(                        \"5144c0e4-b3b5-4787-8bb0-c41db7488ae0\",                        [{\"hovertemplate\": \"Age_income=Above 65 High Income<br>simulationState=After Renewal<br>Age Group=%{x}<br>Income Group=%{y}<br>Count=%{marker.size}<extra></extra>\", \"legendgroup\": \"Above 65 High Income\", \"marker\": {\"color\": \"HSV(280, 28%, 58%)\", \"size\": [141], \"sizemode\": \"area\", \"sizeref\": 0.6288888888888889, \"symbol\": \"circle\"}, \"mode\": \"markers\", \"name\": \"Above 65 High Income\", \"orientation\": \"v\", \"showlegend\": false, \"type\": \"scatter\", \"x\": [\"Above 65\"], \"xaxis\": \"x2\", \"y\": [\"High Income\"], \"yaxis\": \"y2\"}, {\"hovertemplate\": \"Age_income=Above 65 Low Income<br>simulationState=Before Renewal<br>Age Group=%{x}<br>Income Group=%{y}<br>Count=%{marker.size}<extra></extra>\", \"legendgroup\": \"Above 65 Low Income\", \"marker\": {\"color\": \"HSV(83, 13%, 72%)\", \"size\": [63], \"sizemode\": \"area\", \"sizeref\": 0.6288888888888889, \"symbol\": \"circle\"}, \"mode\": \"markers\", \"name\": \"Above 65 Low Income\", \"orientation\": \"v\", \"showlegend\": false, \"type\": \"scatter\", \"x\": [\"Above 65\"], \"xaxis\": \"x\", \"y\": [\"Low Income\"], \"yaxis\": \"y\"}, {\"hovertemplate\": \"Age_income=Above 65 Low Income<br>simulationState=After Renewal<br>Age Group=%{x}<br>Income Group=%{y}<br>Count=%{marker.size}<extra></extra>\", \"legendgroup\": \"Above 65 Low Income\", \"marker\": {\"color\": \"HSV(83, 13%, 72%)\", \"size\": [2], \"sizemode\": \"area\", \"sizeref\": 0.6288888888888889, \"symbol\": \"circle\"}, \"mode\": \"markers\", \"name\": \"Above 65 Low Income\", \"orientation\": \"v\", \"showlegend\": false, \"type\": \"scatter\", \"x\": [\"Above 65\"], \"xaxis\": \"x2\", \"y\": [\"Low Income\"], \"yaxis\": \"y2\"}, {\"hovertemplate\": \"Age_income=Above 65 Medium Income<br>simulationState=Before Renewal<br>Age Group=%{x}<br>Income Group=%{y}<br>Count=%{marker.size}<extra></extra>\", \"legendgroup\": \"Above 65 Medium Income\", \"marker\": {\"color\": \"HSV(312, 34%, 65%)\", \"size\": [22], \"sizemode\": \"area\", \"sizeref\": 0.6288888888888889, \"symbol\": \"circle\"}, \"mode\": \"markers\", \"name\": \"Above 65 Medium Income\", \"orientation\": \"v\", \"showlegend\": false, \"type\": \"scatter\", \"x\": [\"Above 65\"], \"xaxis\": \"x\", \"y\": [\"Medium Income\"], \"yaxis\": \"y\"}, {\"hovertemplate\": \"Age_income=Above 65 Medium Income<br>simulationState=After Renewal<br>Age Group=%{x}<br>Income Group=%{y}<br>Count=%{marker.size}<extra></extra>\", \"legendgroup\": \"Above 65 Medium Income\", \"marker\": {\"color\": \"HSV(312, 34%, 65%)\", \"size\": [32], \"sizemode\": \"area\", \"sizeref\": 0.6288888888888889, \"symbol\": \"circle\"}, \"mode\": \"markers\", \"name\": \"Above 65 Medium Income\", \"orientation\": \"v\", \"showlegend\": false, \"type\": \"scatter\", \"x\": [\"Above 65\"], \"xaxis\": \"x2\", \"y\": [\"Medium Income\"], \"yaxis\": \"y2\"}, {\"hovertemplate\": \"Age_income=Under 65 High Income<br>simulationState=After Renewal<br>Age Group=%{x}<br>Income Group=%{y}<br>Count=%{marker.size}<extra></extra>\", \"legendgroup\": \"Under 65 High Income\", \"marker\": {\"color\": \"HSV(323,57%,39%)\", \"size\": [566], \"sizemode\": \"area\", \"sizeref\": 0.6288888888888889, \"symbol\": \"circle\"}, \"mode\": \"markers\", \"name\": \"Under 65 High Income\", \"orientation\": \"v\", \"showlegend\": false, \"type\": \"scatter\", \"x\": [\"Under 65\"], \"xaxis\": \"x2\", \"y\": [\"High Income\"], \"yaxis\": \"y2\"}, {\"hovertemplate\": \"Age_income=Under 65 Low Income<br>simulationState=Before Renewal<br>Age Group=%{x}<br>Income Group=%{y}<br>Count=%{marker.size}<extra></extra>\", \"legendgroup\": \"Under 65 Low Income\", \"marker\": {\"color\": \"HSV(44,37%, 55%)\", \"size\": [180], \"sizemode\": \"area\", \"sizeref\": 0.6288888888888889, \"symbol\": \"circle\"}, \"mode\": \"markers\", \"name\": \"Under 65 Low Income\", \"orientation\": \"v\", \"showlegend\": false, \"type\": \"scatter\", \"x\": [\"Under 65\"], \"xaxis\": \"x\", \"y\": [\"Low Income\"], \"yaxis\": \"y\"}, {\"hovertemplate\": \"Age_income=Under 65 Low Income<br>simulationState=After Renewal<br>Age Group=%{x}<br>Income Group=%{y}<br>Count=%{marker.size}<extra></extra>\", \"legendgroup\": \"Under 65 Low Income\", \"marker\": {\"color\": \"HSV(44,37%, 55%)\", \"size\": [44], \"sizemode\": \"area\", \"sizeref\": 0.6288888888888889, \"symbol\": \"circle\"}, \"mode\": \"markers\", \"name\": \"Under 65 Low Income\", \"orientation\": \"v\", \"showlegend\": false, \"type\": \"scatter\", \"x\": [\"Under 65\"], \"xaxis\": \"x2\", \"y\": [\"Low Income\"], \"yaxis\": \"y2\"}, {\"hovertemplate\": \"Age_income=Under 65 Medium Income<br>simulationState=Before Renewal<br>Age Group=%{x}<br>Income Group=%{y}<br>Count=%{marker.size}<extra></extra>\", \"legendgroup\": \"Under 65 Medium Income\", \"marker\": {\"color\": \"HSV(333, 65%, 51%)\", \"size\": [76], \"sizemode\": \"area\", \"sizeref\": 0.6288888888888889, \"symbol\": \"circle\"}, \"mode\": \"markers\", \"name\": \"Under 65 Medium Income\", \"orientation\": \"v\", \"showlegend\": false, \"type\": \"scatter\", \"x\": [\"Under 65\"], \"xaxis\": \"x\", \"y\": [\"Medium Income\"], \"yaxis\": \"y\"}, {\"hovertemplate\": \"Age_income=Under 65 Medium Income<br>simulationState=After Renewal<br>Age Group=%{x}<br>Income Group=%{y}<br>Count=%{marker.size}<extra></extra>\", \"legendgroup\": \"Under 65 Medium Income\", \"marker\": {\"color\": \"HSV(333, 65%, 51%)\", \"size\": [135], \"sizemode\": \"area\", \"sizeref\": 0.6288888888888889, \"symbol\": \"circle\"}, \"mode\": \"markers\", \"name\": \"Under 65 Medium Income\", \"orientation\": \"v\", \"showlegend\": false, \"type\": \"scatter\", \"x\": [\"Under 65\"], \"xaxis\": \"x2\", \"y\": [\"Medium Income\"], \"yaxis\": \"y2\"}],                        {\"annotations\": [{\"font\": {}, \"showarrow\": false, \"text\": \"Before Renewal\", \"x\": 0.245, \"xanchor\": \"center\", \"xref\": \"paper\", \"y\": 1.0, \"yanchor\": \"bottom\", \"yref\": \"paper\"}, {\"font\": {}, \"showarrow\": false, \"text\": \"After Renewal\", \"x\": 0.755, \"xanchor\": \"center\", \"xref\": \"paper\", \"y\": 1.0, \"yanchor\": \"bottom\", \"yref\": \"paper\"}], \"height\": 375, \"legend\": {\"itemsizing\": \"constant\", \"title\": {\"text\": \"Age_income\"}, \"tracegroupgap\": 0}, \"plot_bgcolor\": \"#f2f7ff\", \"template\": {\"data\": {\"bar\": [{\"error_x\": {\"color\": \"#2a3f5f\"}, \"error_y\": {\"color\": \"#2a3f5f\"}, \"marker\": {\"line\": {\"color\": \"#E5ECF6\", \"width\": 0.5}}, \"type\": \"bar\"}], \"barpolar\": [{\"marker\": {\"line\": {\"color\": \"#E5ECF6\", \"width\": 0.5}}, \"type\": \"barpolar\"}], \"carpet\": [{\"aaxis\": {\"endlinecolor\": \"#2a3f5f\", \"gridcolor\": \"white\", \"linecolor\": \"white\", \"minorgridcolor\": \"white\", \"startlinecolor\": \"#2a3f5f\"}, \"baxis\": {\"endlinecolor\": \"#2a3f5f\", \"gridcolor\": \"white\", \"linecolor\": \"white\", \"minorgridcolor\": \"white\", \"startlinecolor\": \"#2a3f5f\"}, \"type\": \"carpet\"}], \"choropleth\": [{\"colorbar\": {\"outlinewidth\": 0, \"ticks\": \"\"}, \"type\": \"choropleth\"}], \"contour\": [{\"colorbar\": {\"outlinewidth\": 0, \"ticks\": \"\"}, \"colorscale\": [[0.0, \"#0d0887\"], [0.1111111111111111, \"#46039f\"], [0.2222222222222222, \"#7201a8\"], [0.3333333333333333, \"#9c179e\"], [0.4444444444444444, \"#bd3786\"], [0.5555555555555556, \"#d8576b\"], [0.6666666666666666, \"#ed7953\"], [0.7777777777777778, \"#fb9f3a\"], [0.8888888888888888, \"#fdca26\"], [1.0, \"#f0f921\"]], \"type\": \"contour\"}], \"contourcarpet\": [{\"colorbar\": {\"outlinewidth\": 0, \"ticks\": \"\"}, \"type\": \"contourcarpet\"}], \"heatmap\": [{\"colorbar\": {\"outlinewidth\": 0, \"ticks\": \"\"}, \"colorscale\": [[0.0, \"#0d0887\"], [0.1111111111111111, \"#46039f\"], [0.2222222222222222, \"#7201a8\"], [0.3333333333333333, \"#9c179e\"], [0.4444444444444444, \"#bd3786\"], [0.5555555555555556, \"#d8576b\"], [0.6666666666666666, \"#ed7953\"], [0.7777777777777778, \"#fb9f3a\"], [0.8888888888888888, \"#fdca26\"], [1.0, \"#f0f921\"]], \"type\": \"heatmap\"}], \"heatmapgl\": [{\"colorbar\": {\"outlinewidth\": 0, \"ticks\": \"\"}, \"colorscale\": [[0.0, \"#0d0887\"], [0.1111111111111111, \"#46039f\"], [0.2222222222222222, \"#7201a8\"], [0.3333333333333333, \"#9c179e\"], [0.4444444444444444, \"#bd3786\"], [0.5555555555555556, \"#d8576b\"], [0.6666666666666666, \"#ed7953\"], [0.7777777777777778, \"#fb9f3a\"], [0.8888888888888888, \"#fdca26\"], [1.0, \"#f0f921\"]], \"type\": \"heatmapgl\"}], \"histogram\": [{\"marker\": {\"colorbar\": {\"outlinewidth\": 0, \"ticks\": \"\"}}, \"type\": \"histogram\"}], \"histogram2d\": [{\"colorbar\": {\"outlinewidth\": 0, \"ticks\": \"\"}, \"colorscale\": [[0.0, \"#0d0887\"], [0.1111111111111111, \"#46039f\"], [0.2222222222222222, \"#7201a8\"], [0.3333333333333333, \"#9c179e\"], [0.4444444444444444, \"#bd3786\"], [0.5555555555555556, \"#d8576b\"], [0.6666666666666666, \"#ed7953\"], [0.7777777777777778, \"#fb9f3a\"], [0.8888888888888888, \"#fdca26\"], [1.0, \"#f0f921\"]], \"type\": \"histogram2d\"}], \"histogram2dcontour\": [{\"colorbar\": {\"outlinewidth\": 0, \"ticks\": \"\"}, \"colorscale\": [[0.0, \"#0d0887\"], [0.1111111111111111, \"#46039f\"], [0.2222222222222222, \"#7201a8\"], [0.3333333333333333, \"#9c179e\"], [0.4444444444444444, \"#bd3786\"], [0.5555555555555556, \"#d8576b\"], [0.6666666666666666, \"#ed7953\"], [0.7777777777777778, \"#fb9f3a\"], [0.8888888888888888, \"#fdca26\"], [1.0, \"#f0f921\"]], \"type\": \"histogram2dcontour\"}], \"mesh3d\": [{\"colorbar\": {\"outlinewidth\": 0, \"ticks\": \"\"}, \"type\": \"mesh3d\"}], \"parcoords\": [{\"line\": {\"colorbar\": {\"outlinewidth\": 0, \"ticks\": \"\"}}, \"type\": \"parcoords\"}], \"pie\": [{\"automargin\": true, \"type\": \"pie\"}], \"scatter\": [{\"marker\": {\"colorbar\": {\"outlinewidth\": 0, \"ticks\": \"\"}}, \"type\": \"scatter\"}], \"scatter3d\": [{\"line\": {\"colorbar\": {\"outlinewidth\": 0, \"ticks\": \"\"}}, \"marker\": {\"colorbar\": {\"outlinewidth\": 0, \"ticks\": \"\"}}, \"type\": \"scatter3d\"}], \"scattercarpet\": [{\"marker\": {\"colorbar\": {\"outlinewidth\": 0, \"ticks\": \"\"}}, \"type\": \"scattercarpet\"}], \"scattergeo\": [{\"marker\": {\"colorbar\": {\"outlinewidth\": 0, \"ticks\": \"\"}}, \"type\": \"scattergeo\"}], \"scattergl\": [{\"marker\": {\"colorbar\": {\"outlinewidth\": 0, \"ticks\": \"\"}}, \"type\": \"scattergl\"}], \"scattermapbox\": [{\"marker\": {\"colorbar\": {\"outlinewidth\": 0, \"ticks\": \"\"}}, \"type\": \"scattermapbox\"}], \"scatterpolar\": [{\"marker\": {\"colorbar\": {\"outlinewidth\": 0, \"ticks\": \"\"}}, \"type\": \"scatterpolar\"}], \"scatterpolargl\": [{\"marker\": {\"colorbar\": {\"outlinewidth\": 0, \"ticks\": \"\"}}, \"type\": \"scatterpolargl\"}], \"scatterternary\": [{\"marker\": {\"colorbar\": {\"outlinewidth\": 0, \"ticks\": \"\"}}, \"type\": \"scatterternary\"}], \"surface\": [{\"colorbar\": {\"outlinewidth\": 0, \"ticks\": \"\"}, \"colorscale\": [[0.0, \"#0d0887\"], [0.1111111111111111, \"#46039f\"], [0.2222222222222222, \"#7201a8\"], [0.3333333333333333, \"#9c179e\"], [0.4444444444444444, \"#bd3786\"], [0.5555555555555556, \"#d8576b\"], [0.6666666666666666, \"#ed7953\"], [0.7777777777777778, \"#fb9f3a\"], [0.8888888888888888, \"#fdca26\"], [1.0, \"#f0f921\"]], \"type\": \"surface\"}], \"table\": [{\"cells\": {\"fill\": {\"color\": \"#EBF0F8\"}, \"line\": {\"color\": \"white\"}}, \"header\": {\"fill\": {\"color\": \"#C8D4E3\"}, \"line\": {\"color\": \"white\"}}, \"type\": \"table\"}]}, \"layout\": {\"annotationdefaults\": {\"arrowcolor\": \"#2a3f5f\", \"arrowhead\": 0, \"arrowwidth\": 1}, \"autotypenumbers\": \"strict\", \"coloraxis\": {\"colorbar\": {\"outlinewidth\": 0, \"ticks\": \"\"}}, \"colorscale\": {\"diverging\": [[0, \"#8e0152\"], [0.1, \"#c51b7d\"], [0.2, \"#de77ae\"], [0.3, \"#f1b6da\"], [0.4, \"#fde0ef\"], [0.5, \"#f7f7f7\"], [0.6, \"#e6f5d0\"], [0.7, \"#b8e186\"], [0.8, \"#7fbc41\"], [0.9, \"#4d9221\"], [1, \"#276419\"]], \"sequential\": [[0.0, \"#0d0887\"], [0.1111111111111111, \"#46039f\"], [0.2222222222222222, \"#7201a8\"], [0.3333333333333333, \"#9c179e\"], [0.4444444444444444, \"#bd3786\"], [0.5555555555555556, \"#d8576b\"], [0.6666666666666666, \"#ed7953\"], [0.7777777777777778, \"#fb9f3a\"], [0.8888888888888888, \"#fdca26\"], [1.0, \"#f0f921\"]], \"sequentialminus\": [[0.0, \"#0d0887\"], [0.1111111111111111, \"#46039f\"], [0.2222222222222222, \"#7201a8\"], [0.3333333333333333, \"#9c179e\"], [0.4444444444444444, \"#bd3786\"], [0.5555555555555556, \"#d8576b\"], [0.6666666666666666, \"#ed7953\"], [0.7777777777777778, \"#fb9f3a\"], [0.8888888888888888, \"#fdca26\"], [1.0, \"#f0f921\"]]}, \"colorway\": [\"#636efa\", \"#EF553B\", \"#00cc96\", \"#ab63fa\", \"#FFA15A\", \"#19d3f3\", \"#FF6692\", \"#B6E880\", \"#FF97FF\", \"#FECB52\"], \"font\": {\"color\": \"#2a3f5f\"}, \"geo\": {\"bgcolor\": \"white\", \"lakecolor\": \"white\", \"landcolor\": \"#E5ECF6\", \"showlakes\": true, \"showland\": true, \"subunitcolor\": \"white\"}, \"hoverlabel\": {\"align\": \"left\"}, \"hovermode\": \"closest\", \"mapbox\": {\"style\": \"light\"}, \"paper_bgcolor\": \"white\", \"plot_bgcolor\": \"#E5ECF6\", \"polar\": {\"angularaxis\": {\"gridcolor\": \"white\", \"linecolor\": \"white\", \"ticks\": \"\"}, \"bgcolor\": \"#E5ECF6\", \"radialaxis\": {\"gridcolor\": \"white\", \"linecolor\": \"white\", \"ticks\": \"\"}}, \"scene\": {\"xaxis\": {\"backgroundcolor\": \"#E5ECF6\", \"gridcolor\": \"white\", \"gridwidth\": 2, \"linecolor\": \"white\", \"showbackground\": true, \"ticks\": \"\", \"zerolinecolor\": \"white\"}, \"yaxis\": {\"backgroundcolor\": \"#E5ECF6\", \"gridcolor\": \"white\", \"gridwidth\": 2, \"linecolor\": \"white\", \"showbackground\": true, \"ticks\": \"\", \"zerolinecolor\": \"white\"}, \"zaxis\": {\"backgroundcolor\": \"#E5ECF6\", \"gridcolor\": \"white\", \"gridwidth\": 2, \"linecolor\": \"white\", \"showbackground\": true, \"ticks\": \"\", \"zerolinecolor\": \"white\"}}, \"shapedefaults\": {\"line\": {\"color\": \"#2a3f5f\"}}, \"ternary\": {\"aaxis\": {\"gridcolor\": \"white\", \"linecolor\": \"white\", \"ticks\": \"\"}, \"baxis\": {\"gridcolor\": \"white\", \"linecolor\": \"white\", \"ticks\": \"\"}, \"bgcolor\": \"#E5ECF6\", \"caxis\": {\"gridcolor\": \"white\", \"linecolor\": \"white\", \"ticks\": \"\"}}, \"title\": {\"x\": 0.05}, \"xaxis\": {\"automargin\": true, \"gridcolor\": \"white\", \"linecolor\": \"white\", \"ticks\": \"\", \"title\": {\"standoff\": 15}, \"zerolinecolor\": \"white\", \"zerolinewidth\": 2}, \"yaxis\": {\"automargin\": true, \"gridcolor\": \"white\", \"linecolor\": \"white\", \"ticks\": \"\", \"title\": {\"standoff\": 15}, \"zerolinecolor\": \"white\", \"zerolinewidth\": 2}}}, \"title\": {\"text\": \"Age Group Vs Income Before and After Renewal\"}, \"width\": 700, \"xaxis\": {\"anchor\": \"y\", \"categoryarray\": [\"Under 65\", \"Above 65\"], \"categoryorder\": \"array\", \"domain\": [0.0, 0.49], \"gridcolor\": \"#d9d9d9\", \"gridwidth\": 1, \"title\": {\"text\": \"\"}, \"zerolinecolor\": \"lightgrey\", \"zerolinewidth\": 1}, \"xaxis2\": {\"anchor\": \"y2\", \"categoryarray\": [\"Under 65\", \"Above 65\"], \"categoryorder\": \"array\", \"domain\": [0.51, 1.0], \"gridcolor\": \"#d9d9d9\", \"gridwidth\": 1, \"matches\": \"x\", \"title\": {\"text\": \"\"}, \"zerolinecolor\": \"lightgrey\", \"zerolinewidth\": 1}, \"yaxis\": {\"anchor\": \"x\", \"categoryarray\": [\"Low Income\", \"Medium Income\", \"High Income\"], \"categoryorder\": \"array\", \"domain\": [0.0, 1.0], \"gridcolor\": \"#d9d9d9\", \"gridwidth\": 1, \"title\": {\"text\": \"\"}, \"zerolinecolor\": \"lightgrey\", \"zerolinewidth\": 1}, \"yaxis2\": {\"anchor\": \"x2\", \"domain\": [0.0, 1.0], \"gridcolor\": \"#d9d9d9\", \"gridwidth\": 1, \"matches\": \"y\", \"showticklabels\": false, \"title\": {\"text\": \"\"}, \"zerolinecolor\": \"lightgrey\", \"zerolinewidth\": 1}},                        {\"responsive\": true}                    ).then(function(){\n                            \nvar gd = document.getElementById('5144c0e4-b3b5-4787-8bb0-c41db7488ae0');\nvar x = new MutationObserver(function (mutations, observer) {{\n        var display = window.getComputedStyle(gd).display;\n        if (!display || display === 'none') {{\n            console.log([gd, 'removed!']);\n            Plotly.purge(gd);\n            observer.disconnect();\n        }}\n}});\n\n// Listen for the removal of the full notebook cells\nvar notebookContainer = gd.closest('#notebook-container');\nif (notebookContainer) {{\n    x.observe(notebookContainer, {childList: true});\n}}\n\n// Listen for the clearing of the current output cell\nvar outputEl = gd.closest('.output');\nif (outputEl) {{\n    x.observe(outputEl, {childList: true});\n}}\n\n                        })                };                            </script>        </div>\n</body>\n</html>"
         },
         "metadata": {},
         "output_type": "display_data"
        }
       ]
      }
     },
     "9e8c64c09a6449adaf141781b077f21d": {
      "model_module": "@jupyter-widgets/output",
      "model_module_version": "1.0.0",
      "model_name": "OutputModel",
      "state": {
       "layout": "IPY_MODEL_7d5997712084412bb525a1cd51a9c574",
       "outputs": [
        {
         "data": {
          "text/html": "<html>\n<head><meta charset=\"utf-8\" /></head>\n<body>\n    <div>            <script src=\"https://cdnjs.cloudflare.com/ajax/libs/mathjax/2.7.5/MathJax.js?config=TeX-AMS-MML_SVG\"></script><script type=\"text/javascript\">if (window.MathJax) {MathJax.Hub.Config({SVG: {font: \"STIX-Web\"}});}</script>                <script type=\"text/javascript\">window.PlotlyConfig = {MathJaxConfig: 'local'};</script>\n        <script src=\"https://cdn.plot.ly/plotly-latest.min.js\"></script>                <div id=\"006e23bf-7aac-48c3-bec7-79265ed8eaf9\" class=\"plotly-graph-div\" style=\"height:375px; width:800px;\"></div>            <script type=\"text/javascript\">                                    window.PLOTLYENV=window.PLOTLYENV || {};                                    if (document.getElementById(\"006e23bf-7aac-48c3-bec7-79265ed8eaf9\")) {                    Plotly.newPlot(                        \"006e23bf-7aac-48c3-bec7-79265ed8eaf9\",                        [{\"legendgroup\": \"Staying\", \"line\": {\"color\": \"hsv(349,89%,74%)\", \"width\": 2}, \"name\": \"High Stay\", \"type\": \"scatter\", \"x\": [1, 2, 3, 4, 5, 6, 7, 8, 9, 10, 12], \"y\": [0.0, 0.0, 0.0, 0.0, 0.0, 0.0, 0.0, 0.0, 0.0, 0.0, 0.0]}, {\"legendgroup\": \"Staying\", \"line\": {\"color\": \"hsv(6,64%,89%)\", \"width\": 2}, \"name\": \"Med Stay\", \"type\": \"scatter\", \"x\": [1, 2, 3, 4, 5, 6, 7, 8, 9, 10, 12], \"y\": [0.4019607843137255, 0.3922413793103448, 0.37671957671957673, 0.36496350364963503, 0.34984833164812945, 0.33567134268537074, 0.3300395256916996, 0.2974910394265233, 0.21138211382113822, 0.2055888223552894, 0.2019672131147541]}, {\"legendgroup\": \"Staying\", \"line\": {\"color\": \"hsv(16,41%,98%)\", \"width\": 2}, \"name\": \"Low Stay\", \"type\": \"scatter\", \"x\": [1, 2, 3, 4, 5, 6, 7, 8, 9, 10, 12], \"y\": [0.5610021786492375, 0.5431034482758621, 0.526984126984127, 0.5119916579770595, 0.4914054600606673, 0.46893787575150303, 0.44861660079051385, 0.4050179211469534, 0.21138211382113822, 0.20359281437125748, 0.19737704918032786]}, {\"legendgroup\": \"New Comers\", \"line\": {\"color\": \"hsv(349,89%,74%)\", \"width\": 4}, \"name\": \"High New Comer\", \"type\": \"scatter\", \"x\": [1, 2, 3, 4, 5, 6, 7, 8, 9, 10, 12], \"y\": [0.02505446623093682, 0.04310344827586207, 0.042328042328042326, 0.06882168925964546, 0.09908998988877654, 0.1342685370741483, 0.15217391304347827, 0.18100358422939067, 0.489159891598916, 0.5043246839654025, 0.5154098360655738]}, {\"legendgroup\": \"New Comers\", \"line\": {\"color\": \"hsv(6,64%,89%)\", \"width\": 4}, \"name\": \"Med New Comer\", \"type\": \"scatter\", \"x\": [1, 2, 3, 4, 5, 6, 7, 8, 9, 10, 12], \"y\": [0.011982570806100218, 0.021551724137931036, 0.05396825396825397, 0.054223149113660066, 0.05965621840242669, 0.061122244488977955, 0.0691699604743083, 0.11648745519713262, 0.08807588075880758, 0.08649367930805056, 0.08524590163934426]}, {\"legendgroup\": \"New Comers\", \"line\": {\"color\": \"hsv(16,41%,98%)\", \"width\": 4}, \"name\": \"Low New Comer\", \"type\": \"scatter\", \"x\": [1, 2, 3, 4, 5, 6, 7, 8, 9, 10, 12], \"y\": [0.0, 0.0, 0.0, 0.0, 0.0, 0.0, 0.0, 0.0, 0.0, 0.0, 0.0]}, {\"legendgroup\": \"Average\", \"line\": {\"color\": \"hsv(30,50%,100%)\", \"dash\": \"dash\"}, \"name\": \"High (average)\", \"type\": \"scatter\", \"x\": [1, 2, 3, 4, 5, 6, 7, 8, 9, 10, 12], \"y\": [0.02505446623093682, 0.04310344827586207, 0.042328042328042326, 0.06882168925964546, 0.09908998988877654, 0.1342685370741483, 0.15217391304347827, 0.18100358422939067, 0.489159891598916, 0.5043246839654025, 0.5154098360655738]}, {\"legendgroup\": \"Average\", \"line\": {\"color\": \"hsv(30,75%,100%)\", \"dash\": \"dash\"}, \"name\": \"Medium (average)\", \"type\": \"scatter\", \"x\": [1, 2, 3, 4, 5, 6, 7, 8, 9, 10, 12], \"y\": [0.4139433551198257, 0.41379310344827586, 0.4306878306878307, 0.4191866527632951, 0.40950455005055614, 0.3967935871743487, 0.39920948616600793, 0.41397849462365593, 0.2994579945799458, 0.29208250166334, 0.2872131147540984]}, {\"legendgroup\": \"Average\", \"line\": {\"color\": \"hsv(30,100%,50%)\", \"dash\": \"dash\"}, \"name\": \"Low (average)\", \"type\": \"scatter\", \"x\": [1, 2, 3, 4, 5, 6, 7, 8, 9, 10, 12], \"y\": [0.5610021786492375, 0.5431034482758621, 0.526984126984127, 0.5119916579770595, 0.4914054600606673, 0.46893787575150303, 0.44861660079051385, 0.4050179211469534, 0.21138211382113822, 0.20359281437125748, 0.19737704918032786]}, {\"legendgroup\": \"Building Type\", \"marker\": {\"color\": \"hsv(210,100%,75%)\"}, \"mode\": \"markers\", \"name\": \"Addition\", \"type\": \"scatter\", \"x\": [1, 2, 3, 4, 6, 7], \"y\": [-0.02, -0.02, -0.02, -0.02, -0.02, -0.02]}, {\"legendgroup\": \"Building Type\", \"marker\": {\"color\": \"hsv(210,100%,100%)\"}, \"mode\": \"markers\", \"name\": \"Reconstruction\", \"type\": \"scatter\", \"x\": [5, 8, 10, 12], \"y\": [-0.02, -0.02, -0.02, -0.02]}, {\"legendgroup\": \"Building Type\", \"marker\": {\"color\": \"hsv(210,50%,100%)\"}, \"mode\": \"markers\", \"name\": \"Raze and Rebuild\", \"type\": \"scatter\", \"x\": [9], \"y\": [-0.02]}],                        {\"height\": 375, \"legend\": {\"bgcolor\": \"rgba(255,255,255,0.5)\", \"orientation\": \"h\", \"x\": 0.03, \"xanchor\": \"left\", \"y\": 1.0, \"yanchor\": \"top\"}, \"plot_bgcolor\": \"rgba(0,0,0,0)\", \"shapes\": [{\"layer\": \"below\", \"line\": {\"color\": \"hsv(210,100%,75%)\", \"dash\": \"dot\", \"width\": 1.5}, \"type\": \"line\", \"x0\": 1, \"x1\": 1, \"y0\": 0, \"y1\": 1}, {\"layer\": \"below\", \"line\": {\"color\": \"hsv(210,100%,75%)\", \"dash\": \"dot\", \"width\": 1.5}, \"type\": \"line\", \"x0\": 2, \"x1\": 2, \"y0\": 0, \"y1\": 1}, {\"layer\": \"below\", \"line\": {\"color\": \"hsv(210,100%,75%)\", \"dash\": \"dot\", \"width\": 1.5}, \"type\": \"line\", \"x0\": 3, \"x1\": 3, \"y0\": 0, \"y1\": 1}, {\"layer\": \"below\", \"line\": {\"color\": \"hsv(210,100%,75%)\", \"dash\": \"dot\", \"width\": 1.5}, \"type\": \"line\", \"x0\": 4, \"x1\": 4, \"y0\": 0, \"y1\": 1}, {\"layer\": \"below\", \"line\": {\"color\": \"hsv(210,100%,75%)\", \"dash\": \"dot\", \"width\": 1.5}, \"type\": \"line\", \"x0\": 6, \"x1\": 6, \"y0\": 0, \"y1\": 1}, {\"layer\": \"below\", \"line\": {\"color\": \"hsv(210,100%,75%)\", \"dash\": \"dot\", \"width\": 1.5}, \"type\": \"line\", \"x0\": 7, \"x1\": 7, \"y0\": 0, \"y1\": 1}, {\"layer\": \"below\", \"line\": {\"color\": \"hsv(210,100%,100%)\", \"dash\": \"dot\", \"width\": 1.5}, \"type\": \"line\", \"x0\": 5, \"x1\": 5, \"y0\": 0, \"y1\": 1}, {\"layer\": \"below\", \"line\": {\"color\": \"hsv(210,100%,100%)\", \"dash\": \"dot\", \"width\": 1.5}, \"type\": \"line\", \"x0\": 8, \"x1\": 8, \"y0\": 0, \"y1\": 1}, {\"layer\": \"below\", \"line\": {\"color\": \"hsv(210,100%,100%)\", \"dash\": \"dot\", \"width\": 1.5}, \"type\": \"line\", \"x0\": 10, \"x1\": 10, \"y0\": 0, \"y1\": 1}, {\"layer\": \"below\", \"line\": {\"color\": \"hsv(210,100%,100%)\", \"dash\": \"dot\", \"width\": 1.5}, \"type\": \"line\", \"x0\": 12, \"x1\": 12, \"y0\": 0, \"y1\": 1}, {\"layer\": \"below\", \"line\": {\"color\": \"hsv(210,50%,100%)\", \"dash\": \"dot\", \"width\": 1.5}, \"type\": \"line\", \"x0\": 9, \"x1\": 9, \"y0\": 0, \"y1\": 1}], \"showlegend\": true, \"template\": {\"data\": {\"bar\": [{\"error_x\": {\"color\": \"#2a3f5f\"}, \"error_y\": {\"color\": \"#2a3f5f\"}, \"marker\": {\"line\": {\"color\": \"#E5ECF6\", \"width\": 0.5}}, \"type\": \"bar\"}], \"barpolar\": [{\"marker\": {\"line\": {\"color\": \"#E5ECF6\", \"width\": 0.5}}, \"type\": \"barpolar\"}], \"carpet\": [{\"aaxis\": {\"endlinecolor\": \"#2a3f5f\", \"gridcolor\": \"white\", \"linecolor\": \"white\", \"minorgridcolor\": \"white\", \"startlinecolor\": \"#2a3f5f\"}, \"baxis\": {\"endlinecolor\": \"#2a3f5f\", \"gridcolor\": \"white\", \"linecolor\": \"white\", \"minorgridcolor\": \"white\", \"startlinecolor\": \"#2a3f5f\"}, \"type\": \"carpet\"}], \"choropleth\": [{\"colorbar\": {\"outlinewidth\": 0, \"ticks\": \"\"}, \"type\": \"choropleth\"}], \"contour\": [{\"colorbar\": {\"outlinewidth\": 0, \"ticks\": \"\"}, \"colorscale\": [[0.0, \"#0d0887\"], [0.1111111111111111, \"#46039f\"], [0.2222222222222222, \"#7201a8\"], [0.3333333333333333, \"#9c179e\"], [0.4444444444444444, \"#bd3786\"], [0.5555555555555556, \"#d8576b\"], [0.6666666666666666, \"#ed7953\"], [0.7777777777777778, \"#fb9f3a\"], [0.8888888888888888, \"#fdca26\"], [1.0, \"#f0f921\"]], \"type\": \"contour\"}], \"contourcarpet\": [{\"colorbar\": {\"outlinewidth\": 0, \"ticks\": \"\"}, \"type\": \"contourcarpet\"}], \"heatmap\": [{\"colorbar\": {\"outlinewidth\": 0, \"ticks\": \"\"}, \"colorscale\": [[0.0, \"#0d0887\"], [0.1111111111111111, \"#46039f\"], [0.2222222222222222, \"#7201a8\"], [0.3333333333333333, \"#9c179e\"], [0.4444444444444444, \"#bd3786\"], [0.5555555555555556, \"#d8576b\"], [0.6666666666666666, \"#ed7953\"], [0.7777777777777778, \"#fb9f3a\"], [0.8888888888888888, \"#fdca26\"], [1.0, \"#f0f921\"]], \"type\": \"heatmap\"}], \"heatmapgl\": [{\"colorbar\": {\"outlinewidth\": 0, \"ticks\": \"\"}, \"colorscale\": [[0.0, \"#0d0887\"], [0.1111111111111111, \"#46039f\"], [0.2222222222222222, \"#7201a8\"], [0.3333333333333333, \"#9c179e\"], [0.4444444444444444, \"#bd3786\"], [0.5555555555555556, \"#d8576b\"], [0.6666666666666666, \"#ed7953\"], [0.7777777777777778, \"#fb9f3a\"], [0.8888888888888888, \"#fdca26\"], [1.0, \"#f0f921\"]], \"type\": \"heatmapgl\"}], \"histogram\": [{\"marker\": {\"colorbar\": {\"outlinewidth\": 0, \"ticks\": \"\"}}, \"type\": \"histogram\"}], \"histogram2d\": [{\"colorbar\": {\"outlinewidth\": 0, \"ticks\": \"\"}, \"colorscale\": [[0.0, \"#0d0887\"], [0.1111111111111111, \"#46039f\"], [0.2222222222222222, \"#7201a8\"], [0.3333333333333333, \"#9c179e\"], [0.4444444444444444, \"#bd3786\"], [0.5555555555555556, \"#d8576b\"], [0.6666666666666666, \"#ed7953\"], [0.7777777777777778, \"#fb9f3a\"], [0.8888888888888888, \"#fdca26\"], [1.0, \"#f0f921\"]], \"type\": \"histogram2d\"}], \"histogram2dcontour\": [{\"colorbar\": {\"outlinewidth\": 0, \"ticks\": \"\"}, \"colorscale\": [[0.0, \"#0d0887\"], [0.1111111111111111, \"#46039f\"], [0.2222222222222222, \"#7201a8\"], [0.3333333333333333, \"#9c179e\"], [0.4444444444444444, \"#bd3786\"], [0.5555555555555556, \"#d8576b\"], [0.6666666666666666, \"#ed7953\"], [0.7777777777777778, \"#fb9f3a\"], [0.8888888888888888, \"#fdca26\"], [1.0, \"#f0f921\"]], \"type\": \"histogram2dcontour\"}], \"mesh3d\": [{\"colorbar\": {\"outlinewidth\": 0, \"ticks\": \"\"}, \"type\": \"mesh3d\"}], \"parcoords\": [{\"line\": {\"colorbar\": {\"outlinewidth\": 0, \"ticks\": \"\"}}, \"type\": \"parcoords\"}], \"pie\": [{\"automargin\": true, \"type\": \"pie\"}], \"scatter\": [{\"marker\": {\"colorbar\": {\"outlinewidth\": 0, \"ticks\": \"\"}}, \"type\": \"scatter\"}], \"scatter3d\": [{\"line\": {\"colorbar\": {\"outlinewidth\": 0, \"ticks\": \"\"}}, \"marker\": {\"colorbar\": {\"outlinewidth\": 0, \"ticks\": \"\"}}, \"type\": \"scatter3d\"}], \"scattercarpet\": [{\"marker\": {\"colorbar\": {\"outlinewidth\": 0, \"ticks\": \"\"}}, \"type\": \"scattercarpet\"}], \"scattergeo\": [{\"marker\": {\"colorbar\": {\"outlinewidth\": 0, \"ticks\": \"\"}}, \"type\": \"scattergeo\"}], \"scattergl\": [{\"marker\": {\"colorbar\": {\"outlinewidth\": 0, \"ticks\": \"\"}}, \"type\": \"scattergl\"}], \"scattermapbox\": [{\"marker\": {\"colorbar\": {\"outlinewidth\": 0, \"ticks\": \"\"}}, \"type\": \"scattermapbox\"}], \"scatterpolar\": [{\"marker\": {\"colorbar\": {\"outlinewidth\": 0, \"ticks\": \"\"}}, \"type\": \"scatterpolar\"}], \"scatterpolargl\": [{\"marker\": {\"colorbar\": {\"outlinewidth\": 0, \"ticks\": \"\"}}, \"type\": \"scatterpolargl\"}], \"scatterternary\": [{\"marker\": {\"colorbar\": {\"outlinewidth\": 0, \"ticks\": \"\"}}, \"type\": \"scatterternary\"}], \"surface\": [{\"colorbar\": {\"outlinewidth\": 0, \"ticks\": \"\"}, \"colorscale\": [[0.0, \"#0d0887\"], [0.1111111111111111, \"#46039f\"], [0.2222222222222222, \"#7201a8\"], [0.3333333333333333, \"#9c179e\"], [0.4444444444444444, \"#bd3786\"], [0.5555555555555556, \"#d8576b\"], [0.6666666666666666, \"#ed7953\"], [0.7777777777777778, \"#fb9f3a\"], [0.8888888888888888, \"#fdca26\"], [1.0, \"#f0f921\"]], \"type\": \"surface\"}], \"table\": [{\"cells\": {\"fill\": {\"color\": \"#EBF0F8\"}, \"line\": {\"color\": \"white\"}}, \"header\": {\"fill\": {\"color\": \"#C8D4E3\"}, \"line\": {\"color\": \"white\"}}, \"type\": \"table\"}]}, \"layout\": {\"annotationdefaults\": {\"arrowcolor\": \"#2a3f5f\", \"arrowhead\": 0, \"arrowwidth\": 1}, \"autotypenumbers\": \"strict\", \"coloraxis\": {\"colorbar\": {\"outlinewidth\": 0, \"ticks\": \"\"}}, \"colorscale\": {\"diverging\": [[0, \"#8e0152\"], [0.1, \"#c51b7d\"], [0.2, \"#de77ae\"], [0.3, \"#f1b6da\"], [0.4, \"#fde0ef\"], [0.5, \"#f7f7f7\"], [0.6, \"#e6f5d0\"], [0.7, \"#b8e186\"], [0.8, \"#7fbc41\"], [0.9, \"#4d9221\"], [1, \"#276419\"]], \"sequential\": [[0.0, \"#0d0887\"], [0.1111111111111111, \"#46039f\"], [0.2222222222222222, \"#7201a8\"], [0.3333333333333333, \"#9c179e\"], [0.4444444444444444, \"#bd3786\"], [0.5555555555555556, \"#d8576b\"], [0.6666666666666666, \"#ed7953\"], [0.7777777777777778, \"#fb9f3a\"], [0.8888888888888888, \"#fdca26\"], [1.0, \"#f0f921\"]], \"sequentialminus\": [[0.0, \"#0d0887\"], [0.1111111111111111, \"#46039f\"], [0.2222222222222222, \"#7201a8\"], [0.3333333333333333, \"#9c179e\"], [0.4444444444444444, \"#bd3786\"], [0.5555555555555556, \"#d8576b\"], [0.6666666666666666, \"#ed7953\"], [0.7777777777777778, \"#fb9f3a\"], [0.8888888888888888, \"#fdca26\"], [1.0, \"#f0f921\"]]}, \"colorway\": [\"#636efa\", \"#EF553B\", \"#00cc96\", \"#ab63fa\", \"#FFA15A\", \"#19d3f3\", \"#FF6692\", \"#B6E880\", \"#FF97FF\", \"#FECB52\"], \"font\": {\"color\": \"#2a3f5f\"}, \"geo\": {\"bgcolor\": \"white\", \"lakecolor\": \"white\", \"landcolor\": \"#E5ECF6\", \"showlakes\": true, \"showland\": true, \"subunitcolor\": \"white\"}, \"hoverlabel\": {\"align\": \"left\"}, \"hovermode\": \"closest\", \"mapbox\": {\"style\": \"light\"}, \"paper_bgcolor\": \"white\", \"plot_bgcolor\": \"#E5ECF6\", \"polar\": {\"angularaxis\": {\"gridcolor\": \"white\", \"linecolor\": \"white\", \"ticks\": \"\"}, \"bgcolor\": \"#E5ECF6\", \"radialaxis\": {\"gridcolor\": \"white\", \"linecolor\": \"white\", \"ticks\": \"\"}}, \"scene\": {\"xaxis\": {\"backgroundcolor\": \"#E5ECF6\", \"gridcolor\": \"white\", \"gridwidth\": 2, \"linecolor\": \"white\", \"showbackground\": true, \"ticks\": \"\", \"zerolinecolor\": \"white\"}, \"yaxis\": {\"backgroundcolor\": \"#E5ECF6\", \"gridcolor\": \"white\", \"gridwidth\": 2, \"linecolor\": \"white\", \"showbackground\": true, \"ticks\": \"\", \"zerolinecolor\": \"white\"}, \"zaxis\": {\"backgroundcolor\": \"#E5ECF6\", \"gridcolor\": \"white\", \"gridwidth\": 2, \"linecolor\": \"white\", \"showbackground\": true, \"ticks\": \"\", \"zerolinecolor\": \"white\"}}, \"shapedefaults\": {\"line\": {\"color\": \"#2a3f5f\"}}, \"ternary\": {\"aaxis\": {\"gridcolor\": \"white\", \"linecolor\": \"white\", \"ticks\": \"\"}, \"baxis\": {\"gridcolor\": \"white\", \"linecolor\": \"white\", \"ticks\": \"\"}, \"bgcolor\": \"#E5ECF6\", \"caxis\": {\"gridcolor\": \"white\", \"linecolor\": \"white\", \"ticks\": \"\"}}, \"title\": {\"x\": 0.05}, \"xaxis\": {\"automargin\": true, \"gridcolor\": \"white\", \"linecolor\": \"white\", \"ticks\": \"\", \"title\": {\"standoff\": 15}, \"zerolinecolor\": \"white\", \"zerolinewidth\": 2}, \"yaxis\": {\"automargin\": true, \"gridcolor\": \"white\", \"linecolor\": \"white\", \"ticks\": \"\", \"title\": {\"standoff\": 15}, \"zerolinecolor\": \"white\", \"zerolinewidth\": 2}}}, \"title\": {\"text\": \"Percent Income by Group Staying Vs New Comers\"}, \"width\": 800, \"xaxis\": {\"gridcolor\": \"#f2f2f2\", \"gridwidth\": 1, \"title\": {\"text\": \"Simulation tic\"}, \"zerolinecolor\": \"lightgrey\", \"zerolinewidth\": 1}, \"yaxis\": {\"gridcolor\": \"#f2f2f2\", \"gridwidth\": 1, \"range\": [-0.05, 1], \"title\": {\"text\": \"Household Percent\"}, \"zerolinecolor\": \"lightgrey\", \"zerolinewidth\": 1}},                        {\"responsive\": true}                    ).then(function(){\n                            \nvar gd = document.getElementById('006e23bf-7aac-48c3-bec7-79265ed8eaf9');\nvar x = new MutationObserver(function (mutations, observer) {{\n        var display = window.getComputedStyle(gd).display;\n        if (!display || display === 'none') {{\n            console.log([gd, 'removed!']);\n            Plotly.purge(gd);\n            observer.disconnect();\n        }}\n}});\n\n// Listen for the removal of the full notebook cells\nvar notebookContainer = gd.closest('#notebook-container');\nif (notebookContainer) {{\n    x.observe(notebookContainer, {childList: true});\n}}\n\n// Listen for the clearing of the current output cell\nvar outputEl = gd.closest('.output');\nif (outputEl) {{\n    x.observe(outputEl, {childList: true});\n}}\n\n                        })                };                            </script>        </div>\n</body>\n</html>"
         },
         "metadata": {},
         "output_type": "display_data"
        }
       ]
      }
     },
     "a28dc70f96d04ae9a9316bf55ee28b5f": {
      "model_module": "@jupyter-widgets/controls",
      "model_module_version": "1.5.0",
      "model_name": "DescriptionStyleModel",
      "state": {
       "description_width": ""
      }
     },
     "a3df5314a80343dd90007eab43742445": {
      "model_module": "@jupyter-widgets/controls",
      "model_module_version": "1.5.0",
      "model_name": "HTMLModel",
      "state": {
       "layout": "IPY_MODEL_378f62578a6d43f1b04970ef3474735a",
       "style": "IPY_MODEL_fc16c9eb61f349f4814f87b365be7087",
       "value": "<iframe src=\"https://technion-gis.maps.arcgis.com/apps/instant/3dviewer/index.html?appid=73d48240324e45eea139ea9e0c2fe6e1\" width=\"800\" height=\"450\" frameborder=\"0\" style=\"border:0\" allowfullscreen>iFrames are not supported on this page.</iframe>"
      }
     },
     "a5c273114b3b40b4bed049b6e93fafc7": {
      "model_module": "@jupyter-widgets/base",
      "model_module_version": "1.2.0",
      "model_name": "LayoutModel",
      "state": {}
     },
     "a61e57eb1065422da80974b81bc2fa2c": {
      "model_module": "@jupyter-widgets/base",
      "model_module_version": "1.2.0",
      "model_name": "LayoutModel",
      "state": {}
     },
     "a758393c83164caea8ffefdf990c134d": {
      "model_module": "arcgis-map-ipywidget",
      "model_module_version": "1.8.4",
      "model_name": "ArcGISMapIPyWidgetModel",
      "state": {
       "_auth_mode": "tokenBased",
       "_basemap": "dark-gray-vector",
       "_center": {
        "spatialReference": {
         "wkid": 4326
        },
        "x": 34.74243150830811,
        "y": 32.02710443693815
       },
       "_draw_these_graphics_on_widget_load": [],
       "_draw_these_notype_layers_on_widget_load": [
        {
         "_hashFromPython": "8777901859749",
         "options": {
          "renderer": {
           "symbol": {
            "color": [
             255,
             255,
             255,
             255
            ],
            "outline": {
             "color": [
              54,
              93,
              141,
              255
             ],
             "style": "esriSLSSolid",
             "type": "esriSLS",
             "width": 1.5
            },
            "style": "esriSFSSolid",
            "type": "esriSFS"
           },
           "type": "simple"
          }
         },
         "type": "FeatureLayer",
         "url": "https://services1.arcgis.com/yAQXemoDSgzdfV2A/arcgis/rest/services/Addition_Before/FeatureServer/0?token=vjMFphCHoovXy4rxHsXDISoVlZYMajBNk_oK3bwZWyvS9SzTMovwsbgaik_ALTetu1qZFK2G31mw-PEVM_Su4eUrA1MIXTV4fvS0cPmVK0wSCFB710GG6BFqLC2G7ESIQCoOfIxATTZ9GUarPKgf05eIXtro7vzvmcEdA1gdGZY."
        },
        {
         "_hashFromPython": "8777901762313",
         "options": {
          "renderer": {
           "symbol": {
            "color": [
             255,
             255,
             255,
             255
            ],
            "outline": {
             "color": [
              54,
              93,
              141,
              255
             ],
             "style": "esriSLSSolid",
             "type": "esriSLS",
             "width": 1.5
            },
            "style": "esriSFSSolid",
            "type": "esriSFS"
           },
           "type": "simple"
          }
         },
         "type": "FeatureLayer",
         "url": "https://services1.arcgis.com/yAQXemoDSgzdfV2A/arcgis/rest/services/Addition_After/FeatureServer/0?token=vjMFphCHoovXy4rxHsXDISoVlZYMajBNk_oK3bwZWyvS9SzTMovwsbgaik_ALTetu1qZFK2G31mw-PEVM_Su4eUrA1MIXTV4fvS0cPmVK0wSCFB710GG6BFqLC2G7ESIQCoOfIxATTZ9GUarPKgf05eIXtro7vzvmcEdA1gdGZY."
        },
        {
         "_hashFromPython": "8777901760425",
         "options": {
          "renderer": {
           "symbol": {
            "color": [
             255,
             255,
             255,
             255
            ],
            "outline": {
             "color": [
              54,
              93,
              141,
              255
             ],
             "style": "esriSLSSolid",
             "type": "esriSLS",
             "width": 1.5
            },
            "style": "esriSFSSolid",
            "type": "esriSFS"
           },
           "type": "simple"
          }
         },
         "type": "FeatureLayer",
         "url": "https://services1.arcgis.com/yAQXemoDSgzdfV2A/arcgis/rest/services/Reconstruction_Before/FeatureServer/0?token=vjMFphCHoovXy4rxHsXDISoVlZYMajBNk_oK3bwZWyvS9SzTMovwsbgaik_ALTetu1qZFK2G31mw-PEVM_Su4eUrA1MIXTV4fvS0cPmVK0wSCFB710GG6BFqLC2G7ESIQCoOfIxATTZ9GUarPKgf05eIXtro7vzvmcEdA1gdGZY."
        },
        {
         "_hashFromPython": "8777901823989",
         "options": {
          "renderer": {
           "symbol": {
            "color": [
             79,
             129,
             189,
             255
            ],
            "outline": {
             "color": [
              54,
              93,
              141,
              255
             ],
             "style": "esriSLSSolid",
             "type": "esriSLS",
             "width": 1.5
            },
            "style": "esriSFSSolid",
            "type": "esriSFS"
           },
           "type": "simple"
          }
         },
         "type": "FeatureLayer",
         "url": "https://services1.arcgis.com/yAQXemoDSgzdfV2A/arcgis/rest/services/Reconstruction_After/FeatureServer/0?token=vjMFphCHoovXy4rxHsXDISoVlZYMajBNk_oK3bwZWyvS9SzTMovwsbgaik_ALTetu1qZFK2G31mw-PEVM_Su4eUrA1MIXTV4fvS0cPmVK0wSCFB710GG6BFqLC2G7ESIQCoOfIxATTZ9GUarPKgf05eIXtro7vzvmcEdA1gdGZY."
        },
        {
         "_hashFromPython": "8777901721253",
         "options": {
          "renderer": {
           "symbol": {
            "color": [
             255,
             255,
             255,
             255
            ],
            "outline": {
             "color": [
              54,
              93,
              141,
              255
             ],
             "style": "esriSLSSolid",
             "type": "esriSLS",
             "width": 1.5
            },
            "style": "esriSFSSolid",
            "type": "esriSFS"
           },
           "type": "simple"
          }
         },
         "type": "FeatureLayer",
         "url": "https://services1.arcgis.com/yAQXemoDSgzdfV2A/arcgis/rest/services/Raze_and_Rebuild_Before/FeatureServer/0?token=vjMFphCHoovXy4rxHsXDISoVlZYMajBNk_oK3bwZWyvS9SzTMovwsbgaik_ALTetu1qZFK2G31mw-PEVM_Su4eUrA1MIXTV4fvS0cPmVK0wSCFB710GG6BFqLC2G7ESIQCoOfIxATTZ9GUarPKgf05eIXtro7vzvmcEdA1gdGZY."
        },
        {
         "_hashFromPython": "8777901761145",
         "options": {
          "renderer": {
           "symbol": {
            "color": [
             79,
             129,
             189,
             255
            ],
            "outline": {
             "color": [
              54,
              93,
              141,
              255
             ],
             "style": "esriSLSSolid",
             "type": "esriSLS",
             "width": 1.5
            },
            "style": "esriSFSSolid",
            "type": "esriSFS"
           },
           "type": "simple"
          }
         },
         "type": "FeatureLayer",
         "url": "https://services1.arcgis.com/yAQXemoDSgzdfV2A/arcgis/rest/services/Raze_and_Rebuild_After/FeatureServer/0?token=vjMFphCHoovXy4rxHsXDISoVlZYMajBNk_oK3bwZWyvS9SzTMovwsbgaik_ALTetu1qZFK2G31mw-PEVM_Su4eUrA1MIXTV4fvS0cPmVK0wSCFB710GG6BFqLC2G7ESIQCoOfIxATTZ9GUarPKgf05eIXtro7vzvmcEdA1gdGZY."
        },
        {
         "_hashFromPython": "8777901733401",
         "options": {
          "renderer": {
           "symbol": {
            "color": [
             133,
             133,
             133,
             191
            ],
            "outline": {
             "color": [
              0,
              0,
              0,
              255
             ],
             "style": "esriSLSSolid",
             "type": "esriSLS",
             "width": 0.75
            },
            "style": "esriSFSSolid",
            "type": "esriSFS"
           },
           "type": "simple"
          }
         },
         "type": "FeatureLayer",
         "url": "https://services1.arcgis.com/yAQXemoDSgzdfV2A/arcgis/rest/services/Background_Buildings_in_3_Statistical_Zones/FeatureServer/0?token=vjMFphCHoovXy4rxHsXDISoVlZYMajBNk_oK3bwZWyvS9SzTMovwsbgaik_ALTetu1qZFK2G31mw-PEVM_Su4eUrA1MIXTV4fvS0cPmVK0wSCFB710GG6BFqLC2G7ESIQCoOfIxATTZ9GUarPKgf05eIXtro7vzvmcEdA1gdGZY."
        }
       ],
       "_gallery_basemaps": {
        "default": {
         "baseMapLayers": [
          {
           "layerType": "ArcGISTiledMapServiceLayer",
           "resourceInfo": {
            "capabilities": "Map,Tilemap,Query,Data",
            "copyrightText": "Sources: Esri, HERE, DeLorme, Intermap, increment P Corp., GEBCO, USGS, FAO, NPS, NRCAN, GeoBase, IGN, Kadaster NL, Ordnance Survey, Esri Japan, METI, Esri China (Hong Kong), swisstopo, MapmyIndia, Â© OpenStreetMap contributors, and the GIS User Community",
            "currentVersion": 10.3,
            "documentInfo": {
             "AntialiasingMode": "None",
             "Author": "Esri",
             "Category": "imageryBaseMapsEarthCover (Imagery, basemaps, and land cover)",
             "Comments": "",
             "Keywords": "World,Global,Europe,North America,South America,Southern Africa,Australia,New Zealand,India",
             "Subject": "topographic, topography, administrative boundaries, cities, water features, physiographic features, parks, landmarks, highways, roads, railways, airports, land cover, shaded relief imagery",
             "TextAntialiasingMode": "Force",
             "Title": "World Topographic Map"
            },
            "exportTilesAllowed": false,
            "fullExtent": {
             "spatialReference": {
              "latestWkid": 3857,
              "wkid": 102100
             },
             "xmax": 20037507.067161843,
             "xmin": -20037507.067161843,
             "ymax": 19971868.88040863,
             "ymin": -19971868.880408604
            },
            "initialExtent": {
             "spatialReference": {
              "latestWkid": 3857,
              "wkid": 102100
             },
             "xmax": 28848255.049479112,
             "xmin": -28848255.049479112,
             "ymax": 16430757.376790084,
             "ymin": -2077452.082122866
            },
            "layers": [
             {
              "defaultVisibility": false,
              "id": 0,
              "maxScale": 0,
              "minScale": 0,
              "name": "Citations",
              "parentLayerId": -1,
              "subLayerIds": null
             }
            ],
            "mapName": "Layers",
            "maxImageHeight": 4096,
            "maxImageWidth": 4096,
            "maxRecordCount": 100,
            "maxScale": 70.5310735,
            "minScale": 591657527.591555,
            "singleFusedMapCache": true,
            "spatialReference": {
             "latestWkid": 3857,
             "wkid": 102100
            },
            "supportedExtensions": "KmlServer",
            "supportedImageFormatTypes": "PNG32,PNG24,PNG,JPG,DIB,TIFF,EMF,PS,PDF,GIF,SVG,SVGZ,BMP",
            "supportedQueryFormats": "JSON, AMF",
            "supportsDynamicLayers": false,
            "tables": [],
            "tileInfo": {
             "cols": 256,
             "compressionQuality": 90,
             "dpi": 96,
             "format": "JPEG",
             "lods": [
              {
               "level": 0,
               "resolution": 156543.03392800014,
               "scale": 591657527.591555
              },
              {
               "level": 1,
               "resolution": 78271.51696399994,
               "scale": 295828763.795777
              },
              {
               "level": 2,
               "resolution": 39135.75848200009,
               "scale": 147914381.897889
              },
              {
               "level": 3,
               "resolution": 19567.87924099992,
               "scale": 73957190.948944
              },
              {
               "level": 4,
               "resolution": 9783.93962049996,
               "scale": 36978595.474472
              },
              {
               "level": 5,
               "resolution": 4891.96981024998,
               "scale": 18489297.737236
              },
              {
               "level": 6,
               "resolution": 2445.98490512499,
               "scale": 9244648.868618
              },
              {
               "level": 7,
               "resolution": 1222.992452562495,
               "scale": 4622324.434309
              },
              {
               "level": 8,
               "resolution": 611.4962262813797,
               "scale": 2311162.217155
              },
              {
               "level": 9,
               "resolution": 305.74811314055756,
               "scale": 1155581.108577
              },
              {
               "level": 10,
               "resolution": 152.87405657041106,
               "scale": 577790.554289
              },
              {
               "level": 11,
               "resolution": 76.43702828507324,
               "scale": 288895.277144
              },
              {
               "level": 12,
               "resolution": 38.21851414253662,
               "scale": 144447.638572
              },
              {
               "level": 13,
               "resolution": 19.10925707126831,
               "scale": 72223.819286
              },
              {
               "level": 14,
               "resolution": 9.554628535634155,
               "scale": 36111.909643
              },
              {
               "level": 15,
               "resolution": 4.77731426794937,
               "scale": 18055.954822
              },
              {
               "level": 16,
               "resolution": 2.388657133974685,
               "scale": 9027.977411
              },
              {
               "level": 17,
               "resolution": 1.1943285668550503,
               "scale": 4513.988705
              },
              {
               "level": 18,
               "resolution": 0.5971642835598172,
               "scale": 2256.994353
              },
              {
               "level": 19,
               "resolution": 0.29858214164761665,
               "scale": 1128.497176
              },
              {
               "level": 20,
               "resolution": 0.14929107082380833,
               "scale": 564.248588
              },
              {
               "level": 21,
               "resolution": 0.07464553541190416,
               "scale": 282.124294
              },
              {
               "level": 22,
               "resolution": 0.03732276770595208,
               "scale": 141.062147
              },
              {
               "level": 23,
               "resolution": 0.01866138385297604,
               "scale": 70.5310735
              }
             ],
             "origin": {
              "x": -20037508.342787,
              "y": 20037508.342787
             },
             "rows": 256,
             "spatialReference": {
              "latestWkid": 3857,
              "wkid": 102100
             }
            },
            "units": "esriMeters"
           },
           "title": "מפת טופוגרפיה עולמית",
           "url": "https://services.arcgisonline.com/ArcGIS/rest/services/World_Topo_Map/MapServer"
          }
         ],
         "title": "מפה טופוגרפית"
        }
       },
       "_overlay_these_images_on_widget_load": [],
       "_portal_sharing_rest_url": "https://Technion-GIS.maps.arcgis.com/sharing/rest/",
       "_portal_url": "https://Technion-GIS.maps.arcgis.com",
       "_readonly_center": {
        "spatialReference": {
         "latestWkid": 3857,
         "wkid": 102100
        },
        "x": 3867509.784424977,
        "y": 3766869.031773795
       },
       "_readonly_extent": {
        "spatialReference": {
         "latestWkid": 3857,
         "wkid": 102100
        },
        "xmax": 3870484.2603483563,
        "xmin": 3864535.3085015975,
        "ymax": 3767551.6424274677,
        "ymin": 3766186.421120122
       },
       "_readonly_heading": 360,
       "_readonly_scale": 12899.703088847726,
       "_readonly_webmap_from_js": {
        "basemap": {
         "baseMapLayers": [
          {
           "id": "dark-gray-base-layer",
           "layerType": "VectorTileLayer",
           "opacity": 1,
           "styleUrl": "https://cdn.arcgis.com/sharing/rest/content/items/5e9b3685f4c24d8781073dd928ebda50/resources/styles/root.json",
           "title": "Dark Gray Base",
           "visibility": true
          },
          {
           "id": "dark-gray-reference-layer",
           "isReference": true,
           "layerType": "VectorTileLayer",
           "opacity": 1,
           "styleUrl": "https://cdn.arcgis.com/sharing/rest/content/items/747cb7a5329c478cbe6981076cc879c5/resources/styles/root.json",
           "title": "Dark Gray Reference",
           "visibility": true
          }
         ],
         "title": "Dark Gray Canvas"
        },
        "ground": {
         "layers": [],
         "transparency": 0
        },
        "layers": [
         {
          "id": "8777901733401",
          "refreshInterval": 0,
          "renderer": {
           "symbol": {
            "color": [
             133,
             133,
             133,
             191
            ],
            "outline": {
             "color": [
              0,
              0,
              0,
              255
             ],
             "style": "esriSLSSolid",
             "type": "esriSLS",
             "width": 0.75
            },
            "style": "esriSFSSolid",
            "type": "esriSFS"
           },
           "type": "simple"
          },
          "rendererType": "esri.renderers.SimpleRenderer",
          "url": "https://services1.arcgis.com/yAQXemoDSgzdfV2A/arcgis/rest/services/Background_Buildings_in_3_Statistical_Zones/FeatureServer"
         },
         {
          "id": "8777901721253",
          "refreshInterval": 0,
          "renderer": {
           "symbol": {
            "color": [
             255,
             255,
             255,
             255
            ],
            "outline": {
             "color": [
              54,
              93,
              141,
              255
             ],
             "style": "esriSLSSolid",
             "type": "esriSLS",
             "width": 1.5
            },
            "style": "esriSFSSolid",
            "type": "esriSFS"
           },
           "type": "simple"
          },
          "rendererType": "esri.renderers.SimpleRenderer",
          "url": "https://services1.arcgis.com/yAQXemoDSgzdfV2A/arcgis/rest/services/Raze_and_Rebuild_Before/FeatureServer"
         },
         {
          "id": "8777901859749",
          "refreshInterval": 0,
          "renderer": {
           "symbol": {
            "color": [
             255,
             255,
             255,
             255
            ],
            "outline": {
             "color": [
              54,
              93,
              141,
              255
             ],
             "style": "esriSLSSolid",
             "type": "esriSLS",
             "width": 1.5
            },
            "style": "esriSFSSolid",
            "type": "esriSFS"
           },
           "type": "simple"
          },
          "rendererType": "esri.renderers.SimpleRenderer",
          "url": "https://services1.arcgis.com/yAQXemoDSgzdfV2A/arcgis/rest/services/Addition_Before/FeatureServer"
         },
         {
          "id": "8777901761145",
          "refreshInterval": 0,
          "renderer": {
           "symbol": {
            "color": [
             79,
             129,
             189,
             255
            ],
            "outline": {
             "color": [
              54,
              93,
              141,
              255
             ],
             "style": "esriSLSSolid",
             "type": "esriSLS",
             "width": 1.5
            },
            "style": "esriSFSSolid",
            "type": "esriSFS"
           },
           "type": "simple"
          },
          "rendererType": "esri.renderers.SimpleRenderer",
          "url": "https://services1.arcgis.com/yAQXemoDSgzdfV2A/arcgis/rest/services/Raze_and_Rebuild_After/FeatureServer"
         },
         {
          "id": "8777901823989",
          "refreshInterval": 0,
          "renderer": {
           "symbol": {
            "color": [
             79,
             129,
             189,
             255
            ],
            "outline": {
             "color": [
              54,
              93,
              141,
              255
             ],
             "style": "esriSLSSolid",
             "type": "esriSLS",
             "width": 1.5
            },
            "style": "esriSFSSolid",
            "type": "esriSFS"
           },
           "type": "simple"
          },
          "rendererType": "esri.renderers.SimpleRenderer",
          "url": "https://services1.arcgis.com/yAQXemoDSgzdfV2A/arcgis/rest/services/Reconstruction_After/FeatureServer"
         },
         {
          "id": "8777901760425",
          "refreshInterval": 0,
          "renderer": {
           "symbol": {
            "color": [
             255,
             255,
             255,
             255
            ],
            "outline": {
             "color": [
              54,
              93,
              141,
              255
             ],
             "style": "esriSLSSolid",
             "type": "esriSLS",
             "width": 1.5
            },
            "style": "esriSFSSolid",
            "type": "esriSFS"
           },
           "type": "simple"
          },
          "rendererType": "esri.renderers.SimpleRenderer",
          "url": "https://services1.arcgis.com/yAQXemoDSgzdfV2A/arcgis/rest/services/Reconstruction_Before/FeatureServer"
         },
         {
          "id": "8777901762313",
          "refreshInterval": 0,
          "renderer": {
           "symbol": {
            "color": [
             255,
             255,
             255,
             255
            ],
            "outline": {
             "color": [
              54,
              93,
              141,
              255
             ],
             "style": "esriSLSSolid",
             "type": "esriSLS",
             "width": 1.5
            },
            "style": "esriSFSSolid",
            "type": "esriSFS"
           },
           "type": "simple"
          },
          "rendererType": "esri.renderers.SimpleRenderer",
          "url": "https://services1.arcgis.com/yAQXemoDSgzdfV2A/arcgis/rest/services/Addition_After/FeatureServer"
         }
        ]
       },
       "_readonly_zoom": 17,
       "_username": "shai@technion",
       "_uuid": "099f0c2f-846d-47ea-ba56-9e392950b189",
       "_writeonly_end_time": "1900-01-01T00:00:00.000000",
       "_writeonly_start_time": "1900-01-01T00:00:00.000000",
       "_zoom": 17,
       "jupyter_target": "lab",
       "layout": "IPY_MODEL_b90341bc413d4d30ba6f581106e274fa",
       "print_service_url": "",
       "ready": true,
       "tilt": 0
      }
     },
     "a7dd55af0ad94b78b140405a0092f9c8": {
      "model_module": "@jupyter-widgets/output",
      "model_module_version": "1.0.0",
      "model_name": "OutputModel",
      "state": {
       "layout": "IPY_MODEL_cf014d5360f7479097924e92e66d7bb2",
       "outputs": [
        {
         "data": {
          "application/vnd.jupyter.widget-view+json": {
           "model_id": "728ad73135874462ae768a6e09183ea2",
           "version_major": 2,
           "version_minor": 0
          },
          "text/plain": "HTML(value='<iframe src=\"https://technion-gis.maps.arcgis.com/apps/instant/3dviewer/index.html?appid=73d482403…"
         },
         "metadata": {},
         "output_type": "display_data"
        }
       ]
      }
     },
     "a81f65cd8fb349a59ab722995d8e01c3": {
      "model_module": "@jupyter-widgets/controls",
      "model_module_version": "1.5.0",
      "model_name": "SliderStyleModel",
      "state": {
       "description_width": "initial"
      }
     },
     "a9539947aed844d99fe1227bd672fada": {
      "model_module": "@jupyter-widgets/controls",
      "model_module_version": "1.5.0",
      "model_name": "IntRangeSliderModel",
      "state": {
       "_model_name": "IntRangeSliderModel",
       "_view_name": "IntRangeSliderView",
       "continuous_update": false,
       "description": "Simulation Tics:",
       "layout": "IPY_MODEL_b82485f6da4f42adacba64fc1df24645",
       "max": 32,
       "style": "IPY_MODEL_8815d25512c24d36b497960d34b29bdb",
       "value": [
        1,
        9
       ]
      }
     },
     "b04c64398be2418ab76f8554f74268c0": {
      "model_module": "@jupyter-widgets/base",
      "model_module_version": "1.2.0",
      "model_name": "LayoutModel",
      "state": {}
     },
     "b4af028de46545ca9926bb4644e2141d": {
      "model_module": "@jupyter-widgets/output",
      "model_module_version": "1.0.0",
      "model_name": "OutputModel",
      "state": {
       "layout": "IPY_MODEL_ed501a29f26c4b4ca87748e1a272a82d",
       "outputs": [
        {
         "data": {
          "text/html": "<html>\n<head><meta charset=\"utf-8\" /></head>\n<body>\n    <div>            <script src=\"https://cdnjs.cloudflare.com/ajax/libs/mathjax/2.7.5/MathJax.js?config=TeX-AMS-MML_SVG\"></script><script type=\"text/javascript\">if (window.MathJax) {MathJax.Hub.Config({SVG: {font: \"STIX-Web\"}});}</script>                <script type=\"text/javascript\">window.PlotlyConfig = {MathJaxConfig: 'local'};</script>\n        <script src=\"https://cdn.plot.ly/plotly-latest.min.js\"></script>                <div id=\"01cf9e79-57fe-4b3a-b6cd-055fadce2bf4\" class=\"plotly-graph-div\" style=\"height:375px; width:800px;\"></div>            <script type=\"text/javascript\">                                    window.PLOTLYENV=window.PLOTLYENV || {};                                    if (document.getElementById(\"01cf9e79-57fe-4b3a-b6cd-055fadce2bf4\")) {                    Plotly.newPlot(                        \"01cf9e79-57fe-4b3a-b6cd-055fadce2bf4\",                        [{\"legendgroup\": \"Staying\", \"line\": {\"color\": \"hsv(349,89%,74%)\", \"width\": 2}, \"name\": \"High Stay\", \"type\": \"scatter\", \"x\": [1, 2, 3, 4, 5, 6, 7, 8, 9], \"y\": [0.0, 0.0, 0.0, 0.0, 0.0, 0.0, 0.0, 0.0, 0.0]}, {\"legendgroup\": \"Staying\", \"line\": {\"color\": \"hsv(6,64%,89%)\", \"width\": 2}, \"name\": \"Med Stay\", \"type\": \"scatter\", \"x\": [1, 2, 3, 4, 5, 6, 7, 8, 9], \"y\": [0.4019607843137255, 0.3922413793103448, 0.37671957671957673, 0.36496350364963503, 0.34984833164812945, 0.33567134268537074, 0.3300395256916996, 0.2974910394265233, 0.21138211382113822]}, {\"legendgroup\": \"Staying\", \"line\": {\"color\": \"hsv(16,41%,98%)\", \"width\": 2}, \"name\": \"Low Stay\", \"type\": \"scatter\", \"x\": [1, 2, 3, 4, 5, 6, 7, 8, 9], \"y\": [0.5610021786492375, 0.5431034482758621, 0.526984126984127, 0.5119916579770595, 0.4914054600606673, 0.46893787575150303, 0.44861660079051385, 0.4050179211469534, 0.21138211382113822]}, {\"legendgroup\": \"New Comers\", \"line\": {\"color\": \"hsv(349,89%,74%)\", \"width\": 4}, \"name\": \"High New Comer\", \"type\": \"scatter\", \"x\": [1, 2, 3, 4, 5, 6, 7, 8, 9], \"y\": [0.02505446623093682, 0.04310344827586207, 0.042328042328042326, 0.06882168925964546, 0.09908998988877654, 0.1342685370741483, 0.15217391304347827, 0.18100358422939067, 0.489159891598916]}, {\"legendgroup\": \"New Comers\", \"line\": {\"color\": \"hsv(6,64%,89%)\", \"width\": 4}, \"name\": \"Med New Comer\", \"type\": \"scatter\", \"x\": [1, 2, 3, 4, 5, 6, 7, 8, 9], \"y\": [0.011982570806100218, 0.021551724137931036, 0.05396825396825397, 0.054223149113660066, 0.05965621840242669, 0.061122244488977955, 0.0691699604743083, 0.11648745519713262, 0.08807588075880758]}, {\"legendgroup\": \"New Comers\", \"line\": {\"color\": \"hsv(16,41%,98%)\", \"width\": 4}, \"name\": \"Low New Comer\", \"type\": \"scatter\", \"x\": [1, 2, 3, 4, 5, 6, 7, 8, 9], \"y\": [0.0, 0.0, 0.0, 0.0, 0.0, 0.0, 0.0, 0.0, 0.0]}, {\"legendgroup\": \"Average\", \"line\": {\"color\": \"hsv(30,50%,100%)\", \"dash\": \"dash\"}, \"name\": \"High (average)\", \"type\": \"scatter\", \"x\": [1, 2, 3, 4, 5, 6, 7, 8, 9], \"y\": [0.02505446623093682, 0.04310344827586207, 0.042328042328042326, 0.06882168925964546, 0.09908998988877654, 0.1342685370741483, 0.15217391304347827, 0.18100358422939067, 0.489159891598916]}, {\"legendgroup\": \"Average\", \"line\": {\"color\": \"hsv(30,75%,100%)\", \"dash\": \"dash\"}, \"name\": \"Medium (average)\", \"type\": \"scatter\", \"x\": [1, 2, 3, 4, 5, 6, 7, 8, 9], \"y\": [0.4139433551198257, 0.41379310344827586, 0.4306878306878307, 0.4191866527632951, 0.40950455005055614, 0.3967935871743487, 0.39920948616600793, 0.41397849462365593, 0.2994579945799458]}, {\"legendgroup\": \"Average\", \"line\": {\"color\": \"hsv(30,100%,50%)\", \"dash\": \"dash\"}, \"name\": \"Low (average)\", \"type\": \"scatter\", \"x\": [1, 2, 3, 4, 5, 6, 7, 8, 9], \"y\": [0.5610021786492375, 0.5431034482758621, 0.526984126984127, 0.5119916579770595, 0.4914054600606673, 0.46893787575150303, 0.44861660079051385, 0.4050179211469534, 0.21138211382113822]}, {\"legendgroup\": \"Building Type\", \"marker\": {\"color\": \"hsv(210,100%,75%)\"}, \"mode\": \"markers\", \"name\": \"Addition\", \"type\": \"scatter\", \"x\": [1, 2, 3, 4, 6, 7], \"y\": [-0.02, -0.02, -0.02, -0.02, -0.02, -0.02]}, {\"legendgroup\": \"Building Type\", \"marker\": {\"color\": \"hsv(210,100%,100%)\"}, \"mode\": \"markers\", \"name\": \"Reconstruction\", \"type\": \"scatter\", \"x\": [5, 8], \"y\": [-0.02, -0.02]}, {\"legendgroup\": \"Building Type\", \"marker\": {\"color\": \"hsv(210,50%,100%)\"}, \"mode\": \"markers\", \"name\": \"Raze and Rebuild\", \"type\": \"scatter\", \"x\": [9], \"y\": [-0.02]}],                        {\"height\": 375, \"legend\": {\"bgcolor\": \"rgba(255,255,255,0.5)\", \"orientation\": \"h\", \"x\": 0.03, \"xanchor\": \"left\", \"y\": 1.0, \"yanchor\": \"top\"}, \"plot_bgcolor\": \"rgba(0,0,0,0)\", \"shapes\": [{\"layer\": \"below\", \"line\": {\"color\": \"hsv(210,100%,75%)\", \"dash\": \"dot\", \"width\": 1.5}, \"type\": \"line\", \"x0\": 1, \"x1\": 1, \"y0\": 0, \"y1\": 1}, {\"layer\": \"below\", \"line\": {\"color\": \"hsv(210,100%,75%)\", \"dash\": \"dot\", \"width\": 1.5}, \"type\": \"line\", \"x0\": 2, \"x1\": 2, \"y0\": 0, \"y1\": 1}, {\"layer\": \"below\", \"line\": {\"color\": \"hsv(210,100%,75%)\", \"dash\": \"dot\", \"width\": 1.5}, \"type\": \"line\", \"x0\": 3, \"x1\": 3, \"y0\": 0, \"y1\": 1}, {\"layer\": \"below\", \"line\": {\"color\": \"hsv(210,100%,75%)\", \"dash\": \"dot\", \"width\": 1.5}, \"type\": \"line\", \"x0\": 4, \"x1\": 4, \"y0\": 0, \"y1\": 1}, {\"layer\": \"below\", \"line\": {\"color\": \"hsv(210,100%,75%)\", \"dash\": \"dot\", \"width\": 1.5}, \"type\": \"line\", \"x0\": 6, \"x1\": 6, \"y0\": 0, \"y1\": 1}, {\"layer\": \"below\", \"line\": {\"color\": \"hsv(210,100%,75%)\", \"dash\": \"dot\", \"width\": 1.5}, \"type\": \"line\", \"x0\": 7, \"x1\": 7, \"y0\": 0, \"y1\": 1}, {\"layer\": \"below\", \"line\": {\"color\": \"hsv(210,100%,100%)\", \"dash\": \"dot\", \"width\": 1.5}, \"type\": \"line\", \"x0\": 5, \"x1\": 5, \"y0\": 0, \"y1\": 1}, {\"layer\": \"below\", \"line\": {\"color\": \"hsv(210,100%,100%)\", \"dash\": \"dot\", \"width\": 1.5}, \"type\": \"line\", \"x0\": 8, \"x1\": 8, \"y0\": 0, \"y1\": 1}, {\"layer\": \"below\", \"line\": {\"color\": \"hsv(210,50%,100%)\", \"dash\": \"dot\", \"width\": 1.5}, \"type\": \"line\", \"x0\": 9, \"x1\": 9, \"y0\": 0, \"y1\": 1}], \"showlegend\": true, \"template\": {\"data\": {\"bar\": [{\"error_x\": {\"color\": \"#2a3f5f\"}, \"error_y\": {\"color\": \"#2a3f5f\"}, \"marker\": {\"line\": {\"color\": \"#E5ECF6\", \"width\": 0.5}}, \"type\": \"bar\"}], \"barpolar\": [{\"marker\": {\"line\": {\"color\": \"#E5ECF6\", \"width\": 0.5}}, \"type\": \"barpolar\"}], \"carpet\": [{\"aaxis\": {\"endlinecolor\": \"#2a3f5f\", \"gridcolor\": \"white\", \"linecolor\": \"white\", \"minorgridcolor\": \"white\", \"startlinecolor\": \"#2a3f5f\"}, \"baxis\": {\"endlinecolor\": \"#2a3f5f\", \"gridcolor\": \"white\", \"linecolor\": \"white\", \"minorgridcolor\": \"white\", \"startlinecolor\": \"#2a3f5f\"}, \"type\": \"carpet\"}], \"choropleth\": [{\"colorbar\": {\"outlinewidth\": 0, \"ticks\": \"\"}, \"type\": \"choropleth\"}], \"contour\": [{\"colorbar\": {\"outlinewidth\": 0, \"ticks\": \"\"}, \"colorscale\": [[0.0, \"#0d0887\"], [0.1111111111111111, \"#46039f\"], [0.2222222222222222, \"#7201a8\"], [0.3333333333333333, \"#9c179e\"], [0.4444444444444444, \"#bd3786\"], [0.5555555555555556, \"#d8576b\"], [0.6666666666666666, \"#ed7953\"], [0.7777777777777778, \"#fb9f3a\"], [0.8888888888888888, \"#fdca26\"], [1.0, \"#f0f921\"]], \"type\": \"contour\"}], \"contourcarpet\": [{\"colorbar\": {\"outlinewidth\": 0, \"ticks\": \"\"}, \"type\": \"contourcarpet\"}], \"heatmap\": [{\"colorbar\": {\"outlinewidth\": 0, \"ticks\": \"\"}, \"colorscale\": [[0.0, \"#0d0887\"], [0.1111111111111111, \"#46039f\"], [0.2222222222222222, \"#7201a8\"], [0.3333333333333333, \"#9c179e\"], [0.4444444444444444, \"#bd3786\"], [0.5555555555555556, \"#d8576b\"], [0.6666666666666666, \"#ed7953\"], [0.7777777777777778, \"#fb9f3a\"], [0.8888888888888888, \"#fdca26\"], [1.0, \"#f0f921\"]], \"type\": \"heatmap\"}], \"heatmapgl\": [{\"colorbar\": {\"outlinewidth\": 0, \"ticks\": \"\"}, \"colorscale\": [[0.0, \"#0d0887\"], [0.1111111111111111, \"#46039f\"], [0.2222222222222222, \"#7201a8\"], [0.3333333333333333, \"#9c179e\"], [0.4444444444444444, \"#bd3786\"], [0.5555555555555556, \"#d8576b\"], [0.6666666666666666, \"#ed7953\"], [0.7777777777777778, \"#fb9f3a\"], [0.8888888888888888, \"#fdca26\"], [1.0, \"#f0f921\"]], \"type\": \"heatmapgl\"}], \"histogram\": [{\"marker\": {\"colorbar\": {\"outlinewidth\": 0, \"ticks\": \"\"}}, \"type\": \"histogram\"}], \"histogram2d\": [{\"colorbar\": {\"outlinewidth\": 0, \"ticks\": \"\"}, \"colorscale\": [[0.0, \"#0d0887\"], [0.1111111111111111, \"#46039f\"], [0.2222222222222222, \"#7201a8\"], [0.3333333333333333, \"#9c179e\"], [0.4444444444444444, \"#bd3786\"], [0.5555555555555556, \"#d8576b\"], [0.6666666666666666, \"#ed7953\"], [0.7777777777777778, \"#fb9f3a\"], [0.8888888888888888, \"#fdca26\"], [1.0, \"#f0f921\"]], \"type\": \"histogram2d\"}], \"histogram2dcontour\": [{\"colorbar\": {\"outlinewidth\": 0, \"ticks\": \"\"}, \"colorscale\": [[0.0, \"#0d0887\"], [0.1111111111111111, \"#46039f\"], [0.2222222222222222, \"#7201a8\"], [0.3333333333333333, \"#9c179e\"], [0.4444444444444444, \"#bd3786\"], [0.5555555555555556, \"#d8576b\"], [0.6666666666666666, \"#ed7953\"], [0.7777777777777778, \"#fb9f3a\"], [0.8888888888888888, \"#fdca26\"], [1.0, \"#f0f921\"]], \"type\": \"histogram2dcontour\"}], \"mesh3d\": [{\"colorbar\": {\"outlinewidth\": 0, \"ticks\": \"\"}, \"type\": \"mesh3d\"}], \"parcoords\": [{\"line\": {\"colorbar\": {\"outlinewidth\": 0, \"ticks\": \"\"}}, \"type\": \"parcoords\"}], \"pie\": [{\"automargin\": true, \"type\": \"pie\"}], \"scatter\": [{\"marker\": {\"colorbar\": {\"outlinewidth\": 0, \"ticks\": \"\"}}, \"type\": \"scatter\"}], \"scatter3d\": [{\"line\": {\"colorbar\": {\"outlinewidth\": 0, \"ticks\": \"\"}}, \"marker\": {\"colorbar\": {\"outlinewidth\": 0, \"ticks\": \"\"}}, \"type\": \"scatter3d\"}], \"scattercarpet\": [{\"marker\": {\"colorbar\": {\"outlinewidth\": 0, \"ticks\": \"\"}}, \"type\": \"scattercarpet\"}], \"scattergeo\": [{\"marker\": {\"colorbar\": {\"outlinewidth\": 0, \"ticks\": \"\"}}, \"type\": \"scattergeo\"}], \"scattergl\": [{\"marker\": {\"colorbar\": {\"outlinewidth\": 0, \"ticks\": \"\"}}, \"type\": \"scattergl\"}], \"scattermapbox\": [{\"marker\": {\"colorbar\": {\"outlinewidth\": 0, \"ticks\": \"\"}}, \"type\": \"scattermapbox\"}], \"scatterpolar\": [{\"marker\": {\"colorbar\": {\"outlinewidth\": 0, \"ticks\": \"\"}}, \"type\": \"scatterpolar\"}], \"scatterpolargl\": [{\"marker\": {\"colorbar\": {\"outlinewidth\": 0, \"ticks\": \"\"}}, \"type\": \"scatterpolargl\"}], \"scatterternary\": [{\"marker\": {\"colorbar\": {\"outlinewidth\": 0, \"ticks\": \"\"}}, \"type\": \"scatterternary\"}], \"surface\": [{\"colorbar\": {\"outlinewidth\": 0, \"ticks\": \"\"}, \"colorscale\": [[0.0, \"#0d0887\"], [0.1111111111111111, \"#46039f\"], [0.2222222222222222, \"#7201a8\"], [0.3333333333333333, \"#9c179e\"], [0.4444444444444444, \"#bd3786\"], [0.5555555555555556, \"#d8576b\"], [0.6666666666666666, \"#ed7953\"], [0.7777777777777778, \"#fb9f3a\"], [0.8888888888888888, \"#fdca26\"], [1.0, \"#f0f921\"]], \"type\": \"surface\"}], \"table\": [{\"cells\": {\"fill\": {\"color\": \"#EBF0F8\"}, \"line\": {\"color\": \"white\"}}, \"header\": {\"fill\": {\"color\": \"#C8D4E3\"}, \"line\": {\"color\": \"white\"}}, \"type\": \"table\"}]}, \"layout\": {\"annotationdefaults\": {\"arrowcolor\": \"#2a3f5f\", \"arrowhead\": 0, \"arrowwidth\": 1}, \"autotypenumbers\": \"strict\", \"coloraxis\": {\"colorbar\": {\"outlinewidth\": 0, \"ticks\": \"\"}}, \"colorscale\": {\"diverging\": [[0, \"#8e0152\"], [0.1, \"#c51b7d\"], [0.2, \"#de77ae\"], [0.3, \"#f1b6da\"], [0.4, \"#fde0ef\"], [0.5, \"#f7f7f7\"], [0.6, \"#e6f5d0\"], [0.7, \"#b8e186\"], [0.8, \"#7fbc41\"], [0.9, \"#4d9221\"], [1, \"#276419\"]], \"sequential\": [[0.0, \"#0d0887\"], [0.1111111111111111, \"#46039f\"], [0.2222222222222222, \"#7201a8\"], [0.3333333333333333, \"#9c179e\"], [0.4444444444444444, \"#bd3786\"], [0.5555555555555556, \"#d8576b\"], [0.6666666666666666, \"#ed7953\"], [0.7777777777777778, \"#fb9f3a\"], [0.8888888888888888, \"#fdca26\"], [1.0, \"#f0f921\"]], \"sequentialminus\": [[0.0, \"#0d0887\"], [0.1111111111111111, \"#46039f\"], [0.2222222222222222, \"#7201a8\"], [0.3333333333333333, \"#9c179e\"], [0.4444444444444444, \"#bd3786\"], [0.5555555555555556, \"#d8576b\"], [0.6666666666666666, \"#ed7953\"], [0.7777777777777778, \"#fb9f3a\"], [0.8888888888888888, \"#fdca26\"], [1.0, \"#f0f921\"]]}, \"colorway\": [\"#636efa\", \"#EF553B\", \"#00cc96\", \"#ab63fa\", \"#FFA15A\", \"#19d3f3\", \"#FF6692\", \"#B6E880\", \"#FF97FF\", \"#FECB52\"], \"font\": {\"color\": \"#2a3f5f\"}, \"geo\": {\"bgcolor\": \"white\", \"lakecolor\": \"white\", \"landcolor\": \"#E5ECF6\", \"showlakes\": true, \"showland\": true, \"subunitcolor\": \"white\"}, \"hoverlabel\": {\"align\": \"left\"}, \"hovermode\": \"closest\", \"mapbox\": {\"style\": \"light\"}, \"paper_bgcolor\": \"white\", \"plot_bgcolor\": \"#E5ECF6\", \"polar\": {\"angularaxis\": {\"gridcolor\": \"white\", \"linecolor\": \"white\", \"ticks\": \"\"}, \"bgcolor\": \"#E5ECF6\", \"radialaxis\": {\"gridcolor\": \"white\", \"linecolor\": \"white\", \"ticks\": \"\"}}, \"scene\": {\"xaxis\": {\"backgroundcolor\": \"#E5ECF6\", \"gridcolor\": \"white\", \"gridwidth\": 2, \"linecolor\": \"white\", \"showbackground\": true, \"ticks\": \"\", \"zerolinecolor\": \"white\"}, \"yaxis\": {\"backgroundcolor\": \"#E5ECF6\", \"gridcolor\": \"white\", \"gridwidth\": 2, \"linecolor\": \"white\", \"showbackground\": true, \"ticks\": \"\", \"zerolinecolor\": \"white\"}, \"zaxis\": {\"backgroundcolor\": \"#E5ECF6\", \"gridcolor\": \"white\", \"gridwidth\": 2, \"linecolor\": \"white\", \"showbackground\": true, \"ticks\": \"\", \"zerolinecolor\": \"white\"}}, \"shapedefaults\": {\"line\": {\"color\": \"#2a3f5f\"}}, \"ternary\": {\"aaxis\": {\"gridcolor\": \"white\", \"linecolor\": \"white\", \"ticks\": \"\"}, \"baxis\": {\"gridcolor\": \"white\", \"linecolor\": \"white\", \"ticks\": \"\"}, \"bgcolor\": \"#E5ECF6\", \"caxis\": {\"gridcolor\": \"white\", \"linecolor\": \"white\", \"ticks\": \"\"}}, \"title\": {\"x\": 0.05}, \"xaxis\": {\"automargin\": true, \"gridcolor\": \"white\", \"linecolor\": \"white\", \"ticks\": \"\", \"title\": {\"standoff\": 15}, \"zerolinecolor\": \"white\", \"zerolinewidth\": 2}, \"yaxis\": {\"automargin\": true, \"gridcolor\": \"white\", \"linecolor\": \"white\", \"ticks\": \"\", \"title\": {\"standoff\": 15}, \"zerolinecolor\": \"white\", \"zerolinewidth\": 2}}}, \"title\": {\"text\": \"Percent Income by Group Staying Vs New Comers\"}, \"width\": 800, \"xaxis\": {\"gridcolor\": \"#f2f2f2\", \"gridwidth\": 1, \"title\": {\"text\": \"Simulation tic\"}, \"zerolinecolor\": \"lightgrey\", \"zerolinewidth\": 1}, \"yaxis\": {\"gridcolor\": \"#f2f2f2\", \"gridwidth\": 1, \"range\": [-0.05, 1], \"title\": {\"text\": \"Household Percent\"}, \"zerolinecolor\": \"lightgrey\", \"zerolinewidth\": 1}},                        {\"responsive\": true}                    ).then(function(){\n                            \nvar gd = document.getElementById('01cf9e79-57fe-4b3a-b6cd-055fadce2bf4');\nvar x = new MutationObserver(function (mutations, observer) {{\n        var display = window.getComputedStyle(gd).display;\n        if (!display || display === 'none') {{\n            console.log([gd, 'removed!']);\n            Plotly.purge(gd);\n            observer.disconnect();\n        }}\n}});\n\n// Listen for the removal of the full notebook cells\nvar notebookContainer = gd.closest('#notebook-container');\nif (notebookContainer) {{\n    x.observe(notebookContainer, {childList: true});\n}}\n\n// Listen for the clearing of the current output cell\nvar outputEl = gd.closest('.output');\nif (outputEl) {{\n    x.observe(outputEl, {childList: true});\n}}\n\n                        })                };                            </script>        </div>\n</body>\n</html>"
         },
         "metadata": {},
         "output_type": "display_data"
        }
       ]
      }
     },
     "b82485f6da4f42adacba64fc1df24645": {
      "model_module": "@jupyter-widgets/base",
      "model_module_version": "1.2.0",
      "model_name": "LayoutModel",
      "state": {
       "width": "100%"
      }
     },
     "b85b2cf403d649e7b9250186ded62981": {
      "model_module": "@jupyter-widgets/controls",
      "model_module_version": "1.5.0",
      "model_name": "ButtonModel",
      "state": {
       "description": "Submit",
       "layout": "IPY_MODEL_8c5b8bdc377c432ba17741d2bd8b29bd",
       "style": "IPY_MODEL_f41c0511dc0d4709975b2bd4f9dcdb4a"
      }
     },
     "b90341bc413d4d30ba6f581106e274fa": {
      "model_module": "@jupyter-widgets/base",
      "model_module_version": "1.2.0",
      "model_name": "LayoutModel",
      "state": {
       "height": "400px",
       "width": "100%"
      }
     },
     "c011795bf2fa4bbb82e8ca4b916be525": {
      "model_module": "@jupyter-widgets/output",
      "model_module_version": "1.0.0",
      "model_name": "OutputModel",
      "state": {
       "layout": "IPY_MODEL_19132eb062624198a59e0106d5531a15",
       "outputs": [
        {
         "data": {
          "text/html": "<html>\n<head><meta charset=\"utf-8\" /></head>\n<body>\n    <div>            <script src=\"https://cdnjs.cloudflare.com/ajax/libs/mathjax/2.7.5/MathJax.js?config=TeX-AMS-MML_SVG\"></script><script type=\"text/javascript\">if (window.MathJax) {MathJax.Hub.Config({SVG: {font: \"STIX-Web\"}});}</script>                <script type=\"text/javascript\">window.PlotlyConfig = {MathJaxConfig: 'local'};</script>\n        <script src=\"https://cdn.plot.ly/plotly-latest.min.js\"></script>                <div id=\"d5fe788a-571c-4b73-9442-37dc4d398796\" class=\"plotly-graph-div\" style=\"height:375px; width:700px;\"></div>            <script type=\"text/javascript\">                                    window.PLOTLYENV=window.PLOTLYENV || {};                                    if (document.getElementById(\"d5fe788a-571c-4b73-9442-37dc4d398796\")) {                    Plotly.newPlot(                        \"d5fe788a-571c-4b73-9442-37dc4d398796\",                        [{\"hovertemplate\": \"Age_income=Above 65 High Income<br>simulationState=After Renewal<br>Age Group=%{x}<br>Income Group=%{y}<br>Count=%{marker.size}<extra></extra>\", \"legendgroup\": \"Above 65 High Income\", \"marker\": {\"color\": \"HSV(280, 28%, 58%)\", \"size\": [153], \"sizemode\": \"area\", \"sizeref\": 0.6877777777777778, \"symbol\": \"circle\"}, \"mode\": \"markers\", \"name\": \"Above 65 High Income\", \"orientation\": \"v\", \"showlegend\": false, \"type\": \"scatter\", \"x\": [\"Above 65\"], \"xaxis\": \"x2\", \"y\": [\"High Income\"], \"yaxis\": \"y2\"}, {\"hovertemplate\": \"Age_income=Above 65 Low Income<br>simulationState=Before Renewal<br>Age Group=%{x}<br>Income Group=%{y}<br>Count=%{marker.size}<extra></extra>\", \"legendgroup\": \"Above 65 Low Income\", \"marker\": {\"color\": \"HSV(83, 13%, 72%)\", \"size\": [65], \"sizemode\": \"area\", \"sizeref\": 0.6877777777777778, \"symbol\": \"circle\"}, \"mode\": \"markers\", \"name\": \"Above 65 Low Income\", \"orientation\": \"v\", \"showlegend\": false, \"type\": \"scatter\", \"x\": [\"Above 65\"], \"xaxis\": \"x\", \"y\": [\"Low Income\"], \"yaxis\": \"y\"}, {\"hovertemplate\": \"Age_income=Above 65 Low Income<br>simulationState=After Renewal<br>Age Group=%{x}<br>Income Group=%{y}<br>Count=%{marker.size}<extra></extra>\", \"legendgroup\": \"Above 65 Low Income\", \"marker\": {\"color\": \"HSV(83, 13%, 72%)\", \"size\": [2], \"sizemode\": \"area\", \"sizeref\": 0.6877777777777778, \"symbol\": \"circle\"}, \"mode\": \"markers\", \"name\": \"Above 65 Low Income\", \"orientation\": \"v\", \"showlegend\": false, \"type\": \"scatter\", \"x\": [\"Above 65\"], \"xaxis\": \"x2\", \"y\": [\"Low Income\"], \"yaxis\": \"y2\"}, {\"hovertemplate\": \"Age_income=Above 65 Medium Income<br>simulationState=Before Renewal<br>Age Group=%{x}<br>Income Group=%{y}<br>Count=%{marker.size}<extra></extra>\", \"legendgroup\": \"Above 65 Medium Income\", \"marker\": {\"color\": \"HSV(312, 34%, 65%)\", \"size\": [24], \"sizemode\": \"area\", \"sizeref\": 0.6877777777777778, \"symbol\": \"circle\"}, \"mode\": \"markers\", \"name\": \"Above 65 Medium Income\", \"orientation\": \"v\", \"showlegend\": false, \"type\": \"scatter\", \"x\": [\"Above 65\"], \"xaxis\": \"x\", \"y\": [\"Medium Income\"], \"yaxis\": \"y\"}, {\"hovertemplate\": \"Age_income=Above 65 Medium Income<br>simulationState=After Renewal<br>Age Group=%{x}<br>Income Group=%{y}<br>Count=%{marker.size}<extra></extra>\", \"legendgroup\": \"Above 65 Medium Income\", \"marker\": {\"color\": \"HSV(312, 34%, 65%)\", \"size\": [32], \"sizemode\": \"area\", \"sizeref\": 0.6877777777777778, \"symbol\": \"circle\"}, \"mode\": \"markers\", \"name\": \"Above 65 Medium Income\", \"orientation\": \"v\", \"showlegend\": false, \"type\": \"scatter\", \"x\": [\"Above 65\"], \"xaxis\": \"x2\", \"y\": [\"Medium Income\"], \"yaxis\": \"y2\"}, {\"hovertemplate\": \"Age_income=Under 65 High Income<br>simulationState=After Renewal<br>Age Group=%{x}<br>Income Group=%{y}<br>Count=%{marker.size}<extra></extra>\", \"legendgroup\": \"Under 65 High Income\", \"marker\": {\"color\": \"HSV(323,57%,39%)\", \"size\": [619], \"sizemode\": \"area\", \"sizeref\": 0.6877777777777778, \"symbol\": \"circle\"}, \"mode\": \"markers\", \"name\": \"Under 65 High Income\", \"orientation\": \"v\", \"showlegend\": false, \"type\": \"scatter\", \"x\": [\"Under 65\"], \"xaxis\": \"x2\", \"y\": [\"High Income\"], \"yaxis\": \"y2\"}, {\"hovertemplate\": \"Age_income=Under 65 Low Income<br>simulationState=Before Renewal<br>Age Group=%{x}<br>Income Group=%{y}<br>Count=%{marker.size}<extra></extra>\", \"legendgroup\": \"Under 65 Low Income\", \"marker\": {\"color\": \"HSV(44,37%, 55%)\", \"size\": [188], \"sizemode\": \"area\", \"sizeref\": 0.6877777777777778, \"symbol\": \"circle\"}, \"mode\": \"markers\", \"name\": \"Under 65 Low Income\", \"orientation\": \"v\", \"showlegend\": false, \"type\": \"scatter\", \"x\": [\"Under 65\"], \"xaxis\": \"x\", \"y\": [\"Low Income\"], \"yaxis\": \"y\"}, {\"hovertemplate\": \"Age_income=Under 65 Low Income<br>simulationState=After Renewal<br>Age Group=%{x}<br>Income Group=%{y}<br>Count=%{marker.size}<extra></extra>\", \"legendgroup\": \"Under 65 Low Income\", \"marker\": {\"color\": \"HSV(44,37%, 55%)\", \"size\": [44], \"sizemode\": \"area\", \"sizeref\": 0.6877777777777778, \"symbol\": \"circle\"}, \"mode\": \"markers\", \"name\": \"Under 65 Low Income\", \"orientation\": \"v\", \"showlegend\": false, \"type\": \"scatter\", \"x\": [\"Under 65\"], \"xaxis\": \"x2\", \"y\": [\"Low Income\"], \"yaxis\": \"y2\"}, {\"hovertemplate\": \"Age_income=Under 65 Medium Income<br>simulationState=Before Renewal<br>Age Group=%{x}<br>Income Group=%{y}<br>Count=%{marker.size}<extra></extra>\", \"legendgroup\": \"Under 65 Medium Income\", \"marker\": {\"color\": \"HSV(333, 65%, 51%)\", \"size\": [82], \"sizemode\": \"area\", \"sizeref\": 0.6877777777777778, \"symbol\": \"circle\"}, \"mode\": \"markers\", \"name\": \"Under 65 Medium Income\", \"orientation\": \"v\", \"showlegend\": false, \"type\": \"scatter\", \"x\": [\"Under 65\"], \"xaxis\": \"x\", \"y\": [\"Medium Income\"], \"yaxis\": \"y\"}, {\"hovertemplate\": \"Age_income=Under 65 Medium Income<br>simulationState=After Renewal<br>Age Group=%{x}<br>Income Group=%{y}<br>Count=%{marker.size}<extra></extra>\", \"legendgroup\": \"Under 65 Medium Income\", \"marker\": {\"color\": \"HSV(333, 65%, 51%)\", \"size\": [137], \"sizemode\": \"area\", \"sizeref\": 0.6877777777777778, \"symbol\": \"circle\"}, \"mode\": \"markers\", \"name\": \"Under 65 Medium Income\", \"orientation\": \"v\", \"showlegend\": false, \"type\": \"scatter\", \"x\": [\"Under 65\"], \"xaxis\": \"x2\", \"y\": [\"Medium Income\"], \"yaxis\": \"y2\"}],                        {\"annotations\": [{\"font\": {}, \"showarrow\": false, \"text\": \"Before Renewal\", \"x\": 0.245, \"xanchor\": \"center\", \"xref\": \"paper\", \"y\": 1.0, \"yanchor\": \"bottom\", \"yref\": \"paper\"}, {\"font\": {}, \"showarrow\": false, \"text\": \"After Renewal\", \"x\": 0.755, \"xanchor\": \"center\", \"xref\": \"paper\", \"y\": 1.0, \"yanchor\": \"bottom\", \"yref\": \"paper\"}], \"height\": 375, \"legend\": {\"itemsizing\": \"constant\", \"title\": {\"text\": \"Age_income\"}, \"tracegroupgap\": 0}, \"plot_bgcolor\": \"#f2f7ff\", \"template\": {\"data\": {\"bar\": [{\"error_x\": {\"color\": \"#2a3f5f\"}, \"error_y\": {\"color\": \"#2a3f5f\"}, \"marker\": {\"line\": {\"color\": \"#E5ECF6\", \"width\": 0.5}}, \"type\": \"bar\"}], \"barpolar\": [{\"marker\": {\"line\": {\"color\": \"#E5ECF6\", \"width\": 0.5}}, \"type\": \"barpolar\"}], \"carpet\": [{\"aaxis\": {\"endlinecolor\": \"#2a3f5f\", \"gridcolor\": \"white\", \"linecolor\": \"white\", \"minorgridcolor\": \"white\", \"startlinecolor\": \"#2a3f5f\"}, \"baxis\": {\"endlinecolor\": \"#2a3f5f\", \"gridcolor\": \"white\", \"linecolor\": \"white\", \"minorgridcolor\": \"white\", \"startlinecolor\": \"#2a3f5f\"}, \"type\": \"carpet\"}], \"choropleth\": [{\"colorbar\": {\"outlinewidth\": 0, \"ticks\": \"\"}, \"type\": \"choropleth\"}], \"contour\": [{\"colorbar\": {\"outlinewidth\": 0, \"ticks\": \"\"}, \"colorscale\": [[0.0, \"#0d0887\"], [0.1111111111111111, \"#46039f\"], [0.2222222222222222, \"#7201a8\"], [0.3333333333333333, \"#9c179e\"], [0.4444444444444444, \"#bd3786\"], [0.5555555555555556, \"#d8576b\"], [0.6666666666666666, \"#ed7953\"], [0.7777777777777778, \"#fb9f3a\"], [0.8888888888888888, \"#fdca26\"], [1.0, \"#f0f921\"]], \"type\": \"contour\"}], \"contourcarpet\": [{\"colorbar\": {\"outlinewidth\": 0, \"ticks\": \"\"}, \"type\": \"contourcarpet\"}], \"heatmap\": [{\"colorbar\": {\"outlinewidth\": 0, \"ticks\": \"\"}, \"colorscale\": [[0.0, \"#0d0887\"], [0.1111111111111111, \"#46039f\"], [0.2222222222222222, \"#7201a8\"], [0.3333333333333333, \"#9c179e\"], [0.4444444444444444, \"#bd3786\"], [0.5555555555555556, \"#d8576b\"], [0.6666666666666666, \"#ed7953\"], [0.7777777777777778, \"#fb9f3a\"], [0.8888888888888888, \"#fdca26\"], [1.0, \"#f0f921\"]], \"type\": \"heatmap\"}], \"heatmapgl\": [{\"colorbar\": {\"outlinewidth\": 0, \"ticks\": \"\"}, \"colorscale\": [[0.0, \"#0d0887\"], [0.1111111111111111, \"#46039f\"], [0.2222222222222222, \"#7201a8\"], [0.3333333333333333, \"#9c179e\"], [0.4444444444444444, \"#bd3786\"], [0.5555555555555556, \"#d8576b\"], [0.6666666666666666, \"#ed7953\"], [0.7777777777777778, \"#fb9f3a\"], [0.8888888888888888, \"#fdca26\"], [1.0, \"#f0f921\"]], \"type\": \"heatmapgl\"}], \"histogram\": [{\"marker\": {\"colorbar\": {\"outlinewidth\": 0, \"ticks\": \"\"}}, \"type\": \"histogram\"}], \"histogram2d\": [{\"colorbar\": {\"outlinewidth\": 0, \"ticks\": \"\"}, \"colorscale\": [[0.0, \"#0d0887\"], [0.1111111111111111, \"#46039f\"], [0.2222222222222222, \"#7201a8\"], [0.3333333333333333, \"#9c179e\"], [0.4444444444444444, \"#bd3786\"], [0.5555555555555556, \"#d8576b\"], [0.6666666666666666, \"#ed7953\"], [0.7777777777777778, \"#fb9f3a\"], [0.8888888888888888, \"#fdca26\"], [1.0, \"#f0f921\"]], \"type\": \"histogram2d\"}], \"histogram2dcontour\": [{\"colorbar\": {\"outlinewidth\": 0, \"ticks\": \"\"}, \"colorscale\": [[0.0, \"#0d0887\"], [0.1111111111111111, \"#46039f\"], [0.2222222222222222, \"#7201a8\"], [0.3333333333333333, \"#9c179e\"], [0.4444444444444444, \"#bd3786\"], [0.5555555555555556, \"#d8576b\"], [0.6666666666666666, \"#ed7953\"], [0.7777777777777778, \"#fb9f3a\"], [0.8888888888888888, \"#fdca26\"], [1.0, \"#f0f921\"]], \"type\": \"histogram2dcontour\"}], \"mesh3d\": [{\"colorbar\": {\"outlinewidth\": 0, \"ticks\": \"\"}, \"type\": \"mesh3d\"}], \"parcoords\": [{\"line\": {\"colorbar\": {\"outlinewidth\": 0, \"ticks\": \"\"}}, \"type\": \"parcoords\"}], \"pie\": [{\"automargin\": true, \"type\": \"pie\"}], \"scatter\": [{\"marker\": {\"colorbar\": {\"outlinewidth\": 0, \"ticks\": \"\"}}, \"type\": \"scatter\"}], \"scatter3d\": [{\"line\": {\"colorbar\": {\"outlinewidth\": 0, \"ticks\": \"\"}}, \"marker\": {\"colorbar\": {\"outlinewidth\": 0, \"ticks\": \"\"}}, \"type\": \"scatter3d\"}], \"scattercarpet\": [{\"marker\": {\"colorbar\": {\"outlinewidth\": 0, \"ticks\": \"\"}}, \"type\": \"scattercarpet\"}], \"scattergeo\": [{\"marker\": {\"colorbar\": {\"outlinewidth\": 0, \"ticks\": \"\"}}, \"type\": \"scattergeo\"}], \"scattergl\": [{\"marker\": {\"colorbar\": {\"outlinewidth\": 0, \"ticks\": \"\"}}, \"type\": \"scattergl\"}], \"scattermapbox\": [{\"marker\": {\"colorbar\": {\"outlinewidth\": 0, \"ticks\": \"\"}}, \"type\": \"scattermapbox\"}], \"scatterpolar\": [{\"marker\": {\"colorbar\": {\"outlinewidth\": 0, \"ticks\": \"\"}}, \"type\": \"scatterpolar\"}], \"scatterpolargl\": [{\"marker\": {\"colorbar\": {\"outlinewidth\": 0, \"ticks\": \"\"}}, \"type\": \"scatterpolargl\"}], \"scatterternary\": [{\"marker\": {\"colorbar\": {\"outlinewidth\": 0, \"ticks\": \"\"}}, \"type\": \"scatterternary\"}], \"surface\": [{\"colorbar\": {\"outlinewidth\": 0, \"ticks\": \"\"}, \"colorscale\": [[0.0, \"#0d0887\"], [0.1111111111111111, \"#46039f\"], [0.2222222222222222, \"#7201a8\"], [0.3333333333333333, \"#9c179e\"], [0.4444444444444444, \"#bd3786\"], [0.5555555555555556, \"#d8576b\"], [0.6666666666666666, \"#ed7953\"], [0.7777777777777778, \"#fb9f3a\"], [0.8888888888888888, \"#fdca26\"], [1.0, \"#f0f921\"]], \"type\": \"surface\"}], \"table\": [{\"cells\": {\"fill\": {\"color\": \"#EBF0F8\"}, \"line\": {\"color\": \"white\"}}, \"header\": {\"fill\": {\"color\": \"#C8D4E3\"}, \"line\": {\"color\": \"white\"}}, \"type\": \"table\"}]}, \"layout\": {\"annotationdefaults\": {\"arrowcolor\": \"#2a3f5f\", \"arrowhead\": 0, \"arrowwidth\": 1}, \"autotypenumbers\": \"strict\", \"coloraxis\": {\"colorbar\": {\"outlinewidth\": 0, \"ticks\": \"\"}}, \"colorscale\": {\"diverging\": [[0, \"#8e0152\"], [0.1, \"#c51b7d\"], [0.2, \"#de77ae\"], [0.3, \"#f1b6da\"], [0.4, \"#fde0ef\"], [0.5, \"#f7f7f7\"], [0.6, \"#e6f5d0\"], [0.7, \"#b8e186\"], [0.8, \"#7fbc41\"], [0.9, \"#4d9221\"], [1, \"#276419\"]], \"sequential\": [[0.0, \"#0d0887\"], [0.1111111111111111, \"#46039f\"], [0.2222222222222222, \"#7201a8\"], [0.3333333333333333, \"#9c179e\"], [0.4444444444444444, \"#bd3786\"], [0.5555555555555556, \"#d8576b\"], [0.6666666666666666, \"#ed7953\"], [0.7777777777777778, \"#fb9f3a\"], [0.8888888888888888, \"#fdca26\"], [1.0, \"#f0f921\"]], \"sequentialminus\": [[0.0, \"#0d0887\"], [0.1111111111111111, \"#46039f\"], [0.2222222222222222, \"#7201a8\"], [0.3333333333333333, \"#9c179e\"], [0.4444444444444444, \"#bd3786\"], [0.5555555555555556, \"#d8576b\"], [0.6666666666666666, \"#ed7953\"], [0.7777777777777778, \"#fb9f3a\"], [0.8888888888888888, \"#fdca26\"], [1.0, \"#f0f921\"]]}, \"colorway\": [\"#636efa\", \"#EF553B\", \"#00cc96\", \"#ab63fa\", \"#FFA15A\", \"#19d3f3\", \"#FF6692\", \"#B6E880\", \"#FF97FF\", \"#FECB52\"], \"font\": {\"color\": \"#2a3f5f\"}, \"geo\": {\"bgcolor\": \"white\", \"lakecolor\": \"white\", \"landcolor\": \"#E5ECF6\", \"showlakes\": true, \"showland\": true, \"subunitcolor\": \"white\"}, \"hoverlabel\": {\"align\": \"left\"}, \"hovermode\": \"closest\", \"mapbox\": {\"style\": \"light\"}, \"paper_bgcolor\": \"white\", \"plot_bgcolor\": \"#E5ECF6\", \"polar\": {\"angularaxis\": {\"gridcolor\": \"white\", \"linecolor\": \"white\", \"ticks\": \"\"}, \"bgcolor\": \"#E5ECF6\", \"radialaxis\": {\"gridcolor\": \"white\", \"linecolor\": \"white\", \"ticks\": \"\"}}, \"scene\": {\"xaxis\": {\"backgroundcolor\": \"#E5ECF6\", \"gridcolor\": \"white\", \"gridwidth\": 2, \"linecolor\": \"white\", \"showbackground\": true, \"ticks\": \"\", \"zerolinecolor\": \"white\"}, \"yaxis\": {\"backgroundcolor\": \"#E5ECF6\", \"gridcolor\": \"white\", \"gridwidth\": 2, \"linecolor\": \"white\", \"showbackground\": true, \"ticks\": \"\", \"zerolinecolor\": \"white\"}, \"zaxis\": {\"backgroundcolor\": \"#E5ECF6\", \"gridcolor\": \"white\", \"gridwidth\": 2, \"linecolor\": \"white\", \"showbackground\": true, \"ticks\": \"\", \"zerolinecolor\": \"white\"}}, \"shapedefaults\": {\"line\": {\"color\": \"#2a3f5f\"}}, \"ternary\": {\"aaxis\": {\"gridcolor\": \"white\", \"linecolor\": \"white\", \"ticks\": \"\"}, \"baxis\": {\"gridcolor\": \"white\", \"linecolor\": \"white\", \"ticks\": \"\"}, \"bgcolor\": \"#E5ECF6\", \"caxis\": {\"gridcolor\": \"white\", \"linecolor\": \"white\", \"ticks\": \"\"}}, \"title\": {\"x\": 0.05}, \"xaxis\": {\"automargin\": true, \"gridcolor\": \"white\", \"linecolor\": \"white\", \"ticks\": \"\", \"title\": {\"standoff\": 15}, \"zerolinecolor\": \"white\", \"zerolinewidth\": 2}, \"yaxis\": {\"automargin\": true, \"gridcolor\": \"white\", \"linecolor\": \"white\", \"ticks\": \"\", \"title\": {\"standoff\": 15}, \"zerolinecolor\": \"white\", \"zerolinewidth\": 2}}}, \"title\": {\"text\": \"Age Group Vs Income Before and After Renewal\"}, \"width\": 700, \"xaxis\": {\"anchor\": \"y\", \"categoryarray\": [\"Under 65\", \"Above 65\"], \"categoryorder\": \"array\", \"domain\": [0.0, 0.49], \"gridcolor\": \"#d9d9d9\", \"gridwidth\": 1, \"title\": {\"text\": \"\"}, \"zerolinecolor\": \"lightgrey\", \"zerolinewidth\": 1}, \"xaxis2\": {\"anchor\": \"y2\", \"categoryarray\": [\"Under 65\", \"Above 65\"], \"categoryorder\": \"array\", \"domain\": [0.51, 1.0], \"gridcolor\": \"#d9d9d9\", \"gridwidth\": 1, \"matches\": \"x\", \"title\": {\"text\": \"\"}, \"zerolinecolor\": \"lightgrey\", \"zerolinewidth\": 1}, \"yaxis\": {\"anchor\": \"x\", \"categoryarray\": [\"Low Income\", \"Medium Income\", \"High Income\"], \"categoryorder\": \"array\", \"domain\": [0.0, 1.0], \"gridcolor\": \"#d9d9d9\", \"gridwidth\": 1, \"title\": {\"text\": \"\"}, \"zerolinecolor\": \"lightgrey\", \"zerolinewidth\": 1}, \"yaxis2\": {\"anchor\": \"x2\", \"domain\": [0.0, 1.0], \"gridcolor\": \"#d9d9d9\", \"gridwidth\": 1, \"matches\": \"y\", \"showticklabels\": false, \"title\": {\"text\": \"\"}, \"zerolinecolor\": \"lightgrey\", \"zerolinewidth\": 1}},                        {\"responsive\": true}                    ).then(function(){\n                            \nvar gd = document.getElementById('d5fe788a-571c-4b73-9442-37dc4d398796');\nvar x = new MutationObserver(function (mutations, observer) {{\n        var display = window.getComputedStyle(gd).display;\n        if (!display || display === 'none') {{\n            console.log([gd, 'removed!']);\n            Plotly.purge(gd);\n            observer.disconnect();\n        }}\n}});\n\n// Listen for the removal of the full notebook cells\nvar notebookContainer = gd.closest('#notebook-container');\nif (notebookContainer) {{\n    x.observe(notebookContainer, {childList: true});\n}}\n\n// Listen for the clearing of the current output cell\nvar outputEl = gd.closest('.output');\nif (outputEl) {{\n    x.observe(outputEl, {childList: true});\n}}\n\n                        })                };                            </script>        </div>\n</body>\n</html>"
         },
         "metadata": {},
         "output_type": "display_data"
        }
       ]
      }
     },
     "c7174a8217db4a258b09323cb83766ce": {
      "model_module": "arcgis-map-ipywidget",
      "model_module_version": "1.8.4",
      "model_name": "ArcGISMapIPyWidgetModel",
      "state": {
       "_auth_mode": "tokenBased",
       "_basemap": "dark-gray-vector",
       "_center": {
        "spatialReference": {
         "latestWkid": 3857,
         "wkid": 102100
        },
        "x": 3867680.4989478365,
        "y": 3767190.2407942
       },
       "_draw_these_graphics_on_widget_load": [],
       "_draw_these_notype_layers_on_widget_load": [
        {
         "_hashFromPython": "8777901729485",
         "options": {
          "renderer": {
           "symbol": {
            "color": [
             255,
             255,
             255,
             255
            ],
            "outline": {
             "color": [
              54,
              93,
              141,
              255
             ],
             "style": "esriSLSSolid",
             "type": "esriSLS",
             "width": 1.5
            },
            "style": "esriSFSSolid",
            "type": "esriSFS"
           },
           "type": "simple"
          }
         },
         "type": "FeatureLayer",
         "url": "https://services1.arcgis.com/yAQXemoDSgzdfV2A/arcgis/rest/services/Addition_Before/FeatureServer/0?token=761grilnZthTsgcssC4nNSGmZCOntYHdAXnQpd7A2sND8EUYPb1DW64X7vsmPQDaGmN9aAdjwI0s2umxXgdsJbRnsa8V3hhNqzWblyaDGZ3UQnkozZ1ZLItzEG11OlD-WkIv2dPWM-wSUWvqaq76OQQIDD9mQtq2VaCVg4OjO3Q."
        },
        {
         "_hashFromPython": "8777901702805",
         "options": {
          "renderer": {
           "symbol": {
            "color": [
             255,
             255,
             255,
             255
            ],
            "outline": {
             "color": [
              54,
              93,
              141,
              255
             ],
             "style": "esriSLSSolid",
             "type": "esriSLS",
             "width": 1.5
            },
            "style": "esriSFSSolid",
            "type": "esriSFS"
           },
           "type": "simple"
          }
         },
         "type": "FeatureLayer",
         "url": "https://services1.arcgis.com/yAQXemoDSgzdfV2A/arcgis/rest/services/Addition_After/FeatureServer/0?token=761grilnZthTsgcssC4nNSGmZCOntYHdAXnQpd7A2sND8EUYPb1DW64X7vsmPQDaGmN9aAdjwI0s2umxXgdsJbRnsa8V3hhNqzWblyaDGZ3UQnkozZ1ZLItzEG11OlD-WkIv2dPWM-wSUWvqaq76OQQIDD9mQtq2VaCVg4OjO3Q."
        },
        {
         "_hashFromPython": "8777901726093",
         "options": {
          "renderer": {
           "symbol": {
            "color": [
             255,
             255,
             255,
             255
            ],
            "outline": {
             "color": [
              54,
              93,
              141,
              255
             ],
             "style": "esriSLSSolid",
             "type": "esriSLS",
             "width": 1.5
            },
            "style": "esriSFSSolid",
            "type": "esriSFS"
           },
           "type": "simple"
          }
         },
         "type": "FeatureLayer",
         "url": "https://services1.arcgis.com/yAQXemoDSgzdfV2A/arcgis/rest/services/Reconstruction_Before/FeatureServer/0?token=761grilnZthTsgcssC4nNSGmZCOntYHdAXnQpd7A2sND8EUYPb1DW64X7vsmPQDaGmN9aAdjwI0s2umxXgdsJbRnsa8V3hhNqzWblyaDGZ3UQnkozZ1ZLItzEG11OlD-WkIv2dPWM-wSUWvqaq76OQQIDD9mQtq2VaCVg4OjO3Q."
        },
        {
         "_hashFromPython": "8777901736209",
         "options": {
          "renderer": {
           "symbol": {
            "color": [
             79,
             129,
             189,
             255
            ],
            "outline": {
             "color": [
              54,
              93,
              141,
              255
             ],
             "style": "esriSLSSolid",
             "type": "esriSLS",
             "width": 1.5
            },
            "style": "esriSFSSolid",
            "type": "esriSFS"
           },
           "type": "simple"
          }
         },
         "type": "FeatureLayer",
         "url": "https://services1.arcgis.com/yAQXemoDSgzdfV2A/arcgis/rest/services/Reconstruction_After/FeatureServer/0?token=761grilnZthTsgcssC4nNSGmZCOntYHdAXnQpd7A2sND8EUYPb1DW64X7vsmPQDaGmN9aAdjwI0s2umxXgdsJbRnsa8V3hhNqzWblyaDGZ3UQnkozZ1ZLItzEG11OlD-WkIv2dPWM-wSUWvqaq76OQQIDD9mQtq2VaCVg4OjO3Q."
        },
        {
         "_hashFromPython": "8777901785889",
         "options": {
          "renderer": {
           "symbol": {
            "color": [
             255,
             255,
             255,
             255
            ],
            "outline": {
             "color": [
              54,
              93,
              141,
              255
             ],
             "style": "esriSLSSolid",
             "type": "esriSLS",
             "width": 1.5
            },
            "style": "esriSFSSolid",
            "type": "esriSFS"
           },
           "type": "simple"
          }
         },
         "type": "FeatureLayer",
         "url": "https://services1.arcgis.com/yAQXemoDSgzdfV2A/arcgis/rest/services/Raze_and_Rebuild_Before/FeatureServer/0?token=761grilnZthTsgcssC4nNSGmZCOntYHdAXnQpd7A2sND8EUYPb1DW64X7vsmPQDaGmN9aAdjwI0s2umxXgdsJbRnsa8V3hhNqzWblyaDGZ3UQnkozZ1ZLItzEG11OlD-WkIv2dPWM-wSUWvqaq76OQQIDD9mQtq2VaCVg4OjO3Q."
        },
        {
         "_hashFromPython": "8777901805889",
         "options": {
          "renderer": {
           "symbol": {
            "color": [
             79,
             129,
             189,
             255
            ],
            "outline": {
             "color": [
              54,
              93,
              141,
              255
             ],
             "style": "esriSLSSolid",
             "type": "esriSLS",
             "width": 1.5
            },
            "style": "esriSFSSolid",
            "type": "esriSFS"
           },
           "type": "simple"
          }
         },
         "type": "FeatureLayer",
         "url": "https://services1.arcgis.com/yAQXemoDSgzdfV2A/arcgis/rest/services/Raze_and_Rebuild_After/FeatureServer/0?token=761grilnZthTsgcssC4nNSGmZCOntYHdAXnQpd7A2sND8EUYPb1DW64X7vsmPQDaGmN9aAdjwI0s2umxXgdsJbRnsa8V3hhNqzWblyaDGZ3UQnkozZ1ZLItzEG11OlD-WkIv2dPWM-wSUWvqaq76OQQIDD9mQtq2VaCVg4OjO3Q."
        },
        {
         "_hashFromPython": "8777901679629",
         "options": {
          "renderer": {
           "symbol": {
            "color": [
             133,
             133,
             133,
             191
            ],
            "outline": {
             "color": [
              0,
              0,
              0,
              255
             ],
             "style": "esriSLSSolid",
             "type": "esriSLS",
             "width": 0.75
            },
            "style": "esriSFSSolid",
            "type": "esriSFS"
           },
           "type": "simple"
          }
         },
         "type": "FeatureLayer",
         "url": "https://services1.arcgis.com/yAQXemoDSgzdfV2A/arcgis/rest/services/Background_Buildings_in_3_Statistical_Zones/FeatureServer/0?token=761grilnZthTsgcssC4nNSGmZCOntYHdAXnQpd7A2sND8EUYPb1DW64X7vsmPQDaGmN9aAdjwI0s2umxXgdsJbRnsa8V3hhNqzWblyaDGZ3UQnkozZ1ZLItzEG11OlD-WkIv2dPWM-wSUWvqaq76OQQIDD9mQtq2VaCVg4OjO3Q."
        }
       ],
       "_gallery_basemaps": {
        "default": {
         "baseMapLayers": [
          {
           "layerType": "ArcGISTiledMapServiceLayer",
           "resourceInfo": {
            "capabilities": "Map,Tilemap,Query,Data",
            "copyrightText": "Sources: Esri, HERE, DeLorme, Intermap, increment P Corp., GEBCO, USGS, FAO, NPS, NRCAN, GeoBase, IGN, Kadaster NL, Ordnance Survey, Esri Japan, METI, Esri China (Hong Kong), swisstopo, MapmyIndia, Â© OpenStreetMap contributors, and the GIS User Community",
            "currentVersion": 10.3,
            "documentInfo": {
             "AntialiasingMode": "None",
             "Author": "Esri",
             "Category": "imageryBaseMapsEarthCover (Imagery, basemaps, and land cover)",
             "Comments": "",
             "Keywords": "World,Global,Europe,North America,South America,Southern Africa,Australia,New Zealand,India",
             "Subject": "topographic, topography, administrative boundaries, cities, water features, physiographic features, parks, landmarks, highways, roads, railways, airports, land cover, shaded relief imagery",
             "TextAntialiasingMode": "Force",
             "Title": "World Topographic Map"
            },
            "exportTilesAllowed": false,
            "fullExtent": {
             "spatialReference": {
              "latestWkid": 3857,
              "wkid": 102100
             },
             "xmax": 20037507.067161843,
             "xmin": -20037507.067161843,
             "ymax": 19971868.88040863,
             "ymin": -19971868.880408604
            },
            "initialExtent": {
             "spatialReference": {
              "latestWkid": 3857,
              "wkid": 102100
             },
             "xmax": 28848255.049479112,
             "xmin": -28848255.049479112,
             "ymax": 16430757.376790084,
             "ymin": -2077452.082122866
            },
            "layers": [
             {
              "defaultVisibility": false,
              "id": 0,
              "maxScale": 0,
              "minScale": 0,
              "name": "Citations",
              "parentLayerId": -1,
              "subLayerIds": null
             }
            ],
            "mapName": "Layers",
            "maxImageHeight": 4096,
            "maxImageWidth": 4096,
            "maxRecordCount": 100,
            "maxScale": 70.5310735,
            "minScale": 591657527.591555,
            "singleFusedMapCache": true,
            "spatialReference": {
             "latestWkid": 3857,
             "wkid": 102100
            },
            "supportedExtensions": "KmlServer",
            "supportedImageFormatTypes": "PNG32,PNG24,PNG,JPG,DIB,TIFF,EMF,PS,PDF,GIF,SVG,SVGZ,BMP",
            "supportedQueryFormats": "JSON, AMF",
            "supportsDynamicLayers": false,
            "tables": [],
            "tileInfo": {
             "cols": 256,
             "compressionQuality": 90,
             "dpi": 96,
             "format": "JPEG",
             "lods": [
              {
               "level": 0,
               "resolution": 156543.03392800014,
               "scale": 591657527.591555
              },
              {
               "level": 1,
               "resolution": 78271.51696399994,
               "scale": 295828763.795777
              },
              {
               "level": 2,
               "resolution": 39135.75848200009,
               "scale": 147914381.897889
              },
              {
               "level": 3,
               "resolution": 19567.87924099992,
               "scale": 73957190.948944
              },
              {
               "level": 4,
               "resolution": 9783.93962049996,
               "scale": 36978595.474472
              },
              {
               "level": 5,
               "resolution": 4891.96981024998,
               "scale": 18489297.737236
              },
              {
               "level": 6,
               "resolution": 2445.98490512499,
               "scale": 9244648.868618
              },
              {
               "level": 7,
               "resolution": 1222.992452562495,
               "scale": 4622324.434309
              },
              {
               "level": 8,
               "resolution": 611.4962262813797,
               "scale": 2311162.217155
              },
              {
               "level": 9,
               "resolution": 305.74811314055756,
               "scale": 1155581.108577
              },
              {
               "level": 10,
               "resolution": 152.87405657041106,
               "scale": 577790.554289
              },
              {
               "level": 11,
               "resolution": 76.43702828507324,
               "scale": 288895.277144
              },
              {
               "level": 12,
               "resolution": 38.21851414253662,
               "scale": 144447.638572
              },
              {
               "level": 13,
               "resolution": 19.10925707126831,
               "scale": 72223.819286
              },
              {
               "level": 14,
               "resolution": 9.554628535634155,
               "scale": 36111.909643
              },
              {
               "level": 15,
               "resolution": 4.77731426794937,
               "scale": 18055.954822
              },
              {
               "level": 16,
               "resolution": 2.388657133974685,
               "scale": 9027.977411
              },
              {
               "level": 17,
               "resolution": 1.1943285668550503,
               "scale": 4513.988705
              },
              {
               "level": 18,
               "resolution": 0.5971642835598172,
               "scale": 2256.994353
              },
              {
               "level": 19,
               "resolution": 0.29858214164761665,
               "scale": 1128.497176
              },
              {
               "level": 20,
               "resolution": 0.14929107082380833,
               "scale": 564.248588
              },
              {
               "level": 21,
               "resolution": 0.07464553541190416,
               "scale": 282.124294
              },
              {
               "level": 22,
               "resolution": 0.03732276770595208,
               "scale": 141.062147
              },
              {
               "level": 23,
               "resolution": 0.01866138385297604,
               "scale": 70.5310735
              }
             ],
             "origin": {
              "x": -20037508.342787,
              "y": 20037508.342787
             },
             "rows": 256,
             "spatialReference": {
              "latestWkid": 3857,
              "wkid": 102100
             }
            },
            "units": "esriMeters"
           },
           "title": "מפת טופוגרפיה עולמית",
           "url": "https://services.arcgisonline.com/ArcGIS/rest/services/World_Topo_Map/MapServer"
          }
         ],
         "title": "מפה טופוגרפית"
        }
       },
       "_overlay_these_images_on_widget_load": [],
       "_portal_sharing_rest_url": "https://Technion-GIS.maps.arcgis.com/sharing/rest/",
       "_portal_url": "https://Technion-GIS.maps.arcgis.com",
       "_readonly_center": {
        "spatialReference": {
         "latestWkid": 3857,
         "wkid": 102100
        },
        "x": 3867509.784424977,
        "y": 3766869.031773795
       },
       "_readonly_extent": {
        "spatialReference": {
         "latestWkid": 3857,
         "wkid": 102100
        },
        "xmax": 3867911.377405582,
        "xmin": 3867108.191444372,
        "ymax": 3766988.4646304804,
        "ymin": 3766749.5989171094
       },
       "_readonly_webmap_from_js": {
        "basemap": {
         "baseMapLayers": [
          {
           "id": "dark-gray-base-layer",
           "layerType": "VectorTileLayer",
           "styleUrl": "https://cdn.arcgis.com/sharing/rest/content/items/5e9b3685f4c24d8781073dd928ebda50/resources/styles/root.json",
           "title": "Dark Gray Base"
          },
          {
           "id": "dark-gray-reference-layer",
           "isReference": true,
           "layerType": "VectorTileLayer",
           "styleUrl": "https://cdn.arcgis.com/sharing/rest/content/items/747cb7a5329c478cbe6981076cc879c5/resources/styles/root.json",
           "title": "Dark Gray Reference"
          }
         ],
         "title": "Dark Gray Canvas"
        },
        "ground": {
         "layers": [
          {
           "id": "worldElevation",
           "layerType": "ArcGISTiledElevationServiceLayer",
           "listMode": "show",
           "title": "Terrain3D",
           "url": "https://elevation3d.arcgis.com/arcgis/rest/services/WorldElevation3D/Terrain3D/ImageServer",
           "visibility": true
          }
         ],
         "transparency": 0
        },
        "layers": [
         {
          "id": "8777901785889",
          "refreshInterval": 0,
          "renderer": {
           "symbol": {
            "color": [
             255,
             255,
             255,
             255
            ],
            "outline": {
             "color": [
              54,
              93,
              141,
              255
             ],
             "style": "esriSLSSolid",
             "type": "esriSLS",
             "width": 1.5
            },
            "style": "esriSFSSolid",
            "type": "esriSFS"
           },
           "type": "simple"
          },
          "rendererType": "esri.renderers.SimpleRenderer",
          "url": "https://services1.arcgis.com/yAQXemoDSgzdfV2A/arcgis/rest/services/Raze_and_Rebuild_Before/FeatureServer"
         },
         {
          "id": "8777901729485",
          "refreshInterval": 0,
          "renderer": {
           "symbol": {
            "color": [
             255,
             255,
             255,
             255
            ],
            "outline": {
             "color": [
              54,
              93,
              141,
              255
             ],
             "style": "esriSLSSolid",
             "type": "esriSLS",
             "width": 1.5
            },
            "style": "esriSFSSolid",
            "type": "esriSFS"
           },
           "type": "simple"
          },
          "rendererType": "esri.renderers.SimpleRenderer",
          "url": "https://services1.arcgis.com/yAQXemoDSgzdfV2A/arcgis/rest/services/Addition_Before/FeatureServer"
         },
         {
          "id": "8777901702805",
          "refreshInterval": 0,
          "renderer": {
           "symbol": {
            "color": [
             255,
             255,
             255,
             255
            ],
            "outline": {
             "color": [
              54,
              93,
              141,
              255
             ],
             "style": "esriSLSSolid",
             "type": "esriSLS",
             "width": 1.5
            },
            "style": "esriSFSSolid",
            "type": "esriSFS"
           },
           "type": "simple"
          },
          "rendererType": "esri.renderers.SimpleRenderer",
          "url": "https://services1.arcgis.com/yAQXemoDSgzdfV2A/arcgis/rest/services/Addition_After/FeatureServer"
         },
         {
          "id": "8777901805889",
          "refreshInterval": 0,
          "renderer": {
           "symbol": {
            "color": [
             79,
             129,
             189,
             255
            ],
            "outline": {
             "color": [
              54,
              93,
              141,
              255
             ],
             "style": "esriSLSSolid",
             "type": "esriSLS",
             "width": 1.5
            },
            "style": "esriSFSSolid",
            "type": "esriSFS"
           },
           "type": "simple"
          },
          "rendererType": "esri.renderers.SimpleRenderer",
          "url": "https://services1.arcgis.com/yAQXemoDSgzdfV2A/arcgis/rest/services/Raze_and_Rebuild_After/FeatureServer"
         },
         {
          "id": "8777901679629",
          "refreshInterval": 0,
          "renderer": {
           "symbol": {
            "color": [
             133,
             133,
             133,
             191
            ],
            "outline": {
             "color": [
              0,
              0,
              0,
              255
             ],
             "style": "esriSLSSolid",
             "type": "esriSLS",
             "width": 0.75
            },
            "style": "esriSFSSolid",
            "type": "esriSFS"
           },
           "type": "simple"
          },
          "rendererType": "esri.renderers.SimpleRenderer",
          "url": "https://services1.arcgis.com/yAQXemoDSgzdfV2A/arcgis/rest/services/Background_Buildings_in_3_Statistical_Zones/FeatureServer"
         },
         {
          "id": "8777901726093",
          "refreshInterval": 0,
          "renderer": {
           "symbol": {
            "color": [
             255,
             255,
             255,
             255
            ],
            "outline": {
             "color": [
              54,
              93,
              141,
              255
             ],
             "style": "esriSLSSolid",
             "type": "esriSLS",
             "width": 1.5
            },
            "style": "esriSFSSolid",
            "type": "esriSFS"
           },
           "type": "simple"
          },
          "rendererType": "esri.renderers.SimpleRenderer",
          "url": "https://services1.arcgis.com/yAQXemoDSgzdfV2A/arcgis/rest/services/Reconstruction_Before/FeatureServer"
         },
         {
          "id": "8777901736209",
          "refreshInterval": 0,
          "renderer": {
           "symbol": {
            "color": [
             79,
             129,
             189,
             255
            ],
            "outline": {
             "color": [
              54,
              93,
              141,
              255
             ],
             "style": "esriSLSSolid",
             "type": "esriSLS",
             "width": 1.5
            },
            "style": "esriSFSSolid",
            "type": "esriSFS"
           },
           "type": "simple"
          },
          "rendererType": "esri.renderers.SimpleRenderer",
          "url": "https://services1.arcgis.com/yAQXemoDSgzdfV2A/arcgis/rest/services/Reconstruction_After/FeatureServer"
         }
        ]
       },
       "_readonly_zoom": 17,
       "_username": "shai@technion",
       "_uuid": "d0af6c2e-1864-4271-b9e6-a44da7553e69",
       "_writeonly_end_time": "1900-01-01T00:00:00.000000",
       "_writeonly_start_time": "1900-01-01T00:00:00.000000",
       "_zoom": 17,
       "jupyter_target": "lab",
       "layout": "IPY_MODEL_4446ffad0d9b4812a7973cca821d91da",
       "print_service_url": "",
       "ready": true
      }
     },
     "c8c193f7a78e4f6cad6eb03d8508f4d4": {
      "model_module": "@jupyter-widgets/output",
      "model_module_version": "1.0.0",
      "model_name": "OutputModel",
      "state": {
       "layout": "IPY_MODEL_1927136fb3eb4c30ba0e8fed3997d31f",
       "outputs": [
        {
         "data": {
          "application/vnd.jupyter.widget-view+json": {
           "model_id": "c7174a8217db4a258b09323cb83766ce",
           "version_major": 2,
           "version_minor": 0
          },
          "text/plain": "MapView(jupyter_target='lab', layout=Layout(height='400px', width='100%'), ready=True)"
         },
         "metadata": {},
         "output_type": "display_data"
        },
        {
         "data": {
          "text/html": "<div class=\"map-static-img-preview-d0af6c2e-1864-4271-b9e6-a44da7553e69\"><img src=\"\"></img></div>",
          "text/plain": "<IPython.core.display.HTML object>"
         },
         "metadata": {},
         "output_type": "display_data"
        },
        {
         "data": {
          "text/html": "<div class=\"map-html-embed-preview-d0af6c2e-1864-4271-b9e6-a44da7553e69\"></div>",
          "text/plain": "<IPython.core.display.HTML object>"
         },
         "metadata": {},
         "output_type": "display_data"
        }
       ]
      }
     },
     "cb91add3271243e59fd8df70dd0703cb": {
      "model_module": "@jupyter-widgets/output",
      "model_module_version": "1.0.0",
      "model_name": "OutputModel",
      "state": {
       "layout": "IPY_MODEL_168618d3fd7a45b784bf48b9195cc262",
       "outputs": [
        {
         "data": {
          "text/html": "<html>\n<head><meta charset=\"utf-8\" /></head>\n<body>\n    <div>            <script src=\"https://cdnjs.cloudflare.com/ajax/libs/mathjax/2.7.5/MathJax.js?config=TeX-AMS-MML_SVG\"></script><script type=\"text/javascript\">if (window.MathJax) {MathJax.Hub.Config({SVG: {font: \"STIX-Web\"}});}</script>                <script type=\"text/javascript\">window.PlotlyConfig = {MathJaxConfig: 'local'};</script>\n        <script src=\"https://cdn.plot.ly/plotly-latest.min.js\"></script>                <div id=\"d83ec2ee-2f82-4fc8-857c-5c8a5321f653\" class=\"plotly-graph-div\" style=\"height:400px; width:600px;\"></div>            <script type=\"text/javascript\">                                    window.PLOTLYENV=window.PLOTLYENV || {};                                    if (document.getElementById(\"d83ec2ee-2f82-4fc8-857c-5c8a5321f653\")) {                    Plotly.newPlot(                        \"d83ec2ee-2f82-4fc8-857c-5c8a5321f653\",                        [{\"hovertemplate\": \"who=Leaving Owners<br>x=%{x}<br>y=%{y}<br>Agents=%{marker.size}<extra></extra>\", \"legendgroup\": \"Leaving Owners\", \"marker\": {\"color\": \"cornflowerblue\", \"line\": {\"color\": \"DarkSlateGrey\", \"width\": 2}, \"size\": [6.0], \"sizemode\": \"area\", \"sizeref\": 0.0112, \"symbol\": \"circle\"}, \"mode\": \"markers\", \"name\": \"Leaving Owners\", \"orientation\": \"v\", \"showlegend\": true, \"type\": \"scatter\", \"x\": [1.0], \"xaxis\": \"x\", \"y\": [1.25], \"yaxis\": \"y\"}, {\"hovertemplate\": \"who=Leaving Renters<br>x=%{x}<br>y=%{y}<br>Agents=%{marker.size}<extra></extra>\", \"legendgroup\": \"Leaving Renters\", \"marker\": {\"color\": \"lightgreen\", \"line\": {\"color\": \"DarkSlateGrey\", \"width\": 2}, \"size\": [0.0], \"sizemode\": \"area\", \"sizeref\": 0.0112, \"symbol\": \"circle\"}, \"mode\": \"markers\", \"name\": \"Leaving Renters\", \"orientation\": \"v\", \"showlegend\": true, \"type\": \"scatter\", \"x\": [1.0], \"xaxis\": \"x\", \"y\": [1.85], \"yaxis\": \"y\"}, {\"hovertemplate\": \"who=Total Before<br>x=%{x}<br>y=%{y}<br>Agents=%{marker.size}<extra></extra>\", \"legendgroup\": \"Total Before\", \"marker\": {\"color\": \"lemonchiffon\", \"line\": {\"color\": \"DarkSlateGrey\", \"width\": 2}, \"size\": [6.0], \"sizemode\": \"area\", \"sizeref\": 0.0112, \"symbol\": \"circle\"}, \"mode\": \"markers\", \"name\": \"Total Before\", \"orientation\": \"v\", \"showlegend\": true, \"type\": \"scatter\", \"x\": [2.5], \"xaxis\": \"x\", \"y\": [1.5], \"yaxis\": \"y\"}, {\"hovertemplate\": \"who=Surviving Owners<br>x=%{x}<br>y=%{y}<br>Agents=%{marker.size}<extra></extra>\", \"legendgroup\": \"Surviving Owners\", \"marker\": {\"color\": \"lightskyblue\", \"line\": {\"color\": \"DarkSlateGrey\", \"width\": 2}, \"size\": [0.0], \"sizemode\": \"area\", \"sizeref\": 0.0112, \"symbol\": \"circle\"}, \"mode\": \"markers\", \"name\": \"Surviving Owners\", \"orientation\": \"v\", \"showlegend\": true, \"type\": \"scatter\", \"x\": [2.5], \"xaxis\": \"x\", \"y\": [1.5], \"yaxis\": \"y\"}, {\"hovertemplate\": \"who=New Renters<br>x=%{x}<br>y=%{y}<br>Agents=%{marker.size}<extra></extra>\", \"legendgroup\": \"New Renters\", \"marker\": {\"color\": \"green\", \"line\": {\"color\": \"DarkSlateGrey\", \"width\": 2}, \"size\": [12.0], \"sizemode\": \"area\", \"sizeref\": 0.0112, \"symbol\": \"circle\"}, \"mode\": \"markers\", \"name\": \"New Renters\", \"orientation\": \"v\", \"showlegend\": true, \"type\": \"scatter\", \"x\": [2.0], \"xaxis\": \"x\", \"y\": [2.25], \"yaxis\": \"y\"}, {\"hovertemplate\": \"who=New Owners<br>x=%{x}<br>y=%{y}<br>Agents=%{marker.size}<extra></extra>\", \"legendgroup\": \"New Owners\", \"marker\": {\"color\": \"deepskyblue\", \"line\": {\"color\": \"DarkSlateGrey\", \"width\": 2}, \"size\": [16.0], \"sizemode\": \"area\", \"sizeref\": 0.0112, \"symbol\": \"circle\"}, \"mode\": \"markers\", \"name\": \"New Owners\", \"orientation\": \"v\", \"showlegend\": true, \"type\": \"scatter\", \"x\": [4.0], \"xaxis\": \"x\", \"y\": [2.25], \"yaxis\": \"y\"}, {\"hovertemplate\": \"who=Total After<br>x=%{x}<br>y=%{y}<br>Agents=%{marker.size}<extra></extra>\", \"legendgroup\": \"Total After\", \"marker\": {\"color\": \"white\", \"line\": {\"color\": \"DarkSlateGrey\", \"width\": 2}, \"size\": [28.0], \"sizemode\": \"area\", \"sizeref\": 0.0112, \"symbol\": \"circle\"}, \"mode\": \"markers\", \"name\": \"Total After\", \"orientation\": \"v\", \"showlegend\": true, \"type\": \"scatter\", \"x\": [5.0], \"xaxis\": \"x\", \"y\": [1.5], \"yaxis\": \"y\"}, {\"marker\": {\"line\": {\"color\": \"DarkSlateGrey\", \"width\": 2}}, \"mode\": \"text\", \"text\": [6.0, 0.0, 6.0, 0.0, 12.0, 16.0, 28.0], \"type\": \"scatter\", \"x\": [1.0, 1.0, 2.5, 2.5, 2.0, 4.0, 5.0], \"y\": [1.25, 1.85, 1.5, 1.5, 2.25, 2.25, 1.5]}],                        {\"annotations\": [{\"arrowcolor\": \"lightgray\", \"arrowhead\": 3, \"arrowsize\": 1, \"arrowwidth\": 3, \"ax\": 2.5, \"axref\": \"x\", \"ay\": 1.5, \"ayref\": \"y\", \"showarrow\": true, \"text\": \"\", \"x\": 1, \"xref\": \"x\", \"y\": 1.25, \"yref\": \"y\"}, {\"arrowcolor\": \"lightgray\", \"arrowhead\": 3, \"arrowsize\": 1, \"arrowwidth\": 3, \"ax\": 2.5, \"axref\": \"x\", \"ay\": 1.5, \"ayref\": \"y\", \"showarrow\": true, \"text\": \"\", \"x\": 1, \"xref\": \"x\", \"y\": 1.85, \"yref\": \"y\"}, {\"arrowcolor\": \"lightgray\", \"arrowhead\": 3, \"arrowsize\": 1, \"arrowwidth\": 3, \"ax\": 4, \"axref\": \"x\", \"ay\": 2.25, \"ayref\": \"y\", \"showarrow\": true, \"text\": \"\", \"x\": 5, \"xref\": \"x\", \"y\": 1.5, \"yref\": \"y\"}, {\"arrowcolor\": \"lightgray\", \"arrowhead\": 3, \"arrowsize\": 1, \"arrowwidth\": 3, \"ax\": 2, \"axref\": \"x\", \"ay\": 2.25, \"ayref\": \"y\", \"showarrow\": true, \"text\": \"\", \"x\": 5, \"xref\": \"x\", \"y\": 1.5, \"yref\": \"y\"}, {\"arrowcolor\": \"lightgray\", \"arrowhead\": 3, \"arrowsize\": 1, \"arrowwidth\": 3, \"ax\": 2.5, \"axref\": \"x\", \"ay\": 1.5, \"ayref\": \"y\", \"showarrow\": true, \"text\": \"\", \"x\": 5, \"xref\": \"x\", \"y\": 1.5, \"yref\": \"y\"}], \"height\": 400, \"legend\": {\"itemsizing\": \"constant\", \"title\": {\"text\": \"who\"}, \"tracegroupgap\": 0, \"x\": 0.95, \"xanchor\": \"left\", \"y\": 0.95, \"yanchor\": \"top\"}, \"margin\": {\"b\": 0, \"l\": 0, \"r\": 0, \"t\": 60}, \"plot_bgcolor\": \"white\", \"template\": {\"data\": {\"bar\": [{\"error_x\": {\"color\": \"#2a3f5f\"}, \"error_y\": {\"color\": \"#2a3f5f\"}, \"marker\": {\"line\": {\"color\": \"#E5ECF6\", \"width\": 0.5}}, \"type\": \"bar\"}], \"barpolar\": [{\"marker\": {\"line\": {\"color\": \"#E5ECF6\", \"width\": 0.5}}, \"type\": \"barpolar\"}], \"carpet\": [{\"aaxis\": {\"endlinecolor\": \"#2a3f5f\", \"gridcolor\": \"white\", \"linecolor\": \"white\", \"minorgridcolor\": \"white\", \"startlinecolor\": \"#2a3f5f\"}, \"baxis\": {\"endlinecolor\": \"#2a3f5f\", \"gridcolor\": \"white\", \"linecolor\": \"white\", \"minorgridcolor\": \"white\", \"startlinecolor\": \"#2a3f5f\"}, \"type\": \"carpet\"}], \"choropleth\": [{\"colorbar\": {\"outlinewidth\": 0, \"ticks\": \"\"}, \"type\": \"choropleth\"}], \"contour\": [{\"colorbar\": {\"outlinewidth\": 0, \"ticks\": \"\"}, \"colorscale\": [[0.0, \"#0d0887\"], [0.1111111111111111, \"#46039f\"], [0.2222222222222222, \"#7201a8\"], [0.3333333333333333, \"#9c179e\"], [0.4444444444444444, \"#bd3786\"], [0.5555555555555556, \"#d8576b\"], [0.6666666666666666, \"#ed7953\"], [0.7777777777777778, \"#fb9f3a\"], [0.8888888888888888, \"#fdca26\"], [1.0, \"#f0f921\"]], \"type\": \"contour\"}], \"contourcarpet\": [{\"colorbar\": {\"outlinewidth\": 0, \"ticks\": \"\"}, \"type\": \"contourcarpet\"}], \"heatmap\": [{\"colorbar\": {\"outlinewidth\": 0, \"ticks\": \"\"}, \"colorscale\": [[0.0, \"#0d0887\"], [0.1111111111111111, \"#46039f\"], [0.2222222222222222, \"#7201a8\"], [0.3333333333333333, \"#9c179e\"], [0.4444444444444444, \"#bd3786\"], [0.5555555555555556, \"#d8576b\"], [0.6666666666666666, \"#ed7953\"], [0.7777777777777778, \"#fb9f3a\"], [0.8888888888888888, \"#fdca26\"], [1.0, \"#f0f921\"]], \"type\": \"heatmap\"}], \"heatmapgl\": [{\"colorbar\": {\"outlinewidth\": 0, \"ticks\": \"\"}, \"colorscale\": [[0.0, \"#0d0887\"], [0.1111111111111111, \"#46039f\"], [0.2222222222222222, \"#7201a8\"], [0.3333333333333333, \"#9c179e\"], [0.4444444444444444, \"#bd3786\"], [0.5555555555555556, \"#d8576b\"], [0.6666666666666666, \"#ed7953\"], [0.7777777777777778, \"#fb9f3a\"], [0.8888888888888888, \"#fdca26\"], [1.0, \"#f0f921\"]], \"type\": \"heatmapgl\"}], \"histogram\": [{\"marker\": {\"colorbar\": {\"outlinewidth\": 0, \"ticks\": \"\"}}, \"type\": \"histogram\"}], \"histogram2d\": [{\"colorbar\": {\"outlinewidth\": 0, \"ticks\": \"\"}, \"colorscale\": [[0.0, \"#0d0887\"], [0.1111111111111111, \"#46039f\"], [0.2222222222222222, \"#7201a8\"], [0.3333333333333333, \"#9c179e\"], [0.4444444444444444, \"#bd3786\"], [0.5555555555555556, \"#d8576b\"], [0.6666666666666666, \"#ed7953\"], [0.7777777777777778, \"#fb9f3a\"], [0.8888888888888888, \"#fdca26\"], [1.0, \"#f0f921\"]], \"type\": \"histogram2d\"}], \"histogram2dcontour\": [{\"colorbar\": {\"outlinewidth\": 0, \"ticks\": \"\"}, \"colorscale\": [[0.0, \"#0d0887\"], [0.1111111111111111, \"#46039f\"], [0.2222222222222222, \"#7201a8\"], [0.3333333333333333, \"#9c179e\"], [0.4444444444444444, \"#bd3786\"], [0.5555555555555556, \"#d8576b\"], [0.6666666666666666, \"#ed7953\"], [0.7777777777777778, \"#fb9f3a\"], [0.8888888888888888, \"#fdca26\"], [1.0, \"#f0f921\"]], \"type\": \"histogram2dcontour\"}], \"mesh3d\": [{\"colorbar\": {\"outlinewidth\": 0, \"ticks\": \"\"}, \"type\": \"mesh3d\"}], \"parcoords\": [{\"line\": {\"colorbar\": {\"outlinewidth\": 0, \"ticks\": \"\"}}, \"type\": \"parcoords\"}], \"pie\": [{\"automargin\": true, \"type\": \"pie\"}], \"scatter\": [{\"marker\": {\"colorbar\": {\"outlinewidth\": 0, \"ticks\": \"\"}}, \"type\": \"scatter\"}], \"scatter3d\": [{\"line\": {\"colorbar\": {\"outlinewidth\": 0, \"ticks\": \"\"}}, \"marker\": {\"colorbar\": {\"outlinewidth\": 0, \"ticks\": \"\"}}, \"type\": \"scatter3d\"}], \"scattercarpet\": [{\"marker\": {\"colorbar\": {\"outlinewidth\": 0, \"ticks\": \"\"}}, \"type\": \"scattercarpet\"}], \"scattergeo\": [{\"marker\": {\"colorbar\": {\"outlinewidth\": 0, \"ticks\": \"\"}}, \"type\": \"scattergeo\"}], \"scattergl\": [{\"marker\": {\"colorbar\": {\"outlinewidth\": 0, \"ticks\": \"\"}}, \"type\": \"scattergl\"}], \"scattermapbox\": [{\"marker\": {\"colorbar\": {\"outlinewidth\": 0, \"ticks\": \"\"}}, \"type\": \"scattermapbox\"}], \"scatterpolar\": [{\"marker\": {\"colorbar\": {\"outlinewidth\": 0, \"ticks\": \"\"}}, \"type\": \"scatterpolar\"}], \"scatterpolargl\": [{\"marker\": {\"colorbar\": {\"outlinewidth\": 0, \"ticks\": \"\"}}, \"type\": \"scatterpolargl\"}], \"scatterternary\": [{\"marker\": {\"colorbar\": {\"outlinewidth\": 0, \"ticks\": \"\"}}, \"type\": \"scatterternary\"}], \"surface\": [{\"colorbar\": {\"outlinewidth\": 0, \"ticks\": \"\"}, \"colorscale\": [[0.0, \"#0d0887\"], [0.1111111111111111, \"#46039f\"], [0.2222222222222222, \"#7201a8\"], [0.3333333333333333, \"#9c179e\"], [0.4444444444444444, \"#bd3786\"], [0.5555555555555556, \"#d8576b\"], [0.6666666666666666, \"#ed7953\"], [0.7777777777777778, \"#fb9f3a\"], [0.8888888888888888, \"#fdca26\"], [1.0, \"#f0f921\"]], \"type\": \"surface\"}], \"table\": [{\"cells\": {\"fill\": {\"color\": \"#EBF0F8\"}, \"line\": {\"color\": \"white\"}}, \"header\": {\"fill\": {\"color\": \"#C8D4E3\"}, \"line\": {\"color\": \"white\"}}, \"type\": \"table\"}]}, \"layout\": {\"annotationdefaults\": {\"arrowcolor\": \"#2a3f5f\", \"arrowhead\": 0, \"arrowwidth\": 1}, \"autotypenumbers\": \"strict\", \"coloraxis\": {\"colorbar\": {\"outlinewidth\": 0, \"ticks\": \"\"}}, \"colorscale\": {\"diverging\": [[0, \"#8e0152\"], [0.1, \"#c51b7d\"], [0.2, \"#de77ae\"], [0.3, \"#f1b6da\"], [0.4, \"#fde0ef\"], [0.5, \"#f7f7f7\"], [0.6, \"#e6f5d0\"], [0.7, \"#b8e186\"], [0.8, \"#7fbc41\"], [0.9, \"#4d9221\"], [1, \"#276419\"]], \"sequential\": [[0.0, \"#0d0887\"], [0.1111111111111111, \"#46039f\"], [0.2222222222222222, \"#7201a8\"], [0.3333333333333333, \"#9c179e\"], [0.4444444444444444, \"#bd3786\"], [0.5555555555555556, \"#d8576b\"], [0.6666666666666666, \"#ed7953\"], [0.7777777777777778, \"#fb9f3a\"], [0.8888888888888888, \"#fdca26\"], [1.0, \"#f0f921\"]], \"sequentialminus\": [[0.0, \"#0d0887\"], [0.1111111111111111, \"#46039f\"], [0.2222222222222222, \"#7201a8\"], [0.3333333333333333, \"#9c179e\"], [0.4444444444444444, \"#bd3786\"], [0.5555555555555556, \"#d8576b\"], [0.6666666666666666, \"#ed7953\"], [0.7777777777777778, \"#fb9f3a\"], [0.8888888888888888, \"#fdca26\"], [1.0, \"#f0f921\"]]}, \"colorway\": [\"#636efa\", \"#EF553B\", \"#00cc96\", \"#ab63fa\", \"#FFA15A\", \"#19d3f3\", \"#FF6692\", \"#B6E880\", \"#FF97FF\", \"#FECB52\"], \"font\": {\"color\": \"#2a3f5f\"}, \"geo\": {\"bgcolor\": \"white\", \"lakecolor\": \"white\", \"landcolor\": \"#E5ECF6\", \"showlakes\": true, \"showland\": true, \"subunitcolor\": \"white\"}, \"hoverlabel\": {\"align\": \"left\"}, \"hovermode\": \"closest\", \"mapbox\": {\"style\": \"light\"}, \"paper_bgcolor\": \"white\", \"plot_bgcolor\": \"#E5ECF6\", \"polar\": {\"angularaxis\": {\"gridcolor\": \"white\", \"linecolor\": \"white\", \"ticks\": \"\"}, \"bgcolor\": \"#E5ECF6\", \"radialaxis\": {\"gridcolor\": \"white\", \"linecolor\": \"white\", \"ticks\": \"\"}}, \"scene\": {\"xaxis\": {\"backgroundcolor\": \"#E5ECF6\", \"gridcolor\": \"white\", \"gridwidth\": 2, \"linecolor\": \"white\", \"showbackground\": true, \"ticks\": \"\", \"zerolinecolor\": \"white\"}, \"yaxis\": {\"backgroundcolor\": \"#E5ECF6\", \"gridcolor\": \"white\", \"gridwidth\": 2, \"linecolor\": \"white\", \"showbackground\": true, \"ticks\": \"\", \"zerolinecolor\": \"white\"}, \"zaxis\": {\"backgroundcolor\": \"#E5ECF6\", \"gridcolor\": \"white\", \"gridwidth\": 2, \"linecolor\": \"white\", \"showbackground\": true, \"ticks\": \"\", \"zerolinecolor\": \"white\"}}, \"shapedefaults\": {\"line\": {\"color\": \"#2a3f5f\"}}, \"ternary\": {\"aaxis\": {\"gridcolor\": \"white\", \"linecolor\": \"white\", \"ticks\": \"\"}, \"baxis\": {\"gridcolor\": \"white\", \"linecolor\": \"white\", \"ticks\": \"\"}, \"bgcolor\": \"#E5ECF6\", \"caxis\": {\"gridcolor\": \"white\", \"linecolor\": \"white\", \"ticks\": \"\"}}, \"title\": {\"x\": 0.05}, \"xaxis\": {\"automargin\": true, \"gridcolor\": \"white\", \"linecolor\": \"white\", \"ticks\": \"\", \"title\": {\"standoff\": 15}, \"zerolinecolor\": \"white\", \"zerolinewidth\": 2}, \"yaxis\": {\"automargin\": true, \"gridcolor\": \"white\", \"linecolor\": \"white\", \"ticks\": \"\", \"title\": {\"standoff\": 15}, \"zerolinecolor\": \"white\", \"zerolinewidth\": 2}}}, \"width\": 600, \"xaxis\": {\"anchor\": \"y\", \"domain\": [0.0, 1.0], \"showticklabels\": false, \"title\": {\"text\": \"x\"}, \"visible\": false}, \"yaxis\": {\"anchor\": \"x\", \"domain\": [0.0, 1.0], \"showticklabels\": false, \"title\": {\"text\": \"y\"}, \"visible\": false}},                        {\"responsive\": true}                    ).then(function(){\n                            \nvar gd = document.getElementById('d83ec2ee-2f82-4fc8-857c-5c8a5321f653');\nvar x = new MutationObserver(function (mutations, observer) {{\n        var display = window.getComputedStyle(gd).display;\n        if (!display || display === 'none') {{\n            console.log([gd, 'removed!']);\n            Plotly.purge(gd);\n            observer.disconnect();\n        }}\n}});\n\n// Listen for the removal of the full notebook cells\nvar notebookContainer = gd.closest('#notebook-container');\nif (notebookContainer) {{\n    x.observe(notebookContainer, {childList: true});\n}}\n\n// Listen for the clearing of the current output cell\nvar outputEl = gd.closest('.output');\nif (outputEl) {{\n    x.observe(outputEl, {childList: true});\n}}\n\n                        })                };                            </script>        </div>\n</body>\n</html>"
         },
         "metadata": {},
         "output_type": "display_data"
        }
       ]
      }
     },
     "cf014d5360f7479097924e92e66d7bb2": {
      "model_module": "@jupyter-widgets/base",
      "model_module_version": "1.2.0",
      "model_name": "LayoutModel",
      "state": {}
     },
     "cf97f417cd1941798a8f1c9d6bfe8dc1": {
      "model_module": "@jupyter-widgets/base",
      "model_module_version": "1.2.0",
      "model_name": "LayoutModel",
      "state": {}
     },
     "d05d76814d1247d1ba29a5b7ac859609": {
      "model_module": "@jupyter-widgets/output",
      "model_module_version": "1.0.0",
      "model_name": "OutputModel",
      "state": {
       "layout": "IPY_MODEL_1379363234d045758b4c7ed50957b7dd",
       "outputs": [
        {
         "data": {
          "application/vnd.jupyter.widget-view+json": {
           "model_id": "345471700daa4ea2aff119f4dd3aba1b",
           "version_major": 2,
           "version_minor": 0
          },
          "text/plain": "HTML(value=\"<div style='font-size:15px'><span><b>Apartment Size</b></span> Start Marker: <b>75.3  sq meters </…"
         },
         "metadata": {},
         "output_type": "display_data"
        }
       ]
      }
     },
     "d39625b64c3c4f458d0c830191050545": {
      "model_module": "@jupyter-widgets/output",
      "model_module_version": "1.0.0",
      "model_name": "OutputModel",
      "state": {
       "layout": "IPY_MODEL_10058c2405cb4d7b9692b495405bd391",
       "outputs": [
        {
         "data": {
          "text/html": "<html>\n<head><meta charset=\"utf-8\" /></head>\n<body>\n    <div>            <script src=\"https://cdnjs.cloudflare.com/ajax/libs/mathjax/2.7.5/MathJax.js?config=TeX-AMS-MML_SVG\"></script><script type=\"text/javascript\">if (window.MathJax) {MathJax.Hub.Config({SVG: {font: \"STIX-Web\"}});}</script>                <script type=\"text/javascript\">window.PlotlyConfig = {MathJaxConfig: 'local'};</script>\n        <script src=\"https://cdn.plot.ly/plotly-latest.min.js\"></script>                <div id=\"637d3143-2334-477d-a77a-8c6211d35f25\" class=\"plotly-graph-div\" style=\"height:375px; width:800px;\"></div>            <script type=\"text/javascript\">                                    window.PLOTLYENV=window.PLOTLYENV || {};                                    if (document.getElementById(\"637d3143-2334-477d-a77a-8c6211d35f25\")) {                    Plotly.newPlot(                        \"637d3143-2334-477d-a77a-8c6211d35f25\",                        [{\"legendgroup\": \"Staying\", \"line\": {\"color\": \"hsv(206,81%,71%)\", \"width\": 2}, \"name\": \"Under 65 Stay\", \"type\": \"scatter\", \"x\": [1, 2, 3, 4, 5, 6, 7, 8, 9, 10, 12], \"y\": [0.6928104575163399, 0.6734913793103449, 0.653968253968254, 0.6360792492179353, 0.6107178968655207, 0.5851703406813628, 0.5662055335968379, 0.5116487455197133, 0.3130081300813008, 0.302727877578177, 0.2957377049180328]}, {\"legendgroup\": \"Staying\", \"line\": {\"color\": \"hsv(193,29%,90%)\", \"width\": 2}, \"name\": \"Above 65 Stay\", \"type\": \"scatter\", \"x\": [1, 2, 3, 4, 5, 6, 7, 8, 9, 10, 12], \"y\": [0.2701525054466231, 0.26185344827586204, 0.24973544973544973, 0.24087591240875914, 0.23053589484327602, 0.21943887775551102, 0.2124505928853755, 0.19086021505376344, 0.10975609756097561, 0.10645375914836992, 0.10360655737704919]}, {\"legendgroup\": \"New Comers\", \"line\": {\"color\": \"hsv(206,81%,71%)\", \"width\": 4}, \"name\": \"Under 65 New Comers\", \"type\": \"scatter\", \"x\": [1, 2, 3, 4, 5, 6, 7, 8, 9, 10, 12], \"y\": [0.029411764705882353, 0.05064655172413793, 0.07513227513227513, 0.0948905109489051, 0.12234580384226491, 0.1492985971943888, 0.17292490118577075, 0.23207885304659498, 0.46476964769647694, 0.4750499001996008, 0.4839344262295082]}, {\"legendgroup\": \"New Comers\", \"line\": {\"color\": \"hsv(193,29%,90%)\", \"width\": 4}, \"name\": \"Above 65 New Comers\", \"type\": \"scatter\", \"x\": [1, 2, 3, 4, 5, 6, 7, 8, 9, 10, 12], \"y\": [0.007625272331154684, 0.014008620689655173, 0.021164021164021163, 0.028154327424400417, 0.03640040444893832, 0.04609218436873747, 0.04841897233201581, 0.06541218637992832, 0.11246612466124661, 0.1157684630738523, 0.11672131147540983]}, {\"legendgroup\": \"Average\", \"line\": {\"color\": \"hsv(198,63%,81%)\", \"dash\": \"dash\"}, \"name\": \"Under 65 (Average)\", \"type\": \"scatter\", \"x\": [1, 2, 3, 4, 5, 6, 7, 8, 9, 10, 12], \"y\": [0.7222222222222222, 0.7241379310344828, 0.7291005291005291, 0.7309697601668405, 0.7330637007077856, 0.7344689378757515, 0.7391304347826086, 0.7437275985663082, 0.7777777777777778, 0.7777777777777778, 0.779672131147541]}, {\"legendgroup\": \"Average\", \"line\": {\"color\": \"hsv(203,9%,96%)\", \"dash\": \"dash\"}, \"name\": \"Above 65 (Average)\", \"type\": \"scatter\", \"x\": [1, 2, 3, 4, 5, 6, 7, 8, 9, 10, 12], \"y\": [0.2777777777777778, 0.27586206896551724, 0.2708994708994709, 0.26903023983315955, 0.26693629929221435, 0.2655310621242485, 0.2608695652173913, 0.25627240143369173, 0.2222222222222222, 0.2222222222222222, 0.22032786885245903]}, {\"legendgroup\": \"Building Type\", \"marker\": {\"color\": \"hsv(210,100%,75%)\"}, \"mode\": \"markers\", \"name\": \"Addition\", \"type\": \"scatter\", \"x\": [1, 2, 3, 4, 6, 7], \"y\": [-0.02, -0.02, -0.02, -0.02, -0.02, -0.02]}, {\"legendgroup\": \"Building Type\", \"marker\": {\"color\": \"hsv(210,100%,100%)\"}, \"mode\": \"markers\", \"name\": \"Reconstruction\", \"type\": \"scatter\", \"x\": [5, 8, 10, 12], \"y\": [-0.02, -0.02, -0.02, -0.02]}, {\"legendgroup\": \"Building Type\", \"marker\": {\"color\": \"hsv(210,50%,100%)\"}, \"mode\": \"markers\", \"name\": \"Raze and Rebuild\", \"type\": \"scatter\", \"x\": [9], \"y\": [-0.02]}],                        {\"height\": 375, \"legend\": {\"bgcolor\": \"rgba(255,255,255,0.5)\", \"orientation\": \"h\", \"x\": 0.03, \"xanchor\": \"left\", \"y\": 1.0, \"yanchor\": \"top\"}, \"plot_bgcolor\": \"rgba(0,0,0,0)\", \"shapes\": [{\"layer\": \"below\", \"line\": {\"color\": \"hsv(210,100%,75%)\", \"dash\": \"dot\", \"width\": 1.5}, \"type\": \"line\", \"x0\": 1, \"x1\": 1, \"y0\": 0, \"y1\": 1}, {\"layer\": \"below\", \"line\": {\"color\": \"hsv(210,100%,75%)\", \"dash\": \"dot\", \"width\": 1.5}, \"type\": \"line\", \"x0\": 2, \"x1\": 2, \"y0\": 0, \"y1\": 1}, {\"layer\": \"below\", \"line\": {\"color\": \"hsv(210,100%,75%)\", \"dash\": \"dot\", \"width\": 1.5}, \"type\": \"line\", \"x0\": 3, \"x1\": 3, \"y0\": 0, \"y1\": 1}, {\"layer\": \"below\", \"line\": {\"color\": \"hsv(210,100%,75%)\", \"dash\": \"dot\", \"width\": 1.5}, \"type\": \"line\", \"x0\": 4, \"x1\": 4, \"y0\": 0, \"y1\": 1}, {\"layer\": \"below\", \"line\": {\"color\": \"hsv(210,100%,75%)\", \"dash\": \"dot\", \"width\": 1.5}, \"type\": \"line\", \"x0\": 6, \"x1\": 6, \"y0\": 0, \"y1\": 1}, {\"layer\": \"below\", \"line\": {\"color\": \"hsv(210,100%,75%)\", \"dash\": \"dot\", \"width\": 1.5}, \"type\": \"line\", \"x0\": 7, \"x1\": 7, \"y0\": 0, \"y1\": 1}, {\"layer\": \"below\", \"line\": {\"color\": \"hsv(210,100%,100%)\", \"dash\": \"dot\", \"width\": 1.5}, \"type\": \"line\", \"x0\": 5, \"x1\": 5, \"y0\": 0, \"y1\": 1}, {\"layer\": \"below\", \"line\": {\"color\": \"hsv(210,100%,100%)\", \"dash\": \"dot\", \"width\": 1.5}, \"type\": \"line\", \"x0\": 8, \"x1\": 8, \"y0\": 0, \"y1\": 1}, {\"layer\": \"below\", \"line\": {\"color\": \"hsv(210,100%,100%)\", \"dash\": \"dot\", \"width\": 1.5}, \"type\": \"line\", \"x0\": 10, \"x1\": 10, \"y0\": 0, \"y1\": 1}, {\"layer\": \"below\", \"line\": {\"color\": \"hsv(210,100%,100%)\", \"dash\": \"dot\", \"width\": 1.5}, \"type\": \"line\", \"x0\": 12, \"x1\": 12, \"y0\": 0, \"y1\": 1}, {\"layer\": \"below\", \"line\": {\"color\": \"hsv(210,50%,100%)\", \"dash\": \"dot\", \"width\": 1.5}, \"type\": \"line\", \"x0\": 9, \"x1\": 9, \"y0\": 0, \"y1\": 1}], \"showlegend\": true, \"template\": {\"data\": {\"bar\": [{\"error_x\": {\"color\": \"#2a3f5f\"}, \"error_y\": {\"color\": \"#2a3f5f\"}, \"marker\": {\"line\": {\"color\": \"#E5ECF6\", \"width\": 0.5}}, \"type\": \"bar\"}], \"barpolar\": [{\"marker\": {\"line\": {\"color\": \"#E5ECF6\", \"width\": 0.5}}, \"type\": \"barpolar\"}], \"carpet\": [{\"aaxis\": {\"endlinecolor\": \"#2a3f5f\", \"gridcolor\": \"white\", \"linecolor\": \"white\", \"minorgridcolor\": \"white\", \"startlinecolor\": \"#2a3f5f\"}, \"baxis\": {\"endlinecolor\": \"#2a3f5f\", \"gridcolor\": \"white\", \"linecolor\": \"white\", \"minorgridcolor\": \"white\", \"startlinecolor\": \"#2a3f5f\"}, \"type\": \"carpet\"}], \"choropleth\": [{\"colorbar\": {\"outlinewidth\": 0, \"ticks\": \"\"}, \"type\": \"choropleth\"}], \"contour\": [{\"colorbar\": {\"outlinewidth\": 0, \"ticks\": \"\"}, \"colorscale\": [[0.0, \"#0d0887\"], [0.1111111111111111, \"#46039f\"], [0.2222222222222222, \"#7201a8\"], [0.3333333333333333, \"#9c179e\"], [0.4444444444444444, \"#bd3786\"], [0.5555555555555556, \"#d8576b\"], [0.6666666666666666, \"#ed7953\"], [0.7777777777777778, \"#fb9f3a\"], [0.8888888888888888, \"#fdca26\"], [1.0, \"#f0f921\"]], \"type\": \"contour\"}], \"contourcarpet\": [{\"colorbar\": {\"outlinewidth\": 0, \"ticks\": \"\"}, \"type\": \"contourcarpet\"}], \"heatmap\": [{\"colorbar\": {\"outlinewidth\": 0, \"ticks\": \"\"}, \"colorscale\": [[0.0, \"#0d0887\"], [0.1111111111111111, \"#46039f\"], [0.2222222222222222, \"#7201a8\"], [0.3333333333333333, \"#9c179e\"], [0.4444444444444444, \"#bd3786\"], [0.5555555555555556, \"#d8576b\"], [0.6666666666666666, \"#ed7953\"], [0.7777777777777778, \"#fb9f3a\"], [0.8888888888888888, \"#fdca26\"], [1.0, \"#f0f921\"]], \"type\": \"heatmap\"}], \"heatmapgl\": [{\"colorbar\": {\"outlinewidth\": 0, \"ticks\": \"\"}, \"colorscale\": [[0.0, \"#0d0887\"], [0.1111111111111111, \"#46039f\"], [0.2222222222222222, \"#7201a8\"], [0.3333333333333333, \"#9c179e\"], [0.4444444444444444, \"#bd3786\"], [0.5555555555555556, \"#d8576b\"], [0.6666666666666666, \"#ed7953\"], [0.7777777777777778, \"#fb9f3a\"], [0.8888888888888888, \"#fdca26\"], [1.0, \"#f0f921\"]], \"type\": \"heatmapgl\"}], \"histogram\": [{\"marker\": {\"colorbar\": {\"outlinewidth\": 0, \"ticks\": \"\"}}, \"type\": \"histogram\"}], \"histogram2d\": [{\"colorbar\": {\"outlinewidth\": 0, \"ticks\": \"\"}, \"colorscale\": [[0.0, \"#0d0887\"], [0.1111111111111111, \"#46039f\"], [0.2222222222222222, \"#7201a8\"], [0.3333333333333333, \"#9c179e\"], [0.4444444444444444, \"#bd3786\"], [0.5555555555555556, \"#d8576b\"], [0.6666666666666666, \"#ed7953\"], [0.7777777777777778, \"#fb9f3a\"], [0.8888888888888888, \"#fdca26\"], [1.0, \"#f0f921\"]], \"type\": \"histogram2d\"}], \"histogram2dcontour\": [{\"colorbar\": {\"outlinewidth\": 0, \"ticks\": \"\"}, \"colorscale\": [[0.0, \"#0d0887\"], [0.1111111111111111, \"#46039f\"], [0.2222222222222222, \"#7201a8\"], [0.3333333333333333, \"#9c179e\"], [0.4444444444444444, \"#bd3786\"], [0.5555555555555556, \"#d8576b\"], [0.6666666666666666, \"#ed7953\"], [0.7777777777777778, \"#fb9f3a\"], [0.8888888888888888, \"#fdca26\"], [1.0, \"#f0f921\"]], \"type\": \"histogram2dcontour\"}], \"mesh3d\": [{\"colorbar\": {\"outlinewidth\": 0, \"ticks\": \"\"}, \"type\": \"mesh3d\"}], \"parcoords\": [{\"line\": {\"colorbar\": {\"outlinewidth\": 0, \"ticks\": \"\"}}, \"type\": \"parcoords\"}], \"pie\": [{\"automargin\": true, \"type\": \"pie\"}], \"scatter\": [{\"marker\": {\"colorbar\": {\"outlinewidth\": 0, \"ticks\": \"\"}}, \"type\": \"scatter\"}], \"scatter3d\": [{\"line\": {\"colorbar\": {\"outlinewidth\": 0, \"ticks\": \"\"}}, \"marker\": {\"colorbar\": {\"outlinewidth\": 0, \"ticks\": \"\"}}, \"type\": \"scatter3d\"}], \"scattercarpet\": [{\"marker\": {\"colorbar\": {\"outlinewidth\": 0, \"ticks\": \"\"}}, \"type\": \"scattercarpet\"}], \"scattergeo\": [{\"marker\": {\"colorbar\": {\"outlinewidth\": 0, \"ticks\": \"\"}}, \"type\": \"scattergeo\"}], \"scattergl\": [{\"marker\": {\"colorbar\": {\"outlinewidth\": 0, \"ticks\": \"\"}}, \"type\": \"scattergl\"}], \"scattermapbox\": [{\"marker\": {\"colorbar\": {\"outlinewidth\": 0, \"ticks\": \"\"}}, \"type\": \"scattermapbox\"}], \"scatterpolar\": [{\"marker\": {\"colorbar\": {\"outlinewidth\": 0, \"ticks\": \"\"}}, \"type\": \"scatterpolar\"}], \"scatterpolargl\": [{\"marker\": {\"colorbar\": {\"outlinewidth\": 0, \"ticks\": \"\"}}, \"type\": \"scatterpolargl\"}], \"scatterternary\": [{\"marker\": {\"colorbar\": {\"outlinewidth\": 0, \"ticks\": \"\"}}, \"type\": \"scatterternary\"}], \"surface\": [{\"colorbar\": {\"outlinewidth\": 0, \"ticks\": \"\"}, \"colorscale\": [[0.0, \"#0d0887\"], [0.1111111111111111, \"#46039f\"], [0.2222222222222222, \"#7201a8\"], [0.3333333333333333, \"#9c179e\"], [0.4444444444444444, \"#bd3786\"], [0.5555555555555556, \"#d8576b\"], [0.6666666666666666, \"#ed7953\"], [0.7777777777777778, \"#fb9f3a\"], [0.8888888888888888, \"#fdca26\"], [1.0, \"#f0f921\"]], \"type\": \"surface\"}], \"table\": [{\"cells\": {\"fill\": {\"color\": \"#EBF0F8\"}, \"line\": {\"color\": \"white\"}}, \"header\": {\"fill\": {\"color\": \"#C8D4E3\"}, \"line\": {\"color\": \"white\"}}, \"type\": \"table\"}]}, \"layout\": {\"annotationdefaults\": {\"arrowcolor\": \"#2a3f5f\", \"arrowhead\": 0, \"arrowwidth\": 1}, \"autotypenumbers\": \"strict\", \"coloraxis\": {\"colorbar\": {\"outlinewidth\": 0, \"ticks\": \"\"}}, \"colorscale\": {\"diverging\": [[0, \"#8e0152\"], [0.1, \"#c51b7d\"], [0.2, \"#de77ae\"], [0.3, \"#f1b6da\"], [0.4, \"#fde0ef\"], [0.5, \"#f7f7f7\"], [0.6, \"#e6f5d0\"], [0.7, \"#b8e186\"], [0.8, \"#7fbc41\"], [0.9, \"#4d9221\"], [1, \"#276419\"]], \"sequential\": [[0.0, \"#0d0887\"], [0.1111111111111111, \"#46039f\"], [0.2222222222222222, \"#7201a8\"], [0.3333333333333333, \"#9c179e\"], [0.4444444444444444, \"#bd3786\"], [0.5555555555555556, \"#d8576b\"], [0.6666666666666666, \"#ed7953\"], [0.7777777777777778, \"#fb9f3a\"], [0.8888888888888888, \"#fdca26\"], [1.0, \"#f0f921\"]], \"sequentialminus\": [[0.0, \"#0d0887\"], [0.1111111111111111, \"#46039f\"], [0.2222222222222222, \"#7201a8\"], [0.3333333333333333, \"#9c179e\"], [0.4444444444444444, \"#bd3786\"], [0.5555555555555556, \"#d8576b\"], [0.6666666666666666, \"#ed7953\"], [0.7777777777777778, \"#fb9f3a\"], [0.8888888888888888, \"#fdca26\"], [1.0, \"#f0f921\"]]}, \"colorway\": [\"#636efa\", \"#EF553B\", \"#00cc96\", \"#ab63fa\", \"#FFA15A\", \"#19d3f3\", \"#FF6692\", \"#B6E880\", \"#FF97FF\", \"#FECB52\"], \"font\": {\"color\": \"#2a3f5f\"}, \"geo\": {\"bgcolor\": \"white\", \"lakecolor\": \"white\", \"landcolor\": \"#E5ECF6\", \"showlakes\": true, \"showland\": true, \"subunitcolor\": \"white\"}, \"hoverlabel\": {\"align\": \"left\"}, \"hovermode\": \"closest\", \"mapbox\": {\"style\": \"light\"}, \"paper_bgcolor\": \"white\", \"plot_bgcolor\": \"#E5ECF6\", \"polar\": {\"angularaxis\": {\"gridcolor\": \"white\", \"linecolor\": \"white\", \"ticks\": \"\"}, \"bgcolor\": \"#E5ECF6\", \"radialaxis\": {\"gridcolor\": \"white\", \"linecolor\": \"white\", \"ticks\": \"\"}}, \"scene\": {\"xaxis\": {\"backgroundcolor\": \"#E5ECF6\", \"gridcolor\": \"white\", \"gridwidth\": 2, \"linecolor\": \"white\", \"showbackground\": true, \"ticks\": \"\", \"zerolinecolor\": \"white\"}, \"yaxis\": {\"backgroundcolor\": \"#E5ECF6\", \"gridcolor\": \"white\", \"gridwidth\": 2, \"linecolor\": \"white\", \"showbackground\": true, \"ticks\": \"\", \"zerolinecolor\": \"white\"}, \"zaxis\": {\"backgroundcolor\": \"#E5ECF6\", \"gridcolor\": \"white\", \"gridwidth\": 2, \"linecolor\": \"white\", \"showbackground\": true, \"ticks\": \"\", \"zerolinecolor\": \"white\"}}, \"shapedefaults\": {\"line\": {\"color\": \"#2a3f5f\"}}, \"ternary\": {\"aaxis\": {\"gridcolor\": \"white\", \"linecolor\": \"white\", \"ticks\": \"\"}, \"baxis\": {\"gridcolor\": \"white\", \"linecolor\": \"white\", \"ticks\": \"\"}, \"bgcolor\": \"#E5ECF6\", \"caxis\": {\"gridcolor\": \"white\", \"linecolor\": \"white\", \"ticks\": \"\"}}, \"title\": {\"x\": 0.05}, \"xaxis\": {\"automargin\": true, \"gridcolor\": \"white\", \"linecolor\": \"white\", \"ticks\": \"\", \"title\": {\"standoff\": 15}, \"zerolinecolor\": \"white\", \"zerolinewidth\": 2}, \"yaxis\": {\"automargin\": true, \"gridcolor\": \"white\", \"linecolor\": \"white\", \"ticks\": \"\", \"title\": {\"standoff\": 15}, \"zerolinecolor\": \"white\", \"zerolinewidth\": 2}}}, \"title\": {\"text\": \"Above and Below 65 troughout the simulation\"}, \"width\": 800, \"xaxis\": {\"gridcolor\": \"#f2f2f2\", \"gridwidth\": 1, \"title\": {\"text\": \"Simulation tic\"}, \"zerolinecolor\": \"lightgrey\", \"zerolinewidth\": 1}, \"yaxis\": {\"gridcolor\": \"#f2f2f2\", \"gridwidth\": 1, \"range\": [-0.05, 1], \"title\": {\"text\": \"Household Percent\"}, \"zerolinecolor\": \"lightgrey\", \"zerolinewidth\": 1}},                        {\"responsive\": true}                    ).then(function(){\n                            \nvar gd = document.getElementById('637d3143-2334-477d-a77a-8c6211d35f25');\nvar x = new MutationObserver(function (mutations, observer) {{\n        var display = window.getComputedStyle(gd).display;\n        if (!display || display === 'none') {{\n            console.log([gd, 'removed!']);\n            Plotly.purge(gd);\n            observer.disconnect();\n        }}\n}});\n\n// Listen for the removal of the full notebook cells\nvar notebookContainer = gd.closest('#notebook-container');\nif (notebookContainer) {{\n    x.observe(notebookContainer, {childList: true});\n}}\n\n// Listen for the clearing of the current output cell\nvar outputEl = gd.closest('.output');\nif (outputEl) {{\n    x.observe(outputEl, {childList: true});\n}}\n\n                        })                };                            </script>        </div>\n</body>\n</html>"
         },
         "metadata": {},
         "output_type": "display_data"
        }
       ]
      }
     },
     "d476d0a57679457b82183beff97871c3": {
      "model_module": "@jupyter-widgets/output",
      "model_module_version": "1.0.0",
      "model_name": "OutputModel",
      "state": {
       "layout": "IPY_MODEL_8df6a1b3d84044c6808b0bfdf9c1292c",
       "outputs": [
        {
         "data": {
          "application/vnd.jupyter.widget-view+json": {
           "model_id": "8b4a12b1876241cf9aafe1bcd544f0b6",
           "version_major": 2,
           "version_minor": 0
          },
          "text/plain": "HTML(value='<h2>Execution: 12 &nbsp; Project Number: 20140231<br/> Hebrew Address: ארלוזורוב 6, בת ים<br/>Proj…"
         },
         "metadata": {},
         "output_type": "display_data"
        }
       ]
      }
     },
     "d4831c308bd94d29bbc3d3ce0971ac47": {
      "model_module": "@jupyter-widgets/base",
      "model_module_version": "1.2.0",
      "model_name": "LayoutModel",
      "state": {}
     },
     "d822478777d54b36a965f94763e21fe0": {
      "model_module": "arcgis-map-ipywidget",
      "model_module_version": "1.8.4",
      "model_name": "ArcGISMapIPyWidgetModel",
      "state": {
       "_auth_mode": "tokenBased",
       "_basemap": "default",
       "_draw_these_graphics_on_widget_load": [],
       "_draw_these_notype_layers_on_widget_load": [],
       "_extent": {
        "xmax": 34.7519,
        "xmin": 34.7389,
        "ymax": 32.0306,
        "ymin": 32.0238
       },
       "_gallery_basemaps": {
        "default": {
         "baseMapLayers": [
          {
           "layerType": "ArcGISTiledMapServiceLayer",
           "resourceInfo": {
            "capabilities": "Map,Tilemap,Query,Data",
            "copyrightText": "Sources: Esri, HERE, DeLorme, Intermap, increment P Corp., GEBCO, USGS, FAO, NPS, NRCAN, GeoBase, IGN, Kadaster NL, Ordnance Survey, Esri Japan, METI, Esri China (Hong Kong), swisstopo, MapmyIndia, Â© OpenStreetMap contributors, and the GIS User Community",
            "currentVersion": 10.3,
            "documentInfo": {
             "AntialiasingMode": "None",
             "Author": "Esri",
             "Category": "imageryBaseMapsEarthCover (Imagery, basemaps, and land cover)",
             "Comments": "",
             "Keywords": "World,Global,Europe,North America,South America,Southern Africa,Australia,New Zealand,India",
             "Subject": "topographic, topography, administrative boundaries, cities, water features, physiographic features, parks, landmarks, highways, roads, railways, airports, land cover, shaded relief imagery",
             "TextAntialiasingMode": "Force",
             "Title": "World Topographic Map"
            },
            "exportTilesAllowed": false,
            "fullExtent": {
             "spatialReference": {
              "latestWkid": 3857,
              "wkid": 102100
             },
             "xmax": 20037507.067161843,
             "xmin": -20037507.067161843,
             "ymax": 19971868.88040863,
             "ymin": -19971868.880408604
            },
            "initialExtent": {
             "spatialReference": {
              "latestWkid": 3857,
              "wkid": 102100
             },
             "xmax": 28848255.049479112,
             "xmin": -28848255.049479112,
             "ymax": 16430757.376790084,
             "ymin": -2077452.082122866
            },
            "layers": [
             {
              "defaultVisibility": false,
              "id": 0,
              "maxScale": 0,
              "minScale": 0,
              "name": "Citations",
              "parentLayerId": -1,
              "subLayerIds": null
             }
            ],
            "mapName": "Layers",
            "maxImageHeight": 4096,
            "maxImageWidth": 4096,
            "maxRecordCount": 100,
            "maxScale": 70.5310735,
            "minScale": 591657527.591555,
            "singleFusedMapCache": true,
            "spatialReference": {
             "latestWkid": 3857,
             "wkid": 102100
            },
            "supportedExtensions": "KmlServer",
            "supportedImageFormatTypes": "PNG32,PNG24,PNG,JPG,DIB,TIFF,EMF,PS,PDF,GIF,SVG,SVGZ,BMP",
            "supportedQueryFormats": "JSON, AMF",
            "supportsDynamicLayers": false,
            "tables": [],
            "tileInfo": {
             "cols": 256,
             "compressionQuality": 90,
             "dpi": 96,
             "format": "JPEG",
             "lods": [
              {
               "level": 0,
               "resolution": 156543.03392800014,
               "scale": 591657527.591555
              },
              {
               "level": 1,
               "resolution": 78271.51696399994,
               "scale": 295828763.795777
              },
              {
               "level": 2,
               "resolution": 39135.75848200009,
               "scale": 147914381.897889
              },
              {
               "level": 3,
               "resolution": 19567.87924099992,
               "scale": 73957190.948944
              },
              {
               "level": 4,
               "resolution": 9783.93962049996,
               "scale": 36978595.474472
              },
              {
               "level": 5,
               "resolution": 4891.96981024998,
               "scale": 18489297.737236
              },
              {
               "level": 6,
               "resolution": 2445.98490512499,
               "scale": 9244648.868618
              },
              {
               "level": 7,
               "resolution": 1222.992452562495,
               "scale": 4622324.434309
              },
              {
               "level": 8,
               "resolution": 611.4962262813797,
               "scale": 2311162.217155
              },
              {
               "level": 9,
               "resolution": 305.74811314055756,
               "scale": 1155581.108577
              },
              {
               "level": 10,
               "resolution": 152.87405657041106,
               "scale": 577790.554289
              },
              {
               "level": 11,
               "resolution": 76.43702828507324,
               "scale": 288895.277144
              },
              {
               "level": 12,
               "resolution": 38.21851414253662,
               "scale": 144447.638572
              },
              {
               "level": 13,
               "resolution": 19.10925707126831,
               "scale": 72223.819286
              },
              {
               "level": 14,
               "resolution": 9.554628535634155,
               "scale": 36111.909643
              },
              {
               "level": 15,
               "resolution": 4.77731426794937,
               "scale": 18055.954822
              },
              {
               "level": 16,
               "resolution": 2.388657133974685,
               "scale": 9027.977411
              },
              {
               "level": 17,
               "resolution": 1.1943285668550503,
               "scale": 4513.988705
              },
              {
               "level": 18,
               "resolution": 0.5971642835598172,
               "scale": 2256.994353
              },
              {
               "level": 19,
               "resolution": 0.29858214164761665,
               "scale": 1128.497176
              },
              {
               "level": 20,
               "resolution": 0.14929107082380833,
               "scale": 564.248588
              },
              {
               "level": 21,
               "resolution": 0.07464553541190416,
               "scale": 282.124294
              },
              {
               "level": 22,
               "resolution": 0.03732276770595208,
               "scale": 141.062147
              },
              {
               "level": 23,
               "resolution": 0.01866138385297604,
               "scale": 70.5310735
              }
             ],
             "origin": {
              "x": -20037508.342787,
              "y": 20037508.342787
             },
             "rows": 256,
             "spatialReference": {
              "latestWkid": 3857,
              "wkid": 102100
             }
            },
            "units": "esriMeters"
           },
           "title": "מפת טופוגרפיה עולמית",
           "url": "https://services.arcgisonline.com/ArcGIS/rest/services/World_Topo_Map/MapServer"
          }
         ],
         "title": "מפה טופוגרפית"
        }
       },
       "_overlay_these_images_on_widget_load": [],
       "_portal_sharing_rest_url": "https://Technion-GIS.maps.arcgis.com/sharing/rest/",
       "_portal_token": "vjMFphCHoovXy4rxHsXDISoVlZYMajBNk_oK3bwZWyvS9SzTMovwsbgaik_ALTetu1qZFK2G31mw-PEVM_Su4eUrA1MIXTV4fvS0cPmVK0wSCFB710GG6BFqLC2G7ESIQCoOfIxATTZ9GUarPKgf05eIXtro7vzvmcEdA1gdGZY.",
       "_portal_url": "https://Technion-GIS.maps.arcgis.com",
       "_username": "shai@technion",
       "_uuid": "f92df8a1-ade4-4bc6-bef5-ed41ad0a751c",
       "_webmap": {
        "authoringApp": "WebMapViewer",
        "authoringAppVersion": "8.4",
        "baseMap": {
         "baseMapLayers": [
          {
           "id": "layer0",
           "layerType": "ArcGISTiledMapServiceLayer",
           "opacity": 1,
           "title": "בסיס קנבס אפור כהה עולמי",
           "url": "https://services.arcgisonline.com/arcgis/rest/services/Canvas/World_Dark_Gray_Base/MapServer",
           "visibility": true
          },
          {
           "id": "World_Dark_Gray_Reference_8618",
           "isReference": true,
           "layerType": "ArcGISTiledMapServiceLayer",
           "opacity": 1,
           "title": "ייחוס אפור כהה עולמי",
           "url": "https://services.arcgisonline.com/arcgis/rest/services/Canvas/World_Dark_Gray_Reference/MapServer",
           "visibility": true
          }
         ],
         "title": "קנבס אפור כהה"
        },
        "operationalLayers": [
         {
          "id": "Raze_and_Rebuild_After_542",
          "itemId": "748ca71771464087844115ea62c25309",
          "layerType": "ArcGISFeatureLayer",
          "opacity": 0.75,
          "popupInfo": {
           "description": null,
           "fieldInfos": [
            {
             "fieldName": "OBJECTID",
             "isEditable": false,
             "label": "OBJECTID",
             "stringFieldOption": "textbox",
             "tooltip": "",
             "visible": false
            },
            {
             "fieldName": "fid_1",
             "format": {
              "digitSeparator": true,
              "places": 2
             },
             "isEditable": true,
             "label": "fid_1",
             "stringFieldOption": "textbox",
             "tooltip": "",
             "visible": true
            },
            {
             "fieldName": "Area",
             "format": {
              "digitSeparator": true,
              "places": 2
             },
             "isEditable": true,
             "label": "Area",
             "stringFieldOption": "textbox",
             "tooltip": "",
             "visible": true
            },
            {
             "fieldName": "floors",
             "format": {
              "digitSeparator": true,
              "places": 2
             },
             "isEditable": true,
             "label": "floors",
             "stringFieldOption": "textbox",
             "tooltip": "",
             "visible": true
            },
            {
             "fieldName": "height",
             "format": {
              "digitSeparator": true,
              "places": 2
             },
             "isEditable": true,
             "label": "height",
             "stringFieldOption": "textbox",
             "tooltip": "",
             "visible": true
            },
            {
             "fieldName": "bld_num",
             "format": {
              "digitSeparator": true,
              "places": 2
             },
             "isEditable": true,
             "label": "bld_num",
             "stringFieldOption": "textbox",
             "tooltip": "",
             "visible": true
            },
            {
             "fieldName": "bld_addres",
             "isEditable": true,
             "label": "bld_addres",
             "stringFieldOption": "textbox",
             "tooltip": "",
             "visible": true
            },
            {
             "fieldName": "hebrew_adr",
             "isEditable": true,
             "label": "hebrew_adr",
             "stringFieldOption": "textbox",
             "tooltip": "",
             "visible": true
            },
            {
             "fieldName": "project_nu",
             "isEditable": true,
             "label": "project_nu",
             "stringFieldOption": "textbox",
             "tooltip": "",
             "visible": true
            },
            {
             "fieldName": "units",
             "format": {
              "digitSeparator": true,
              "places": 2
             },
             "isEditable": true,
             "label": "units",
             "stringFieldOption": "textbox",
             "tooltip": "",
             "visible": true
            },
            {
             "fieldName": "project_na",
             "isEditable": true,
             "label": "project_na",
             "stringFieldOption": "textbox",
             "tooltip": "",
             "visible": true
            },
            {
             "fieldName": "project_ty",
             "format": {
              "digitSeparator": true,
              "places": 2
             },
             "isEditable": true,
             "label": "project_ty",
             "stringFieldOption": "textbox",
             "tooltip": "",
             "visible": true
            },
            {
             "fieldName": "status",
             "isEditable": true,
             "label": "status",
             "stringFieldOption": "textbox",
             "tooltip": "",
             "visible": true
            },
            {
             "fieldName": "East",
             "format": {
              "digitSeparator": true,
              "places": 2
             },
             "isEditable": true,
             "label": "East",
             "stringFieldOption": "textbox",
             "tooltip": "",
             "visible": true
            },
            {
             "fieldName": "North",
             "format": {
              "digitSeparator": true,
              "places": 2
             },
             "isEditable": true,
             "label": "North",
             "stringFieldOption": "textbox",
             "tooltip": "",
             "visible": true
            },
            {
             "fieldName": "East_wgs84",
             "format": {
              "digitSeparator": true,
              "places": 2
             },
             "isEditable": true,
             "label": "East_wgs84",
             "stringFieldOption": "textbox",
             "tooltip": "",
             "visible": true
            },
            {
             "fieldName": "North_wgs8",
             "format": {
              "digitSeparator": true,
              "places": 2
             },
             "isEditable": true,
             "label": "North_wgs8",
             "stringFieldOption": "textbox",
             "tooltip": "",
             "visible": true
            },
            {
             "fieldName": "active",
             "format": {
              "digitSeparator": true,
              "places": 0
             },
             "isEditable": true,
             "label": "active",
             "stringFieldOption": "textbox",
             "tooltip": "",
             "visible": true
            },
            {
             "fieldName": "start_date",
             "format": {
              "dateFormat": "shortDateShortTime"
             },
             "isEditable": true,
             "label": "start_date",
             "stringFieldOption": "textbox",
             "tooltip": "",
             "visible": true
            },
            {
             "fieldName": "end_date_2",
             "format": {
              "dateFormat": "shortDateShortTime"
             },
             "isEditable": true,
             "label": "end_date_2",
             "stringFieldOption": "textbox",
             "tooltip": "",
             "visible": true
            },
            {
             "fieldName": "Shape__Area",
             "format": {
              "digitSeparator": true,
              "places": 2
             },
             "isEditable": true,
             "label": "Shape__Area",
             "stringFieldOption": "textbox",
             "tooltip": "",
             "visible": false
            },
            {
             "fieldName": "Shape__Length",
             "format": {
              "digitSeparator": true,
              "places": 2
             },
             "isEditable": true,
             "label": "Shape__Length",
             "stringFieldOption": "textbox",
             "tooltip": "",
             "visible": false
            },
            {
             "fieldName": "GlobalID",
             "isEditable": false,
             "label": "GlobalID",
             "stringFieldOption": "textbox",
             "tooltip": "",
             "visible": false
            },
            {
             "fieldName": "deltaDays",
             "format": {
              "digitSeparator": true,
              "places": 0
             },
             "isEditable": true,
             "label": "Days",
             "stringFieldOption": "textbox",
             "tooltip": "",
             "visible": true
            },
            {
             "fieldName": "time_filter_2",
             "isEditable": true,
             "label": "time_filter_2",
             "stringFieldOption": "textbox",
             "tooltip": "",
             "visible": true
            }
           ],
           "mediaInfos": [],
           "showAttachments": true,
           "title": "Raze_and_Rebuild_After"
          },
          "title": "Raze_and_Rebuild_After",
          "url": "https://services1.arcgis.com/yAQXemoDSgzdfV2A/arcgis/rest/services/Raze_and_Rebuild_After/FeatureServer/0",
          "visibility": true
         },
         {
          "id": "Raze_and_Rebuild_Before_2492",
          "itemId": "f9d9f6e0ac704af5a17a4ef0445fd904",
          "layerDefinition": {
           "drawingInfo": {
            "renderer": {
             "symbol": {
              "color": [
               255,
               255,
               255,
               255
              ],
              "outline": {
               "color": [
                54,
                93,
                141,
                255
               ],
               "style": "esriSLSSolid",
               "type": "esriSLS",
               "width": 1.5
              },
              "style": "esriSFSSolid",
              "type": "esriSFS"
             },
             "type": "simple"
            }
           }
          },
          "layerType": "ArcGISFeatureLayer",
          "opacity": 0.75,
          "popupInfo": {
           "description": null,
           "fieldInfos": [
            {
             "fieldName": "OBJECTID",
             "isEditable": false,
             "label": "OBJECTID",
             "stringFieldOption": "textbox",
             "tooltip": "",
             "visible": false
            },
            {
             "fieldName": "fid_1",
             "format": {
              "digitSeparator": true,
              "places": 2
             },
             "isEditable": true,
             "label": "fid_1",
             "stringFieldOption": "textbox",
             "tooltip": "",
             "visible": true
            },
            {
             "fieldName": "Area",
             "format": {
              "digitSeparator": true,
              "places": 2
             },
             "isEditable": true,
             "label": "Area",
             "stringFieldOption": "textbox",
             "tooltip": "",
             "visible": true
            },
            {
             "fieldName": "floors",
             "format": {
              "digitSeparator": true,
              "places": 2
             },
             "isEditable": true,
             "label": "floors",
             "stringFieldOption": "textbox",
             "tooltip": "",
             "visible": true
            },
            {
             "fieldName": "height",
             "format": {
              "digitSeparator": true,
              "places": 2
             },
             "isEditable": true,
             "label": "height",
             "stringFieldOption": "textbox",
             "tooltip": "",
             "visible": true
            },
            {
             "fieldName": "bld_num",
             "format": {
              "digitSeparator": true,
              "places": 2
             },
             "isEditable": true,
             "label": "bld_num",
             "stringFieldOption": "textbox",
             "tooltip": "",
             "visible": true
            },
            {
             "fieldName": "bld_addres",
             "isEditable": true,
             "label": "bld_addres",
             "stringFieldOption": "textbox",
             "tooltip": "",
             "visible": true
            },
            {
             "fieldName": "hebrew_adr",
             "isEditable": true,
             "label": "hebrew_adr",
             "stringFieldOption": "textbox",
             "tooltip": "",
             "visible": true
            },
            {
             "fieldName": "project_nu",
             "isEditable": true,
             "label": "project_nu",
             "stringFieldOption": "textbox",
             "tooltip": "",
             "visible": true
            },
            {
             "fieldName": "units",
             "format": {
              "digitSeparator": true,
              "places": 2
             },
             "isEditable": true,
             "label": "units",
             "stringFieldOption": "textbox",
             "tooltip": "",
             "visible": true
            },
            {
             "fieldName": "project_na",
             "isEditable": true,
             "label": "project_na",
             "stringFieldOption": "textbox",
             "tooltip": "",
             "visible": true
            },
            {
             "fieldName": "project_ty",
             "format": {
              "digitSeparator": true,
              "places": 2
             },
             "isEditable": true,
             "label": "project_ty",
             "stringFieldOption": "textbox",
             "tooltip": "",
             "visible": true
            },
            {
             "fieldName": "status",
             "isEditable": true,
             "label": "status",
             "stringFieldOption": "textbox",
             "tooltip": "",
             "visible": true
            },
            {
             "fieldName": "East",
             "format": {
              "digitSeparator": true,
              "places": 2
             },
             "isEditable": true,
             "label": "East",
             "stringFieldOption": "textbox",
             "tooltip": "",
             "visible": true
            },
            {
             "fieldName": "North",
             "format": {
              "digitSeparator": true,
              "places": 2
             },
             "isEditable": true,
             "label": "North",
             "stringFieldOption": "textbox",
             "tooltip": "",
             "visible": true
            },
            {
             "fieldName": "East_wgs84",
             "format": {
              "digitSeparator": true,
              "places": 2
             },
             "isEditable": true,
             "label": "East_wgs84",
             "stringFieldOption": "textbox",
             "tooltip": "",
             "visible": true
            },
            {
             "fieldName": "North_wgs8",
             "format": {
              "digitSeparator": true,
              "places": 2
             },
             "isEditable": true,
             "label": "North_wgs8",
             "stringFieldOption": "textbox",
             "tooltip": "",
             "visible": true
            },
            {
             "fieldName": "active",
             "format": {
              "digitSeparator": true,
              "places": 0
             },
             "isEditable": true,
             "label": "active",
             "stringFieldOption": "textbox",
             "tooltip": "",
             "visible": true
            },
            {
             "fieldName": "start_date",
             "format": {
              "dateFormat": "shortDateShortTime"
             },
             "isEditable": true,
             "label": "start_date",
             "stringFieldOption": "textbox",
             "tooltip": "",
             "visible": true
            },
            {
             "fieldName": "end_date_2",
             "format": {
              "dateFormat": "shortDateShortTime"
             },
             "isEditable": true,
             "label": "end_date_2",
             "stringFieldOption": "textbox",
             "tooltip": "",
             "visible": true
            },
            {
             "fieldName": "Shape__Area",
             "format": {
              "digitSeparator": true,
              "places": 2
             },
             "isEditable": true,
             "label": "Shape__Area",
             "stringFieldOption": "textbox",
             "tooltip": "",
             "visible": false
            },
            {
             "fieldName": "Shape__Length",
             "format": {
              "digitSeparator": true,
              "places": 2
             },
             "isEditable": true,
             "label": "Shape__Length",
             "stringFieldOption": "textbox",
             "tooltip": "",
             "visible": false
            },
            {
             "fieldName": "GlobalID",
             "isEditable": false,
             "label": "GlobalID",
             "stringFieldOption": "textbox",
             "tooltip": "",
             "visible": false
            },
            {
             "fieldName": "deltaDays",
             "format": {
              "digitSeparator": true,
              "places": 0
             },
             "isEditable": true,
             "label": "Days",
             "stringFieldOption": "textbox",
             "tooltip": "",
             "visible": true
            },
            {
             "fieldName": "time_filter_2",
             "isEditable": true,
             "label": "time_filter_2",
             "stringFieldOption": "textbox",
             "tooltip": "",
             "visible": true
            }
           ],
           "mediaInfos": [],
           "showAttachments": true,
           "title": "Raze_and_Rebuild_Before"
          },
          "title": "Raze_and_Rebuild_Before",
          "url": "https://services1.arcgis.com/yAQXemoDSgzdfV2A/arcgis/rest/services/Raze_and_Rebuild_Before/FeatureServer/0",
          "visibility": true
         },
         {
          "id": "Reconstruction_After_7208",
          "itemId": "a3a62ce0b2ec4db28fda81e124f348ce",
          "layerType": "ArcGISFeatureLayer",
          "opacity": 0.75,
          "popupInfo": {
           "description": null,
           "fieldInfos": [
            {
             "fieldName": "OBJECTID",
             "isEditable": false,
             "label": "OBJECTID",
             "stringFieldOption": "textbox",
             "tooltip": "",
             "visible": false
            },
            {
             "fieldName": "fid_1",
             "format": {
              "digitSeparator": true,
              "places": 2
             },
             "isEditable": true,
             "label": "fid_1",
             "stringFieldOption": "textbox",
             "tooltip": "",
             "visible": true
            },
            {
             "fieldName": "Area",
             "format": {
              "digitSeparator": true,
              "places": 2
             },
             "isEditable": true,
             "label": "Area",
             "stringFieldOption": "textbox",
             "tooltip": "",
             "visible": true
            },
            {
             "fieldName": "floors",
             "format": {
              "digitSeparator": true,
              "places": 2
             },
             "isEditable": true,
             "label": "floors",
             "stringFieldOption": "textbox",
             "tooltip": "",
             "visible": true
            },
            {
             "fieldName": "height",
             "format": {
              "digitSeparator": true,
              "places": 2
             },
             "isEditable": true,
             "label": "height",
             "stringFieldOption": "textbox",
             "tooltip": "",
             "visible": true
            },
            {
             "fieldName": "bld_num",
             "format": {
              "digitSeparator": true,
              "places": 2
             },
             "isEditable": true,
             "label": "bld_num",
             "stringFieldOption": "textbox",
             "tooltip": "",
             "visible": true
            },
            {
             "fieldName": "bld_addres",
             "isEditable": true,
             "label": "bld_addres",
             "stringFieldOption": "textbox",
             "tooltip": "",
             "visible": true
            },
            {
             "fieldName": "hebrew_adr",
             "isEditable": true,
             "label": "hebrew_adr",
             "stringFieldOption": "textbox",
             "tooltip": "",
             "visible": true
            },
            {
             "fieldName": "project_nu",
             "isEditable": true,
             "label": "project_nu",
             "stringFieldOption": "textbox",
             "tooltip": "",
             "visible": true
            },
            {
             "fieldName": "units",
             "format": {
              "digitSeparator": true,
              "places": 2
             },
             "isEditable": true,
             "label": "units",
             "stringFieldOption": "textbox",
             "tooltip": "",
             "visible": true
            },
            {
             "fieldName": "project_na",
             "isEditable": true,
             "label": "project_na",
             "stringFieldOption": "textbox",
             "tooltip": "",
             "visible": true
            },
            {
             "fieldName": "project_ty",
             "format": {
              "digitSeparator": true,
              "places": 2
             },
             "isEditable": true,
             "label": "project_ty",
             "stringFieldOption": "textbox",
             "tooltip": "",
             "visible": true
            },
            {
             "fieldName": "status",
             "isEditable": true,
             "label": "status",
             "stringFieldOption": "textbox",
             "tooltip": "",
             "visible": true
            },
            {
             "fieldName": "East",
             "format": {
              "digitSeparator": true,
              "places": 2
             },
             "isEditable": true,
             "label": "East",
             "stringFieldOption": "textbox",
             "tooltip": "",
             "visible": true
            },
            {
             "fieldName": "North",
             "format": {
              "digitSeparator": true,
              "places": 2
             },
             "isEditable": true,
             "label": "North",
             "stringFieldOption": "textbox",
             "tooltip": "",
             "visible": true
            },
            {
             "fieldName": "East_wgs84",
             "format": {
              "digitSeparator": true,
              "places": 2
             },
             "isEditable": true,
             "label": "East_wgs84",
             "stringFieldOption": "textbox",
             "tooltip": "",
             "visible": true
            },
            {
             "fieldName": "North_wgs8",
             "format": {
              "digitSeparator": true,
              "places": 2
             },
             "isEditable": true,
             "label": "North_wgs8",
             "stringFieldOption": "textbox",
             "tooltip": "",
             "visible": true
            },
            {
             "fieldName": "active",
             "format": {
              "digitSeparator": true,
              "places": 0
             },
             "isEditable": true,
             "label": "active",
             "stringFieldOption": "textbox",
             "tooltip": "",
             "visible": true
            },
            {
             "fieldName": "start_date",
             "format": {
              "dateFormat": "shortDateShortTime"
             },
             "isEditable": true,
             "label": "start_date",
             "stringFieldOption": "textbox",
             "tooltip": "",
             "visible": true
            },
            {
             "fieldName": "end_date_2",
             "format": {
              "dateFormat": "shortDateShortTime"
             },
             "isEditable": true,
             "label": "end_date_2",
             "stringFieldOption": "textbox",
             "tooltip": "",
             "visible": true
            },
            {
             "fieldName": "Shape__Area",
             "format": {
              "digitSeparator": true,
              "places": 2
             },
             "isEditable": true,
             "label": "Shape__Area",
             "stringFieldOption": "textbox",
             "tooltip": "",
             "visible": false
            },
            {
             "fieldName": "Shape__Length",
             "format": {
              "digitSeparator": true,
              "places": 2
             },
             "isEditable": true,
             "label": "Shape__Length",
             "stringFieldOption": "textbox",
             "tooltip": "",
             "visible": false
            },
            {
             "fieldName": "GlobalID",
             "isEditable": false,
             "label": "GlobalID",
             "stringFieldOption": "textbox",
             "tooltip": "",
             "visible": false
            },
            {
             "fieldName": "deltaDays",
             "format": {
              "digitSeparator": true,
              "places": 0
             },
             "isEditable": true,
             "label": "Days",
             "stringFieldOption": "textbox",
             "tooltip": "",
             "visible": true
            },
            {
             "fieldName": "time_filter_2",
             "isEditable": true,
             "label": "time_filter_2",
             "stringFieldOption": "textbox",
             "tooltip": "",
             "visible": true
            }
           ],
           "mediaInfos": [],
           "showAttachments": true,
           "title": "Reconstruction_After"
          },
          "title": "Reconstruction_After",
          "url": "https://services1.arcgis.com/yAQXemoDSgzdfV2A/arcgis/rest/services/Reconstruction_After/FeatureServer/0",
          "visibility": true
         },
         {
          "id": "Reconstruction_Before_5758",
          "itemId": "de8680cffc06404e86cbc8c9d0b91110",
          "layerDefinition": {
           "drawingInfo": {
            "renderer": {
             "symbol": {
              "color": [
               255,
               255,
               255,
               255
              ],
              "outline": {
               "color": [
                54,
                93,
                141,
                255
               ],
               "style": "esriSLSSolid",
               "type": "esriSLS",
               "width": 1.5
              },
              "style": "esriSFSSolid",
              "type": "esriSFS"
             },
             "type": "simple"
            }
           }
          },
          "layerType": "ArcGISFeatureLayer",
          "opacity": 0.75,
          "popupInfo": {
           "description": null,
           "fieldInfos": [
            {
             "fieldName": "OBJECTID",
             "isEditable": false,
             "label": "OBJECTID",
             "stringFieldOption": "textbox",
             "tooltip": "",
             "visible": false
            },
            {
             "fieldName": "fid_1",
             "format": {
              "digitSeparator": true,
              "places": 2
             },
             "isEditable": true,
             "label": "fid_1",
             "stringFieldOption": "textbox",
             "tooltip": "",
             "visible": true
            },
            {
             "fieldName": "Area",
             "format": {
              "digitSeparator": true,
              "places": 2
             },
             "isEditable": true,
             "label": "Area",
             "stringFieldOption": "textbox",
             "tooltip": "",
             "visible": true
            },
            {
             "fieldName": "floors",
             "format": {
              "digitSeparator": true,
              "places": 2
             },
             "isEditable": true,
             "label": "floors",
             "stringFieldOption": "textbox",
             "tooltip": "",
             "visible": true
            },
            {
             "fieldName": "height",
             "format": {
              "digitSeparator": true,
              "places": 2
             },
             "isEditable": true,
             "label": "height",
             "stringFieldOption": "textbox",
             "tooltip": "",
             "visible": true
            },
            {
             "fieldName": "bld_num",
             "format": {
              "digitSeparator": true,
              "places": 2
             },
             "isEditable": true,
             "label": "bld_num",
             "stringFieldOption": "textbox",
             "tooltip": "",
             "visible": true
            },
            {
             "fieldName": "bld_addres",
             "isEditable": true,
             "label": "bld_addres",
             "stringFieldOption": "textbox",
             "tooltip": "",
             "visible": true
            },
            {
             "fieldName": "hebrew_adr",
             "isEditable": true,
             "label": "hebrew_adr",
             "stringFieldOption": "textbox",
             "tooltip": "",
             "visible": true
            },
            {
             "fieldName": "project_nu",
             "isEditable": true,
             "label": "project_nu",
             "stringFieldOption": "textbox",
             "tooltip": "",
             "visible": true
            },
            {
             "fieldName": "units",
             "format": {
              "digitSeparator": true,
              "places": 2
             },
             "isEditable": true,
             "label": "units",
             "stringFieldOption": "textbox",
             "tooltip": "",
             "visible": true
            },
            {
             "fieldName": "project_na",
             "isEditable": true,
             "label": "project_na",
             "stringFieldOption": "textbox",
             "tooltip": "",
             "visible": true
            },
            {
             "fieldName": "project_ty",
             "format": {
              "digitSeparator": true,
              "places": 2
             },
             "isEditable": true,
             "label": "project_ty",
             "stringFieldOption": "textbox",
             "tooltip": "",
             "visible": true
            },
            {
             "fieldName": "status",
             "isEditable": true,
             "label": "status",
             "stringFieldOption": "textbox",
             "tooltip": "",
             "visible": true
            },
            {
             "fieldName": "East",
             "format": {
              "digitSeparator": true,
              "places": 2
             },
             "isEditable": true,
             "label": "East",
             "stringFieldOption": "textbox",
             "tooltip": "",
             "visible": true
            },
            {
             "fieldName": "North",
             "format": {
              "digitSeparator": true,
              "places": 2
             },
             "isEditable": true,
             "label": "North",
             "stringFieldOption": "textbox",
             "tooltip": "",
             "visible": true
            },
            {
             "fieldName": "East_wgs84",
             "format": {
              "digitSeparator": true,
              "places": 2
             },
             "isEditable": true,
             "label": "East_wgs84",
             "stringFieldOption": "textbox",
             "tooltip": "",
             "visible": true
            },
            {
             "fieldName": "North_wgs8",
             "format": {
              "digitSeparator": true,
              "places": 2
             },
             "isEditable": true,
             "label": "North_wgs8",
             "stringFieldOption": "textbox",
             "tooltip": "",
             "visible": true
            },
            {
             "fieldName": "active",
             "format": {
              "digitSeparator": true,
              "places": 0
             },
             "isEditable": true,
             "label": "active",
             "stringFieldOption": "textbox",
             "tooltip": "",
             "visible": true
            },
            {
             "fieldName": "start_date",
             "format": {
              "dateFormat": "shortDateShortTime"
             },
             "isEditable": true,
             "label": "start_date",
             "stringFieldOption": "textbox",
             "tooltip": "",
             "visible": true
            },
            {
             "fieldName": "end_date_2",
             "format": {
              "dateFormat": "shortDateShortTime"
             },
             "isEditable": true,
             "label": "end_date_2",
             "stringFieldOption": "textbox",
             "tooltip": "",
             "visible": true
            },
            {
             "fieldName": "Shape__Area",
             "format": {
              "digitSeparator": true,
              "places": 2
             },
             "isEditable": true,
             "label": "Shape__Area",
             "stringFieldOption": "textbox",
             "tooltip": "",
             "visible": false
            },
            {
             "fieldName": "Shape__Length",
             "format": {
              "digitSeparator": true,
              "places": 2
             },
             "isEditable": true,
             "label": "Shape__Length",
             "stringFieldOption": "textbox",
             "tooltip": "",
             "visible": false
            },
            {
             "fieldName": "GlobalID",
             "isEditable": false,
             "label": "GlobalID",
             "stringFieldOption": "textbox",
             "tooltip": "",
             "visible": false
            },
            {
             "fieldName": "deltaDays",
             "format": {
              "digitSeparator": true,
              "places": 0
             },
             "isEditable": true,
             "label": "Days",
             "stringFieldOption": "textbox",
             "tooltip": "",
             "visible": true
            },
            {
             "fieldName": "time_filter_2",
             "isEditable": true,
             "label": "time_filter_2",
             "stringFieldOption": "textbox",
             "tooltip": "",
             "visible": true
            }
           ],
           "mediaInfos": [],
           "showAttachments": true,
           "title": "Reconstruction_Before"
          },
          "title": "Reconstruction_Before",
          "url": "https://services1.arcgis.com/yAQXemoDSgzdfV2A/arcgis/rest/services/Reconstruction_Before/FeatureServer/0",
          "visibility": true
         },
         {
          "id": "Addition_After_5425",
          "itemId": "2edebdf6b7bb42ae8a4ac8d0569e0ccd",
          "layerDefinition": {
           "drawingInfo": {
            "renderer": {
             "symbol": {
              "color": [
               255,
               255,
               255,
               255
              ],
              "outline": {
               "color": [
                54,
                93,
                141,
                255
               ],
               "style": "esriSLSSolid",
               "type": "esriSLS",
               "width": 1.5
              },
              "style": "esriSFSSolid",
              "type": "esriSFS"
             },
             "type": "simple"
            }
           }
          },
          "layerType": "ArcGISFeatureLayer",
          "opacity": 0.75,
          "popupInfo": {
           "description": null,
           "fieldInfos": [
            {
             "fieldName": "OBJECTID",
             "isEditable": false,
             "label": "OBJECTID",
             "stringFieldOption": "textbox",
             "tooltip": "",
             "visible": false
            },
            {
             "fieldName": "fid_1",
             "format": {
              "digitSeparator": true,
              "places": 2
             },
             "isEditable": true,
             "label": "fid_1",
             "stringFieldOption": "textbox",
             "tooltip": "",
             "visible": true
            },
            {
             "fieldName": "Area",
             "format": {
              "digitSeparator": true,
              "places": 2
             },
             "isEditable": true,
             "label": "Area",
             "stringFieldOption": "textbox",
             "tooltip": "",
             "visible": true
            },
            {
             "fieldName": "floors",
             "format": {
              "digitSeparator": true,
              "places": 2
             },
             "isEditable": true,
             "label": "floors",
             "stringFieldOption": "textbox",
             "tooltip": "",
             "visible": true
            },
            {
             "fieldName": "height",
             "format": {
              "digitSeparator": true,
              "places": 2
             },
             "isEditable": true,
             "label": "height",
             "stringFieldOption": "textbox",
             "tooltip": "",
             "visible": true
            },
            {
             "fieldName": "bld_num",
             "format": {
              "digitSeparator": true,
              "places": 2
             },
             "isEditable": true,
             "label": "bld_num",
             "stringFieldOption": "textbox",
             "tooltip": "",
             "visible": true
            },
            {
             "fieldName": "bld_addres",
             "isEditable": true,
             "label": "bld_addres",
             "stringFieldOption": "textbox",
             "tooltip": "",
             "visible": true
            },
            {
             "fieldName": "hebrew_adr",
             "isEditable": true,
             "label": "hebrew_adr",
             "stringFieldOption": "textbox",
             "tooltip": "",
             "visible": true
            },
            {
             "fieldName": "project_nu",
             "isEditable": true,
             "label": "project_nu",
             "stringFieldOption": "textbox",
             "tooltip": "",
             "visible": true
            },
            {
             "fieldName": "units",
             "format": {
              "digitSeparator": true,
              "places": 2
             },
             "isEditable": true,
             "label": "units",
             "stringFieldOption": "textbox",
             "tooltip": "",
             "visible": true
            },
            {
             "fieldName": "project_na",
             "isEditable": true,
             "label": "project_na",
             "stringFieldOption": "textbox",
             "tooltip": "",
             "visible": true
            },
            {
             "fieldName": "project_ty",
             "format": {
              "digitSeparator": true,
              "places": 2
             },
             "isEditable": true,
             "label": "project_ty",
             "stringFieldOption": "textbox",
             "tooltip": "",
             "visible": true
            },
            {
             "fieldName": "status",
             "isEditable": true,
             "label": "status",
             "stringFieldOption": "textbox",
             "tooltip": "",
             "visible": true
            },
            {
             "fieldName": "East",
             "format": {
              "digitSeparator": true,
              "places": 2
             },
             "isEditable": true,
             "label": "East",
             "stringFieldOption": "textbox",
             "tooltip": "",
             "visible": true
            },
            {
             "fieldName": "North",
             "format": {
              "digitSeparator": true,
              "places": 2
             },
             "isEditable": true,
             "label": "North",
             "stringFieldOption": "textbox",
             "tooltip": "",
             "visible": true
            },
            {
             "fieldName": "East_wgs84",
             "format": {
              "digitSeparator": true,
              "places": 2
             },
             "isEditable": true,
             "label": "East_wgs84",
             "stringFieldOption": "textbox",
             "tooltip": "",
             "visible": true
            },
            {
             "fieldName": "North_wgs8",
             "format": {
              "digitSeparator": true,
              "places": 2
             },
             "isEditable": true,
             "label": "North_wgs8",
             "stringFieldOption": "textbox",
             "tooltip": "",
             "visible": true
            },
            {
             "fieldName": "active",
             "format": {
              "digitSeparator": true,
              "places": 0
             },
             "isEditable": true,
             "label": "active",
             "stringFieldOption": "textbox",
             "tooltip": "",
             "visible": true
            },
            {
             "fieldName": "start_date",
             "format": {
              "dateFormat": "shortDateShortTime"
             },
             "isEditable": true,
             "label": "start_date",
             "stringFieldOption": "textbox",
             "tooltip": "",
             "visible": true
            },
            {
             "fieldName": "end_date_2",
             "format": {
              "dateFormat": "shortDateShortTime"
             },
             "isEditable": true,
             "label": "end_date_2",
             "stringFieldOption": "textbox",
             "tooltip": "",
             "visible": true
            },
            {
             "fieldName": "Shape__Area",
             "format": {
              "digitSeparator": true,
              "places": 2
             },
             "isEditable": true,
             "label": "Shape__Area",
             "stringFieldOption": "textbox",
             "tooltip": "",
             "visible": false
            },
            {
             "fieldName": "Shape__Length",
             "format": {
              "digitSeparator": true,
              "places": 2
             },
             "isEditable": true,
             "label": "Shape__Length",
             "stringFieldOption": "textbox",
             "tooltip": "",
             "visible": false
            },
            {
             "fieldName": "GlobalID",
             "isEditable": false,
             "label": "GlobalID",
             "stringFieldOption": "textbox",
             "tooltip": "",
             "visible": false
            },
            {
             "fieldName": "deltaDays",
             "format": {
              "digitSeparator": true,
              "places": 0
             },
             "isEditable": true,
             "label": "Days",
             "stringFieldOption": "textbox",
             "tooltip": "",
             "visible": true
            },
            {
             "fieldName": "time_filter_2",
             "isEditable": true,
             "label": "time_filter_2",
             "stringFieldOption": "textbox",
             "tooltip": "",
             "visible": true
            }
           ],
           "mediaInfos": [],
           "showAttachments": true,
           "title": "Addition_After"
          },
          "title": "Addition_After",
          "url": "https://services1.arcgis.com/yAQXemoDSgzdfV2A/arcgis/rest/services/Addition_After/FeatureServer/0",
          "visibility": true
         },
         {
          "id": "Addition_Before_8282",
          "itemId": "b8eba16abd4647bd9fd7573e6e71c86d",
          "layerDefinition": {
           "drawingInfo": {
            "renderer": {
             "symbol": {
              "color": [
               255,
               255,
               255,
               255
              ],
              "outline": {
               "color": [
                54,
                93,
                141,
                255
               ],
               "style": "esriSLSSolid",
               "type": "esriSLS",
               "width": 1.5
              },
              "style": "esriSFSSolid",
              "type": "esriSFS"
             },
             "type": "simple"
            }
           }
          },
          "layerType": "ArcGISFeatureLayer",
          "opacity": 0.75,
          "popupInfo": {
           "description": null,
           "fieldInfos": [
            {
             "fieldName": "OBJECTID",
             "isEditable": false,
             "label": "OBJECTID",
             "stringFieldOption": "textbox",
             "tooltip": "",
             "visible": false
            },
            {
             "fieldName": "fid_1",
             "format": {
              "digitSeparator": true,
              "places": 2
             },
             "isEditable": true,
             "label": "fid_1",
             "stringFieldOption": "textbox",
             "tooltip": "",
             "visible": true
            },
            {
             "fieldName": "Area",
             "format": {
              "digitSeparator": true,
              "places": 2
             },
             "isEditable": true,
             "label": "Area",
             "stringFieldOption": "textbox",
             "tooltip": "",
             "visible": true
            },
            {
             "fieldName": "floors",
             "format": {
              "digitSeparator": true,
              "places": 2
             },
             "isEditable": true,
             "label": "floors",
             "stringFieldOption": "textbox",
             "tooltip": "",
             "visible": true
            },
            {
             "fieldName": "height",
             "format": {
              "digitSeparator": true,
              "places": 2
             },
             "isEditable": true,
             "label": "height",
             "stringFieldOption": "textbox",
             "tooltip": "",
             "visible": true
            },
            {
             "fieldName": "bld_num",
             "format": {
              "digitSeparator": true,
              "places": 2
             },
             "isEditable": true,
             "label": "bld_num",
             "stringFieldOption": "textbox",
             "tooltip": "",
             "visible": true
            },
            {
             "fieldName": "bld_addres",
             "isEditable": true,
             "label": "bld_addres",
             "stringFieldOption": "textbox",
             "tooltip": "",
             "visible": true
            },
            {
             "fieldName": "hebrew_adr",
             "isEditable": true,
             "label": "hebrew_adr",
             "stringFieldOption": "textbox",
             "tooltip": "",
             "visible": true
            },
            {
             "fieldName": "project_nu",
             "isEditable": true,
             "label": "project_nu",
             "stringFieldOption": "textbox",
             "tooltip": "",
             "visible": true
            },
            {
             "fieldName": "units",
             "format": {
              "digitSeparator": true,
              "places": 2
             },
             "isEditable": true,
             "label": "units",
             "stringFieldOption": "textbox",
             "tooltip": "",
             "visible": true
            },
            {
             "fieldName": "project_na",
             "isEditable": true,
             "label": "project_na",
             "stringFieldOption": "textbox",
             "tooltip": "",
             "visible": true
            },
            {
             "fieldName": "project_ty",
             "format": {
              "digitSeparator": true,
              "places": 2
             },
             "isEditable": true,
             "label": "project_ty",
             "stringFieldOption": "textbox",
             "tooltip": "",
             "visible": true
            },
            {
             "fieldName": "status",
             "isEditable": true,
             "label": "status",
             "stringFieldOption": "textbox",
             "tooltip": "",
             "visible": true
            },
            {
             "fieldName": "East",
             "format": {
              "digitSeparator": true,
              "places": 2
             },
             "isEditable": true,
             "label": "East",
             "stringFieldOption": "textbox",
             "tooltip": "",
             "visible": true
            },
            {
             "fieldName": "North",
             "format": {
              "digitSeparator": true,
              "places": 2
             },
             "isEditable": true,
             "label": "North",
             "stringFieldOption": "textbox",
             "tooltip": "",
             "visible": true
            },
            {
             "fieldName": "East_wgs84",
             "format": {
              "digitSeparator": true,
              "places": 2
             },
             "isEditable": true,
             "label": "East_wgs84",
             "stringFieldOption": "textbox",
             "tooltip": "",
             "visible": true
            },
            {
             "fieldName": "North_wgs8",
             "format": {
              "digitSeparator": true,
              "places": 2
             },
             "isEditable": true,
             "label": "North_wgs8",
             "stringFieldOption": "textbox",
             "tooltip": "",
             "visible": true
            },
            {
             "fieldName": "active",
             "format": {
              "digitSeparator": true,
              "places": 0
             },
             "isEditable": true,
             "label": "active",
             "stringFieldOption": "textbox",
             "tooltip": "",
             "visible": true
            },
            {
             "fieldName": "start_date",
             "format": {
              "dateFormat": "shortDateShortTime"
             },
             "isEditable": true,
             "label": "start_date",
             "stringFieldOption": "textbox",
             "tooltip": "",
             "visible": true
            },
            {
             "fieldName": "end_date_2",
             "format": {
              "dateFormat": "shortDateShortTime"
             },
             "isEditable": true,
             "label": "end_date_2",
             "stringFieldOption": "textbox",
             "tooltip": "",
             "visible": true
            },
            {
             "fieldName": "Shape__Area",
             "format": {
              "digitSeparator": true,
              "places": 2
             },
             "isEditable": true,
             "label": "Shape__Area",
             "stringFieldOption": "textbox",
             "tooltip": "",
             "visible": false
            },
            {
             "fieldName": "Shape__Length",
             "format": {
              "digitSeparator": true,
              "places": 2
             },
             "isEditable": true,
             "label": "Shape__Length",
             "stringFieldOption": "textbox",
             "tooltip": "",
             "visible": false
            },
            {
             "fieldName": "GlobalID",
             "isEditable": false,
             "label": "GlobalID",
             "stringFieldOption": "textbox",
             "tooltip": "",
             "visible": false
            },
            {
             "fieldName": "deltaDays",
             "format": {
              "digitSeparator": true,
              "places": 0
             },
             "isEditable": true,
             "label": "Days",
             "stringFieldOption": "textbox",
             "tooltip": "",
             "visible": true
            },
            {
             "fieldName": "time_filter_2",
             "isEditable": true,
             "label": "time_filter_2",
             "stringFieldOption": "textbox",
             "tooltip": "",
             "visible": true
            }
           ],
           "mediaInfos": [],
           "showAttachments": true,
           "title": "Addition_Before"
          },
          "title": "Addition_Before",
          "url": "https://services1.arcgis.com/yAQXemoDSgzdfV2A/arcgis/rest/services/Addition_Before/FeatureServer/0",
          "visibility": true
         },
         {
          "id": "Parcels_After_3136",
          "itemId": "850cdfd402b14075b5653f6550defec6",
          "layerDefinition": {
           "drawingInfo": {
            "renderer": {
             "symbol": {
              "color": null,
              "outline": {
               "color": [
                0,
                0,
                0,
                255
               ],
               "style": "esriSLSSolid",
               "type": "esriSLS",
               "width": 0.75
              },
              "style": "esriSFSSolid",
              "type": "esriSFS"
             },
             "type": "simple"
            }
           }
          },
          "layerType": "ArcGISFeatureLayer",
          "opacity": 1,
          "popupInfo": {
           "description": null,
           "fieldInfos": [
            {
             "fieldName": "fid",
             "format": {
              "digitSeparator": true,
              "places": 0
             },
             "isEditable": true,
             "label": "fid",
             "stringFieldOption": "textbox",
             "tooltip": "",
             "visible": true
            },
            {
             "fieldName": "GUSH_NUM",
             "format": {
              "digitSeparator": true,
              "places": 0
             },
             "isEditable": true,
             "label": "GUSH_NUM",
             "stringFieldOption": "textbox",
             "tooltip": "",
             "visible": true
            },
            {
             "fieldName": "PARCEL",
             "format": {
              "digitSeparator": true,
              "places": 0
             },
             "isEditable": true,
             "label": "PARCEL",
             "stringFieldOption": "textbox",
             "tooltip": "",
             "visible": true
            },
            {
             "fieldName": "LEGAL_AREA",
             "format": {
              "digitSeparator": true,
              "places": 2
             },
             "isEditable": true,
             "label": "LEGAL_AREA",
             "stringFieldOption": "textbox",
             "tooltip": "",
             "visible": true
            },
            {
             "fieldName": "LOCALITY_I",
             "format": {
              "digitSeparator": true,
              "places": 0
             },
             "isEditable": true,
             "label": "LOCALITY_I",
             "stringFieldOption": "textbox",
             "tooltip": "",
             "visible": false
            },
            {
             "fieldName": "SHAPE_AREA",
             "format": {
              "digitSeparator": true,
              "places": 2
             },
             "isEditable": true,
             "label": "SHAPE_AREA",
             "stringFieldOption": "textbox",
             "tooltip": "",
             "visible": false
            },
            {
             "fieldName": "ObjectId",
             "isEditable": false,
             "label": "",
             "stringFieldOption": "textbox",
             "tooltip": "",
             "visible": false
            },
            {
             "fieldName": "Shape__Area",
             "format": {
              "digitSeparator": true,
              "places": 2
             },
             "isEditable": false,
             "label": "Shape__Area",
             "stringFieldOption": "textbox",
             "tooltip": "",
             "visible": false
            },
            {
             "fieldName": "Shape__Length",
             "format": {
              "digitSeparator": true,
              "places": 2
             },
             "isEditable": false,
             "label": "Shape__Length",
             "stringFieldOption": "textbox",
             "tooltip": "",
             "visible": false
            }
           ],
           "mediaInfos": [],
           "showAttachments": true,
           "title": "Parcels_After_0"
          },
          "title": "Parcels_After",
          "url": "https://services1.arcgis.com/yAQXemoDSgzdfV2A/arcgis/rest/services/Parcels_After/FeatureServer/0",
          "visibility": true
         },
         {
          "id": "parcels_before2_2105",
          "itemId": "afbf31beaa16455eab114be772d98cef",
          "layerDefinition": {
           "drawingInfo": {
            "renderer": {
             "symbol": {
              "color": null,
              "outline": {
               "color": [
                0,
                0,
                0,
                255
               ],
               "style": "esriSLSSolid",
               "type": "esriSLS",
               "width": 0.75
              },
              "style": "esriSFSSolid",
              "type": "esriSFS"
             },
             "type": "simple"
            }
           }
          },
          "layerType": "ArcGISFeatureLayer",
          "opacity": 1,
          "popupInfo": {
           "description": null,
           "fieldInfos": [
            {
             "fieldName": "fid",
             "format": {
              "digitSeparator": true,
              "places": 0
             },
             "isEditable": true,
             "label": "fid",
             "stringFieldOption": "textbox",
             "tooltip": "",
             "visible": true
            },
            {
             "fieldName": "GUSH_NUM",
             "format": {
              "digitSeparator": true,
              "places": 0
             },
             "isEditable": true,
             "label": "GUSH_NUM",
             "stringFieldOption": "textbox",
             "tooltip": "",
             "visible": true
            },
            {
             "fieldName": "PARCEL",
             "format": {
              "digitSeparator": true,
              "places": 0
             },
             "isEditable": true,
             "label": "PARCEL",
             "stringFieldOption": "textbox",
             "tooltip": "",
             "visible": true
            },
            {
             "fieldName": "LEGAL_AREA",
             "format": {
              "digitSeparator": true,
              "places": 2
             },
             "isEditable": true,
             "label": "LEGAL_AREA",
             "stringFieldOption": "textbox",
             "tooltip": "",
             "visible": true
            },
            {
             "fieldName": "LOCALITY_I",
             "format": {
              "digitSeparator": true,
              "places": 0
             },
             "isEditable": true,
             "label": "LOCALITY_I",
             "stringFieldOption": "textbox",
             "tooltip": "",
             "visible": false
            },
            {
             "fieldName": "SHAPE_AREA",
             "format": {
              "digitSeparator": true,
              "places": 2
             },
             "isEditable": true,
             "label": "SHAPE_AREA",
             "stringFieldOption": "textbox",
             "tooltip": "",
             "visible": false
            },
            {
             "fieldName": "ObjectId",
             "isEditable": false,
             "label": "",
             "stringFieldOption": "textbox",
             "tooltip": "",
             "visible": false
            },
            {
             "fieldName": "Shape__Area",
             "format": {
              "digitSeparator": true,
              "places": 2
             },
             "isEditable": false,
             "label": "Shape__Area",
             "stringFieldOption": "textbox",
             "tooltip": "",
             "visible": false
            },
            {
             "fieldName": "Shape__Length",
             "format": {
              "digitSeparator": true,
              "places": 2
             },
             "isEditable": false,
             "label": "Shape__Length",
             "stringFieldOption": "textbox",
             "tooltip": "",
             "visible": false
            }
           ],
           "mediaInfos": [],
           "showAttachments": true,
           "title": "parcels_before2_0"
          },
          "title": "Parcels Before",
          "url": "https://services1.arcgis.com/yAQXemoDSgzdfV2A/arcgis/rest/services/parcels_before2/FeatureServer/0",
          "visibility": true
         }
        ],
        "spatialReference": {
         "latestWkid": 3857,
         "wkid": 102100
        },
        "version": "2.18"
       },
       "_writeonly_end_time": "1900-01-01T00:00:00.000000",
       "_writeonly_start_time": "1900-01-01T00:00:00.000000",
       "hide_mode_switch": true,
       "layout": "IPY_MODEL_007d96baede642bfb9fda769cbc9fed8",
       "print_service_url": ""
      }
     },
     "d8b4feb1f9db4e0bb358e0b7e55f5a38": {
      "model_module": "@jupyter-widgets/controls",
      "model_module_version": "1.5.0",
      "model_name": "DescriptionStyleModel",
      "state": {
       "description_width": ""
      }
     },
     "db59b29c585f4dfeac46f66ad4404391": {
      "model_module": "@jupyter-widgets/base",
      "model_module_version": "1.2.0",
      "model_name": "LayoutModel",
      "state": {}
     },
     "e2c1a804de9e49249297d20474b4d195": {
      "model_module": "arcgis-map-ipywidget",
      "model_module_version": "1.8.4",
      "model_name": "ArcGISMapIPyWidgetModel",
      "state": {
       "_auth_mode": "tokenBased",
       "_basemap": "default",
       "_draw_these_graphics_on_widget_load": [],
       "_draw_these_notype_layers_on_widget_load": [],
       "_gallery_basemaps": {
        "default": {
         "baseMapLayers": [
          {
           "layerType": "ArcGISTiledMapServiceLayer",
           "resourceInfo": {
            "capabilities": "Map,Tilemap,Query,Data",
            "copyrightText": "Sources: Esri, HERE, DeLorme, Intermap, increment P Corp., GEBCO, USGS, FAO, NPS, NRCAN, GeoBase, IGN, Kadaster NL, Ordnance Survey, Esri Japan, METI, Esri China (Hong Kong), swisstopo, MapmyIndia, Â© OpenStreetMap contributors, and the GIS User Community",
            "currentVersion": 10.3,
            "documentInfo": {
             "AntialiasingMode": "None",
             "Author": "Esri",
             "Category": "imageryBaseMapsEarthCover (Imagery, basemaps, and land cover)",
             "Comments": "",
             "Keywords": "World,Global,Europe,North America,South America,Southern Africa,Australia,New Zealand,India",
             "Subject": "topographic, topography, administrative boundaries, cities, water features, physiographic features, parks, landmarks, highways, roads, railways, airports, land cover, shaded relief imagery",
             "TextAntialiasingMode": "Force",
             "Title": "World Topographic Map"
            },
            "exportTilesAllowed": false,
            "fullExtent": {
             "spatialReference": {
              "latestWkid": 3857,
              "wkid": 102100
             },
             "xmax": 20037507.067161843,
             "xmin": -20037507.067161843,
             "ymax": 19971868.88040863,
             "ymin": -19971868.880408604
            },
            "initialExtent": {
             "spatialReference": {
              "latestWkid": 3857,
              "wkid": 102100
             },
             "xmax": 28848255.049479112,
             "xmin": -28848255.049479112,
             "ymax": 16430757.376790084,
             "ymin": -2077452.082122866
            },
            "layers": [
             {
              "defaultVisibility": false,
              "id": 0,
              "maxScale": 0,
              "minScale": 0,
              "name": "Citations",
              "parentLayerId": -1,
              "subLayerIds": null
             }
            ],
            "mapName": "Layers",
            "maxImageHeight": 4096,
            "maxImageWidth": 4096,
            "maxRecordCount": 100,
            "maxScale": 70.5310735,
            "minScale": 591657527.591555,
            "singleFusedMapCache": true,
            "spatialReference": {
             "latestWkid": 3857,
             "wkid": 102100
            },
            "supportedExtensions": "KmlServer",
            "supportedImageFormatTypes": "PNG32,PNG24,PNG,JPG,DIB,TIFF,EMF,PS,PDF,GIF,SVG,SVGZ,BMP",
            "supportedQueryFormats": "JSON, AMF",
            "supportsDynamicLayers": false,
            "tables": [],
            "tileInfo": {
             "cols": 256,
             "compressionQuality": 90,
             "dpi": 96,
             "format": "JPEG",
             "lods": [
              {
               "level": 0,
               "resolution": 156543.03392800014,
               "scale": 591657527.591555
              },
              {
               "level": 1,
               "resolution": 78271.51696399994,
               "scale": 295828763.795777
              },
              {
               "level": 2,
               "resolution": 39135.75848200009,
               "scale": 147914381.897889
              },
              {
               "level": 3,
               "resolution": 19567.87924099992,
               "scale": 73957190.948944
              },
              {
               "level": 4,
               "resolution": 9783.93962049996,
               "scale": 36978595.474472
              },
              {
               "level": 5,
               "resolution": 4891.96981024998,
               "scale": 18489297.737236
              },
              {
               "level": 6,
               "resolution": 2445.98490512499,
               "scale": 9244648.868618
              },
              {
               "level": 7,
               "resolution": 1222.992452562495,
               "scale": 4622324.434309
              },
              {
               "level": 8,
               "resolution": 611.4962262813797,
               "scale": 2311162.217155
              },
              {
               "level": 9,
               "resolution": 305.74811314055756,
               "scale": 1155581.108577
              },
              {
               "level": 10,
               "resolution": 152.87405657041106,
               "scale": 577790.554289
              },
              {
               "level": 11,
               "resolution": 76.43702828507324,
               "scale": 288895.277144
              },
              {
               "level": 12,
               "resolution": 38.21851414253662,
               "scale": 144447.638572
              },
              {
               "level": 13,
               "resolution": 19.10925707126831,
               "scale": 72223.819286
              },
              {
               "level": 14,
               "resolution": 9.554628535634155,
               "scale": 36111.909643
              },
              {
               "level": 15,
               "resolution": 4.77731426794937,
               "scale": 18055.954822
              },
              {
               "level": 16,
               "resolution": 2.388657133974685,
               "scale": 9027.977411
              },
              {
               "level": 17,
               "resolution": 1.1943285668550503,
               "scale": 4513.988705
              },
              {
               "level": 18,
               "resolution": 0.5971642835598172,
               "scale": 2256.994353
              },
              {
               "level": 19,
               "resolution": 0.29858214164761665,
               "scale": 1128.497176
              },
              {
               "level": 20,
               "resolution": 0.14929107082380833,
               "scale": 564.248588
              },
              {
               "level": 21,
               "resolution": 0.07464553541190416,
               "scale": 282.124294
              },
              {
               "level": 22,
               "resolution": 0.03732276770595208,
               "scale": 141.062147
              },
              {
               "level": 23,
               "resolution": 0.01866138385297604,
               "scale": 70.5310735
              }
             ],
             "origin": {
              "x": -20037508.342787,
              "y": 20037508.342787
             },
             "rows": 256,
             "spatialReference": {
              "latestWkid": 3857,
              "wkid": 102100
             }
            },
            "units": "esriMeters"
           },
           "title": "מפת טופוגרפיה עולמית",
           "url": "https://services.arcgisonline.com/ArcGIS/rest/services/World_Topo_Map/MapServer"
          }
         ],
         "title": "מפה טופוגרפית"
        }
       },
       "_overlay_these_images_on_widget_load": [],
       "_portal_sharing_rest_url": "https://Technion-GIS.maps.arcgis.com/sharing/rest/",
       "_portal_token": "vjMFphCHoovXy4rxHsXDISoVlZYMajBNk_oK3bwZWyvS9SzTMovwsbgaik_ALTetu1qZFK2G31mw-PEVM_Su4eUrA1MIXTV4fvS0cPmVK0wSCFB710GG6BFqLC2G7ESIQCoOfIxATTZ9GUarPKgf05eIXtro7vzvmcEdA1gdGZY.",
       "_portal_url": "https://Technion-GIS.maps.arcgis.com",
       "_username": "shai@technion",
       "_uuid": "2ddb3da3-dd23-4e0b-908a-410106ae3d75",
       "_webmap": {
        "authoringApp": "ArcGISPythonAPI",
        "authoringAppVersion": "1.8.4",
        "baseMap": {
         "baseMapLayers": [
          {
           "layerType": "ArcGISTiledMapServiceLayer",
           "resourceInfo": {
            "capabilities": "Map,Tilemap,Query,Data",
            "copyrightText": "Sources: Esri, HERE, DeLorme, Intermap, increment P Corp., GEBCO, USGS, FAO, NPS, NRCAN, GeoBase, IGN, Kadaster NL, Ordnance Survey, Esri Japan, METI, Esri China (Hong Kong), swisstopo, MapmyIndia, Â© OpenStreetMap contributors, and the GIS User Community",
            "currentVersion": 10.3,
            "documentInfo": {
             "AntialiasingMode": "None",
             "Author": "Esri",
             "Category": "imageryBaseMapsEarthCover (Imagery, basemaps, and land cover)",
             "Comments": "",
             "Keywords": "World,Global,Europe,North America,South America,Southern Africa,Australia,New Zealand,India",
             "Subject": "topographic, topography, administrative boundaries, cities, water features, physiographic features, parks, landmarks, highways, roads, railways, airports, land cover, shaded relief imagery",
             "TextAntialiasingMode": "Force",
             "Title": "World Topographic Map"
            },
            "exportTilesAllowed": false,
            "fullExtent": {
             "spatialReference": {
              "latestWkid": 3857,
              "wkid": 102100
             },
             "xmax": 20037507.067161843,
             "xmin": -20037507.067161843,
             "ymax": 19971868.88040863,
             "ymin": -19971868.880408604
            },
            "initialExtent": {
             "spatialReference": {
              "latestWkid": 3857,
              "wkid": 102100
             },
             "xmax": 28848255.049479112,
             "xmin": -28848255.049479112,
             "ymax": 16430757.376790084,
             "ymin": -2077452.082122866
            },
            "layers": [
             {
              "defaultVisibility": false,
              "id": 0,
              "maxScale": 0,
              "minScale": 0,
              "name": "Citations",
              "parentLayerId": -1,
              "subLayerIds": null
             }
            ],
            "mapName": "Layers",
            "maxImageHeight": 4096,
            "maxImageWidth": 4096,
            "maxRecordCount": 100,
            "maxScale": 70.5310735,
            "minScale": 591657527.591555,
            "singleFusedMapCache": true,
            "spatialReference": {
             "latestWkid": 3857,
             "wkid": 102100
            },
            "supportedExtensions": "KmlServer",
            "supportedImageFormatTypes": "PNG32,PNG24,PNG,JPG,DIB,TIFF,EMF,PS,PDF,GIF,SVG,SVGZ,BMP",
            "supportedQueryFormats": "JSON, AMF",
            "supportsDynamicLayers": false,
            "tables": [],
            "tileInfo": {
             "cols": 256,
             "compressionQuality": 90,
             "dpi": 96,
             "format": "JPEG",
             "lods": [
              {
               "level": 0,
               "resolution": 156543.03392800014,
               "scale": 591657527.591555
              },
              {
               "level": 1,
               "resolution": 78271.51696399994,
               "scale": 295828763.795777
              },
              {
               "level": 2,
               "resolution": 39135.75848200009,
               "scale": 147914381.897889
              },
              {
               "level": 3,
               "resolution": 19567.87924099992,
               "scale": 73957190.948944
              },
              {
               "level": 4,
               "resolution": 9783.93962049996,
               "scale": 36978595.474472
              },
              {
               "level": 5,
               "resolution": 4891.96981024998,
               "scale": 18489297.737236
              },
              {
               "level": 6,
               "resolution": 2445.98490512499,
               "scale": 9244648.868618
              },
              {
               "level": 7,
               "resolution": 1222.992452562495,
               "scale": 4622324.434309
              },
              {
               "level": 8,
               "resolution": 611.4962262813797,
               "scale": 2311162.217155
              },
              {
               "level": 9,
               "resolution": 305.74811314055756,
               "scale": 1155581.108577
              },
              {
               "level": 10,
               "resolution": 152.87405657041106,
               "scale": 577790.554289
              },
              {
               "level": 11,
               "resolution": 76.43702828507324,
               "scale": 288895.277144
              },
              {
               "level": 12,
               "resolution": 38.21851414253662,
               "scale": 144447.638572
              },
              {
               "level": 13,
               "resolution": 19.10925707126831,
               "scale": 72223.819286
              },
              {
               "level": 14,
               "resolution": 9.554628535634155,
               "scale": 36111.909643
              },
              {
               "level": 15,
               "resolution": 4.77731426794937,
               "scale": 18055.954822
              },
              {
               "level": 16,
               "resolution": 2.388657133974685,
               "scale": 9027.977411
              },
              {
               "level": 17,
               "resolution": 1.1943285668550503,
               "scale": 4513.988705
              },
              {
               "level": 18,
               "resolution": 0.5971642835598172,
               "scale": 2256.994353
              },
              {
               "level": 19,
               "resolution": 0.29858214164761665,
               "scale": 1128.497176
              },
              {
               "level": 20,
               "resolution": 0.14929107082380833,
               "scale": 564.248588
              },
              {
               "level": 21,
               "resolution": 0.07464553541190416,
               "scale": 282.124294
              },
              {
               "level": 22,
               "resolution": 0.03732276770595208,
               "scale": 141.062147
              },
              {
               "level": 23,
               "resolution": 0.01866138385297604,
               "scale": 70.5310735
              }
             ],
             "origin": {
              "x": -20037508.342787,
              "y": 20037508.342787
             },
             "rows": 256,
             "spatialReference": {
              "latestWkid": 3857,
              "wkid": 102100
             }
            },
            "units": "esriMeters"
           },
           "title": "מפת טופוגרפיה עולמית",
           "url": "https://services.arcgisonline.com/ArcGIS/rest/services/World_Topo_Map/MapServer"
          }
         ],
         "title": "מפה טופוגרפית"
        },
        "operationalLayers": [
         {
          "id": "8777901859749",
          "itemId": "b8eba16abd4647bd9fd7573e6e71c86d",
          "layerDefinition": {
           "definitionExpression": null,
           "drawingInfo": {
            "renderer": {
             "symbol": {
              "color": [
               255,
               255,
               255,
               255
              ],
              "outline": {
               "color": [
                54,
                93,
                141,
                255
               ],
               "style": "esriSLSSolid",
               "type": "esriSLS",
               "width": 1.5
              },
              "style": "esriSFSSolid",
              "type": "esriSFS"
             },
             "type": "simple"
            }
           }
          },
          "layerType": "ArcGISFeatureLayer",
          "opacity": 1,
          "popupInfo": {
           "description": null,
           "fieldInfos": [
            {
             "fieldName": "OBJECTID",
             "isEditable": false,
             "label": "OBJECTID",
             "visible": true
            },
            {
             "fieldName": "fid_1",
             "isEditable": true,
             "label": "fid_1",
             "visible": true
            },
            {
             "fieldName": "Area",
             "isEditable": true,
             "label": "Area",
             "visible": true
            },
            {
             "fieldName": "floors",
             "isEditable": true,
             "label": "floors",
             "visible": true
            },
            {
             "fieldName": "height",
             "isEditable": true,
             "label": "height",
             "visible": true
            },
            {
             "fieldName": "bld_num",
             "isEditable": true,
             "label": "bld_num",
             "visible": true
            },
            {
             "fieldName": "bld_addres",
             "isEditable": true,
             "label": "bld_addres",
             "visible": true
            },
            {
             "fieldName": "hebrew_adr",
             "isEditable": true,
             "label": "hebrew_adr",
             "visible": true
            },
            {
             "fieldName": "project_nu",
             "isEditable": true,
             "label": "project_nu",
             "visible": true
            },
            {
             "fieldName": "units",
             "isEditable": true,
             "label": "units",
             "visible": true
            },
            {
             "fieldName": "project_na",
             "isEditable": true,
             "label": "project_na",
             "visible": true
            },
            {
             "fieldName": "project_ty",
             "isEditable": true,
             "label": "project_ty",
             "visible": true
            },
            {
             "fieldName": "status",
             "isEditable": true,
             "label": "status",
             "visible": true
            },
            {
             "fieldName": "East",
             "isEditable": true,
             "label": "East",
             "visible": true
            },
            {
             "fieldName": "North",
             "isEditable": true,
             "label": "North",
             "visible": true
            },
            {
             "fieldName": "East_wgs84",
             "isEditable": true,
             "label": "East_wgs84",
             "visible": true
            },
            {
             "fieldName": "North_wgs8",
             "isEditable": true,
             "label": "North_wgs8",
             "visible": true
            },
            {
             "fieldName": "active",
             "isEditable": true,
             "label": "active",
             "visible": true
            },
            {
             "fieldName": "start_date",
             "isEditable": true,
             "label": "start_date",
             "visible": true
            },
            {
             "fieldName": "end_date_2",
             "isEditable": true,
             "label": "end_date_2",
             "visible": true
            },
            {
             "fieldName": "Shape__Area",
             "isEditable": true,
             "label": "Shape__Area",
             "visible": true
            },
            {
             "fieldName": "Shape__Length",
             "isEditable": true,
             "label": "Shape__Length",
             "visible": true
            },
            {
             "fieldName": "GlobalID",
             "isEditable": true,
             "label": "GlobalID",
             "visible": true
            },
            {
             "fieldName": "deltaDays",
             "isEditable": true,
             "label": "Days",
             "visible": true
            },
            {
             "fieldName": "time_filter_2",
             "isEditable": true,
             "label": "time_filter_2",
             "visible": true
            }
           ],
           "mediaInfos": [],
           "showAttachments": true,
           "title": "Addition_Before"
          },
          "title": "Addition_Before",
          "url": "https://services1.arcgis.com/yAQXemoDSgzdfV2A/arcgis/rest/services/Addition_Before/FeatureServer/0",
          "visibility": true
         },
         {
          "id": "8777901762313",
          "itemId": "2edebdf6b7bb42ae8a4ac8d0569e0ccd",
          "layerDefinition": {
           "definitionExpression": null,
           "drawingInfo": {
            "renderer": {
             "symbol": {
              "color": [
               255,
               255,
               255,
               255
              ],
              "outline": {
               "color": [
                54,
                93,
                141,
                255
               ],
               "style": "esriSLSSolid",
               "type": "esriSLS",
               "width": 1.5
              },
              "style": "esriSFSSolid",
              "type": "esriSFS"
             },
             "type": "simple"
            }
           }
          },
          "layerType": "ArcGISFeatureLayer",
          "opacity": 1,
          "popupInfo": {
           "description": null,
           "fieldInfos": [
            {
             "fieldName": "OBJECTID",
             "isEditable": false,
             "label": "OBJECTID",
             "visible": true
            },
            {
             "fieldName": "fid_1",
             "isEditable": true,
             "label": "fid_1",
             "visible": true
            },
            {
             "fieldName": "Area",
             "isEditable": true,
             "label": "Area",
             "visible": true
            },
            {
             "fieldName": "floors",
             "isEditable": true,
             "label": "floors",
             "visible": true
            },
            {
             "fieldName": "height",
             "isEditable": true,
             "label": "height",
             "visible": true
            },
            {
             "fieldName": "bld_num",
             "isEditable": true,
             "label": "bld_num",
             "visible": true
            },
            {
             "fieldName": "bld_addres",
             "isEditable": true,
             "label": "bld_addres",
             "visible": true
            },
            {
             "fieldName": "hebrew_adr",
             "isEditable": true,
             "label": "hebrew_adr",
             "visible": true
            },
            {
             "fieldName": "project_nu",
             "isEditable": true,
             "label": "project_nu",
             "visible": true
            },
            {
             "fieldName": "units",
             "isEditable": true,
             "label": "units",
             "visible": true
            },
            {
             "fieldName": "project_na",
             "isEditable": true,
             "label": "project_na",
             "visible": true
            },
            {
             "fieldName": "project_ty",
             "isEditable": true,
             "label": "project_ty",
             "visible": true
            },
            {
             "fieldName": "status",
             "isEditable": true,
             "label": "status",
             "visible": true
            },
            {
             "fieldName": "East",
             "isEditable": true,
             "label": "East",
             "visible": true
            },
            {
             "fieldName": "North",
             "isEditable": true,
             "label": "North",
             "visible": true
            },
            {
             "fieldName": "East_wgs84",
             "isEditable": true,
             "label": "East_wgs84",
             "visible": true
            },
            {
             "fieldName": "North_wgs8",
             "isEditable": true,
             "label": "North_wgs8",
             "visible": true
            },
            {
             "fieldName": "active",
             "isEditable": true,
             "label": "active",
             "visible": true
            },
            {
             "fieldName": "start_date",
             "isEditable": true,
             "label": "start_date",
             "visible": true
            },
            {
             "fieldName": "end_date_2",
             "isEditable": true,
             "label": "end_date_2",
             "visible": true
            },
            {
             "fieldName": "Shape__Area",
             "isEditable": true,
             "label": "Shape__Area",
             "visible": true
            },
            {
             "fieldName": "Shape__Length",
             "isEditable": true,
             "label": "Shape__Length",
             "visible": true
            },
            {
             "fieldName": "GlobalID",
             "isEditable": true,
             "label": "GlobalID",
             "visible": true
            },
            {
             "fieldName": "deltaDays",
             "isEditable": true,
             "label": "Days",
             "visible": true
            },
            {
             "fieldName": "time_filter_2",
             "isEditable": true,
             "label": "time_filter_2",
             "visible": true
            }
           ],
           "mediaInfos": [],
           "showAttachments": true,
           "title": "Addition_After"
          },
          "title": "Addition_After",
          "url": "https://services1.arcgis.com/yAQXemoDSgzdfV2A/arcgis/rest/services/Addition_After/FeatureServer/0",
          "visibility": true
         },
         {
          "id": "8777901760425",
          "itemId": "de8680cffc06404e86cbc8c9d0b91110",
          "layerDefinition": {
           "definitionExpression": null,
           "drawingInfo": {
            "renderer": {
             "symbol": {
              "color": [
               255,
               255,
               255,
               255
              ],
              "outline": {
               "color": [
                54,
                93,
                141,
                255
               ],
               "style": "esriSLSSolid",
               "type": "esriSLS",
               "width": 1.5
              },
              "style": "esriSFSSolid",
              "type": "esriSFS"
             },
             "type": "simple"
            }
           }
          },
          "layerType": "ArcGISFeatureLayer",
          "opacity": 1,
          "popupInfo": {
           "description": null,
           "fieldInfos": [
            {
             "fieldName": "OBJECTID",
             "isEditable": false,
             "label": "OBJECTID",
             "visible": true
            },
            {
             "fieldName": "fid_1",
             "isEditable": true,
             "label": "fid_1",
             "visible": true
            },
            {
             "fieldName": "Area",
             "isEditable": true,
             "label": "Area",
             "visible": true
            },
            {
             "fieldName": "floors",
             "isEditable": true,
             "label": "floors",
             "visible": true
            },
            {
             "fieldName": "height",
             "isEditable": true,
             "label": "height",
             "visible": true
            },
            {
             "fieldName": "bld_num",
             "isEditable": true,
             "label": "bld_num",
             "visible": true
            },
            {
             "fieldName": "bld_addres",
             "isEditable": true,
             "label": "bld_addres",
             "visible": true
            },
            {
             "fieldName": "hebrew_adr",
             "isEditable": true,
             "label": "hebrew_adr",
             "visible": true
            },
            {
             "fieldName": "project_nu",
             "isEditable": true,
             "label": "project_nu",
             "visible": true
            },
            {
             "fieldName": "units",
             "isEditable": true,
             "label": "units",
             "visible": true
            },
            {
             "fieldName": "project_na",
             "isEditable": true,
             "label": "project_na",
             "visible": true
            },
            {
             "fieldName": "project_ty",
             "isEditable": true,
             "label": "project_ty",
             "visible": true
            },
            {
             "fieldName": "status",
             "isEditable": true,
             "label": "status",
             "visible": true
            },
            {
             "fieldName": "East",
             "isEditable": true,
             "label": "East",
             "visible": true
            },
            {
             "fieldName": "North",
             "isEditable": true,
             "label": "North",
             "visible": true
            },
            {
             "fieldName": "East_wgs84",
             "isEditable": true,
             "label": "East_wgs84",
             "visible": true
            },
            {
             "fieldName": "North_wgs8",
             "isEditable": true,
             "label": "North_wgs8",
             "visible": true
            },
            {
             "fieldName": "active",
             "isEditable": true,
             "label": "active",
             "visible": true
            },
            {
             "fieldName": "start_date",
             "isEditable": true,
             "label": "start_date",
             "visible": true
            },
            {
             "fieldName": "end_date_2",
             "isEditable": true,
             "label": "end_date_2",
             "visible": true
            },
            {
             "fieldName": "Shape__Area",
             "isEditable": true,
             "label": "Shape__Area",
             "visible": true
            },
            {
             "fieldName": "Shape__Length",
             "isEditable": true,
             "label": "Shape__Length",
             "visible": true
            },
            {
             "fieldName": "GlobalID",
             "isEditable": true,
             "label": "GlobalID",
             "visible": true
            },
            {
             "fieldName": "deltaDays",
             "isEditable": true,
             "label": "Days",
             "visible": true
            },
            {
             "fieldName": "time_filter_2",
             "isEditable": true,
             "label": "time_filter_2",
             "visible": true
            }
           ],
           "mediaInfos": [],
           "showAttachments": true,
           "title": "Reconstruction_Before"
          },
          "title": "Reconstruction_Before",
          "url": "https://services1.arcgis.com/yAQXemoDSgzdfV2A/arcgis/rest/services/Reconstruction_Before/FeatureServer/0",
          "visibility": true
         },
         {
          "id": "8777901823989",
          "itemId": "a3a62ce0b2ec4db28fda81e124f348ce",
          "layerDefinition": {
           "definitionExpression": null,
           "drawingInfo": {
            "renderer": {
             "symbol": {
              "color": [
               79,
               129,
               189,
               255
              ],
              "outline": {
               "color": [
                54,
                93,
                141,
                255
               ],
               "style": "esriSLSSolid",
               "type": "esriSLS",
               "width": 1.5
              },
              "style": "esriSFSSolid",
              "type": "esriSFS"
             },
             "type": "simple"
            }
           }
          },
          "layerType": "ArcGISFeatureLayer",
          "opacity": 1,
          "popupInfo": {
           "description": null,
           "fieldInfos": [
            {
             "fieldName": "OBJECTID",
             "isEditable": false,
             "label": "OBJECTID",
             "visible": true
            },
            {
             "fieldName": "fid_1",
             "isEditable": true,
             "label": "fid_1",
             "visible": true
            },
            {
             "fieldName": "Area",
             "isEditable": true,
             "label": "Area",
             "visible": true
            },
            {
             "fieldName": "floors",
             "isEditable": true,
             "label": "floors",
             "visible": true
            },
            {
             "fieldName": "height",
             "isEditable": true,
             "label": "height",
             "visible": true
            },
            {
             "fieldName": "bld_num",
             "isEditable": true,
             "label": "bld_num",
             "visible": true
            },
            {
             "fieldName": "bld_addres",
             "isEditable": true,
             "label": "bld_addres",
             "visible": true
            },
            {
             "fieldName": "hebrew_adr",
             "isEditable": true,
             "label": "hebrew_adr",
             "visible": true
            },
            {
             "fieldName": "project_nu",
             "isEditable": true,
             "label": "project_nu",
             "visible": true
            },
            {
             "fieldName": "units",
             "isEditable": true,
             "label": "units",
             "visible": true
            },
            {
             "fieldName": "project_na",
             "isEditable": true,
             "label": "project_na",
             "visible": true
            },
            {
             "fieldName": "project_ty",
             "isEditable": true,
             "label": "project_ty",
             "visible": true
            },
            {
             "fieldName": "status",
             "isEditable": true,
             "label": "status",
             "visible": true
            },
            {
             "fieldName": "East",
             "isEditable": true,
             "label": "East",
             "visible": true
            },
            {
             "fieldName": "North",
             "isEditable": true,
             "label": "North",
             "visible": true
            },
            {
             "fieldName": "East_wgs84",
             "isEditable": true,
             "label": "East_wgs84",
             "visible": true
            },
            {
             "fieldName": "North_wgs8",
             "isEditable": true,
             "label": "North_wgs8",
             "visible": true
            },
            {
             "fieldName": "active",
             "isEditable": true,
             "label": "active",
             "visible": true
            },
            {
             "fieldName": "start_date",
             "isEditable": true,
             "label": "start_date",
             "visible": true
            },
            {
             "fieldName": "end_date_2",
             "isEditable": true,
             "label": "end_date_2",
             "visible": true
            },
            {
             "fieldName": "Shape__Area",
             "isEditable": true,
             "label": "Shape__Area",
             "visible": true
            },
            {
             "fieldName": "Shape__Length",
             "isEditable": true,
             "label": "Shape__Length",
             "visible": true
            },
            {
             "fieldName": "GlobalID",
             "isEditable": true,
             "label": "GlobalID",
             "visible": true
            },
            {
             "fieldName": "deltaDays",
             "isEditable": true,
             "label": "Days",
             "visible": true
            },
            {
             "fieldName": "time_filter_2",
             "isEditable": true,
             "label": "time_filter_2",
             "visible": true
            }
           ],
           "mediaInfos": [],
           "showAttachments": true,
           "title": "Reconstruction_After"
          },
          "title": "Reconstruction_After",
          "url": "https://services1.arcgis.com/yAQXemoDSgzdfV2A/arcgis/rest/services/Reconstruction_After/FeatureServer/0",
          "visibility": true
         },
         {
          "id": "8777901721253",
          "itemId": "f9d9f6e0ac704af5a17a4ef0445fd904",
          "layerDefinition": {
           "definitionExpression": null,
           "drawingInfo": {
            "renderer": {
             "symbol": {
              "color": [
               255,
               255,
               255,
               255
              ],
              "outline": {
               "color": [
                54,
                93,
                141,
                255
               ],
               "style": "esriSLSSolid",
               "type": "esriSLS",
               "width": 1.5
              },
              "style": "esriSFSSolid",
              "type": "esriSFS"
             },
             "type": "simple"
            }
           }
          },
          "layerType": "ArcGISFeatureLayer",
          "opacity": 1,
          "popupInfo": {
           "description": null,
           "fieldInfos": [
            {
             "fieldName": "OBJECTID",
             "isEditable": false,
             "label": "OBJECTID",
             "visible": true
            },
            {
             "fieldName": "fid_1",
             "isEditable": true,
             "label": "fid_1",
             "visible": true
            },
            {
             "fieldName": "Area",
             "isEditable": true,
             "label": "Area",
             "visible": true
            },
            {
             "fieldName": "floors",
             "isEditable": true,
             "label": "floors",
             "visible": true
            },
            {
             "fieldName": "height",
             "isEditable": true,
             "label": "height",
             "visible": true
            },
            {
             "fieldName": "bld_num",
             "isEditable": true,
             "label": "bld_num",
             "visible": true
            },
            {
             "fieldName": "bld_addres",
             "isEditable": true,
             "label": "bld_addres",
             "visible": true
            },
            {
             "fieldName": "hebrew_adr",
             "isEditable": true,
             "label": "hebrew_adr",
             "visible": true
            },
            {
             "fieldName": "project_nu",
             "isEditable": true,
             "label": "project_nu",
             "visible": true
            },
            {
             "fieldName": "units",
             "isEditable": true,
             "label": "units",
             "visible": true
            },
            {
             "fieldName": "project_na",
             "isEditable": true,
             "label": "project_na",
             "visible": true
            },
            {
             "fieldName": "project_ty",
             "isEditable": true,
             "label": "project_ty",
             "visible": true
            },
            {
             "fieldName": "status",
             "isEditable": true,
             "label": "status",
             "visible": true
            },
            {
             "fieldName": "East",
             "isEditable": true,
             "label": "East",
             "visible": true
            },
            {
             "fieldName": "North",
             "isEditable": true,
             "label": "North",
             "visible": true
            },
            {
             "fieldName": "East_wgs84",
             "isEditable": true,
             "label": "East_wgs84",
             "visible": true
            },
            {
             "fieldName": "North_wgs8",
             "isEditable": true,
             "label": "North_wgs8",
             "visible": true
            },
            {
             "fieldName": "active",
             "isEditable": true,
             "label": "active",
             "visible": true
            },
            {
             "fieldName": "start_date",
             "isEditable": true,
             "label": "start_date",
             "visible": true
            },
            {
             "fieldName": "end_date_2",
             "isEditable": true,
             "label": "end_date_2",
             "visible": true
            },
            {
             "fieldName": "Shape__Area",
             "isEditable": true,
             "label": "Shape__Area",
             "visible": true
            },
            {
             "fieldName": "Shape__Length",
             "isEditable": true,
             "label": "Shape__Length",
             "visible": true
            },
            {
             "fieldName": "GlobalID",
             "isEditable": true,
             "label": "GlobalID",
             "visible": true
            },
            {
             "fieldName": "deltaDays",
             "isEditable": true,
             "label": "Days",
             "visible": true
            },
            {
             "fieldName": "time_filter_2",
             "isEditable": true,
             "label": "time_filter_2",
             "visible": true
            }
           ],
           "mediaInfos": [],
           "showAttachments": true,
           "title": "Raze_and_Rebuild_Before"
          },
          "title": "Raze_and_Rebuild_Before",
          "url": "https://services1.arcgis.com/yAQXemoDSgzdfV2A/arcgis/rest/services/Raze_and_Rebuild_Before/FeatureServer/0",
          "visibility": true
         },
         {
          "id": "8777901761145",
          "itemId": "748ca71771464087844115ea62c25309",
          "layerDefinition": {
           "definitionExpression": null,
           "drawingInfo": {
            "renderer": {
             "symbol": {
              "color": [
               79,
               129,
               189,
               255
              ],
              "outline": {
               "color": [
                54,
                93,
                141,
                255
               ],
               "style": "esriSLSSolid",
               "type": "esriSLS",
               "width": 1.5
              },
              "style": "esriSFSSolid",
              "type": "esriSFS"
             },
             "type": "simple"
            }
           }
          },
          "layerType": "ArcGISFeatureLayer",
          "opacity": 1,
          "popupInfo": {
           "description": null,
           "fieldInfos": [
            {
             "fieldName": "OBJECTID",
             "isEditable": false,
             "label": "OBJECTID",
             "visible": true
            },
            {
             "fieldName": "fid_1",
             "isEditable": true,
             "label": "fid_1",
             "visible": true
            },
            {
             "fieldName": "Area",
             "isEditable": true,
             "label": "Area",
             "visible": true
            },
            {
             "fieldName": "floors",
             "isEditable": true,
             "label": "floors",
             "visible": true
            },
            {
             "fieldName": "height",
             "isEditable": true,
             "label": "height",
             "visible": true
            },
            {
             "fieldName": "bld_num",
             "isEditable": true,
             "label": "bld_num",
             "visible": true
            },
            {
             "fieldName": "bld_addres",
             "isEditable": true,
             "label": "bld_addres",
             "visible": true
            },
            {
             "fieldName": "hebrew_adr",
             "isEditable": true,
             "label": "hebrew_adr",
             "visible": true
            },
            {
             "fieldName": "project_nu",
             "isEditable": true,
             "label": "project_nu",
             "visible": true
            },
            {
             "fieldName": "units",
             "isEditable": true,
             "label": "units",
             "visible": true
            },
            {
             "fieldName": "project_na",
             "isEditable": true,
             "label": "project_na",
             "visible": true
            },
            {
             "fieldName": "project_ty",
             "isEditable": true,
             "label": "project_ty",
             "visible": true
            },
            {
             "fieldName": "status",
             "isEditable": true,
             "label": "status",
             "visible": true
            },
            {
             "fieldName": "East",
             "isEditable": true,
             "label": "East",
             "visible": true
            },
            {
             "fieldName": "North",
             "isEditable": true,
             "label": "North",
             "visible": true
            },
            {
             "fieldName": "East_wgs84",
             "isEditable": true,
             "label": "East_wgs84",
             "visible": true
            },
            {
             "fieldName": "North_wgs8",
             "isEditable": true,
             "label": "North_wgs8",
             "visible": true
            },
            {
             "fieldName": "active",
             "isEditable": true,
             "label": "active",
             "visible": true
            },
            {
             "fieldName": "start_date",
             "isEditable": true,
             "label": "start_date",
             "visible": true
            },
            {
             "fieldName": "end_date_2",
             "isEditable": true,
             "label": "end_date_2",
             "visible": true
            },
            {
             "fieldName": "Shape__Area",
             "isEditable": true,
             "label": "Shape__Area",
             "visible": true
            },
            {
             "fieldName": "Shape__Length",
             "isEditable": true,
             "label": "Shape__Length",
             "visible": true
            },
            {
             "fieldName": "GlobalID",
             "isEditable": true,
             "label": "GlobalID",
             "visible": true
            },
            {
             "fieldName": "deltaDays",
             "isEditable": true,
             "label": "Days",
             "visible": true
            },
            {
             "fieldName": "time_filter_2",
             "isEditable": true,
             "label": "time_filter_2",
             "visible": true
            }
           ],
           "mediaInfos": [],
           "showAttachments": true,
           "title": "Raze_and_Rebuild_After"
          },
          "title": "Raze_and_Rebuild_After",
          "url": "https://services1.arcgis.com/yAQXemoDSgzdfV2A/arcgis/rest/services/Raze_and_Rebuild_After/FeatureServer/0",
          "visibility": true
         },
         {
          "id": "8777901733401",
          "itemId": "49d0351f66e341d388eb086c8e575720",
          "layerDefinition": {
           "definitionExpression": null,
           "drawingInfo": {
            "renderer": {
             "symbol": {
              "color": [
               133,
               133,
               133,
               191
              ],
              "outline": {
               "color": [
                0,
                0,
                0,
                255
               ],
               "style": "esriSLSSolid",
               "type": "esriSLS",
               "width": 0.75
              },
              "style": "esriSFSSolid",
              "type": "esriSFS"
             },
             "type": "simple"
            }
           }
          },
          "layerType": "ArcGISFeatureLayer",
          "opacity": 1,
          "popupInfo": {
           "description": null,
           "fieldInfos": [
            {
             "fieldName": "Area",
             "isEditable": true,
             "label": "Area",
             "visible": true
            },
            {
             "fieldName": "floors",
             "isEditable": true,
             "label": "floors",
             "visible": true
            },
            {
             "fieldName": "height",
             "isEditable": true,
             "label": "height",
             "visible": true
            },
            {
             "fieldName": "bld_num",
             "isEditable": true,
             "label": "bld_num",
             "visible": true
            },
            {
             "fieldName": "newUnits",
             "isEditable": true,
             "label": "newUnits",
             "visible": true
            },
            {
             "fieldName": "ObjectId",
             "isEditable": false,
             "label": "",
             "visible": true
            },
            {
             "fieldName": "Shape__Area",
             "isEditable": false,
             "label": "Shape__Area",
             "visible": true
            },
            {
             "fieldName": "Shape__Length",
             "isEditable": false,
             "label": "Shape__Length",
             "visible": true
            }
           ],
           "mediaInfos": [],
           "showAttachments": true,
           "title": "Background_Buildings_in_3_Statistical_Zones_0"
          },
          "title": "Background_Buildings_in_3_Statistical_Zones_0",
          "url": "https://services1.arcgis.com/yAQXemoDSgzdfV2A/arcgis/rest/services/Background_Buildings_in_3_Statistical_Zones/FeatureServer/0",
          "visibility": true
         }
        ],
        "spatialReference": {
         "latestWkid": 3857,
         "wkid": 102100
        },
        "version": "2.10"
       },
       "_writeonly_end_time": "1900-01-01T00:00:00.000000",
       "_writeonly_start_time": "1900-01-01T00:00:00.000000",
       "hide_mode_switch": true,
       "layout": "IPY_MODEL_1dbbbac64c824240aa1eb5458413e081",
       "print_service_url": ""
      }
     },
     "e437a38fa7a54bff900fbbf7c1265f8d": {
      "model_module": "@jupyter-widgets/base",
      "model_module_version": "1.2.0",
      "model_name": "LayoutModel",
      "state": {
       "height": "400px",
       "width": "100%"
      }
     },
     "ed501a29f26c4b4ca87748e1a272a82d": {
      "model_module": "@jupyter-widgets/base",
      "model_module_version": "1.2.0",
      "model_name": "LayoutModel",
      "state": {}
     },
     "f2dfa442f8ec466297ee8d8a196383b7": {
      "model_module": "@jupyter-widgets/controls",
      "model_module_version": "1.5.0",
      "model_name": "DescriptionStyleModel",
      "state": {
       "description_width": ""
      }
     },
     "f41c0511dc0d4709975b2bd4f9dcdb4a": {
      "model_module": "@jupyter-widgets/controls",
      "model_module_version": "1.5.0",
      "model_name": "ButtonStyleModel",
      "state": {}
     },
     "f910a6c2c371430db5598cb07d55e82a": {
      "model_module": "@jupyter-widgets/base",
      "model_module_version": "1.2.0",
      "model_name": "LayoutModel",
      "state": {}
     },
     "fc16c9eb61f349f4814f87b365be7087": {
      "model_module": "@jupyter-widgets/controls",
      "model_module_version": "1.5.0",
      "model_name": "DescriptionStyleModel",
      "state": {
       "description_width": ""
      }
     },
     "fcf74d524b5840b1b252a2970b3a30f6": {
      "model_module": "@jupyter-widgets/controls",
      "model_module_version": "1.5.0",
      "model_name": "HTMLModel",
      "state": {
       "layout": "IPY_MODEL_426fd58bcd5a424f825968318deb147f",
       "style": "IPY_MODEL_2ec457574e464e7881e88a97a26789ff",
       "value": "<div style='font-size:15px'><span><b>Apartment Size</b></span> Start Marker: <b>75.3  sq meters </b> End Marker <b> 85.8 sq meters</b><br/><span><b>Years in Neighborhood</b></span> Start Marker: <b>22.8  years </b> End Marker <b> 9.7 years</b><br/><span><b>Cost For Staying</b></span> Start Marker: <b>255.6  ₪ </b> End Marker <b> 4387.3 ₪</b><br/><span><b>Mean Income</b></span> Start Marker: <b>8164.0  ₪ </b> End Marker <b> 16433.4 ₪</b><br/></div>"
      }
     },
     "fd5d7fc045364ae7a34319beba095bfc": {
      "model_module": "@jupyter-widgets/output",
      "model_module_version": "1.0.0",
      "model_name": "OutputModel",
      "state": {
       "layout": "IPY_MODEL_038ce81797b6452f879bc29dd4816cba",
       "outputs": [
        {
         "data": {
          "application/vnd.jupyter.widget-view+json": {
           "model_id": "a3df5314a80343dd90007eab43742445",
           "version_major": 2,
           "version_minor": 0
          },
          "text/plain": "HTML(value='<iframe src=\"https://technion-gis.maps.arcgis.com/apps/instant/3dviewer/index.html?appid=73d482403…"
         },
         "metadata": {},
         "output_type": "display_data"
        }
       ]
      }
     }
    },
    "version_major": 2,
    "version_minor": 0
   }
  }
 },
 "nbformat": 4,
 "nbformat_minor": 4
}
