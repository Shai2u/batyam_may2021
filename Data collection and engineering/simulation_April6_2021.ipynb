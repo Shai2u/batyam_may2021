{
 "cells": [
  {
   "cell_type": "code",
   "execution_count": 610,
   "metadata": {},
   "outputs": [],
   "source": [
    "import pandas as pd\n",
    "import numpy as np\n",
    "import geopandas as gpd\n",
    "import pyproj\n",
    "import random\n",
    "import uuid\n",
    "# Pyproj Correction\n",
    "pyproj.datadir.set_data_dir('/Users/shai/anaconda3/envs/geo_env/share/proj')"
   ]
  },
  {
   "cell_type": "code",
   "execution_count": 611,
   "metadata": {},
   "outputs": [],
   "source": [
    "pd.options.display.max_columns=100"
   ]
  },
  {
   "cell_type": "markdown",
   "metadata": {},
   "source": [
    "## Parameters"
   ]
  },
  {
   "cell_type": "code",
   "execution_count": 612,
   "metadata": {},
   "outputs": [],
   "source": [
    "arnonaSqM = 5.43\n",
    "rentPPM = 70\n",
    "buyPPM = 20000\n",
    "owners=0.65\n"
   ]
  },
  {
   "cell_type": "code",
   "execution_count": 547,
   "metadata": {},
   "outputs": [],
   "source": [
    "jewishPopDemo2019 = pd.read_excel('israel_population_jewish_lamas_groups_of_10_2019.xlsx')\n",
    "jewishPopDemo2019.reset_index(inplace=True,drop=True)\n",
    "jewishPopDemo2019.drop([0,1],inplace=True)\n",
    "tot = jewishPopDemo2019['Total'].sum()\n",
    "jewishPopDemo2019['ratio'] = jewishPopDemo2019['Total']/tot\n",
    "mid = [ 10*i+25 for i in range(8)]\n",
    "jewishPopDemo2019['middle'] = mid\n",
    "ageDist = [0.2, 0.2, 0.18, 0.15, 0.14, 0.08, 0.04, 0.01]\n",
    "ageMiddle = jewishPopDemo2019['middle'].values.tolist()"
   ]
  },
  {
   "cell_type": "markdown",
   "metadata": {},
   "source": [
    "https://www.cbs.gov.il/he/Pages/search/TableMaps.aspx?CbsSubject=אוכלוסייה"
   ]
  },
  {
   "cell_type": "code",
   "execution_count": 548,
   "metadata": {},
   "outputs": [
    {
     "data": {
      "text/plain": [
       "<AxesSubplot:xlabel='Age Group 10'>"
      ]
     },
     "execution_count": 548,
     "metadata": {},
     "output_type": "execute_result"
    },
    {
     "data": {
      "image/png": "[encoded data removed]",
      "text/plain": [
       "<Figure size 432x288 with 1 Axes>"
      ]
     },
     "metadata": {
      "needs_background": "light"
     },
     "output_type": "display_data"
    }
   ],
   "source": [
    "jewishPopDemo2019.plot.bar(x='Age Group 10',y='ratio')"
   ]
  },
  {
   "cell_type": "code",
   "execution_count": 549,
   "metadata": {},
   "outputs": [],
   "source": [
    "jewishPopDemo2019['middlexDist'] = jewishPopDemo2019['middle'] * jewishPopDemo2019['ratio']"
   ]
  },
  {
   "cell_type": "code",
   "execution_count": 550,
   "metadata": {},
   "outputs": [
    {
     "data": {
      "text/plain": [
       "47.736349013718424"
      ]
     },
     "execution_count": 550,
     "metadata": {},
     "output_type": "execute_result"
    }
   ],
   "source": [
    "jewishPopDemo2019['middlexDist'].sum()"
   ]
  },
  {
   "cell_type": "code",
   "execution_count": 551,
   "metadata": {},
   "outputs": [],
   "source": [
    "bldgs = pd.read_excel('BuildingInSimulationAndStatsApril7.xlsx') #Bldgs Data\n",
    "originalAgents = pd.read_excel('OrigianlAgentsApril7_2021.xlsx') #original Agents - can be gerenated many times for sensitivity analysis\n",
    "newApartments = pd.read_excel('newApartmentsDataSetApril_7.xlsx') # new apartments"
   ]
  },
  {
   "cell_type": "code",
   "execution_count": 552,
   "metadata": {},
   "outputs": [],
   "source": [
    "newApartments.drop(columns='Unnamed: 0',inplace=True)"
   ]
  },
  {
   "cell_type": "markdown",
   "metadata": {},
   "source": [
    "## Function"
   ]
  },
  {
   "cell_type": "code",
   "execution_count": 553,
   "metadata": {},
   "outputs": [],
   "source": [
    "def mortgageCal(houseValue, downPaymentPercent_range=(0.25, 0.5), years_pay=25, intrest=3.46):\n",
    "    '''\n",
    "        houseValue - House Value\n",
    "        downPaymentPercent_range=(0.25, 0.5)\n",
    "        years_pay=25\n",
    "        intrest=3.46\n",
    "    '''\n",
    "    # Mortage Calculator\n",
    "    # houseValue for example 2 Milion Shekels\n",
    "    # downPayment percent the the percent that the Agent can pay of the house 25% is 500000 NIS\n",
    "    # year_pay typical 25 years\n",
    "    # interset typical 3.46\n",
    "    dppr = downPaymentPercent_range\n",
    "    downPaymentPercent = random.uniform(dppr[0], dppr[1])\n",
    "    downPayment = houseValue * downPaymentPercent  # calculating the downPayment\n",
    "    P = houseValue-downPayment  # Mortrage requested\n",
    "    i_m = ((intrest)/100.0)/12.0  # interset percent divided by 12 months\n",
    "    n_m = years_pay*12  # convert years to months\n",
    "    M = (P*i_m*np.power((1+i_m), n_m))/(np.power((1+i_m), n_m)-1)\n",
    "    return M"
   ]
  },
  {
   "cell_type": "markdown",
   "metadata": {},
   "source": [
    "## Move all agents to new appartments add to them the itertion number this will be a template for Agents Time Series"
   ]
  },
  {
   "cell_type": "code",
   "execution_count": 554,
   "metadata": {},
   "outputs": [],
   "source": [
    "AgentsTimeSeries = originalAgents.copy()\n",
    "AgentsTimeSeries.drop(columns=['Unnamed: 0'],inplace=True)"
   ]
  },
  {
   "cell_type": "code",
   "execution_count": 555,
   "metadata": {},
   "outputs": [],
   "source": [
    "AgentsTimeSeries['prjectType'] = 0\n",
    "AgentsTimeSeries['tic'] = 0\n",
    "AgentsTimeSeries['status'] = 'stay'\n",
    "AgentsTimeSeries['noDiscount'] = AgentsTimeSeries['noDiscount'].fillna(0)\n",
    "AgentsTimeSeriesOriginal = AgentsTimeSeries.copy()"
   ]
  },
  {
   "cell_type": "code",
   "execution_count": 556,
   "metadata": {},
   "outputs": [],
   "source": [
    "bldgs.sort_values(by='OrderA',inplace=True)"
   ]
  },
  {
   "cell_type": "code",
   "execution_count": 557,
   "metadata": {},
   "outputs": [],
   "source": [
    "for tic in bldgs['OrderA'].values:\n",
    "\n",
    "    currentProject = bldgs.query('OrderA=='+str(tic))['ProjNumber'].values[0]\n",
    "    projectType = bldgs.query('OrderA=='+str(tic))['ProjType'].values[0].astype(int)\n",
    "    newApartmentsSlice = newApartments.query('ProjNumber==\"'+currentProject+'\"').copy()\n",
    "    newApartmentsSlice.reset_index(inplace=True,drop=True)\n",
    "    CurrentAgents = AgentsTimeSeriesOriginal.query('ProjNumber==\"'+currentProject+'\"').copy().reset_index(drop=True)\n",
    "    CurrentAgents.drop(columns=['bldCode','doorIndex','bldCodeDoorIndex','ProjNumber','aprtmentSize','tic','prjectType'],inplace=True)\n",
    "    CurrentAgentsNewApartments = pd.concat([newApartmentsSlice,CurrentAgents],axis=1).reset_index(drop=True)\n",
    "    CurrentAgentsNewApartments['tic'] = tic\n",
    "    AgentsTimeSeries = pd.concat([AgentsTimeSeries,CurrentAgentsNewApartments]).reset_index(drop=True)\n",
    "    #AgentsTimeSeries.reset_i"
   ]
  },
  {
   "cell_type": "code",
   "execution_count": 558,
   "metadata": {},
   "outputs": [],
   "source": [
    "bldg_reference = gpd.read_file('Json/simulationBldgs_Process_march1_1729.geojson')\n",
    "bldAfter = bldg_reference[bldg_reference['status']=='Building after']"
   ]
  },
  {
   "cell_type": "markdown",
   "metadata": {},
   "source": [
    "## Droped Duplicates In Colab !!!"
   ]
  },
  {
   "cell_type": "code",
   "execution_count": 559,
   "metadata": {},
   "outputs": [
    {
     "data": {
      "text/html": [
       "<div>\n",
       "<style scoped>\n",
       "    .dataframe tbody tr th:only-of-type {\n",
       "        vertical-align: middle;\n",
       "    }\n",
       "\n",
       "    .dataframe tbody tr th {\n",
       "        vertical-align: top;\n",
       "    }\n",
       "\n",
       "    .dataframe thead th {\n",
       "        text-align: right;\n",
       "    }\n",
       "</style>\n",
       "<table border=\"1\" class=\"dataframe\">\n",
       "  <thead>\n",
       "    <tr style=\"text-align: right;\">\n",
       "      <th></th>\n",
       "      <th>fid</th>\n",
       "      <th>Area</th>\n",
       "      <th>floors</th>\n",
       "      <th>height</th>\n",
       "      <th>bld_num</th>\n",
       "      <th>bld_addres</th>\n",
       "      <th>hebrew_adr</th>\n",
       "      <th>project_nu</th>\n",
       "      <th>units</th>\n",
       "      <th>project_na</th>\n",
       "      <th>project_ty</th>\n",
       "      <th>status</th>\n",
       "      <th>East</th>\n",
       "      <th>North</th>\n",
       "      <th>East_wgs84</th>\n",
       "      <th>North_wgs8</th>\n",
       "      <th>active</th>\n",
       "      <th>start_date</th>\n",
       "      <th>end_date</th>\n",
       "      <th>geometry</th>\n",
       "    </tr>\n",
       "  </thead>\n",
       "  <tbody>\n",
       "    <tr>\n",
       "      <th>104</th>\n",
       "      <td>235</td>\n",
       "      <td>0.0</td>\n",
       "      <td>30.0</td>\n",
       "      <td>93.0</td>\n",
       "      <td>0.0</td>\n",
       "      <td>210_30_210_32_rr</td>\n",
       "      <td>הרצל 30 והרצל 32, בת ים</td>\n",
       "      <td>502-0196659</td>\n",
       "      <td>208.0</td>\n",
       "      <td>None</td>\n",
       "      <td>3.0</td>\n",
       "      <td>Building after</td>\n",
       "      <td>175834.625565</td>\n",
       "      <td>659447.829993</td>\n",
       "      <td>34.742741</td>\n",
       "      <td>32.027446</td>\n",
       "      <td>1</td>\n",
       "      <td>2025-09-13</td>\n",
       "      <td>2100-01-01</td>\n",
       "      <td>POLYGON ((175855.785 659461.417, 175857.643 65...</td>\n",
       "    </tr>\n",
       "    <tr>\n",
       "      <th>116</th>\n",
       "      <td>247</td>\n",
       "      <td>0.0</td>\n",
       "      <td>8.0</td>\n",
       "      <td>50.0</td>\n",
       "      <td>0.0</td>\n",
       "      <td>210_30_210_32_rr</td>\n",
       "      <td>הרצל 30 והרצל 32, בת ים</td>\n",
       "      <td>502-0196659</td>\n",
       "      <td>0.0</td>\n",
       "      <td>None</td>\n",
       "      <td>3.0</td>\n",
       "      <td>Building after</td>\n",
       "      <td>175776.801757</td>\n",
       "      <td>659449.599257</td>\n",
       "      <td>34.742128</td>\n",
       "      <td>32.027460</td>\n",
       "      <td>1</td>\n",
       "      <td>2025-09-13</td>\n",
       "      <td>2100-01-01</td>\n",
       "      <td>POLYGON ((175795.175 659462.771, 175781.589 65...</td>\n",
       "    </tr>\n",
       "    <tr>\n",
       "      <th>117</th>\n",
       "      <td>248</td>\n",
       "      <td>0.0</td>\n",
       "      <td>6.0</td>\n",
       "      <td>41.0</td>\n",
       "      <td>0.0</td>\n",
       "      <td>210_30_210_32_rr</td>\n",
       "      <td>הרצל 30 והרצל 32, בת ים</td>\n",
       "      <td>502-0196659</td>\n",
       "      <td>0.0</td>\n",
       "      <td>None</td>\n",
       "      <td>3.0</td>\n",
       "      <td>Building after</td>\n",
       "      <td>175808.326367</td>\n",
       "      <td>659442.232639</td>\n",
       "      <td>34.742462</td>\n",
       "      <td>32.027395</td>\n",
       "      <td>1</td>\n",
       "      <td>2025-09-13</td>\n",
       "      <td>2100-01-01</td>\n",
       "      <td>POLYGON ((175811.578 659458.497, 175812.905 65...</td>\n",
       "    </tr>\n",
       "    <tr>\n",
       "      <th>118</th>\n",
       "      <td>249</td>\n",
       "      <td>0.0</td>\n",
       "      <td>6.0</td>\n",
       "      <td>41.0</td>\n",
       "      <td>0.0</td>\n",
       "      <td>210_30_210_32_rr</td>\n",
       "      <td>הרצל 30 והרצל 32, בת ים</td>\n",
       "      <td>502-0196659</td>\n",
       "      <td>0.0</td>\n",
       "      <td>None</td>\n",
       "      <td>3.0</td>\n",
       "      <td>Building after</td>\n",
       "      <td>175823.598805</td>\n",
       "      <td>659408.555323</td>\n",
       "      <td>34.742626</td>\n",
       "      <td>32.027092</td>\n",
       "      <td>1</td>\n",
       "      <td>2025-09-13</td>\n",
       "      <td>2100-01-01</td>\n",
       "      <td>POLYGON ((175857.909 659420.069, 175832.994 65...</td>\n",
       "    </tr>\n",
       "  </tbody>\n",
       "</table>\n",
       "</div>"
      ],
      "text/plain": [
       "     fid  Area  floors  height  bld_num        bld_addres  \\\n",
       "104  235   0.0    30.0    93.0      0.0  210_30_210_32_rr   \n",
       "116  247   0.0     8.0    50.0      0.0  210_30_210_32_rr   \n",
       "117  248   0.0     6.0    41.0      0.0  210_30_210_32_rr   \n",
       "118  249   0.0     6.0    41.0      0.0  210_30_210_32_rr   \n",
       "\n",
       "                  hebrew_adr   project_nu  units project_na  project_ty  \\\n",
       "104  הרצל 30 והרצל 32, בת ים  502-0196659  208.0       None         3.0   \n",
       "116  הרצל 30 והרצל 32, בת ים  502-0196659    0.0       None         3.0   \n",
       "117  הרצל 30 והרצל 32, בת ים  502-0196659    0.0       None         3.0   \n",
       "118  הרצל 30 והרצל 32, בת ים  502-0196659    0.0       None         3.0   \n",
       "\n",
       "             status           East          North  East_wgs84  North_wgs8  \\\n",
       "104  Building after  175834.625565  659447.829993   34.742741   32.027446   \n",
       "116  Building after  175776.801757  659449.599257   34.742128   32.027460   \n",
       "117  Building after  175808.326367  659442.232639   34.742462   32.027395   \n",
       "118  Building after  175823.598805  659408.555323   34.742626   32.027092   \n",
       "\n",
       "     active  start_date    end_date  \\\n",
       "104       1  2025-09-13  2100-01-01   \n",
       "116       1  2025-09-13  2100-01-01   \n",
       "117       1  2025-09-13  2100-01-01   \n",
       "118       1  2025-09-13  2100-01-01   \n",
       "\n",
       "                                              geometry  \n",
       "104  POLYGON ((175855.785 659461.417, 175857.643 65...  \n",
       "116  POLYGON ((175795.175 659462.771, 175781.589 65...  \n",
       "117  POLYGON ((175811.578 659458.497, 175812.905 65...  \n",
       "118  POLYGON ((175857.909 659420.069, 175832.994 65...  "
      ]
     },
     "execution_count": 559,
     "metadata": {},
     "output_type": "execute_result"
    }
   ],
   "source": [
    "bldAfter.query('bld_addres==\"210_30_210_32_rr\"')"
   ]
  },
  {
   "cell_type": "code",
   "execution_count": 560,
   "metadata": {},
   "outputs": [],
   "source": [
    "bldAfter = bldAfter.drop([116,117,118])"
   ]
  },
  {
   "cell_type": "code",
   "execution_count": 561,
   "metadata": {},
   "outputs": [],
   "source": [
    "bldAfter.reset_index(drop=True,inplace=True)"
   ]
  },
  {
   "cell_type": "code",
   "execution_count": 562,
   "metadata": {},
   "outputs": [],
   "source": [
    "bld_floor = bldAfter[['bld_addres','floors']]"
   ]
  },
  {
   "cell_type": "code",
   "execution_count": 563,
   "metadata": {},
   "outputs": [],
   "source": [
    "def getBldHeight(bldCode):\n",
    "    Floors = bld_floor.query(f\"bld_addres=='{bldCode}'\")['floors']\n",
    "    return Floors.values[0].astype(int)"
   ]
  },
  {
   "cell_type": "markdown",
   "metadata": {},
   "source": [
    "# add floors from GIS :)"
   ]
  },
  {
   "cell_type": "code",
   "execution_count": 564,
   "metadata": {},
   "outputs": [],
   "source": [
    "AgentsTimeSeries.loc[AgentsTimeSeries.query(\"tic>0\").index,\"Floors\"] \\\n",
    "= AgentsTimeSeries.loc[AgentsTimeSeries.query(\"tic>0\").index,\"bldCode\"]\\\n",
    ".apply(lambda x:bld_floor.query(f\"bld_addres=='{x}'\")['floors'].values[0].astype(int))"
   ]
  },
  {
   "cell_type": "code",
   "execution_count": 565,
   "metadata": {},
   "outputs": [],
   "source": [
    "newBldgMaintenance = pd.DataFrame({'floor_min':[0,5,9,13],'floor_max':[4,8,12,100],'cost':[250,320,400,450]})"
   ]
  },
  {
   "cell_type": "code",
   "execution_count": 566,
   "metadata": {},
   "outputs": [
    {
     "data": {
      "text/html": [
       "<div>\n",
       "<style scoped>\n",
       "    .dataframe tbody tr th:only-of-type {\n",
       "        vertical-align: middle;\n",
       "    }\n",
       "\n",
       "    .dataframe tbody tr th {\n",
       "        vertical-align: top;\n",
       "    }\n",
       "\n",
       "    .dataframe thead th {\n",
       "        text-align: right;\n",
       "    }\n",
       "</style>\n",
       "<table border=\"1\" class=\"dataframe\">\n",
       "  <thead>\n",
       "    <tr style=\"text-align: right;\">\n",
       "      <th></th>\n",
       "      <th>floor_min</th>\n",
       "      <th>floor_max</th>\n",
       "      <th>cost</th>\n",
       "    </tr>\n",
       "  </thead>\n",
       "  <tbody>\n",
       "    <tr>\n",
       "      <th>0</th>\n",
       "      <td>0</td>\n",
       "      <td>4</td>\n",
       "      <td>250</td>\n",
       "    </tr>\n",
       "    <tr>\n",
       "      <th>1</th>\n",
       "      <td>5</td>\n",
       "      <td>8</td>\n",
       "      <td>320</td>\n",
       "    </tr>\n",
       "    <tr>\n",
       "      <th>2</th>\n",
       "      <td>9</td>\n",
       "      <td>12</td>\n",
       "      <td>400</td>\n",
       "    </tr>\n",
       "    <tr>\n",
       "      <th>3</th>\n",
       "      <td>13</td>\n",
       "      <td>100</td>\n",
       "      <td>450</td>\n",
       "    </tr>\n",
       "  </tbody>\n",
       "</table>\n",
       "</div>"
      ],
      "text/plain": [
       "   floor_min  floor_max  cost\n",
       "0          0          4   250\n",
       "1          5          8   320\n",
       "2          9         12   400\n",
       "3         13        100   450"
      ]
     },
     "execution_count": 566,
     "metadata": {},
     "output_type": "execute_result"
    }
   ],
   "source": [
    "newBldgMaintenance"
   ]
  },
  {
   "cell_type": "code",
   "execution_count": 567,
   "metadata": {},
   "outputs": [],
   "source": [
    "def getConstFromFloor(floor):\n",
    "    floorInt = str(int(floor))\n",
    "    cost = newBldgMaintenance.query(f\"floor_min<={floorInt} and floor_max>={floorInt}\")['cost']\n",
    "    return cost.values[0]"
   ]
  },
  {
   "cell_type": "code",
   "execution_count": 568,
   "metadata": {},
   "outputs": [
    {
     "data": {
      "text/plain": [
       "320"
      ]
     },
     "execution_count": 568,
     "metadata": {},
     "output_type": "execute_result"
    }
   ],
   "source": [
    "getConstFromFloor(7)"
   ]
  },
  {
   "cell_type": "code",
   "execution_count": 569,
   "metadata": {},
   "outputs": [],
   "source": [
    "AgentsTimeSeries.loc[AgentsTimeSeries.query(\"tic>0\").index,'MainCost'] = AgentsTimeSeries.loc[AgentsTimeSeries.query(\"tic>0\").index,'Floors'].apply(getConstFromFloor)"
   ]
  },
  {
   "cell_type": "code",
   "execution_count": 570,
   "metadata": {},
   "outputs": [],
   "source": [
    "AgentsTimeSeries.loc[(AgentsTimeSeries['tic']>0),'cityTax'] =  AgentsTimeSeries.loc[(AgentsTimeSeries['tic']>0),'aprtmentSize']*arnonaSqM"
   ]
  },
  {
   "cell_type": "code",
   "execution_count": 571,
   "metadata": {},
   "outputs": [],
   "source": [
    "AgentsTimeSeries.loc[(AgentsTimeSeries['tic']>0),'CostForStaying'] = AgentsTimeSeries.loc[(AgentsTimeSeries['tic']>0),'cityTax']+AgentsTimeSeries.loc[(AgentsTimeSeries['tic']>0),'MainCost']"
   ]
  },
  {
   "cell_type": "markdown",
   "metadata": {},
   "source": [
    "## Not Null do this"
   ]
  },
  {
   "cell_type": "code",
   "execution_count": 572,
   "metadata": {},
   "outputs": [],
   "source": [
    "con = ((AgentsTimeSeries['income'].notna())) & (AgentsTimeSeries['tic']>0)"
   ]
  },
  {
   "cell_type": "code",
   "execution_count": 573,
   "metadata": {},
   "outputs": [],
   "source": [
    "AgentsTimeSeries.loc[con,'ratioCostForStaying'] = AgentsTimeSeries.loc[con,'CostForStaying']/AgentsTimeSeries.loc[con,'income']"
   ]
  },
  {
   "cell_type": "code",
   "execution_count": 574,
   "metadata": {},
   "outputs": [],
   "source": [
    "AgentsTimeSeries.loc[AgentsTimeSeries.query(\"tic>0 and rent==1.0\").index,'status'] = 'leave'\n",
    "AgentsTimeSeries.loc[AgentsTimeSeries.query(\"tic>0 and rent==1.0\").index,'reason_leave'] = 'Rent'"
   ]
  },
  {
   "cell_type": "code",
   "execution_count": 575,
   "metadata": {},
   "outputs": [],
   "source": [
    "AgentsTimeSeries.loc[AgentsTimeSeries.query(\"(tic>0) and (age>65) and (status=='stay')\").index,'status'] = 'leave'\n",
    "AgentsTimeSeries.loc[AgentsTimeSeries.query(\"(tic>0) and (age>65) and (status=='leave') and ('reason_leave')!='income'\").index,'reason_leave'] = 'Age'"
   ]
  },
  {
   "cell_type": "code",
   "execution_count": 576,
   "metadata": {},
   "outputs": [],
   "source": [
    "AgentsTimeSeries.loc[AgentsTimeSeries.query(\"(tic>0) and (ratioCostForStaying>0.08) and (status=='stay')\").index,'status'] = 'leave'"
   ]
  },
  {
   "cell_type": "code",
   "execution_count": 577,
   "metadata": {},
   "outputs": [],
   "source": [
    "AgentsTimeSeries.loc[AgentsTimeSeries.query(\"(tic>0) and (ratioCostForStaying>0.08) and (status=='leave') and (reason_leave.isnull())\").index,'reason_leave'] = 'Burden'"
   ]
  },
  {
   "cell_type": "markdown",
   "metadata": {},
   "source": [
    "## not one was hrut from hosuing burden from the original tenants only Age and Rent!!!"
   ]
  },
  {
   "cell_type": "code",
   "execution_count": 578,
   "metadata": {},
   "outputs": [
    {
     "data": {
      "text/plain": [
       "Age       250\n",
       "Rent      243\n",
       "Burden    242\n",
       "Name: reason_leave, dtype: int64"
      ]
     },
     "execution_count": 578,
     "metadata": {},
     "output_type": "execute_result"
    }
   ],
   "source": [
    "AgentsTimeSeries['reason_leave'].value_counts()"
   ]
  },
  {
   "cell_type": "code",
   "execution_count": 579,
   "metadata": {},
   "outputs": [
    {
     "data": {
      "text/plain": [
       "numpy.float64"
      ]
     },
     "execution_count": 579,
     "metadata": {},
     "output_type": "execute_result"
    }
   ],
   "source": [
    "type(AgentsTimeSeries.loc[0,'ratioCostForStaying'])"
   ]
  },
  {
   "cell_type": "code",
   "execution_count": 580,
   "metadata": {},
   "outputs": [
    {
     "data": {
      "text/plain": [
       "<AxesSubplot:>"
      ]
     },
     "execution_count": 580,
     "metadata": {},
     "output_type": "execute_result"
    },
    {
     "data": {
      "image/png": "[encoded data removed]",
      "text/plain": [
       "<Figure size 432x288 with 1 Axes>"
      ]
     },
     "metadata": {
      "needs_background": "light"
     },
     "output_type": "display_data"
    }
   ],
   "source": [
    "AgentsTimeSeries[AgentsTimeSeries['ratioCostForStaying'].notna()]['ratioCostForStaying'].hist()"
   ]
  },
  {
   "cell_type": "code",
   "execution_count": 581,
   "metadata": {},
   "outputs": [],
   "source": [
    "AgentsTimeSeries['mortgage'] = 0\n",
    "AgentsTimeSeries['rentPrice'] = 0"
   ]
  },
  {
   "cell_type": "code",
   "execution_count": 582,
   "metadata": {},
   "outputs": [],
   "source": [
    "newAgents = AgentsTimeSeries.query(\"status.isnull() or status=='leave'\", engine='python').copy()"
   ]
  },
  {
   "cell_type": "code",
   "execution_count": 583,
   "metadata": {},
   "outputs": [],
   "source": [
    "newAgents.loc[newAgents.query(\"status.isnull()\", engine='python').index,'group']='existing'"
   ]
  },
  {
   "cell_type": "code",
   "execution_count": 584,
   "metadata": {},
   "outputs": [],
   "source": [
    "newAgents.loc[newAgents.query(\"status=='leave'\", engine='python').index,'group']='add'"
   ]
  },
  {
   "cell_type": "code",
   "execution_count": 585,
   "metadata": {},
   "outputs": [],
   "source": [
    "newAgents['yearsInBldg'] = 0"
   ]
  },
  {
   "cell_type": "code",
   "execution_count": 586,
   "metadata": {},
   "outputs": [],
   "source": [
    "num = len(newAgents)\n",
    "op = ageMiddle\n",
    "p = ageDist"
   ]
  },
  {
   "cell_type": "code",
   "execution_count": 587,
   "metadata": {},
   "outputs": [
    {
     "data": {
      "text/plain": [
       "6067"
      ]
     },
     "execution_count": 587,
     "metadata": {},
     "output_type": "execute_result"
    }
   ],
   "source": [
    "num"
   ]
  },
  {
   "cell_type": "code",
   "execution_count": 588,
   "metadata": {},
   "outputs": [],
   "source": [
    "ages = np.random.choice(op, size = num, p=p)"
   ]
  },
  {
   "cell_type": "code",
   "execution_count": 589,
   "metadata": {},
   "outputs": [],
   "source": [
    "rent_own = np.random.choice(['rent','own'],size=num,p=[owners,1-owners])"
   ]
  },
  {
   "cell_type": "code",
   "execution_count": 590,
   "metadata": {},
   "outputs": [
    {
     "data": {
      "text/plain": [
       "array(['rent', 'rent', 'rent', ..., 'rent', 'rent', 'rent'], dtype='<U4')"
      ]
     },
     "execution_count": 590,
     "metadata": {},
     "output_type": "execute_result"
    }
   ],
   "source": [
    "rent_own"
   ]
  },
  {
   "cell_type": "code",
   "execution_count": 591,
   "metadata": {},
   "outputs": [],
   "source": [
    "rent_filter = rent_own=='rent'\n",
    "own_filter = rent_own=='own'"
   ]
  },
  {
   "cell_type": "code",
   "execution_count": 592,
   "metadata": {},
   "outputs": [],
   "source": [
    "newAgents['age'] = ages"
   ]
  },
  {
   "cell_type": "code",
   "execution_count": 593,
   "metadata": {},
   "outputs": [],
   "source": [
    "newAgents['age'] = newAgents['age'].apply(lambda x: np.random.randint(x-5,x+5)) # add varitation or noise ot ages"
   ]
  },
  {
   "cell_type": "code",
   "execution_count": 594,
   "metadata": {},
   "outputs": [],
   "source": [
    "newAgents.loc[:,['lowDiscount','highDiscount','noDiscount']] = [0,0,1]"
   ]
  },
  {
   "cell_type": "code",
   "execution_count": 595,
   "metadata": {},
   "outputs": [],
   "source": [
    "newAgents.loc[:,['rent','own']] = [0,0]"
   ]
  },
  {
   "cell_type": "code",
   "execution_count": 596,
   "metadata": {},
   "outputs": [],
   "source": [
    "newAgents.loc[rent_filter,'rent'] =1\n",
    "newAgents.loc[own_filter,'own'] =1"
   ]
  },
  {
   "cell_type": "code",
   "execution_count": 597,
   "metadata": {},
   "outputs": [],
   "source": [
    "newAgents['agentID'] =newAgents['agentID'].apply(lambda x:uuid.uuid1()) "
   ]
  },
  {
   "cell_type": "code",
   "execution_count": 598,
   "metadata": {},
   "outputs": [],
   "source": [
    "newAgents['status'] = 'New Comers'"
   ]
  },
  {
   "cell_type": "code",
   "execution_count": 599,
   "metadata": {},
   "outputs": [],
   "source": [
    "newAgents['reason_leave'] = np.nan"
   ]
  },
  {
   "cell_type": "code",
   "execution_count": 600,
   "metadata": {},
   "outputs": [],
   "source": [
    "newAgents['HouseValue'] = 0\n",
    "newAgents['rentPrint'] = 0\n",
    "rentFilter = newAgents.query('rent==1').index\n",
    "newAgents.loc[rentFilter,'rentPrice'] = rentPPM*newAgents.loc[rentFilter,'aprtmentSize'] \n",
    "\n",
    "ownFilter = newAgents.query('own==1').index\n",
    "rentFilter = newAgents.query('rent==1').index\n",
    "newAgents.loc[ownFilter,'HouseValue'] = newAgents.loc[ownFilter,'aprtmentSize'] * buyPPM\n",
    "newAgents.loc[ownFilter,'mortgage'] = newAgents.loc[ownFilter,'HouseValue'].apply(lambda x: mortgageCal(houseValue=x,downPaymentPercent_range=(0.25, 0.26))).astype(int) \n",
    "newAgents['CostForStaying'] = newAgents['MainCost'] + newAgents['cityTax'] + newAgents['rentPrice'] + newAgents['mortgage']\n",
    "newAgents['baseIncome'] = newAgents['CostForStaying']/0.38 # base is 38% for burden\n",
    "newAgents['income'] = newAgents['baseIncome'] + newAgents['baseIncome'].apply(lambda x:np.random.randint(0,5000)).astype(int)\n",
    "\n",
    "\n",
    "newAgents['ratioCostForStaying'] = (newAgents['CostForStaying']/newAgents['income'])"
   ]
  },
  {
   "cell_type": "code",
   "execution_count": 601,
   "metadata": {},
   "outputs": [
    {
     "data": {
      "text/plain": [
       "<AxesSubplot:>"
      ]
     },
     "execution_count": 601,
     "metadata": {},
     "output_type": "execute_result"
    },
    {
     "data": {
      "image/png": "[encoded data removed]",
      "text/plain": [
       "<Figure size 432x288 with 1 Axes>"
      ]
     },
     "metadata": {
      "needs_background": "light"
     },
     "output_type": "display_data"
    }
   ],
   "source": [
    "newAgents['ratioCostForStaying'].hist()"
   ]
  },
  {
   "cell_type": "code",
   "execution_count": 602,
   "metadata": {},
   "outputs": [
    {
     "data": {
      "text/plain": [
       "0.37998377261887906"
      ]
     },
     "execution_count": 602,
     "metadata": {},
     "output_type": "execute_result"
    }
   ],
   "source": [
    "newAgents['ratioCostForStaying'].max()"
   ]
  },
  {
   "cell_type": "code",
   "execution_count": 603,
   "metadata": {},
   "outputs": [
    {
     "data": {
      "text/plain": [
       "<AxesSubplot:>"
      ]
     },
     "execution_count": 603,
     "metadata": {},
     "output_type": "execute_result"
    },
    {
     "data": {
      "image/png": "[encoded data removed]",
      "text/plain": [
       "<Figure size 432x288 with 1 Axes>"
      ]
     },
     "metadata": {
      "needs_background": "light"
     },
     "output_type": "display_data"
    }
   ],
   "source": [
    "newAgents['CostForStaying'].hist()"
   ]
  },
  {
   "cell_type": "code",
   "execution_count": 604,
   "metadata": {},
   "outputs": [],
   "source": [
    "newAgents_Merge = newAgents.query('group==\"existing\"').drop(columns=['HouseValue','rentPrint','baseIncome','group'])\n",
    "newAgents_Add = newAgents.query('group==\"add\"').drop(columns=['HouseValue','rentPrint','baseIncome','group'])"
   ]
  },
  {
   "cell_type": "code",
   "execution_count": 605,
   "metadata": {},
   "outputs": [
    {
     "data": {
      "text/plain": [
       "Int64Index([ 980,  981,  982,  983,  984,  985,  986,  987,  988,  989,\n",
       "            ...\n",
       "            7224, 7225, 7226, 7227, 7228, 7229, 7230, 7231, 7232, 7233],\n",
       "           dtype='int64', length=5332)"
      ]
     },
     "execution_count": 605,
     "metadata": {},
     "output_type": "execute_result"
    }
   ],
   "source": [
    "newAgents_Merge.index"
   ]
  },
  {
   "cell_type": "code",
   "execution_count": 606,
   "metadata": {},
   "outputs": [],
   "source": [
    "AgentsTimeSeries.loc[newAgents_Merge.index] = newAgents_Merge.copy() # Insert new Comers"
   ]
  },
  {
   "cell_type": "code",
   "execution_count": 607,
   "metadata": {},
   "outputs": [],
   "source": [
    "AgentsTimeSeries = AgentsTimeSeries.append(newAgents_Add)\n",
    "AgentsTimeSeries.reset_index(inplace=True, drop=True)"
   ]
  },
  {
   "cell_type": "code",
   "execution_count": 608,
   "metadata": {},
   "outputs": [
    {
     "data": {
      "text/html": [
       "<div>\n",
       "<style scoped>\n",
       "    .dataframe tbody tr th:only-of-type {\n",
       "        vertical-align: middle;\n",
       "    }\n",
       "\n",
       "    .dataframe tbody tr th {\n",
       "        vertical-align: top;\n",
       "    }\n",
       "\n",
       "    .dataframe thead th {\n",
       "        text-align: right;\n",
       "    }\n",
       "</style>\n",
       "<table border=\"1\" class=\"dataframe\">\n",
       "  <thead>\n",
       "    <tr style=\"text-align: right;\">\n",
       "      <th></th>\n",
       "      <th>bldCode</th>\n",
       "      <th>doorIndex</th>\n",
       "      <th>bldCodeDoorIndex</th>\n",
       "      <th>ProjNumber</th>\n",
       "      <th>aprtmentSize</th>\n",
       "      <th>yearsInBldg</th>\n",
       "      <th>age</th>\n",
       "      <th>lowDiscount</th>\n",
       "      <th>highDiscount</th>\n",
       "      <th>noDiscount</th>\n",
       "      <th>income</th>\n",
       "      <th>rent</th>\n",
       "      <th>own</th>\n",
       "      <th>agentID</th>\n",
       "      <th>prjectType</th>\n",
       "      <th>tic</th>\n",
       "      <th>status</th>\n",
       "      <th>Floors</th>\n",
       "      <th>MainCost</th>\n",
       "      <th>cityTax</th>\n",
       "      <th>CostForStaying</th>\n",
       "      <th>ratioCostForStaying</th>\n",
       "      <th>reason_leave</th>\n",
       "      <th>mortgage</th>\n",
       "      <th>rentPrice</th>\n",
       "    </tr>\n",
       "  </thead>\n",
       "  <tbody>\n",
       "    <tr>\n",
       "      <th>0</th>\n",
       "      <td>210_19</td>\n",
       "      <td>1</td>\n",
       "      <td>210_19_1</td>\n",
       "      <td>20180988</td>\n",
       "      <td>70</td>\n",
       "      <td>17.0</td>\n",
       "      <td>48.0</td>\n",
       "      <td>0.0</td>\n",
       "      <td>1.0</td>\n",
       "      <td>0.0</td>\n",
       "      <td>6375.000000</td>\n",
       "      <td>1.0</td>\n",
       "      <td>0.0</td>\n",
       "      <td>59325a1e-97d1-11eb-ab03-acde48001122</td>\n",
       "      <td>0</td>\n",
       "      <td>0</td>\n",
       "      <td>stay</td>\n",
       "      <td>NaN</td>\n",
       "      <td>NaN</td>\n",
       "      <td>NaN</td>\n",
       "      <td>NaN</td>\n",
       "      <td>NaN</td>\n",
       "      <td>NaN</td>\n",
       "      <td>0</td>\n",
       "      <td>0</td>\n",
       "    </tr>\n",
       "    <tr>\n",
       "      <th>1</th>\n",
       "      <td>210_19</td>\n",
       "      <td>2</td>\n",
       "      <td>210_19_2</td>\n",
       "      <td>20180988</td>\n",
       "      <td>70</td>\n",
       "      <td>20.0</td>\n",
       "      <td>67.0</td>\n",
       "      <td>0.0</td>\n",
       "      <td>1.0</td>\n",
       "      <td>0.0</td>\n",
       "      <td>6163.000000</td>\n",
       "      <td>0.0</td>\n",
       "      <td>1.0</td>\n",
       "      <td>59325afa-97d1-11eb-ab03-acde48001122</td>\n",
       "      <td>0</td>\n",
       "      <td>0</td>\n",
       "      <td>stay</td>\n",
       "      <td>NaN</td>\n",
       "      <td>NaN</td>\n",
       "      <td>NaN</td>\n",
       "      <td>NaN</td>\n",
       "      <td>NaN</td>\n",
       "      <td>NaN</td>\n",
       "      <td>0</td>\n",
       "      <td>0</td>\n",
       "    </tr>\n",
       "    <tr>\n",
       "      <th>2</th>\n",
       "      <td>210_19</td>\n",
       "      <td>3</td>\n",
       "      <td>210_19_3</td>\n",
       "      <td>20180988</td>\n",
       "      <td>70</td>\n",
       "      <td>9.0</td>\n",
       "      <td>42.0</td>\n",
       "      <td>0.0</td>\n",
       "      <td>1.0</td>\n",
       "      <td>0.0</td>\n",
       "      <td>5429.000000</td>\n",
       "      <td>0.0</td>\n",
       "      <td>1.0</td>\n",
       "      <td>59325b4a-97d1-11eb-ab03-acde48001122</td>\n",
       "      <td>0</td>\n",
       "      <td>0</td>\n",
       "      <td>stay</td>\n",
       "      <td>NaN</td>\n",
       "      <td>NaN</td>\n",
       "      <td>NaN</td>\n",
       "      <td>NaN</td>\n",
       "      <td>NaN</td>\n",
       "      <td>NaN</td>\n",
       "      <td>0</td>\n",
       "      <td>0</td>\n",
       "    </tr>\n",
       "    <tr>\n",
       "      <th>3</th>\n",
       "      <td>210_19</td>\n",
       "      <td>4</td>\n",
       "      <td>210_19_4</td>\n",
       "      <td>20180988</td>\n",
       "      <td>70</td>\n",
       "      <td>5.0</td>\n",
       "      <td>42.0</td>\n",
       "      <td>0.0</td>\n",
       "      <td>0.0</td>\n",
       "      <td>1.0</td>\n",
       "      <td>15294.000000</td>\n",
       "      <td>0.0</td>\n",
       "      <td>1.0</td>\n",
       "      <td>59325b86-97d1-11eb-ab03-acde48001122</td>\n",
       "      <td>0</td>\n",
       "      <td>0</td>\n",
       "      <td>stay</td>\n",
       "      <td>NaN</td>\n",
       "      <td>NaN</td>\n",
       "      <td>NaN</td>\n",
       "      <td>NaN</td>\n",
       "      <td>NaN</td>\n",
       "      <td>NaN</td>\n",
       "      <td>0</td>\n",
       "      <td>0</td>\n",
       "    </tr>\n",
       "    <tr>\n",
       "      <th>4</th>\n",
       "      <td>210_19</td>\n",
       "      <td>5</td>\n",
       "      <td>210_19_5</td>\n",
       "      <td>20180988</td>\n",
       "      <td>70</td>\n",
       "      <td>17.0</td>\n",
       "      <td>39.0</td>\n",
       "      <td>0.0</td>\n",
       "      <td>0.0</td>\n",
       "      <td>1.0</td>\n",
       "      <td>9742.000000</td>\n",
       "      <td>1.0</td>\n",
       "      <td>0.0</td>\n",
       "      <td>59325bb8-97d1-11eb-ab03-acde48001122</td>\n",
       "      <td>0</td>\n",
       "      <td>0</td>\n",
       "      <td>stay</td>\n",
       "      <td>NaN</td>\n",
       "      <td>NaN</td>\n",
       "      <td>NaN</td>\n",
       "      <td>NaN</td>\n",
       "      <td>NaN</td>\n",
       "      <td>NaN</td>\n",
       "      <td>0</td>\n",
       "      <td>0</td>\n",
       "    </tr>\n",
       "    <tr>\n",
       "      <th>...</th>\n",
       "      <td>...</td>\n",
       "      <td>...</td>\n",
       "      <td>...</td>\n",
       "      <td>...</td>\n",
       "      <td>...</td>\n",
       "      <td>...</td>\n",
       "      <td>...</td>\n",
       "      <td>...</td>\n",
       "      <td>...</td>\n",
       "      <td>...</td>\n",
       "      <td>...</td>\n",
       "      <td>...</td>\n",
       "      <td>...</td>\n",
       "      <td>...</td>\n",
       "      <td>...</td>\n",
       "      <td>...</td>\n",
       "      <td>...</td>\n",
       "      <td>...</td>\n",
       "      <td>...</td>\n",
       "      <td>...</td>\n",
       "      <td>...</td>\n",
       "      <td>...</td>\n",
       "      <td>...</td>\n",
       "      <td>...</td>\n",
       "      <td>...</td>\n",
       "    </tr>\n",
       "    <tr>\n",
       "      <th>7964</th>\n",
       "      <td>201_75_rr</td>\n",
       "      <td>24</td>\n",
       "      <td>201_75_rr_24</td>\n",
       "      <td>502-0368860</td>\n",
       "      <td>112</td>\n",
       "      <td>0.0</td>\n",
       "      <td>47.0</td>\n",
       "      <td>0.0</td>\n",
       "      <td>0.0</td>\n",
       "      <td>1.0</td>\n",
       "      <td>24913.210526</td>\n",
       "      <td>1.0</td>\n",
       "      <td>0.0</td>\n",
       "      <td>fe67c064-9b82-11eb-a16b-acde48001122</td>\n",
       "      <td>3</td>\n",
       "      <td>32</td>\n",
       "      <td>New Comers</td>\n",
       "      <td>32.0</td>\n",
       "      <td>450.0</td>\n",
       "      <td>608.16</td>\n",
       "      <td>8898.16</td>\n",
       "      <td>0.357166</td>\n",
       "      <td>NaN</td>\n",
       "      <td>0</td>\n",
       "      <td>7840</td>\n",
       "    </tr>\n",
       "    <tr>\n",
       "      <th>7965</th>\n",
       "      <td>201_75_rr</td>\n",
       "      <td>25</td>\n",
       "      <td>201_75_rr_25</td>\n",
       "      <td>502-0368860</td>\n",
       "      <td>112</td>\n",
       "      <td>0.0</td>\n",
       "      <td>31.0</td>\n",
       "      <td>0.0</td>\n",
       "      <td>0.0</td>\n",
       "      <td>1.0</td>\n",
       "      <td>25145.210526</td>\n",
       "      <td>1.0</td>\n",
       "      <td>0.0</td>\n",
       "      <td>fe67c096-9b82-11eb-a16b-acde48001122</td>\n",
       "      <td>3</td>\n",
       "      <td>32</td>\n",
       "      <td>New Comers</td>\n",
       "      <td>32.0</td>\n",
       "      <td>450.0</td>\n",
       "      <td>608.16</td>\n",
       "      <td>8898.16</td>\n",
       "      <td>0.353871</td>\n",
       "      <td>NaN</td>\n",
       "      <td>0</td>\n",
       "      <td>7840</td>\n",
       "    </tr>\n",
       "    <tr>\n",
       "      <th>7966</th>\n",
       "      <td>201_75_rr</td>\n",
       "      <td>27</td>\n",
       "      <td>201_75_rr_27</td>\n",
       "      <td>502-0368860</td>\n",
       "      <td>112</td>\n",
       "      <td>0.0</td>\n",
       "      <td>33.0</td>\n",
       "      <td>0.0</td>\n",
       "      <td>0.0</td>\n",
       "      <td>1.0</td>\n",
       "      <td>25787.842105</td>\n",
       "      <td>0.0</td>\n",
       "      <td>1.0</td>\n",
       "      <td>fe67c0be-9b82-11eb-a16b-acde48001122</td>\n",
       "      <td>3</td>\n",
       "      <td>32</td>\n",
       "      <td>New Comers</td>\n",
       "      <td>32.0</td>\n",
       "      <td>450.0</td>\n",
       "      <td>608.16</td>\n",
       "      <td>9393.16</td>\n",
       "      <td>0.364248</td>\n",
       "      <td>NaN</td>\n",
       "      <td>8335</td>\n",
       "      <td>0</td>\n",
       "    </tr>\n",
       "    <tr>\n",
       "      <th>7967</th>\n",
       "      <td>201_75_rr</td>\n",
       "      <td>28</td>\n",
       "      <td>201_75_rr_28</td>\n",
       "      <td>502-0368860</td>\n",
       "      <td>112</td>\n",
       "      <td>0.0</td>\n",
       "      <td>26.0</td>\n",
       "      <td>0.0</td>\n",
       "      <td>0.0</td>\n",
       "      <td>1.0</td>\n",
       "      <td>26457.210526</td>\n",
       "      <td>1.0</td>\n",
       "      <td>0.0</td>\n",
       "      <td>fe67c0f0-9b82-11eb-a16b-acde48001122</td>\n",
       "      <td>3</td>\n",
       "      <td>32</td>\n",
       "      <td>New Comers</td>\n",
       "      <td>32.0</td>\n",
       "      <td>450.0</td>\n",
       "      <td>608.16</td>\n",
       "      <td>8898.16</td>\n",
       "      <td>0.336323</td>\n",
       "      <td>NaN</td>\n",
       "      <td>0</td>\n",
       "      <td>7840</td>\n",
       "    </tr>\n",
       "    <tr>\n",
       "      <th>7968</th>\n",
       "      <td>201_75_rr</td>\n",
       "      <td>29</td>\n",
       "      <td>201_75_rr_29</td>\n",
       "      <td>502-0368860</td>\n",
       "      <td>112</td>\n",
       "      <td>0.0</td>\n",
       "      <td>26.0</td>\n",
       "      <td>0.0</td>\n",
       "      <td>0.0</td>\n",
       "      <td>1.0</td>\n",
       "      <td>26408.368421</td>\n",
       "      <td>0.0</td>\n",
       "      <td>1.0</td>\n",
       "      <td>fe67c118-9b82-11eb-a16b-acde48001122</td>\n",
       "      <td>3</td>\n",
       "      <td>32</td>\n",
       "      <td>New Comers</td>\n",
       "      <td>32.0</td>\n",
       "      <td>450.0</td>\n",
       "      <td>608.16</td>\n",
       "      <td>9321.16</td>\n",
       "      <td>0.352962</td>\n",
       "      <td>NaN</td>\n",
       "      <td>8263</td>\n",
       "      <td>0</td>\n",
       "    </tr>\n",
       "  </tbody>\n",
       "</table>\n",
       "<p>7969 rows × 25 columns</p>\n",
       "</div>"
      ],
      "text/plain": [
       "        bldCode  doorIndex bldCodeDoorIndex   ProjNumber  aprtmentSize  \\\n",
       "0        210_19          1         210_19_1     20180988            70   \n",
       "1        210_19          2         210_19_2     20180988            70   \n",
       "2        210_19          3         210_19_3     20180988            70   \n",
       "3        210_19          4         210_19_4     20180988            70   \n",
       "4        210_19          5         210_19_5     20180988            70   \n",
       "...         ...        ...              ...          ...           ...   \n",
       "7964  201_75_rr         24     201_75_rr_24  502-0368860           112   \n",
       "7965  201_75_rr         25     201_75_rr_25  502-0368860           112   \n",
       "7966  201_75_rr         27     201_75_rr_27  502-0368860           112   \n",
       "7967  201_75_rr         28     201_75_rr_28  502-0368860           112   \n",
       "7968  201_75_rr         29     201_75_rr_29  502-0368860           112   \n",
       "\n",
       "      yearsInBldg   age  lowDiscount  highDiscount  noDiscount        income  \\\n",
       "0            17.0  48.0          0.0           1.0         0.0   6375.000000   \n",
       "1            20.0  67.0          0.0           1.0         0.0   6163.000000   \n",
       "2             9.0  42.0          0.0           1.0         0.0   5429.000000   \n",
       "3             5.0  42.0          0.0           0.0         1.0  15294.000000   \n",
       "4            17.0  39.0          0.0           0.0         1.0   9742.000000   \n",
       "...           ...   ...          ...           ...         ...           ...   \n",
       "7964          0.0  47.0          0.0           0.0         1.0  24913.210526   \n",
       "7965          0.0  31.0          0.0           0.0         1.0  25145.210526   \n",
       "7966          0.0  33.0          0.0           0.0         1.0  25787.842105   \n",
       "7967          0.0  26.0          0.0           0.0         1.0  26457.210526   \n",
       "7968          0.0  26.0          0.0           0.0         1.0  26408.368421   \n",
       "\n",
       "      rent  own                               agentID  prjectType  tic  \\\n",
       "0      1.0  0.0  59325a1e-97d1-11eb-ab03-acde48001122           0    0   \n",
       "1      0.0  1.0  59325afa-97d1-11eb-ab03-acde48001122           0    0   \n",
       "2      0.0  1.0  59325b4a-97d1-11eb-ab03-acde48001122           0    0   \n",
       "3      0.0  1.0  59325b86-97d1-11eb-ab03-acde48001122           0    0   \n",
       "4      1.0  0.0  59325bb8-97d1-11eb-ab03-acde48001122           0    0   \n",
       "...    ...  ...                                   ...         ...  ...   \n",
       "7964   1.0  0.0  fe67c064-9b82-11eb-a16b-acde48001122           3   32   \n",
       "7965   1.0  0.0  fe67c096-9b82-11eb-a16b-acde48001122           3   32   \n",
       "7966   0.0  1.0  fe67c0be-9b82-11eb-a16b-acde48001122           3   32   \n",
       "7967   1.0  0.0  fe67c0f0-9b82-11eb-a16b-acde48001122           3   32   \n",
       "7968   0.0  1.0  fe67c118-9b82-11eb-a16b-acde48001122           3   32   \n",
       "\n",
       "          status  Floors  MainCost  cityTax  CostForStaying  \\\n",
       "0           stay     NaN       NaN      NaN             NaN   \n",
       "1           stay     NaN       NaN      NaN             NaN   \n",
       "2           stay     NaN       NaN      NaN             NaN   \n",
       "3           stay     NaN       NaN      NaN             NaN   \n",
       "4           stay     NaN       NaN      NaN             NaN   \n",
       "...          ...     ...       ...      ...             ...   \n",
       "7964  New Comers    32.0     450.0   608.16         8898.16   \n",
       "7965  New Comers    32.0     450.0   608.16         8898.16   \n",
       "7966  New Comers    32.0     450.0   608.16         9393.16   \n",
       "7967  New Comers    32.0     450.0   608.16         8898.16   \n",
       "7968  New Comers    32.0     450.0   608.16         9321.16   \n",
       "\n",
       "      ratioCostForStaying reason_leave  mortgage  rentPrice  \n",
       "0                     NaN          NaN         0          0  \n",
       "1                     NaN          NaN         0          0  \n",
       "2                     NaN          NaN         0          0  \n",
       "3                     NaN          NaN         0          0  \n",
       "4                     NaN          NaN         0          0  \n",
       "...                   ...          ...       ...        ...  \n",
       "7964             0.357166          NaN         0       7840  \n",
       "7965             0.353871          NaN         0       7840  \n",
       "7966             0.364248          NaN      8335          0  \n",
       "7967             0.336323          NaN         0       7840  \n",
       "7968             0.352962          NaN      8263          0  \n",
       "\n",
       "[7969 rows x 25 columns]"
      ]
     },
     "execution_count": 608,
     "metadata": {},
     "output_type": "execute_result"
    }
   ],
   "source": [
    "AgentsTimeSeries"
   ]
  },
  {
   "cell_type": "markdown",
   "metadata": {},
   "source": [
    "## Now I need to:\n",
    "1. create new agents for the displaced ones (and append them)\n",
    "2. crearte new agents in general and place them in the same places.\n"
   ]
  },
  {
   "cell_type": "markdown",
   "metadata": {},
   "source": [
    "# Generating new agents (All cases)\n",
    "1. Israel Age Distribution\n",
    "2. Mortgage Calculator for income\n",
    "3. No Discount\n",
    "4. Rent/Own random if Rent Income is lower\n",
    "5. Status New Comers"
   ]
  },
  {
   "cell_type": "code",
   "execution_count": 609,
   "metadata": {},
   "outputs": [
    {
     "data": {
      "text/html": [
       "<div>\n",
       "<style scoped>\n",
       "    .dataframe tbody tr th:only-of-type {\n",
       "        vertical-align: middle;\n",
       "    }\n",
       "\n",
       "    .dataframe tbody tr th {\n",
       "        vertical-align: top;\n",
       "    }\n",
       "\n",
       "    .dataframe thead th {\n",
       "        text-align: right;\n",
       "    }\n",
       "</style>\n",
       "<table border=\"1\" class=\"dataframe\">\n",
       "  <thead>\n",
       "    <tr style=\"text-align: right;\">\n",
       "      <th></th>\n",
       "      <th>bldCode</th>\n",
       "      <th>bldCodeDoorIndex</th>\n",
       "      <th>status</th>\n",
       "    </tr>\n",
       "  </thead>\n",
       "  <tbody>\n",
       "    <tr>\n",
       "      <th>960</th>\n",
       "      <td>210_19_a</td>\n",
       "      <td>210_19_a_1</td>\n",
       "      <td>New Comers</td>\n",
       "    </tr>\n",
       "    <tr>\n",
       "      <th>961</th>\n",
       "      <td>210_19_a</td>\n",
       "      <td>210_19_a_2</td>\n",
       "      <td>New Comers</td>\n",
       "    </tr>\n",
       "    <tr>\n",
       "      <th>962</th>\n",
       "      <td>210_19_a</td>\n",
       "      <td>210_19_a_3</td>\n",
       "      <td>New Comers</td>\n",
       "    </tr>\n",
       "    <tr>\n",
       "      <th>964</th>\n",
       "      <td>210_19_a</td>\n",
       "      <td>210_19_a_5</td>\n",
       "      <td>New Comers</td>\n",
       "    </tr>\n",
       "    <tr>\n",
       "      <th>965</th>\n",
       "      <td>210_19_a</td>\n",
       "      <td>210_19_a_6</td>\n",
       "      <td>New Comers</td>\n",
       "    </tr>\n",
       "    <tr>\n",
       "      <th>...</th>\n",
       "      <td>...</td>\n",
       "      <td>...</td>\n",
       "      <td>...</td>\n",
       "    </tr>\n",
       "    <tr>\n",
       "      <th>7229</th>\n",
       "      <td>201_75_rr</td>\n",
       "      <td>201_75_rr_61</td>\n",
       "      <td>New Comers</td>\n",
       "    </tr>\n",
       "    <tr>\n",
       "      <th>7230</th>\n",
       "      <td>201_75_rr</td>\n",
       "      <td>201_75_rr_62</td>\n",
       "      <td>New Comers</td>\n",
       "    </tr>\n",
       "    <tr>\n",
       "      <th>7231</th>\n",
       "      <td>201_75_rr</td>\n",
       "      <td>201_75_rr_63</td>\n",
       "      <td>New Comers</td>\n",
       "    </tr>\n",
       "    <tr>\n",
       "      <th>7232</th>\n",
       "      <td>201_75_rr</td>\n",
       "      <td>201_75_rr_64</td>\n",
       "      <td>New Comers</td>\n",
       "    </tr>\n",
       "    <tr>\n",
       "      <th>7233</th>\n",
       "      <td>201_75_rr</td>\n",
       "      <td>201_75_rr_65</td>\n",
       "      <td>New Comers</td>\n",
       "    </tr>\n",
       "  </tbody>\n",
       "</table>\n",
       "<p>6067 rows × 3 columns</p>\n",
       "</div>"
      ],
      "text/plain": [
       "        bldCode bldCodeDoorIndex      status\n",
       "960    210_19_a       210_19_a_1  New Comers\n",
       "961    210_19_a       210_19_a_2  New Comers\n",
       "962    210_19_a       210_19_a_3  New Comers\n",
       "964    210_19_a       210_19_a_5  New Comers\n",
       "965    210_19_a       210_19_a_6  New Comers\n",
       "...         ...              ...         ...\n",
       "7229  201_75_rr     201_75_rr_61  New Comers\n",
       "7230  201_75_rr     201_75_rr_62  New Comers\n",
       "7231  201_75_rr     201_75_rr_63  New Comers\n",
       "7232  201_75_rr     201_75_rr_64  New Comers\n",
       "7233  201_75_rr     201_75_rr_65  New Comers\n",
       "\n",
       "[6067 rows x 3 columns]"
      ]
     },
     "execution_count": 609,
     "metadata": {},
     "output_type": "execute_result"
    }
   ],
   "source": [
    "newAgents[['bldCode','bldCodeDoorIndex','status']]"
   ]
  },
  {
   "cell_type": "code",
   "execution_count": null,
   "metadata": {},
   "outputs": [],
   "source": []
  },
  {
   "cell_type": "code",
   "execution_count": null,
   "metadata": {},
   "outputs": [],
   "source": []
  }
 ],
 "metadata": {
  "kernelspec": {
   "display_name": "geo_env",
   "language": "python",
   "name": "geo_env"
  },
  "language_info": {
   "codemirror_mode": {
    "name": "ipython",
    "version": 3
   },
   "file_extension": ".py",
   "mimetype": "text/x-python",
   "name": "python",
   "nbconvert_exporter": "python",
   "pygments_lexer": "ipython3",
   "version": "3.7.9"
  }
 },
 "nbformat": 4,
 "nbformat_minor": 4
}
